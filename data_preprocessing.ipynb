{
 "cells": [
  {
   "cell_type": "code",
   "execution_count": 91,
   "metadata": {},
   "outputs": [],
   "source": [
    "import numpy as np\n",
    "import pandas as pd\n",
    "import statistics\n",
    "import matplotlib.pyplot as plt\n",
    "from sklearn.linear_model import LogisticRegression\n",
    "from sklearn.ensemble import RandomForestClassifier\n",
    "from sklearn.model_selection import train_test_split\n",
    "from sklearn.metrics import accuracy_score, average_precision_score,\\\n",
    "    roc_auc_score, precision_score, recall_score, f1_score\n",
    "from xgboost import XGBClassifier\n",
    "import sys, re\n",
    "from collections import OrderedDict\n",
    "import seaborn as sns\n",
    "from sklearn import preprocessing\n",
    "import _pickle as pickle\n",
    "from sklearn import tree\n",
    "from sklearn import svm"
   ]
  },
  {
   "cell_type": "code",
   "execution_count": 92,
   "metadata": {},
   "outputs": [],
   "source": [
    "seed = 142\n",
    "pd.options.display.max_columns = 50\n",
    "np.random.seed(seed)"
   ]
  },
  {
   "cell_type": "markdown",
   "metadata": {},
   "source": [
    "### Import data and check some stats"
   ]
  },
  {
   "cell_type": "code",
   "execution_count": 93,
   "metadata": {},
   "outputs": [
    {
     "data": {
      "text/plain": [
       "(786600, 13)"
      ]
     },
     "execution_count": 93,
     "metadata": {},
     "output_type": "execute_result"
    }
   ],
   "source": [
    "order_data = pd.read_csv('machine_learning_challenge_order_data.csv')\n",
    "order_data.shape"
   ]
  },
  {
   "cell_type": "code",
   "execution_count": 94,
   "metadata": {},
   "outputs": [
    {
     "data": {
      "text/plain": [
       "245455"
      ]
     },
     "execution_count": 94,
     "metadata": {},
     "output_type": "execute_result"
    }
   ],
   "source": [
    "len(pd.unique(order_data['customer_id']))"
   ]
  },
  {
   "cell_type": "code",
   "execution_count": 95,
   "metadata": {},
   "outputs": [
    {
     "data": {
      "text/html": [
       "<div>\n",
       "<style scoped>\n",
       "    .dataframe tbody tr th:only-of-type {\n",
       "        vertical-align: middle;\n",
       "    }\n",
       "\n",
       "    .dataframe tbody tr th {\n",
       "        vertical-align: top;\n",
       "    }\n",
       "\n",
       "    .dataframe thead th {\n",
       "        text-align: right;\n",
       "    }\n",
       "</style>\n",
       "<table border=\"1\" class=\"dataframe\">\n",
       "  <thead>\n",
       "    <tr style=\"text-align: right;\">\n",
       "      <th></th>\n",
       "      <th>customer_id</th>\n",
       "      <th>order_date</th>\n",
       "      <th>order_hour</th>\n",
       "      <th>customer_order_rank</th>\n",
       "      <th>is_failed</th>\n",
       "      <th>voucher_amount</th>\n",
       "      <th>delivery_fee</th>\n",
       "      <th>amount_paid</th>\n",
       "      <th>restaurant_id</th>\n",
       "      <th>city_id</th>\n",
       "      <th>payment_id</th>\n",
       "      <th>platform_id</th>\n",
       "      <th>transmission_id</th>\n",
       "    </tr>\n",
       "  </thead>\n",
       "  <tbody>\n",
       "    <tr>\n",
       "      <th>0</th>\n",
       "      <td>000097eabfd9</td>\n",
       "      <td>2015-06-20</td>\n",
       "      <td>19</td>\n",
       "      <td>1.0</td>\n",
       "      <td>0</td>\n",
       "      <td>0.0</td>\n",
       "      <td>0.000</td>\n",
       "      <td>11.46960</td>\n",
       "      <td>5803498</td>\n",
       "      <td>20326</td>\n",
       "      <td>1779</td>\n",
       "      <td>30231</td>\n",
       "      <td>4356</td>\n",
       "    </tr>\n",
       "    <tr>\n",
       "      <th>1</th>\n",
       "      <td>0000e2c6d9be</td>\n",
       "      <td>2016-01-29</td>\n",
       "      <td>20</td>\n",
       "      <td>1.0</td>\n",
       "      <td>0</td>\n",
       "      <td>0.0</td>\n",
       "      <td>0.000</td>\n",
       "      <td>9.55800</td>\n",
       "      <td>239303498</td>\n",
       "      <td>76547</td>\n",
       "      <td>1619</td>\n",
       "      <td>30359</td>\n",
       "      <td>4356</td>\n",
       "    </tr>\n",
       "    <tr>\n",
       "      <th>2</th>\n",
       "      <td>000133bb597f</td>\n",
       "      <td>2017-02-26</td>\n",
       "      <td>19</td>\n",
       "      <td>1.0</td>\n",
       "      <td>0</td>\n",
       "      <td>0.0</td>\n",
       "      <td>0.493</td>\n",
       "      <td>5.93658</td>\n",
       "      <td>206463498</td>\n",
       "      <td>33833</td>\n",
       "      <td>1619</td>\n",
       "      <td>30359</td>\n",
       "      <td>4324</td>\n",
       "    </tr>\n",
       "    <tr>\n",
       "      <th>3</th>\n",
       "      <td>00018269939b</td>\n",
       "      <td>2017-02-05</td>\n",
       "      <td>17</td>\n",
       "      <td>1.0</td>\n",
       "      <td>0</td>\n",
       "      <td>0.0</td>\n",
       "      <td>0.493</td>\n",
       "      <td>9.82350</td>\n",
       "      <td>36613498</td>\n",
       "      <td>99315</td>\n",
       "      <td>1619</td>\n",
       "      <td>30359</td>\n",
       "      <td>4356</td>\n",
       "    </tr>\n",
       "    <tr>\n",
       "      <th>4</th>\n",
       "      <td>0001a00468a6</td>\n",
       "      <td>2015-08-04</td>\n",
       "      <td>19</td>\n",
       "      <td>1.0</td>\n",
       "      <td>0</td>\n",
       "      <td>0.0</td>\n",
       "      <td>0.493</td>\n",
       "      <td>5.15070</td>\n",
       "      <td>225853498</td>\n",
       "      <td>16456</td>\n",
       "      <td>1619</td>\n",
       "      <td>29463</td>\n",
       "      <td>4356</td>\n",
       "    </tr>\n",
       "  </tbody>\n",
       "</table>\n",
       "</div>"
      ],
      "text/plain": [
       "    customer_id  order_date  order_hour  customer_order_rank  is_failed  \\\n",
       "0  000097eabfd9  2015-06-20          19                  1.0          0   \n",
       "1  0000e2c6d9be  2016-01-29          20                  1.0          0   \n",
       "2  000133bb597f  2017-02-26          19                  1.0          0   \n",
       "3  00018269939b  2017-02-05          17                  1.0          0   \n",
       "4  0001a00468a6  2015-08-04          19                  1.0          0   \n",
       "\n",
       "   voucher_amount  delivery_fee  amount_paid  restaurant_id  city_id  \\\n",
       "0             0.0         0.000     11.46960        5803498    20326   \n",
       "1             0.0         0.000      9.55800      239303498    76547   \n",
       "2             0.0         0.493      5.93658      206463498    33833   \n",
       "3             0.0         0.493      9.82350       36613498    99315   \n",
       "4             0.0         0.493      5.15070      225853498    16456   \n",
       "\n",
       "   payment_id  platform_id  transmission_id  \n",
       "0        1779        30231             4356  \n",
       "1        1619        30359             4356  \n",
       "2        1619        30359             4324  \n",
       "3        1619        30359             4356  \n",
       "4        1619        29463             4356  "
      ]
     },
     "execution_count": 95,
     "metadata": {},
     "output_type": "execute_result"
    }
   ],
   "source": [
    "order_data.head()"
   ]
  },
  {
   "cell_type": "code",
   "execution_count": 96,
   "metadata": {},
   "outputs": [
    {
     "data": {
      "text/plain": [
       "customer_id             object\n",
       "order_date              object\n",
       "order_hour               int64\n",
       "customer_order_rank    float64\n",
       "is_failed                int64\n",
       "voucher_amount         float64\n",
       "delivery_fee           float64\n",
       "amount_paid            float64\n",
       "restaurant_id            int64\n",
       "city_id                  int64\n",
       "payment_id               int64\n",
       "platform_id              int64\n",
       "transmission_id          int64\n",
       "dtype: object"
      ]
     },
     "execution_count": 96,
     "metadata": {},
     "output_type": "execute_result"
    }
   ],
   "source": [
    "order_data.dtypes"
   ]
  },
  {
   "cell_type": "code",
   "execution_count": 97,
   "metadata": {},
   "outputs": [
    {
     "data": {
      "text/plain": [
       "customer_id                0\n",
       "order_date                 0\n",
       "order_hour                 0\n",
       "customer_order_rank    24767\n",
       "is_failed                  0\n",
       "voucher_amount             0\n",
       "delivery_fee               0\n",
       "amount_paid                0\n",
       "restaurant_id              0\n",
       "city_id                    0\n",
       "payment_id                 0\n",
       "platform_id                0\n",
       "transmission_id            0\n",
       "dtype: int64"
      ]
     },
     "execution_count": 97,
     "metadata": {},
     "output_type": "execute_result"
    }
   ],
   "source": [
    "order_data.isna().sum(axis=0)"
   ]
  },
  {
   "cell_type": "code",
   "execution_count": 98,
   "metadata": {},
   "outputs": [
    {
     "data": {
      "text/plain": [
       "customer_order_rank     9.436810\n",
       "is_failed               0.031486\n",
       "voucher_amount          0.091489\n",
       "delivery_fee            0.181180\n",
       "amount_paid            10.183271\n",
       "dtype: float64"
      ]
     },
     "execution_count": 98,
     "metadata": {},
     "output_type": "execute_result"
    }
   ],
   "source": [
    "order_data.loc[:, 'customer_order_rank':'amount_paid'].mean(axis=0)"
   ]
  },
  {
   "cell_type": "code",
   "execution_count": 99,
   "metadata": {},
   "outputs": [
    {
     "data": {
      "text/plain": [
       "(13569, 3749, 5, 14, 10)"
      ]
     },
     "execution_count": 99,
     "metadata": {},
     "output_type": "execute_result"
    }
   ],
   "source": [
    "order_data['restaurant_id'].value_counts().shape[0],\\\n",
    "order_data['city_id'].value_counts().shape[0],\\\n",
    "order_data['payment_id'].value_counts().shape[0],\\\n",
    "order_data['platform_id'].value_counts().shape[0],\\\n",
    "order_data['transmission_id'].value_counts().shape[0]"
   ]
  },
  {
   "cell_type": "code",
   "execution_count": 100,
   "metadata": {
    "scrolled": true
   },
   "outputs": [
    {
     "data": {
      "text/plain": [
       "(786600, 13)"
      ]
     },
     "execution_count": 100,
     "metadata": {},
     "output_type": "execute_result"
    }
   ],
   "source": [
    "labeled_data = pd.read_csv('machine_learning_challenge_labeled_data.csv')\n",
    "labeled_data.shape"
   ]
  },
  {
   "cell_type": "code",
   "execution_count": 13,
   "metadata": {},
   "outputs": [
    {
     "data": {
      "text/html": [
       "<div>\n",
       "<style scoped>\n",
       "    .dataframe tbody tr th:only-of-type {\n",
       "        vertical-align: middle;\n",
       "    }\n",
       "\n",
       "    .dataframe tbody tr th {\n",
       "        vertical-align: top;\n",
       "    }\n",
       "\n",
       "    .dataframe thead th {\n",
       "        text-align: right;\n",
       "    }\n",
       "</style>\n",
       "<table border=\"1\" class=\"dataframe\">\n",
       "  <thead>\n",
       "    <tr style=\"text-align: right;\">\n",
       "      <th></th>\n",
       "      <th>customer_id</th>\n",
       "      <th>is_returning_customer</th>\n",
       "    </tr>\n",
       "  </thead>\n",
       "  <tbody>\n",
       "    <tr>\n",
       "      <th>0</th>\n",
       "      <td>000097eabfd9</td>\n",
       "      <td>0</td>\n",
       "    </tr>\n",
       "    <tr>\n",
       "      <th>1</th>\n",
       "      <td>0000e2c6d9be</td>\n",
       "      <td>0</td>\n",
       "    </tr>\n",
       "    <tr>\n",
       "      <th>2</th>\n",
       "      <td>000133bb597f</td>\n",
       "      <td>1</td>\n",
       "    </tr>\n",
       "    <tr>\n",
       "      <th>3</th>\n",
       "      <td>00018269939b</td>\n",
       "      <td>0</td>\n",
       "    </tr>\n",
       "    <tr>\n",
       "      <th>4</th>\n",
       "      <td>0001a00468a6</td>\n",
       "      <td>0</td>\n",
       "    </tr>\n",
       "  </tbody>\n",
       "</table>\n",
       "</div>"
      ],
      "text/plain": [
       "    customer_id  is_returning_customer\n",
       "0  000097eabfd9                      0\n",
       "1  0000e2c6d9be                      0\n",
       "2  000133bb597f                      1\n",
       "3  00018269939b                      0\n",
       "4  0001a00468a6                      0"
      ]
     },
     "execution_count": 13,
     "metadata": {},
     "output_type": "execute_result"
    }
   ],
   "source": [
    "labeled_data.head()"
   ]
  },
  {
   "cell_type": "code",
   "execution_count": 14,
   "metadata": {},
   "outputs": [
    {
     "data": {
      "text/plain": [
       "customer_id              object\n",
       "is_returning_customer     int64\n",
       "dtype: object"
      ]
     },
     "execution_count": 14,
     "metadata": {},
     "output_type": "execute_result"
    }
   ],
   "source": [
    "labeled_data.dtypes"
   ]
  },
  {
   "cell_type": "code",
   "execution_count": 15,
   "metadata": {},
   "outputs": [
    {
     "data": {
      "text/plain": [
       "0.22613921085331323"
      ]
     },
     "execution_count": 15,
     "metadata": {},
     "output_type": "execute_result"
    }
   ],
   "source": [
    "labeled_data['is_returning_customer'].mean(axis=0)"
   ]
  },
  {
   "cell_type": "code",
   "execution_count": null,
   "metadata": {},
   "outputs": [],
   "source": []
  },
  {
   "cell_type": "markdown",
   "metadata": {},
   "source": [
    "### Simple transformation of a client to one row data"
   ]
  },
  {
   "cell_type": "code",
   "execution_count": 101,
   "metadata": {},
   "outputs": [
    {
     "data": {
      "text/plain": [
       "(786600, 42)"
      ]
     },
     "execution_count": 101,
     "metadata": {},
     "output_type": "execute_result"
    }
   ],
   "source": [
    "payment_id_dummies = pd.get_dummies(order_data['payment_id'], prefix='payment_id')\n",
    "platform_id_dummies = pd.get_dummies(order_data['platform_id'], prefix='platform_id')\n",
    "transmission_id_dummies = pd.get_dummies(order_data['transmission_id'], prefix='transmission_id')\n",
    "dummies = [payment_id_dummies, platform_id_dummies, transmission_id_dummies]\n",
    "# order_data.drop(['payment_id', 'platform_id', 'transmission_id'], axis=1, inplace=True)\n",
    "order_data = pd.concat([order_data]+dummies, axis=1)\n",
    "order_data.shape"
   ]
  },
  {
   "cell_type": "code",
   "execution_count": 102,
   "metadata": {},
   "outputs": [
    {
     "data": {
      "text/plain": [
       "Index(['customer_id', 'order_date', 'order_hour', 'customer_order_rank',\n",
       "       'is_failed', 'voucher_amount', 'delivery_fee', 'amount_paid',\n",
       "       'restaurant_id', 'city_id', 'payment_id', 'platform_id',\n",
       "       'transmission_id', 'payment_id_1491', 'payment_id_1523',\n",
       "       'payment_id_1619', 'payment_id_1779', 'payment_id_1811',\n",
       "       'platform_id_525', 'platform_id_22167', 'platform_id_22263',\n",
       "       'platform_id_22295', 'platform_id_29463', 'platform_id_29495',\n",
       "       'platform_id_29751', 'platform_id_29815', 'platform_id_30135',\n",
       "       'platform_id_30199', 'platform_id_30231', 'platform_id_30359',\n",
       "       'platform_id_30391', 'platform_id_30423', 'transmission_id_212',\n",
       "       'transmission_id_1988', 'transmission_id_2020', 'transmission_id_4196',\n",
       "       'transmission_id_4228', 'transmission_id_4260', 'transmission_id_4324',\n",
       "       'transmission_id_4356', 'transmission_id_4996',\n",
       "       'transmission_id_21124'],\n",
       "      dtype='object')"
      ]
     },
     "execution_count": 102,
     "metadata": {},
     "output_type": "execute_result"
    }
   ],
   "source": [
    "order_data.columns"
   ]
  },
  {
   "cell_type": "code",
   "execution_count": null,
   "metadata": {},
   "outputs": [],
   "source": []
  },
  {
   "cell_type": "code",
   "execution_count": 18,
   "metadata": {},
   "outputs": [],
   "source": [
    "payment_cols = order_data.filter(regex='^payment_id_', axis=1).columns.tolist()\n",
    "platform_cols = order_data.filter(regex='^platform_id_', axis=1).columns.tolist()\n",
    "transmission_cols = order_data.filter(regex='^transmission_id_', axis=1).columns.tolist()\n",
    "\n",
    "# Aggregate input dataframe columns\n",
    "def custom_aggregate(df):\n",
    "    df_agg = {}\n",
    "    df_agg['customer_id'] = pd.unique(df['customer_id'])[0]\n",
    "    df_agg['orders_num'] = len(df)\n",
    "    df_agg['is_failed_num'] = np.sum(df['is_failed'])\n",
    "    df_agg['voucher_amount_sum'] = np.sum(df['voucher_amount'])\n",
    "    df_agg['delivery_fee_mean'] = np.mean(df['delivery_fee'])\n",
    "    df_agg['delivery_fee_sum'] = np.sum(df['delivery_fee'])\n",
    "    df_agg['delivery_fee_num'] = np.sum(df['delivery_fee'] > 0.)\n",
    "    df_agg['restaurant_id_unq_num'] = len(pd.unique(df['restaurant_id']))\n",
    "    df_agg['city_id_unq_num'] = len(pd.unique(df['city_id']))\n",
    "    df_agg['payment_id_unq_num'] = len(pd.unique(df['payment_id']))\n",
    "    df_agg['platform_id_unq_num'] = len(pd.unique(df['platform_id']))\n",
    "    df_agg['transmission_id_unq_num'] = len(pd.unique(df['transmission_id']))\n",
    "    df_agg['amount_paid_mean'] = np.mean(df['amount_paid'])\n",
    "    df_agg['amount_paid_sum'] = np.sum(df['amount_paid'])\n",
    "    df_agg['amount_paid_std'] = np.std(df['amount_paid'])\n",
    "    df_agg['amount_paid_quantile75'] = df['amount_paid'].quantile(q=0.75)\n",
    "    \n",
    "    # aggregate payment dummy columns\n",
    "    payment_cols_new = [col+'_num' for col in payment_cols]\n",
    "    df_agg.update(dict(zip(payment_cols_new, df[payment_cols].apply(np.sum))))\n",
    "    \n",
    "    # aggregate platform dummy columns\n",
    "    platform_cols_new = [col+'_num' for col in platform_cols]\n",
    "    df_agg.update(dict(zip(platform_cols_new, df[platform_cols].apply(np.sum))))\n",
    "    \n",
    "    # aggregate transmission dummy columns\n",
    "    transmission_cols_new = [col+'_num' for col in transmission_cols]\n",
    "    df_agg.update(dict(zip(transmission_cols_new, df[transmission_cols].apply(np.sum))))\n",
    "    \n",
    "    return pd.Series(OrderedDict(df_agg))"
   ]
  },
  {
   "cell_type": "code",
   "execution_count": 103,
   "metadata": {},
   "outputs": [
    {
     "ename": "NameError",
     "evalue": "name 'custom_aggregate' is not defined",
     "output_type": "error",
     "traceback": [
      "\u001b[0;31m---------------------------------------------------------------------------\u001b[0m",
      "\u001b[0;31mNameError\u001b[0m                                 Traceback (most recent call last)",
      "\u001b[0;32m<ipython-input-103-a4619e457c06>\u001b[0m in \u001b[0;36m<module>\u001b[0;34m()\u001b[0m\n\u001b[0;32m----> 1\u001b[0;31m \u001b[0morders_per_client\u001b[0m \u001b[0;34m=\u001b[0m \u001b[0morder_data\u001b[0m\u001b[0;34m.\u001b[0m\u001b[0mgroupby\u001b[0m\u001b[0;34m(\u001b[0m\u001b[0;34m'customer_id'\u001b[0m\u001b[0;34m,\u001b[0m \u001b[0mas_index\u001b[0m\u001b[0;34m=\u001b[0m\u001b[0;32mFalse\u001b[0m\u001b[0;34m)\u001b[0m\u001b[0;34m.\u001b[0m\u001b[0mapply\u001b[0m\u001b[0;34m(\u001b[0m\u001b[0mcustom_aggregate\u001b[0m\u001b[0;34m)\u001b[0m\u001b[0;34m\u001b[0m\u001b[0m\n\u001b[0m",
      "\u001b[0;31mNameError\u001b[0m: name 'custom_aggregate' is not defined"
     ]
    }
   ],
   "source": [
    "orders_per_client = order_data.groupby('customer_id', as_index=False).apply(custom_aggregate)"
   ]
  },
  {
   "cell_type": "code",
   "execution_count": 104,
   "metadata": {},
   "outputs": [
    {
     "data": {
      "text/html": [
       "<div>\n",
       "<style scoped>\n",
       "    .dataframe tbody tr th:only-of-type {\n",
       "        vertical-align: middle;\n",
       "    }\n",
       "\n",
       "    .dataframe tbody tr th {\n",
       "        vertical-align: top;\n",
       "    }\n",
       "\n",
       "    .dataframe thead th {\n",
       "        text-align: right;\n",
       "    }\n",
       "</style>\n",
       "<table border=\"1\" class=\"dataframe\">\n",
       "  <thead>\n",
       "    <tr style=\"text-align: right;\">\n",
       "      <th></th>\n",
       "      <th>customer_id</th>\n",
       "      <th>orders_num</th>\n",
       "      <th>is_failed_num</th>\n",
       "      <th>voucher_amount_sum</th>\n",
       "      <th>delivery_fee_mean</th>\n",
       "      <th>delivery_fee_sum</th>\n",
       "      <th>delivery_fee_num</th>\n",
       "      <th>restaurant_id_unq_num</th>\n",
       "      <th>city_id_unq_num</th>\n",
       "      <th>payment_id_unq_num</th>\n",
       "      <th>platform_id_unq_num</th>\n",
       "      <th>transmission_id_unq_num</th>\n",
       "      <th>amount_paid_mean</th>\n",
       "      <th>amount_paid_sum</th>\n",
       "      <th>amount_paid_std</th>\n",
       "      <th>amount_paid_quantile75</th>\n",
       "      <th>payment_id_1491_num</th>\n",
       "      <th>payment_id_1523_num</th>\n",
       "      <th>payment_id_1619_num</th>\n",
       "      <th>payment_id_1779_num</th>\n",
       "      <th>payment_id_1811_num</th>\n",
       "      <th>platform_id_525_num</th>\n",
       "      <th>platform_id_22167_num</th>\n",
       "      <th>platform_id_22263_num</th>\n",
       "      <th>platform_id_22295_num</th>\n",
       "      <th>platform_id_29463_num</th>\n",
       "      <th>platform_id_29495_num</th>\n",
       "      <th>platform_id_29751_num</th>\n",
       "      <th>platform_id_29815_num</th>\n",
       "      <th>platform_id_30135_num</th>\n",
       "      <th>platform_id_30199_num</th>\n",
       "      <th>platform_id_30231_num</th>\n",
       "      <th>platform_id_30359_num</th>\n",
       "      <th>platform_id_30391_num</th>\n",
       "      <th>platform_id_30423_num</th>\n",
       "      <th>transmission_id_212_num</th>\n",
       "      <th>transmission_id_1988_num</th>\n",
       "      <th>transmission_id_2020_num</th>\n",
       "      <th>transmission_id_4196_num</th>\n",
       "      <th>transmission_id_4228_num</th>\n",
       "      <th>transmission_id_4260_num</th>\n",
       "      <th>transmission_id_4324_num</th>\n",
       "      <th>transmission_id_4356_num</th>\n",
       "      <th>transmission_id_4996_num</th>\n",
       "      <th>transmission_id_21124_num</th>\n",
       "    </tr>\n",
       "  </thead>\n",
       "  <tbody>\n",
       "    <tr>\n",
       "      <th>0</th>\n",
       "      <td>000097eabfd9</td>\n",
       "      <td>1</td>\n",
       "      <td>0</td>\n",
       "      <td>0.0</td>\n",
       "      <td>0.000</td>\n",
       "      <td>0.000</td>\n",
       "      <td>0</td>\n",
       "      <td>1</td>\n",
       "      <td>1</td>\n",
       "      <td>1</td>\n",
       "      <td>1</td>\n",
       "      <td>1</td>\n",
       "      <td>11.46960</td>\n",
       "      <td>11.46960</td>\n",
       "      <td>0.0</td>\n",
       "      <td>11.46960</td>\n",
       "      <td>0</td>\n",
       "      <td>0</td>\n",
       "      <td>0</td>\n",
       "      <td>1</td>\n",
       "      <td>0</td>\n",
       "      <td>0</td>\n",
       "      <td>0</td>\n",
       "      <td>0</td>\n",
       "      <td>0</td>\n",
       "      <td>0</td>\n",
       "      <td>0</td>\n",
       "      <td>0</td>\n",
       "      <td>0</td>\n",
       "      <td>0</td>\n",
       "      <td>0</td>\n",
       "      <td>1</td>\n",
       "      <td>0</td>\n",
       "      <td>0</td>\n",
       "      <td>0</td>\n",
       "      <td>0</td>\n",
       "      <td>0</td>\n",
       "      <td>0</td>\n",
       "      <td>0</td>\n",
       "      <td>0</td>\n",
       "      <td>0</td>\n",
       "      <td>0</td>\n",
       "      <td>1</td>\n",
       "      <td>0</td>\n",
       "      <td>0</td>\n",
       "    </tr>\n",
       "    <tr>\n",
       "      <th>1</th>\n",
       "      <td>0000e2c6d9be</td>\n",
       "      <td>1</td>\n",
       "      <td>0</td>\n",
       "      <td>0.0</td>\n",
       "      <td>0.000</td>\n",
       "      <td>0.000</td>\n",
       "      <td>0</td>\n",
       "      <td>1</td>\n",
       "      <td>1</td>\n",
       "      <td>1</td>\n",
       "      <td>1</td>\n",
       "      <td>1</td>\n",
       "      <td>9.55800</td>\n",
       "      <td>9.55800</td>\n",
       "      <td>0.0</td>\n",
       "      <td>9.55800</td>\n",
       "      <td>0</td>\n",
       "      <td>0</td>\n",
       "      <td>1</td>\n",
       "      <td>0</td>\n",
       "      <td>0</td>\n",
       "      <td>0</td>\n",
       "      <td>0</td>\n",
       "      <td>0</td>\n",
       "      <td>0</td>\n",
       "      <td>0</td>\n",
       "      <td>0</td>\n",
       "      <td>0</td>\n",
       "      <td>0</td>\n",
       "      <td>0</td>\n",
       "      <td>0</td>\n",
       "      <td>0</td>\n",
       "      <td>1</td>\n",
       "      <td>0</td>\n",
       "      <td>0</td>\n",
       "      <td>0</td>\n",
       "      <td>0</td>\n",
       "      <td>0</td>\n",
       "      <td>0</td>\n",
       "      <td>0</td>\n",
       "      <td>0</td>\n",
       "      <td>0</td>\n",
       "      <td>1</td>\n",
       "      <td>0</td>\n",
       "      <td>0</td>\n",
       "    </tr>\n",
       "    <tr>\n",
       "      <th>2</th>\n",
       "      <td>000133bb597f</td>\n",
       "      <td>1</td>\n",
       "      <td>0</td>\n",
       "      <td>0.0</td>\n",
       "      <td>0.493</td>\n",
       "      <td>0.493</td>\n",
       "      <td>1</td>\n",
       "      <td>1</td>\n",
       "      <td>1</td>\n",
       "      <td>1</td>\n",
       "      <td>1</td>\n",
       "      <td>1</td>\n",
       "      <td>5.93658</td>\n",
       "      <td>5.93658</td>\n",
       "      <td>0.0</td>\n",
       "      <td>5.93658</td>\n",
       "      <td>0</td>\n",
       "      <td>0</td>\n",
       "      <td>1</td>\n",
       "      <td>0</td>\n",
       "      <td>0</td>\n",
       "      <td>0</td>\n",
       "      <td>0</td>\n",
       "      <td>0</td>\n",
       "      <td>0</td>\n",
       "      <td>0</td>\n",
       "      <td>0</td>\n",
       "      <td>0</td>\n",
       "      <td>0</td>\n",
       "      <td>0</td>\n",
       "      <td>0</td>\n",
       "      <td>0</td>\n",
       "      <td>1</td>\n",
       "      <td>0</td>\n",
       "      <td>0</td>\n",
       "      <td>0</td>\n",
       "      <td>0</td>\n",
       "      <td>0</td>\n",
       "      <td>0</td>\n",
       "      <td>0</td>\n",
       "      <td>0</td>\n",
       "      <td>1</td>\n",
       "      <td>0</td>\n",
       "      <td>0</td>\n",
       "      <td>0</td>\n",
       "    </tr>\n",
       "    <tr>\n",
       "      <th>3</th>\n",
       "      <td>00018269939b</td>\n",
       "      <td>1</td>\n",
       "      <td>0</td>\n",
       "      <td>0.0</td>\n",
       "      <td>0.493</td>\n",
       "      <td>0.493</td>\n",
       "      <td>1</td>\n",
       "      <td>1</td>\n",
       "      <td>1</td>\n",
       "      <td>1</td>\n",
       "      <td>1</td>\n",
       "      <td>1</td>\n",
       "      <td>9.82350</td>\n",
       "      <td>9.82350</td>\n",
       "      <td>0.0</td>\n",
       "      <td>9.82350</td>\n",
       "      <td>0</td>\n",
       "      <td>0</td>\n",
       "      <td>1</td>\n",
       "      <td>0</td>\n",
       "      <td>0</td>\n",
       "      <td>0</td>\n",
       "      <td>0</td>\n",
       "      <td>0</td>\n",
       "      <td>0</td>\n",
       "      <td>0</td>\n",
       "      <td>0</td>\n",
       "      <td>0</td>\n",
       "      <td>0</td>\n",
       "      <td>0</td>\n",
       "      <td>0</td>\n",
       "      <td>0</td>\n",
       "      <td>1</td>\n",
       "      <td>0</td>\n",
       "      <td>0</td>\n",
       "      <td>0</td>\n",
       "      <td>0</td>\n",
       "      <td>0</td>\n",
       "      <td>0</td>\n",
       "      <td>0</td>\n",
       "      <td>0</td>\n",
       "      <td>0</td>\n",
       "      <td>1</td>\n",
       "      <td>0</td>\n",
       "      <td>0</td>\n",
       "    </tr>\n",
       "    <tr>\n",
       "      <th>4</th>\n",
       "      <td>0001a00468a6</td>\n",
       "      <td>1</td>\n",
       "      <td>0</td>\n",
       "      <td>0.0</td>\n",
       "      <td>0.493</td>\n",
       "      <td>0.493</td>\n",
       "      <td>1</td>\n",
       "      <td>1</td>\n",
       "      <td>1</td>\n",
       "      <td>1</td>\n",
       "      <td>1</td>\n",
       "      <td>1</td>\n",
       "      <td>5.15070</td>\n",
       "      <td>5.15070</td>\n",
       "      <td>0.0</td>\n",
       "      <td>5.15070</td>\n",
       "      <td>0</td>\n",
       "      <td>0</td>\n",
       "      <td>1</td>\n",
       "      <td>0</td>\n",
       "      <td>0</td>\n",
       "      <td>0</td>\n",
       "      <td>0</td>\n",
       "      <td>0</td>\n",
       "      <td>0</td>\n",
       "      <td>1</td>\n",
       "      <td>0</td>\n",
       "      <td>0</td>\n",
       "      <td>0</td>\n",
       "      <td>0</td>\n",
       "      <td>0</td>\n",
       "      <td>0</td>\n",
       "      <td>0</td>\n",
       "      <td>0</td>\n",
       "      <td>0</td>\n",
       "      <td>0</td>\n",
       "      <td>0</td>\n",
       "      <td>0</td>\n",
       "      <td>0</td>\n",
       "      <td>0</td>\n",
       "      <td>0</td>\n",
       "      <td>0</td>\n",
       "      <td>1</td>\n",
       "      <td>0</td>\n",
       "      <td>0</td>\n",
       "    </tr>\n",
       "  </tbody>\n",
       "</table>\n",
       "</div>"
      ],
      "text/plain": [
       "    customer_id  orders_num  is_failed_num  voucher_amount_sum  \\\n",
       "0  000097eabfd9           1              0                 0.0   \n",
       "1  0000e2c6d9be           1              0                 0.0   \n",
       "2  000133bb597f           1              0                 0.0   \n",
       "3  00018269939b           1              0                 0.0   \n",
       "4  0001a00468a6           1              0                 0.0   \n",
       "\n",
       "   delivery_fee_mean  delivery_fee_sum  delivery_fee_num  \\\n",
       "0              0.000             0.000                 0   \n",
       "1              0.000             0.000                 0   \n",
       "2              0.493             0.493                 1   \n",
       "3              0.493             0.493                 1   \n",
       "4              0.493             0.493                 1   \n",
       "\n",
       "   restaurant_id_unq_num  city_id_unq_num  payment_id_unq_num  \\\n",
       "0                      1                1                   1   \n",
       "1                      1                1                   1   \n",
       "2                      1                1                   1   \n",
       "3                      1                1                   1   \n",
       "4                      1                1                   1   \n",
       "\n",
       "   platform_id_unq_num  transmission_id_unq_num  amount_paid_mean  \\\n",
       "0                    1                        1          11.46960   \n",
       "1                    1                        1           9.55800   \n",
       "2                    1                        1           5.93658   \n",
       "3                    1                        1           9.82350   \n",
       "4                    1                        1           5.15070   \n",
       "\n",
       "   amount_paid_sum  amount_paid_std  amount_paid_quantile75  \\\n",
       "0         11.46960              0.0                11.46960   \n",
       "1          9.55800              0.0                 9.55800   \n",
       "2          5.93658              0.0                 5.93658   \n",
       "3          9.82350              0.0                 9.82350   \n",
       "4          5.15070              0.0                 5.15070   \n",
       "\n",
       "   payment_id_1491_num  payment_id_1523_num  payment_id_1619_num  \\\n",
       "0                    0                    0                    0   \n",
       "1                    0                    0                    1   \n",
       "2                    0                    0                    1   \n",
       "3                    0                    0                    1   \n",
       "4                    0                    0                    1   \n",
       "\n",
       "   payment_id_1779_num  payment_id_1811_num  platform_id_525_num  \\\n",
       "0                    1                    0                    0   \n",
       "1                    0                    0                    0   \n",
       "2                    0                    0                    0   \n",
       "3                    0                    0                    0   \n",
       "4                    0                    0                    0   \n",
       "\n",
       "   platform_id_22167_num  platform_id_22263_num  platform_id_22295_num  \\\n",
       "0                      0                      0                      0   \n",
       "1                      0                      0                      0   \n",
       "2                      0                      0                      0   \n",
       "3                      0                      0                      0   \n",
       "4                      0                      0                      0   \n",
       "\n",
       "   platform_id_29463_num  platform_id_29495_num  platform_id_29751_num  \\\n",
       "0                      0                      0                      0   \n",
       "1                      0                      0                      0   \n",
       "2                      0                      0                      0   \n",
       "3                      0                      0                      0   \n",
       "4                      1                      0                      0   \n",
       "\n",
       "   platform_id_29815_num  platform_id_30135_num  platform_id_30199_num  \\\n",
       "0                      0                      0                      0   \n",
       "1                      0                      0                      0   \n",
       "2                      0                      0                      0   \n",
       "3                      0                      0                      0   \n",
       "4                      0                      0                      0   \n",
       "\n",
       "   platform_id_30231_num  platform_id_30359_num  platform_id_30391_num  \\\n",
       "0                      1                      0                      0   \n",
       "1                      0                      1                      0   \n",
       "2                      0                      1                      0   \n",
       "3                      0                      1                      0   \n",
       "4                      0                      0                      0   \n",
       "\n",
       "   platform_id_30423_num  transmission_id_212_num  transmission_id_1988_num  \\\n",
       "0                      0                        0                         0   \n",
       "1                      0                        0                         0   \n",
       "2                      0                        0                         0   \n",
       "3                      0                        0                         0   \n",
       "4                      0                        0                         0   \n",
       "\n",
       "   transmission_id_2020_num  transmission_id_4196_num  \\\n",
       "0                         0                         0   \n",
       "1                         0                         0   \n",
       "2                         0                         0   \n",
       "3                         0                         0   \n",
       "4                         0                         0   \n",
       "\n",
       "   transmission_id_4228_num  transmission_id_4260_num  \\\n",
       "0                         0                         0   \n",
       "1                         0                         0   \n",
       "2                         0                         0   \n",
       "3                         0                         0   \n",
       "4                         0                         0   \n",
       "\n",
       "   transmission_id_4324_num  transmission_id_4356_num  \\\n",
       "0                         0                         1   \n",
       "1                         0                         1   \n",
       "2                         1                         0   \n",
       "3                         0                         1   \n",
       "4                         0                         1   \n",
       "\n",
       "   transmission_id_4996_num  transmission_id_21124_num  \n",
       "0                         0                          0  \n",
       "1                         0                          0  \n",
       "2                         0                          0  \n",
       "3                         0                          0  \n",
       "4                         0                          0  "
      ]
     },
     "execution_count": 104,
     "metadata": {},
     "output_type": "execute_result"
    }
   ],
   "source": [
    "orders_per_client.head()"
   ]
  },
  {
   "cell_type": "code",
   "execution_count": null,
   "metadata": {},
   "outputs": [],
   "source": [
    "orders_per_client.shape, orders_per_client.columns"
   ]
  },
  {
   "cell_type": "code",
   "execution_count": null,
   "metadata": {
    "scrolled": true
   },
   "outputs": [],
   "source": [
    "orders_per_client.dtypes"
   ]
  },
  {
   "cell_type": "code",
   "execution_count": 105,
   "metadata": {},
   "outputs": [],
   "source": [
    "# save dataframe\n",
    "# orders_per_client.to_feather('orders_per_client.feather')\n",
    "orders_per_client = pd.read_feather('orders_per_client.feather')"
   ]
  },
  {
   "cell_type": "code",
   "execution_count": null,
   "metadata": {},
   "outputs": [],
   "source": []
  },
  {
   "cell_type": "code",
   "execution_count": 117,
   "metadata": {},
   "outputs": [
    {
     "data": {
      "text/html": [
       "<div>\n",
       "<style scoped>\n",
       "    .dataframe tbody tr th:only-of-type {\n",
       "        vertical-align: middle;\n",
       "    }\n",
       "\n",
       "    .dataframe tbody tr th {\n",
       "        vertical-align: top;\n",
       "    }\n",
       "\n",
       "    .dataframe thead th {\n",
       "        text-align: right;\n",
       "    }\n",
       "</style>\n",
       "<table border=\"1\" class=\"dataframe\">\n",
       "  <thead>\n",
       "    <tr style=\"text-align: right;\">\n",
       "      <th></th>\n",
       "      <th>customer_id</th>\n",
       "      <th>orders_num</th>\n",
       "      <th>is_failed_num</th>\n",
       "      <th>voucher_amount_sum</th>\n",
       "      <th>delivery_fee_mean</th>\n",
       "      <th>delivery_fee_sum</th>\n",
       "      <th>delivery_fee_num</th>\n",
       "      <th>restaurant_id_unq_num</th>\n",
       "      <th>city_id_unq_num</th>\n",
       "      <th>payment_id_unq_num</th>\n",
       "      <th>platform_id_unq_num</th>\n",
       "      <th>transmission_id_unq_num</th>\n",
       "      <th>amount_paid_mean</th>\n",
       "      <th>amount_paid_sum</th>\n",
       "      <th>amount_paid_std</th>\n",
       "      <th>amount_paid_quantile75</th>\n",
       "      <th>payment_id_1491_num</th>\n",
       "      <th>payment_id_1523_num</th>\n",
       "      <th>payment_id_1619_num</th>\n",
       "      <th>payment_id_1779_num</th>\n",
       "      <th>payment_id_1811_num</th>\n",
       "      <th>platform_id_525_num</th>\n",
       "      <th>platform_id_22167_num</th>\n",
       "      <th>platform_id_22263_num</th>\n",
       "      <th>platform_id_22295_num</th>\n",
       "      <th>platform_id_29463_num</th>\n",
       "      <th>platform_id_29495_num</th>\n",
       "      <th>platform_id_29751_num</th>\n",
       "      <th>platform_id_29815_num</th>\n",
       "      <th>platform_id_30135_num</th>\n",
       "      <th>platform_id_30199_num</th>\n",
       "      <th>platform_id_30231_num</th>\n",
       "      <th>platform_id_30359_num</th>\n",
       "      <th>platform_id_30391_num</th>\n",
       "      <th>platform_id_30423_num</th>\n",
       "      <th>transmission_id_212_num</th>\n",
       "      <th>transmission_id_1988_num</th>\n",
       "      <th>transmission_id_2020_num</th>\n",
       "      <th>transmission_id_4196_num</th>\n",
       "      <th>transmission_id_4228_num</th>\n",
       "      <th>transmission_id_4260_num</th>\n",
       "      <th>transmission_id_4324_num</th>\n",
       "      <th>transmission_id_4356_num</th>\n",
       "      <th>transmission_id_4996_num</th>\n",
       "      <th>transmission_id_21124_num</th>\n",
       "    </tr>\n",
       "  </thead>\n",
       "  <tbody>\n",
       "    <tr>\n",
       "      <th>0</th>\n",
       "      <td>000097eabfd9</td>\n",
       "      <td>1</td>\n",
       "      <td>0</td>\n",
       "      <td>0.0</td>\n",
       "      <td>0.000000</td>\n",
       "      <td>0.000</td>\n",
       "      <td>0</td>\n",
       "      <td>1</td>\n",
       "      <td>1</td>\n",
       "      <td>1</td>\n",
       "      <td>1</td>\n",
       "      <td>1</td>\n",
       "      <td>11.4696</td>\n",
       "      <td>11.4696</td>\n",
       "      <td>0.000000</td>\n",
       "      <td>11.4696</td>\n",
       "      <td>0</td>\n",
       "      <td>0</td>\n",
       "      <td>0</td>\n",
       "      <td>1</td>\n",
       "      <td>0</td>\n",
       "      <td>0</td>\n",
       "      <td>0</td>\n",
       "      <td>0</td>\n",
       "      <td>0</td>\n",
       "      <td>0</td>\n",
       "      <td>0</td>\n",
       "      <td>0</td>\n",
       "      <td>0</td>\n",
       "      <td>0</td>\n",
       "      <td>0</td>\n",
       "      <td>1</td>\n",
       "      <td>0</td>\n",
       "      <td>0</td>\n",
       "      <td>0</td>\n",
       "      <td>0</td>\n",
       "      <td>0</td>\n",
       "      <td>0</td>\n",
       "      <td>0</td>\n",
       "      <td>0</td>\n",
       "      <td>0</td>\n",
       "      <td>0</td>\n",
       "      <td>1</td>\n",
       "      <td>0</td>\n",
       "      <td>0</td>\n",
       "    </tr>\n",
       "    <tr>\n",
       "      <th>1</th>\n",
       "      <td>0004017c62e8</td>\n",
       "      <td>5</td>\n",
       "      <td>0</td>\n",
       "      <td>0.0</td>\n",
       "      <td>0.000000</td>\n",
       "      <td>0.000</td>\n",
       "      <td>0</td>\n",
       "      <td>1</td>\n",
       "      <td>1</td>\n",
       "      <td>1</td>\n",
       "      <td>1</td>\n",
       "      <td>1</td>\n",
       "      <td>9.7173</td>\n",
       "      <td>48.5865</td>\n",
       "      <td>1.274400</td>\n",
       "      <td>10.3545</td>\n",
       "      <td>0</td>\n",
       "      <td>0</td>\n",
       "      <td>5</td>\n",
       "      <td>0</td>\n",
       "      <td>0</td>\n",
       "      <td>0</td>\n",
       "      <td>0</td>\n",
       "      <td>0</td>\n",
       "      <td>0</td>\n",
       "      <td>0</td>\n",
       "      <td>0</td>\n",
       "      <td>0</td>\n",
       "      <td>5</td>\n",
       "      <td>0</td>\n",
       "      <td>0</td>\n",
       "      <td>0</td>\n",
       "      <td>0</td>\n",
       "      <td>0</td>\n",
       "      <td>0</td>\n",
       "      <td>0</td>\n",
       "      <td>0</td>\n",
       "      <td>0</td>\n",
       "      <td>0</td>\n",
       "      <td>0</td>\n",
       "      <td>0</td>\n",
       "      <td>0</td>\n",
       "      <td>5</td>\n",
       "      <td>0</td>\n",
       "      <td>0</td>\n",
       "    </tr>\n",
       "    <tr>\n",
       "      <th>2</th>\n",
       "      <td>003d7bb4de0d</td>\n",
       "      <td>3</td>\n",
       "      <td>0</td>\n",
       "      <td>0.0</td>\n",
       "      <td>0.328667</td>\n",
       "      <td>0.986</td>\n",
       "      <td>1</td>\n",
       "      <td>3</td>\n",
       "      <td>3</td>\n",
       "      <td>1</td>\n",
       "      <td>1</td>\n",
       "      <td>2</td>\n",
       "      <td>8.3898</td>\n",
       "      <td>25.1694</td>\n",
       "      <td>1.032382</td>\n",
       "      <td>8.8677</td>\n",
       "      <td>0</td>\n",
       "      <td>0</td>\n",
       "      <td>3</td>\n",
       "      <td>0</td>\n",
       "      <td>0</td>\n",
       "      <td>0</td>\n",
       "      <td>0</td>\n",
       "      <td>0</td>\n",
       "      <td>0</td>\n",
       "      <td>0</td>\n",
       "      <td>0</td>\n",
       "      <td>0</td>\n",
       "      <td>3</td>\n",
       "      <td>0</td>\n",
       "      <td>0</td>\n",
       "      <td>0</td>\n",
       "      <td>0</td>\n",
       "      <td>0</td>\n",
       "      <td>0</td>\n",
       "      <td>0</td>\n",
       "      <td>0</td>\n",
       "      <td>0</td>\n",
       "      <td>0</td>\n",
       "      <td>2</td>\n",
       "      <td>0</td>\n",
       "      <td>0</td>\n",
       "      <td>1</td>\n",
       "      <td>0</td>\n",
       "      <td>0</td>\n",
       "    </tr>\n",
       "  </tbody>\n",
       "</table>\n",
       "</div>"
      ],
      "text/plain": [
       "    customer_id  orders_num  is_failed_num  voucher_amount_sum  \\\n",
       "0  000097eabfd9           1              0                 0.0   \n",
       "1  0004017c62e8           5              0                 0.0   \n",
       "2  003d7bb4de0d           3              0                 0.0   \n",
       "\n",
       "   delivery_fee_mean  delivery_fee_sum  delivery_fee_num  \\\n",
       "0           0.000000             0.000                 0   \n",
       "1           0.000000             0.000                 0   \n",
       "2           0.328667             0.986                 1   \n",
       "\n",
       "   restaurant_id_unq_num  city_id_unq_num  payment_id_unq_num  \\\n",
       "0                      1                1                   1   \n",
       "1                      1                1                   1   \n",
       "2                      3                3                   1   \n",
       "\n",
       "   platform_id_unq_num  transmission_id_unq_num  amount_paid_mean  \\\n",
       "0                    1                        1           11.4696   \n",
       "1                    1                        1            9.7173   \n",
       "2                    1                        2            8.3898   \n",
       "\n",
       "   amount_paid_sum  amount_paid_std  amount_paid_quantile75  \\\n",
       "0          11.4696         0.000000                 11.4696   \n",
       "1          48.5865         1.274400                 10.3545   \n",
       "2          25.1694         1.032382                  8.8677   \n",
       "\n",
       "   payment_id_1491_num  payment_id_1523_num  payment_id_1619_num  \\\n",
       "0                    0                    0                    0   \n",
       "1                    0                    0                    5   \n",
       "2                    0                    0                    3   \n",
       "\n",
       "   payment_id_1779_num  payment_id_1811_num  platform_id_525_num  \\\n",
       "0                    1                    0                    0   \n",
       "1                    0                    0                    0   \n",
       "2                    0                    0                    0   \n",
       "\n",
       "   platform_id_22167_num  platform_id_22263_num  platform_id_22295_num  \\\n",
       "0                      0                      0                      0   \n",
       "1                      0                      0                      0   \n",
       "2                      0                      0                      0   \n",
       "\n",
       "   platform_id_29463_num  platform_id_29495_num  platform_id_29751_num  \\\n",
       "0                      0                      0                      0   \n",
       "1                      0                      0                      0   \n",
       "2                      0                      0                      0   \n",
       "\n",
       "   platform_id_29815_num  platform_id_30135_num  platform_id_30199_num  \\\n",
       "0                      0                      0                      0   \n",
       "1                      5                      0                      0   \n",
       "2                      3                      0                      0   \n",
       "\n",
       "   platform_id_30231_num  platform_id_30359_num  platform_id_30391_num  \\\n",
       "0                      1                      0                      0   \n",
       "1                      0                      0                      0   \n",
       "2                      0                      0                      0   \n",
       "\n",
       "   platform_id_30423_num  transmission_id_212_num  transmission_id_1988_num  \\\n",
       "0                      0                        0                         0   \n",
       "1                      0                        0                         0   \n",
       "2                      0                        0                         0   \n",
       "\n",
       "   transmission_id_2020_num  transmission_id_4196_num  \\\n",
       "0                         0                         0   \n",
       "1                         0                         0   \n",
       "2                         0                         0   \n",
       "\n",
       "   transmission_id_4228_num  transmission_id_4260_num  \\\n",
       "0                         0                         0   \n",
       "1                         0                         0   \n",
       "2                         2                         0   \n",
       "\n",
       "   transmission_id_4324_num  transmission_id_4356_num  \\\n",
       "0                         0                         1   \n",
       "1                         0                         5   \n",
       "2                         0                         1   \n",
       "\n",
       "   transmission_id_4996_num  transmission_id_21124_num  \n",
       "0                         0                          0  \n",
       "1                         0                          0  \n",
       "2                         0                          0  "
      ]
     },
     "execution_count": 117,
     "metadata": {},
     "output_type": "execute_result"
    }
   ],
   "source": [
    "# tmp = order_data[order_data['customer_id'].isin(['000097eabfd9', '0004017c62e8', '003d7bb4de0d'])]\n",
    "# grouped_tmp = tmp.groupby('customer_id', as_index=False)\n",
    "# tmp_agg = grouped_tmp.apply(custom_aggregate)\n",
    "# tmp_agg"
   ]
  },
  {
   "cell_type": "code",
   "execution_count": 110,
   "metadata": {
    "scrolled": true
   },
   "outputs": [
    {
     "data": {
      "text/plain": [
       "amount_paid_mean                   8.3898\n",
       "amount_paid_quantile75             8.8677\n",
       "amount_paid_std                   1.03238\n",
       "amount_paid_sum                   25.1694\n",
       "city_id_unq_num                         3\n",
       "customer_id                  003d7bb4de0d\n",
       "delivery_fee_mean                0.328667\n",
       "delivery_fee_num                        1\n",
       "is_failed_num                           0\n",
       "orders_num                              3\n",
       "payment_id_1491_num                     0\n",
       "payment_id_1523_num                     0\n",
       "payment_id_1619_num                     3\n",
       "payment_id_1779_num                     0\n",
       "payment_id_1811_num                     0\n",
       "payment_id_unq_num                      1\n",
       "platform_id_22167_num                   0\n",
       "platform_id_22263_num                   0\n",
       "platform_id_22295_num                   0\n",
       "platform_id_29463_num                   0\n",
       "platform_id_29495_num                   0\n",
       "platform_id_29751_num                   0\n",
       "platform_id_29815_num                   3\n",
       "platform_id_30135_num                   0\n",
       "platform_id_30199_num                   0\n",
       "platform_id_30231_num                   0\n",
       "platform_id_30359_num                   0\n",
       "platform_id_30391_num                   0\n",
       "platform_id_30423_num                   0\n",
       "platform_id_525_num                     0\n",
       "platform_id_unq_num                     1\n",
       "restaurant_id_unq_num                   3\n",
       "transmission_id_1988_num                0\n",
       "transmission_id_2020_num                0\n",
       "transmission_id_21124_num               0\n",
       "transmission_id_212_num                 0\n",
       "transmission_id_4196_num                0\n",
       "transmission_id_4228_num                2\n",
       "transmission_id_4260_num                0\n",
       "transmission_id_4324_num                0\n",
       "transmission_id_4356_num                1\n",
       "transmission_id_4996_num                0\n",
       "transmission_id_unq_num                 2\n",
       "voucher_amount_sum                      0\n",
       "Name: 2, dtype: object"
      ]
     },
     "execution_count": 110,
     "metadata": {},
     "output_type": "execute_result"
    }
   ],
   "source": [
    "# tmp_agg.loc[2, :]"
   ]
  },
  {
   "cell_type": "code",
   "execution_count": 107,
   "metadata": {
    "scrolled": true
   },
   "outputs": [
    {
     "data": {
      "text/html": [
       "<div>\n",
       "<style scoped>\n",
       "    .dataframe tbody tr th:only-of-type {\n",
       "        vertical-align: middle;\n",
       "    }\n",
       "\n",
       "    .dataframe tbody tr th {\n",
       "        vertical-align: top;\n",
       "    }\n",
       "\n",
       "    .dataframe thead th {\n",
       "        text-align: right;\n",
       "    }\n",
       "</style>\n",
       "<table border=\"1\" class=\"dataframe\">\n",
       "  <thead>\n",
       "    <tr style=\"text-align: right;\">\n",
       "      <th></th>\n",
       "      <th>customer_id</th>\n",
       "      <th>order_date</th>\n",
       "      <th>order_hour</th>\n",
       "      <th>customer_order_rank</th>\n",
       "      <th>is_failed</th>\n",
       "      <th>voucher_amount</th>\n",
       "      <th>delivery_fee</th>\n",
       "      <th>amount_paid</th>\n",
       "      <th>restaurant_id</th>\n",
       "      <th>city_id</th>\n",
       "      <th>payment_id</th>\n",
       "      <th>platform_id</th>\n",
       "      <th>transmission_id</th>\n",
       "      <th>payment_id_1491</th>\n",
       "      <th>payment_id_1523</th>\n",
       "      <th>payment_id_1619</th>\n",
       "      <th>payment_id_1779</th>\n",
       "      <th>payment_id_1811</th>\n",
       "      <th>platform_id_525</th>\n",
       "      <th>platform_id_22167</th>\n",
       "      <th>platform_id_22263</th>\n",
       "      <th>platform_id_22295</th>\n",
       "      <th>platform_id_29463</th>\n",
       "      <th>platform_id_29495</th>\n",
       "      <th>platform_id_29751</th>\n",
       "      <th>platform_id_29815</th>\n",
       "      <th>platform_id_30135</th>\n",
       "      <th>platform_id_30199</th>\n",
       "      <th>platform_id_30231</th>\n",
       "      <th>platform_id_30359</th>\n",
       "      <th>platform_id_30391</th>\n",
       "      <th>platform_id_30423</th>\n",
       "      <th>transmission_id_212</th>\n",
       "      <th>transmission_id_1988</th>\n",
       "      <th>transmission_id_2020</th>\n",
       "      <th>transmission_id_4196</th>\n",
       "      <th>transmission_id_4228</th>\n",
       "      <th>transmission_id_4260</th>\n",
       "      <th>transmission_id_4324</th>\n",
       "      <th>transmission_id_4356</th>\n",
       "      <th>transmission_id_4996</th>\n",
       "      <th>transmission_id_21124</th>\n",
       "    </tr>\n",
       "  </thead>\n",
       "  <tbody>\n",
       "    <tr>\n",
       "      <th>0</th>\n",
       "      <td>000097eabfd9</td>\n",
       "      <td>2015-06-20</td>\n",
       "      <td>19</td>\n",
       "      <td>1.0</td>\n",
       "      <td>0</td>\n",
       "      <td>0.0</td>\n",
       "      <td>0.000</td>\n",
       "      <td>11.4696</td>\n",
       "      <td>5803498</td>\n",
       "      <td>20326</td>\n",
       "      <td>1779</td>\n",
       "      <td>30231</td>\n",
       "      <td>4356</td>\n",
       "      <td>0</td>\n",
       "      <td>0</td>\n",
       "      <td>0</td>\n",
       "      <td>1</td>\n",
       "      <td>0</td>\n",
       "      <td>0</td>\n",
       "      <td>0</td>\n",
       "      <td>0</td>\n",
       "      <td>0</td>\n",
       "      <td>0</td>\n",
       "      <td>0</td>\n",
       "      <td>0</td>\n",
       "      <td>0</td>\n",
       "      <td>0</td>\n",
       "      <td>0</td>\n",
       "      <td>1</td>\n",
       "      <td>0</td>\n",
       "      <td>0</td>\n",
       "      <td>0</td>\n",
       "      <td>0</td>\n",
       "      <td>0</td>\n",
       "      <td>0</td>\n",
       "      <td>0</td>\n",
       "      <td>0</td>\n",
       "      <td>0</td>\n",
       "      <td>0</td>\n",
       "      <td>1</td>\n",
       "      <td>0</td>\n",
       "      <td>0</td>\n",
       "    </tr>\n",
       "    <tr>\n",
       "      <th>21</th>\n",
       "      <td>0004017c62e8</td>\n",
       "      <td>2017-01-15</td>\n",
       "      <td>17</td>\n",
       "      <td>1.0</td>\n",
       "      <td>0</td>\n",
       "      <td>0.0</td>\n",
       "      <td>0.000</td>\n",
       "      <td>10.3545</td>\n",
       "      <td>198823498</td>\n",
       "      <td>44854</td>\n",
       "      <td>1619</td>\n",
       "      <td>29815</td>\n",
       "      <td>4356</td>\n",
       "      <td>0</td>\n",
       "      <td>0</td>\n",
       "      <td>1</td>\n",
       "      <td>0</td>\n",
       "      <td>0</td>\n",
       "      <td>0</td>\n",
       "      <td>0</td>\n",
       "      <td>0</td>\n",
       "      <td>0</td>\n",
       "      <td>0</td>\n",
       "      <td>0</td>\n",
       "      <td>0</td>\n",
       "      <td>1</td>\n",
       "      <td>0</td>\n",
       "      <td>0</td>\n",
       "      <td>0</td>\n",
       "      <td>0</td>\n",
       "      <td>0</td>\n",
       "      <td>0</td>\n",
       "      <td>0</td>\n",
       "      <td>0</td>\n",
       "      <td>0</td>\n",
       "      <td>0</td>\n",
       "      <td>0</td>\n",
       "      <td>0</td>\n",
       "      <td>0</td>\n",
       "      <td>1</td>\n",
       "      <td>0</td>\n",
       "      <td>0</td>\n",
       "    </tr>\n",
       "    <tr>\n",
       "      <th>22</th>\n",
       "      <td>0004017c62e8</td>\n",
       "      <td>2017-01-26</td>\n",
       "      <td>19</td>\n",
       "      <td>2.0</td>\n",
       "      <td>0</td>\n",
       "      <td>0.0</td>\n",
       "      <td>0.000</td>\n",
       "      <td>11.9475</td>\n",
       "      <td>198823498</td>\n",
       "      <td>44854</td>\n",
       "      <td>1619</td>\n",
       "      <td>29815</td>\n",
       "      <td>4356</td>\n",
       "      <td>0</td>\n",
       "      <td>0</td>\n",
       "      <td>1</td>\n",
       "      <td>0</td>\n",
       "      <td>0</td>\n",
       "      <td>0</td>\n",
       "      <td>0</td>\n",
       "      <td>0</td>\n",
       "      <td>0</td>\n",
       "      <td>0</td>\n",
       "      <td>0</td>\n",
       "      <td>0</td>\n",
       "      <td>1</td>\n",
       "      <td>0</td>\n",
       "      <td>0</td>\n",
       "      <td>0</td>\n",
       "      <td>0</td>\n",
       "      <td>0</td>\n",
       "      <td>0</td>\n",
       "      <td>0</td>\n",
       "      <td>0</td>\n",
       "      <td>0</td>\n",
       "      <td>0</td>\n",
       "      <td>0</td>\n",
       "      <td>0</td>\n",
       "      <td>0</td>\n",
       "      <td>1</td>\n",
       "      <td>0</td>\n",
       "      <td>0</td>\n",
       "    </tr>\n",
       "    <tr>\n",
       "      <th>23</th>\n",
       "      <td>0004017c62e8</td>\n",
       "      <td>2017-02-05</td>\n",
       "      <td>16</td>\n",
       "      <td>3.0</td>\n",
       "      <td>0</td>\n",
       "      <td>0.0</td>\n",
       "      <td>0.000</td>\n",
       "      <td>8.7615</td>\n",
       "      <td>198823498</td>\n",
       "      <td>44854</td>\n",
       "      <td>1619</td>\n",
       "      <td>29815</td>\n",
       "      <td>4356</td>\n",
       "      <td>0</td>\n",
       "      <td>0</td>\n",
       "      <td>1</td>\n",
       "      <td>0</td>\n",
       "      <td>0</td>\n",
       "      <td>0</td>\n",
       "      <td>0</td>\n",
       "      <td>0</td>\n",
       "      <td>0</td>\n",
       "      <td>0</td>\n",
       "      <td>0</td>\n",
       "      <td>0</td>\n",
       "      <td>1</td>\n",
       "      <td>0</td>\n",
       "      <td>0</td>\n",
       "      <td>0</td>\n",
       "      <td>0</td>\n",
       "      <td>0</td>\n",
       "      <td>0</td>\n",
       "      <td>0</td>\n",
       "      <td>0</td>\n",
       "      <td>0</td>\n",
       "      <td>0</td>\n",
       "      <td>0</td>\n",
       "      <td>0</td>\n",
       "      <td>0</td>\n",
       "      <td>1</td>\n",
       "      <td>0</td>\n",
       "      <td>0</td>\n",
       "    </tr>\n",
       "    <tr>\n",
       "      <th>24</th>\n",
       "      <td>0004017c62e8</td>\n",
       "      <td>2017-02-12</td>\n",
       "      <td>17</td>\n",
       "      <td>4.0</td>\n",
       "      <td>0</td>\n",
       "      <td>0.0</td>\n",
       "      <td>0.000</td>\n",
       "      <td>8.7615</td>\n",
       "      <td>198823498</td>\n",
       "      <td>44854</td>\n",
       "      <td>1619</td>\n",
       "      <td>29815</td>\n",
       "      <td>4356</td>\n",
       "      <td>0</td>\n",
       "      <td>0</td>\n",
       "      <td>1</td>\n",
       "      <td>0</td>\n",
       "      <td>0</td>\n",
       "      <td>0</td>\n",
       "      <td>0</td>\n",
       "      <td>0</td>\n",
       "      <td>0</td>\n",
       "      <td>0</td>\n",
       "      <td>0</td>\n",
       "      <td>0</td>\n",
       "      <td>1</td>\n",
       "      <td>0</td>\n",
       "      <td>0</td>\n",
       "      <td>0</td>\n",
       "      <td>0</td>\n",
       "      <td>0</td>\n",
       "      <td>0</td>\n",
       "      <td>0</td>\n",
       "      <td>0</td>\n",
       "      <td>0</td>\n",
       "      <td>0</td>\n",
       "      <td>0</td>\n",
       "      <td>0</td>\n",
       "      <td>0</td>\n",
       "      <td>1</td>\n",
       "      <td>0</td>\n",
       "      <td>0</td>\n",
       "    </tr>\n",
       "    <tr>\n",
       "      <th>25</th>\n",
       "      <td>0004017c62e8</td>\n",
       "      <td>2017-02-15</td>\n",
       "      <td>18</td>\n",
       "      <td>5.0</td>\n",
       "      <td>0</td>\n",
       "      <td>0.0</td>\n",
       "      <td>0.000</td>\n",
       "      <td>8.7615</td>\n",
       "      <td>198823498</td>\n",
       "      <td>44854</td>\n",
       "      <td>1619</td>\n",
       "      <td>29815</td>\n",
       "      <td>4356</td>\n",
       "      <td>0</td>\n",
       "      <td>0</td>\n",
       "      <td>1</td>\n",
       "      <td>0</td>\n",
       "      <td>0</td>\n",
       "      <td>0</td>\n",
       "      <td>0</td>\n",
       "      <td>0</td>\n",
       "      <td>0</td>\n",
       "      <td>0</td>\n",
       "      <td>0</td>\n",
       "      <td>0</td>\n",
       "      <td>1</td>\n",
       "      <td>0</td>\n",
       "      <td>0</td>\n",
       "      <td>0</td>\n",
       "      <td>0</td>\n",
       "      <td>0</td>\n",
       "      <td>0</td>\n",
       "      <td>0</td>\n",
       "      <td>0</td>\n",
       "      <td>0</td>\n",
       "      <td>0</td>\n",
       "      <td>0</td>\n",
       "      <td>0</td>\n",
       "      <td>0</td>\n",
       "      <td>1</td>\n",
       "      <td>0</td>\n",
       "      <td>0</td>\n",
       "    </tr>\n",
       "    <tr>\n",
       "      <th>715</th>\n",
       "      <td>003d7bb4de0d</td>\n",
       "      <td>2016-04-22</td>\n",
       "      <td>21</td>\n",
       "      <td>1.0</td>\n",
       "      <td>0</td>\n",
       "      <td>0.0</td>\n",
       "      <td>0.000</td>\n",
       "      <td>9.8235</td>\n",
       "      <td>97653498</td>\n",
       "      <td>78478</td>\n",
       "      <td>1619</td>\n",
       "      <td>29815</td>\n",
       "      <td>4228</td>\n",
       "      <td>0</td>\n",
       "      <td>0</td>\n",
       "      <td>1</td>\n",
       "      <td>0</td>\n",
       "      <td>0</td>\n",
       "      <td>0</td>\n",
       "      <td>0</td>\n",
       "      <td>0</td>\n",
       "      <td>0</td>\n",
       "      <td>0</td>\n",
       "      <td>0</td>\n",
       "      <td>0</td>\n",
       "      <td>1</td>\n",
       "      <td>0</td>\n",
       "      <td>0</td>\n",
       "      <td>0</td>\n",
       "      <td>0</td>\n",
       "      <td>0</td>\n",
       "      <td>0</td>\n",
       "      <td>0</td>\n",
       "      <td>0</td>\n",
       "      <td>0</td>\n",
       "      <td>0</td>\n",
       "      <td>1</td>\n",
       "      <td>0</td>\n",
       "      <td>0</td>\n",
       "      <td>0</td>\n",
       "      <td>0</td>\n",
       "      <td>0</td>\n",
       "    </tr>\n",
       "    <tr>\n",
       "      <th>716</th>\n",
       "      <td>003d7bb4de0d</td>\n",
       "      <td>2016-10-02</td>\n",
       "      <td>21</td>\n",
       "      <td>2.0</td>\n",
       "      <td>0</td>\n",
       "      <td>0.0</td>\n",
       "      <td>0.000</td>\n",
       "      <td>7.4340</td>\n",
       "      <td>162733498</td>\n",
       "      <td>78206</td>\n",
       "      <td>1619</td>\n",
       "      <td>29815</td>\n",
       "      <td>4356</td>\n",
       "      <td>0</td>\n",
       "      <td>0</td>\n",
       "      <td>1</td>\n",
       "      <td>0</td>\n",
       "      <td>0</td>\n",
       "      <td>0</td>\n",
       "      <td>0</td>\n",
       "      <td>0</td>\n",
       "      <td>0</td>\n",
       "      <td>0</td>\n",
       "      <td>0</td>\n",
       "      <td>0</td>\n",
       "      <td>1</td>\n",
       "      <td>0</td>\n",
       "      <td>0</td>\n",
       "      <td>0</td>\n",
       "      <td>0</td>\n",
       "      <td>0</td>\n",
       "      <td>0</td>\n",
       "      <td>0</td>\n",
       "      <td>0</td>\n",
       "      <td>0</td>\n",
       "      <td>0</td>\n",
       "      <td>0</td>\n",
       "      <td>0</td>\n",
       "      <td>0</td>\n",
       "      <td>1</td>\n",
       "      <td>0</td>\n",
       "      <td>0</td>\n",
       "    </tr>\n",
       "    <tr>\n",
       "      <th>717</th>\n",
       "      <td>003d7bb4de0d</td>\n",
       "      <td>2016-12-07</td>\n",
       "      <td>19</td>\n",
       "      <td>3.0</td>\n",
       "      <td>0</td>\n",
       "      <td>0.0</td>\n",
       "      <td>0.986</td>\n",
       "      <td>7.9119</td>\n",
       "      <td>298863498</td>\n",
       "      <td>78693</td>\n",
       "      <td>1619</td>\n",
       "      <td>29815</td>\n",
       "      <td>4228</td>\n",
       "      <td>0</td>\n",
       "      <td>0</td>\n",
       "      <td>1</td>\n",
       "      <td>0</td>\n",
       "      <td>0</td>\n",
       "      <td>0</td>\n",
       "      <td>0</td>\n",
       "      <td>0</td>\n",
       "      <td>0</td>\n",
       "      <td>0</td>\n",
       "      <td>0</td>\n",
       "      <td>0</td>\n",
       "      <td>1</td>\n",
       "      <td>0</td>\n",
       "      <td>0</td>\n",
       "      <td>0</td>\n",
       "      <td>0</td>\n",
       "      <td>0</td>\n",
       "      <td>0</td>\n",
       "      <td>0</td>\n",
       "      <td>0</td>\n",
       "      <td>0</td>\n",
       "      <td>0</td>\n",
       "      <td>1</td>\n",
       "      <td>0</td>\n",
       "      <td>0</td>\n",
       "      <td>0</td>\n",
       "      <td>0</td>\n",
       "      <td>0</td>\n",
       "    </tr>\n",
       "  </tbody>\n",
       "</table>\n",
       "</div>"
      ],
      "text/plain": [
       "      customer_id  order_date  order_hour  customer_order_rank  is_failed  \\\n",
       "0    000097eabfd9  2015-06-20          19                  1.0          0   \n",
       "21   0004017c62e8  2017-01-15          17                  1.0          0   \n",
       "22   0004017c62e8  2017-01-26          19                  2.0          0   \n",
       "23   0004017c62e8  2017-02-05          16                  3.0          0   \n",
       "24   0004017c62e8  2017-02-12          17                  4.0          0   \n",
       "25   0004017c62e8  2017-02-15          18                  5.0          0   \n",
       "715  003d7bb4de0d  2016-04-22          21                  1.0          0   \n",
       "716  003d7bb4de0d  2016-10-02          21                  2.0          0   \n",
       "717  003d7bb4de0d  2016-12-07          19                  3.0          0   \n",
       "\n",
       "     voucher_amount  delivery_fee  amount_paid  restaurant_id  city_id  \\\n",
       "0               0.0         0.000      11.4696        5803498    20326   \n",
       "21              0.0         0.000      10.3545      198823498    44854   \n",
       "22              0.0         0.000      11.9475      198823498    44854   \n",
       "23              0.0         0.000       8.7615      198823498    44854   \n",
       "24              0.0         0.000       8.7615      198823498    44854   \n",
       "25              0.0         0.000       8.7615      198823498    44854   \n",
       "715             0.0         0.000       9.8235       97653498    78478   \n",
       "716             0.0         0.000       7.4340      162733498    78206   \n",
       "717             0.0         0.986       7.9119      298863498    78693   \n",
       "\n",
       "     payment_id  platform_id  transmission_id  payment_id_1491  \\\n",
       "0          1779        30231             4356                0   \n",
       "21         1619        29815             4356                0   \n",
       "22         1619        29815             4356                0   \n",
       "23         1619        29815             4356                0   \n",
       "24         1619        29815             4356                0   \n",
       "25         1619        29815             4356                0   \n",
       "715        1619        29815             4228                0   \n",
       "716        1619        29815             4356                0   \n",
       "717        1619        29815             4228                0   \n",
       "\n",
       "     payment_id_1523  payment_id_1619  payment_id_1779  payment_id_1811  \\\n",
       "0                  0                0                1                0   \n",
       "21                 0                1                0                0   \n",
       "22                 0                1                0                0   \n",
       "23                 0                1                0                0   \n",
       "24                 0                1                0                0   \n",
       "25                 0                1                0                0   \n",
       "715                0                1                0                0   \n",
       "716                0                1                0                0   \n",
       "717                0                1                0                0   \n",
       "\n",
       "     platform_id_525  platform_id_22167  platform_id_22263  platform_id_22295  \\\n",
       "0                  0                  0                  0                  0   \n",
       "21                 0                  0                  0                  0   \n",
       "22                 0                  0                  0                  0   \n",
       "23                 0                  0                  0                  0   \n",
       "24                 0                  0                  0                  0   \n",
       "25                 0                  0                  0                  0   \n",
       "715                0                  0                  0                  0   \n",
       "716                0                  0                  0                  0   \n",
       "717                0                  0                  0                  0   \n",
       "\n",
       "     platform_id_29463  platform_id_29495  platform_id_29751  \\\n",
       "0                    0                  0                  0   \n",
       "21                   0                  0                  0   \n",
       "22                   0                  0                  0   \n",
       "23                   0                  0                  0   \n",
       "24                   0                  0                  0   \n",
       "25                   0                  0                  0   \n",
       "715                  0                  0                  0   \n",
       "716                  0                  0                  0   \n",
       "717                  0                  0                  0   \n",
       "\n",
       "     platform_id_29815  platform_id_30135  platform_id_30199  \\\n",
       "0                    0                  0                  0   \n",
       "21                   1                  0                  0   \n",
       "22                   1                  0                  0   \n",
       "23                   1                  0                  0   \n",
       "24                   1                  0                  0   \n",
       "25                   1                  0                  0   \n",
       "715                  1                  0                  0   \n",
       "716                  1                  0                  0   \n",
       "717                  1                  0                  0   \n",
       "\n",
       "     platform_id_30231  platform_id_30359  platform_id_30391  \\\n",
       "0                    1                  0                  0   \n",
       "21                   0                  0                  0   \n",
       "22                   0                  0                  0   \n",
       "23                   0                  0                  0   \n",
       "24                   0                  0                  0   \n",
       "25                   0                  0                  0   \n",
       "715                  0                  0                  0   \n",
       "716                  0                  0                  0   \n",
       "717                  0                  0                  0   \n",
       "\n",
       "     platform_id_30423  transmission_id_212  transmission_id_1988  \\\n",
       "0                    0                    0                     0   \n",
       "21                   0                    0                     0   \n",
       "22                   0                    0                     0   \n",
       "23                   0                    0                     0   \n",
       "24                   0                    0                     0   \n",
       "25                   0                    0                     0   \n",
       "715                  0                    0                     0   \n",
       "716                  0                    0                     0   \n",
       "717                  0                    0                     0   \n",
       "\n",
       "     transmission_id_2020  transmission_id_4196  transmission_id_4228  \\\n",
       "0                       0                     0                     0   \n",
       "21                      0                     0                     0   \n",
       "22                      0                     0                     0   \n",
       "23                      0                     0                     0   \n",
       "24                      0                     0                     0   \n",
       "25                      0                     0                     0   \n",
       "715                     0                     0                     1   \n",
       "716                     0                     0                     0   \n",
       "717                     0                     0                     1   \n",
       "\n",
       "     transmission_id_4260  transmission_id_4324  transmission_id_4356  \\\n",
       "0                       0                     0                     1   \n",
       "21                      0                     0                     1   \n",
       "22                      0                     0                     1   \n",
       "23                      0                     0                     1   \n",
       "24                      0                     0                     1   \n",
       "25                      0                     0                     1   \n",
       "715                     0                     0                     0   \n",
       "716                     0                     0                     1   \n",
       "717                     0                     0                     0   \n",
       "\n",
       "     transmission_id_4996  transmission_id_21124  \n",
       "0                       0                      0  \n",
       "21                      0                      0  \n",
       "22                      0                      0  \n",
       "23                      0                      0  \n",
       "24                      0                      0  \n",
       "25                      0                      0  \n",
       "715                     0                      0  \n",
       "716                     0                      0  \n",
       "717                     0                      0  "
      ]
     },
     "execution_count": 107,
     "metadata": {},
     "output_type": "execute_result"
    }
   ],
   "source": [
    "# tmp"
   ]
  },
  {
   "cell_type": "code",
   "execution_count": 97,
   "metadata": {},
   "outputs": [
    {
     "name": "stdout",
     "output_type": "stream",
     "text": [
      "003d7bb4de0d\n"
     ]
    }
   ],
   "source": [
    "# for name, group in grouped:\n",
    "#     if len(pd.unique(group['city_id'])) > 2 and len(group) < 5:\n",
    "#         print(name)\n",
    "#         break"
   ]
  },
  {
   "cell_type": "code",
   "execution_count": 65,
   "metadata": {
    "scrolled": true
   },
   "outputs": [
    {
     "ename": "KeyboardInterrupt",
     "evalue": "",
     "output_type": "error",
     "traceback": [
      "\u001b[0;31m---------------------------------------------------------------------------\u001b[0m",
      "\u001b[0;31mSpecificationError\u001b[0m                        Traceback (most recent call last)",
      "\u001b[0;32m/opt/conda/lib/python3.6/site-packages/pandas/core/base.py\u001b[0m in \u001b[0;36m_aggregate\u001b[0;34m(self, arg, *args, **kwargs)\u001b[0m\n\u001b[1;32m    477\u001b[0m                 \u001b[0;32mtry\u001b[0m\u001b[0;34m:\u001b[0m\u001b[0;34m\u001b[0m\u001b[0m\n\u001b[0;32m--> 478\u001b[0;31m                     \u001b[0mresult\u001b[0m \u001b[0;34m=\u001b[0m \u001b[0m_agg\u001b[0m\u001b[0;34m(\u001b[0m\u001b[0marg\u001b[0m\u001b[0;34m,\u001b[0m \u001b[0m_agg_1dim\u001b[0m\u001b[0;34m)\u001b[0m\u001b[0;34m\u001b[0m\u001b[0m\n\u001b[0m\u001b[1;32m    479\u001b[0m                 \u001b[0;32mexcept\u001b[0m \u001b[0mSpecificationError\u001b[0m\u001b[0;34m:\u001b[0m\u001b[0;34m\u001b[0m\u001b[0m\n",
      "\u001b[0;32m/opt/conda/lib/python3.6/site-packages/pandas/core/base.py\u001b[0m in \u001b[0;36m_agg\u001b[0;34m(arg, func)\u001b[0m\n\u001b[1;32m    428\u001b[0m                 \u001b[0;32mfor\u001b[0m \u001b[0mfname\u001b[0m\u001b[0;34m,\u001b[0m \u001b[0magg_how\u001b[0m \u001b[0;32min\u001b[0m \u001b[0mcompat\u001b[0m\u001b[0;34m.\u001b[0m\u001b[0miteritems\u001b[0m\u001b[0;34m(\u001b[0m\u001b[0marg\u001b[0m\u001b[0;34m)\u001b[0m\u001b[0;34m:\u001b[0m\u001b[0;34m\u001b[0m\u001b[0m\n\u001b[0;32m--> 429\u001b[0;31m                     \u001b[0mresult\u001b[0m\u001b[0;34m[\u001b[0m\u001b[0mfname\u001b[0m\u001b[0;34m]\u001b[0m \u001b[0;34m=\u001b[0m \u001b[0mfunc\u001b[0m\u001b[0;34m(\u001b[0m\u001b[0mfname\u001b[0m\u001b[0;34m,\u001b[0m \u001b[0magg_how\u001b[0m\u001b[0;34m)\u001b[0m\u001b[0;34m\u001b[0m\u001b[0m\n\u001b[0m\u001b[1;32m    430\u001b[0m                 \u001b[0;32mreturn\u001b[0m \u001b[0mresult\u001b[0m\u001b[0;34m\u001b[0m\u001b[0m\n",
      "\u001b[0;32m/opt/conda/lib/python3.6/site-packages/pandas/core/base.py\u001b[0m in \u001b[0;36m_agg_1dim\u001b[0;34m(name, how, subset)\u001b[0m\n\u001b[1;32m    411\u001b[0m                                              \"in aggregation\")\n\u001b[0;32m--> 412\u001b[0;31m                 \u001b[0;32mreturn\u001b[0m \u001b[0mcolg\u001b[0m\u001b[0;34m.\u001b[0m\u001b[0maggregate\u001b[0m\u001b[0;34m(\u001b[0m\u001b[0mhow\u001b[0m\u001b[0;34m,\u001b[0m \u001b[0m_level\u001b[0m\u001b[0;34m=\u001b[0m\u001b[0;34m(\u001b[0m\u001b[0m_level\u001b[0m \u001b[0;32mor\u001b[0m \u001b[0;36m0\u001b[0m\u001b[0;34m)\u001b[0m \u001b[0;34m+\u001b[0m \u001b[0;36m1\u001b[0m\u001b[0;34m)\u001b[0m\u001b[0;34m\u001b[0m\u001b[0m\n\u001b[0m\u001b[1;32m    413\u001b[0m \u001b[0;34m\u001b[0m\u001b[0m\n",
      "\u001b[0;32m/opt/conda/lib/python3.6/site-packages/pandas/core/groupby.py\u001b[0m in \u001b[0;36maggregate\u001b[0;34m(self, func_or_funcs, *args, **kwargs)\u001b[0m\n\u001b[1;32m   3124\u001b[0m             ret = self._aggregate_multiple_funcs(func_or_funcs,\n\u001b[0;32m-> 3125\u001b[0;31m                                                  (_level or 0) + 1)\n\u001b[0m\u001b[1;32m   3126\u001b[0m         \u001b[0;32melse\u001b[0m\u001b[0;34m:\u001b[0m\u001b[0;34m\u001b[0m\u001b[0m\n",
      "\u001b[0;32m/opt/conda/lib/python3.6/site-packages/pandas/core/groupby.py\u001b[0m in \u001b[0;36m_aggregate_multiple_funcs\u001b[0;34m(self, arg, _level)\u001b[0m\n\u001b[1;32m   3189\u001b[0m                 raise SpecificationError('Function names must be unique, '\n\u001b[0;32m-> 3190\u001b[0;31m                                          'found multiple named %s' % name)\n\u001b[0m\u001b[1;32m   3191\u001b[0m \u001b[0;34m\u001b[0m\u001b[0m\n",
      "\u001b[0;31mSpecificationError\u001b[0m: Function names must be unique, found multiple named <lambda>",
      "\nDuring handling of the above exception, another exception occurred:\n",
      "\u001b[0;31mKeyboardInterrupt\u001b[0m                         Traceback (most recent call last)",
      "\u001b[0;32m<ipython-input-65-cd3c635a9dcb>\u001b[0m in \u001b[0;36m<module>\u001b[0;34m()\u001b[0m\n\u001b[1;32m     16\u001b[0m                           'amount_paid': [np.mean, np.sum, \n\u001b[1;32m     17\u001b[0m                                           \u001b[0;32mlambda\u001b[0m \u001b[0mx\u001b[0m\u001b[0;34m:\u001b[0m \u001b[0mnp\u001b[0m\u001b[0;34m.\u001b[0m\u001b[0mstd\u001b[0m\u001b[0;34m(\u001b[0m\u001b[0mnp\u001b[0m\u001b[0;34m.\u001b[0m\u001b[0marray\u001b[0m\u001b[0;34m(\u001b[0m\u001b[0mx\u001b[0m\u001b[0;34m)\u001b[0m\u001b[0;34m)\u001b[0m\u001b[0;34m,\u001b[0m\u001b[0;34m\u001b[0m\u001b[0m\n\u001b[0;32m---> 18\u001b[0;31m                                           lambda x: x.quantile(q=0.75)]})\n\u001b[0m\u001b[1;32m     19\u001b[0m \u001b[0;31m# orders_agg.columns = ['customer_id', 'is_failed_sum', 'voucher_amount_sum',\u001b[0m\u001b[0;34m\u001b[0m\u001b[0;34m\u001b[0m\u001b[0m\n\u001b[1;32m     20\u001b[0m \u001b[0;31m#                       'delivery_fee_mean', 'restaurant_id_unq_num', 'city_id_unq_num',\u001b[0m\u001b[0;34m\u001b[0m\u001b[0;34m\u001b[0m\u001b[0m\n",
      "\u001b[0;32m/opt/conda/lib/python3.6/site-packages/pandas/core/groupby.py\u001b[0m in \u001b[0;36maggregate\u001b[0;34m(self, arg, *args, **kwargs)\u001b[0m\n\u001b[1;32m   4289\u001b[0m         versionadded=''))\n\u001b[1;32m   4290\u001b[0m     \u001b[0;32mdef\u001b[0m \u001b[0maggregate\u001b[0m\u001b[0;34m(\u001b[0m\u001b[0mself\u001b[0m\u001b[0;34m,\u001b[0m \u001b[0marg\u001b[0m\u001b[0;34m,\u001b[0m \u001b[0;34m*\u001b[0m\u001b[0margs\u001b[0m\u001b[0;34m,\u001b[0m \u001b[0;34m**\u001b[0m\u001b[0mkwargs\u001b[0m\u001b[0;34m)\u001b[0m\u001b[0;34m:\u001b[0m\u001b[0;34m\u001b[0m\u001b[0m\n\u001b[0;32m-> 4291\u001b[0;31m         \u001b[0;32mreturn\u001b[0m \u001b[0msuper\u001b[0m\u001b[0;34m(\u001b[0m\u001b[0mDataFrameGroupBy\u001b[0m\u001b[0;34m,\u001b[0m \u001b[0mself\u001b[0m\u001b[0;34m)\u001b[0m\u001b[0;34m.\u001b[0m\u001b[0maggregate\u001b[0m\u001b[0;34m(\u001b[0m\u001b[0marg\u001b[0m\u001b[0;34m,\u001b[0m \u001b[0;34m*\u001b[0m\u001b[0margs\u001b[0m\u001b[0;34m,\u001b[0m \u001b[0;34m**\u001b[0m\u001b[0mkwargs\u001b[0m\u001b[0;34m)\u001b[0m\u001b[0;34m\u001b[0m\u001b[0m\n\u001b[0m\u001b[1;32m   4292\u001b[0m \u001b[0;34m\u001b[0m\u001b[0m\n\u001b[1;32m   4293\u001b[0m     \u001b[0magg\u001b[0m \u001b[0;34m=\u001b[0m \u001b[0maggregate\u001b[0m\u001b[0;34m\u001b[0m\u001b[0m\n",
      "\u001b[0;32m/opt/conda/lib/python3.6/site-packages/pandas/core/groupby.py\u001b[0m in \u001b[0;36maggregate\u001b[0;34m(self, arg, *args, **kwargs)\u001b[0m\n\u001b[1;32m   3722\u001b[0m \u001b[0;34m\u001b[0m\u001b[0m\n\u001b[1;32m   3723\u001b[0m         \u001b[0m_level\u001b[0m \u001b[0;34m=\u001b[0m \u001b[0mkwargs\u001b[0m\u001b[0;34m.\u001b[0m\u001b[0mpop\u001b[0m\u001b[0;34m(\u001b[0m\u001b[0;34m'_level'\u001b[0m\u001b[0;34m,\u001b[0m \u001b[0;32mNone\u001b[0m\u001b[0;34m)\u001b[0m\u001b[0;34m\u001b[0m\u001b[0m\n\u001b[0;32m-> 3724\u001b[0;31m         \u001b[0mresult\u001b[0m\u001b[0;34m,\u001b[0m \u001b[0mhow\u001b[0m \u001b[0;34m=\u001b[0m \u001b[0mself\u001b[0m\u001b[0;34m.\u001b[0m\u001b[0m_aggregate\u001b[0m\u001b[0;34m(\u001b[0m\u001b[0marg\u001b[0m\u001b[0;34m,\u001b[0m \u001b[0m_level\u001b[0m\u001b[0;34m=\u001b[0m\u001b[0m_level\u001b[0m\u001b[0;34m,\u001b[0m \u001b[0;34m*\u001b[0m\u001b[0margs\u001b[0m\u001b[0;34m,\u001b[0m \u001b[0;34m**\u001b[0m\u001b[0mkwargs\u001b[0m\u001b[0;34m)\u001b[0m\u001b[0;34m\u001b[0m\u001b[0m\n\u001b[0m\u001b[1;32m   3725\u001b[0m         \u001b[0;32mif\u001b[0m \u001b[0mhow\u001b[0m \u001b[0;32mis\u001b[0m \u001b[0;32mNone\u001b[0m\u001b[0;34m:\u001b[0m\u001b[0;34m\u001b[0m\u001b[0m\n\u001b[1;32m   3726\u001b[0m             \u001b[0;32mreturn\u001b[0m \u001b[0mresult\u001b[0m\u001b[0;34m\u001b[0m\u001b[0m\n",
      "\u001b[0;32m/opt/conda/lib/python3.6/site-packages/pandas/core/base.py\u001b[0m in \u001b[0;36m_aggregate\u001b[0;34m(self, arg, *args, **kwargs)\u001b[0m\n\u001b[1;32m    481\u001b[0m                     \u001b[0;31m# we are aggregating expecting all 1d-returns\u001b[0m\u001b[0;34m\u001b[0m\u001b[0;34m\u001b[0m\u001b[0m\n\u001b[1;32m    482\u001b[0m                     \u001b[0;31m# but we have 2d\u001b[0m\u001b[0;34m\u001b[0m\u001b[0;34m\u001b[0m\u001b[0m\n\u001b[0;32m--> 483\u001b[0;31m                     \u001b[0mresult\u001b[0m \u001b[0;34m=\u001b[0m \u001b[0m_agg\u001b[0m\u001b[0;34m(\u001b[0m\u001b[0marg\u001b[0m\u001b[0;34m,\u001b[0m \u001b[0m_agg_2dim\u001b[0m\u001b[0;34m)\u001b[0m\u001b[0;34m\u001b[0m\u001b[0m\n\u001b[0m\u001b[1;32m    484\u001b[0m \u001b[0;34m\u001b[0m\u001b[0m\n\u001b[1;32m    485\u001b[0m             \u001b[0;31m# combine results\u001b[0m\u001b[0;34m\u001b[0m\u001b[0;34m\u001b[0m\u001b[0m\n",
      "\u001b[0;32m/opt/conda/lib/python3.6/site-packages/pandas/core/base.py\u001b[0m in \u001b[0;36m_agg\u001b[0;34m(arg, func)\u001b[0m\n\u001b[1;32m    427\u001b[0m                 \u001b[0mresult\u001b[0m \u001b[0;34m=\u001b[0m \u001b[0mcompat\u001b[0m\u001b[0;34m.\u001b[0m\u001b[0mOrderedDict\u001b[0m\u001b[0;34m(\u001b[0m\u001b[0;34m)\u001b[0m\u001b[0;34m\u001b[0m\u001b[0m\n\u001b[1;32m    428\u001b[0m                 \u001b[0;32mfor\u001b[0m \u001b[0mfname\u001b[0m\u001b[0;34m,\u001b[0m \u001b[0magg_how\u001b[0m \u001b[0;32min\u001b[0m \u001b[0mcompat\u001b[0m\u001b[0;34m.\u001b[0m\u001b[0miteritems\u001b[0m\u001b[0;34m(\u001b[0m\u001b[0marg\u001b[0m\u001b[0;34m)\u001b[0m\u001b[0;34m:\u001b[0m\u001b[0;34m\u001b[0m\u001b[0m\n\u001b[0;32m--> 429\u001b[0;31m                     \u001b[0mresult\u001b[0m\u001b[0;34m[\u001b[0m\u001b[0mfname\u001b[0m\u001b[0;34m]\u001b[0m \u001b[0;34m=\u001b[0m \u001b[0mfunc\u001b[0m\u001b[0;34m(\u001b[0m\u001b[0mfname\u001b[0m\u001b[0;34m,\u001b[0m \u001b[0magg_how\u001b[0m\u001b[0;34m)\u001b[0m\u001b[0;34m\u001b[0m\u001b[0m\n\u001b[0m\u001b[1;32m    430\u001b[0m                 \u001b[0;32mreturn\u001b[0m \u001b[0mresult\u001b[0m\u001b[0;34m\u001b[0m\u001b[0m\n\u001b[1;32m    431\u001b[0m \u001b[0;34m\u001b[0m\u001b[0m\n",
      "\u001b[0;32m/opt/conda/lib/python3.6/site-packages/pandas/core/base.py\u001b[0m in \u001b[0;36m_agg_2dim\u001b[0;34m(name, how)\u001b[0m\n\u001b[1;32m    418\u001b[0m                 colg = self._gotitem(self._selection, ndim=2,\n\u001b[1;32m    419\u001b[0m                                      subset=obj)\n\u001b[0;32m--> 420\u001b[0;31m                 \u001b[0;32mreturn\u001b[0m \u001b[0mcolg\u001b[0m\u001b[0;34m.\u001b[0m\u001b[0maggregate\u001b[0m\u001b[0;34m(\u001b[0m\u001b[0mhow\u001b[0m\u001b[0;34m,\u001b[0m \u001b[0m_level\u001b[0m\u001b[0;34m=\u001b[0m\u001b[0;32mNone\u001b[0m\u001b[0;34m)\u001b[0m\u001b[0;34m\u001b[0m\u001b[0m\n\u001b[0m\u001b[1;32m    421\u001b[0m \u001b[0;34m\u001b[0m\u001b[0m\n\u001b[1;32m    422\u001b[0m             \u001b[0;32mdef\u001b[0m \u001b[0m_agg\u001b[0m\u001b[0;34m(\u001b[0m\u001b[0marg\u001b[0m\u001b[0;34m,\u001b[0m \u001b[0mfunc\u001b[0m\u001b[0;34m)\u001b[0m\u001b[0;34m:\u001b[0m\u001b[0;34m\u001b[0m\u001b[0m\n",
      "\u001b[0;32m/opt/conda/lib/python3.6/site-packages/pandas/core/groupby.py\u001b[0m in \u001b[0;36maggregate\u001b[0;34m(self, arg, *args, **kwargs)\u001b[0m\n\u001b[1;32m   4289\u001b[0m         versionadded=''))\n\u001b[1;32m   4290\u001b[0m     \u001b[0;32mdef\u001b[0m \u001b[0maggregate\u001b[0m\u001b[0;34m(\u001b[0m\u001b[0mself\u001b[0m\u001b[0;34m,\u001b[0m \u001b[0marg\u001b[0m\u001b[0;34m,\u001b[0m \u001b[0;34m*\u001b[0m\u001b[0margs\u001b[0m\u001b[0;34m,\u001b[0m \u001b[0;34m**\u001b[0m\u001b[0mkwargs\u001b[0m\u001b[0;34m)\u001b[0m\u001b[0;34m:\u001b[0m\u001b[0;34m\u001b[0m\u001b[0m\n\u001b[0;32m-> 4291\u001b[0;31m         \u001b[0;32mreturn\u001b[0m \u001b[0msuper\u001b[0m\u001b[0;34m(\u001b[0m\u001b[0mDataFrameGroupBy\u001b[0m\u001b[0;34m,\u001b[0m \u001b[0mself\u001b[0m\u001b[0;34m)\u001b[0m\u001b[0;34m.\u001b[0m\u001b[0maggregate\u001b[0m\u001b[0;34m(\u001b[0m\u001b[0marg\u001b[0m\u001b[0;34m,\u001b[0m \u001b[0;34m*\u001b[0m\u001b[0margs\u001b[0m\u001b[0;34m,\u001b[0m \u001b[0;34m**\u001b[0m\u001b[0mkwargs\u001b[0m\u001b[0;34m)\u001b[0m\u001b[0;34m\u001b[0m\u001b[0m\n\u001b[0m\u001b[1;32m   4292\u001b[0m \u001b[0;34m\u001b[0m\u001b[0m\n\u001b[1;32m   4293\u001b[0m     \u001b[0magg\u001b[0m \u001b[0;34m=\u001b[0m \u001b[0maggregate\u001b[0m\u001b[0;34m\u001b[0m\u001b[0m\n",
      "\u001b[0;32m/opt/conda/lib/python3.6/site-packages/pandas/core/groupby.py\u001b[0m in \u001b[0;36maggregate\u001b[0;34m(self, arg, *args, **kwargs)\u001b[0m\n\u001b[1;32m   3722\u001b[0m \u001b[0;34m\u001b[0m\u001b[0m\n\u001b[1;32m   3723\u001b[0m         \u001b[0m_level\u001b[0m \u001b[0;34m=\u001b[0m \u001b[0mkwargs\u001b[0m\u001b[0;34m.\u001b[0m\u001b[0mpop\u001b[0m\u001b[0;34m(\u001b[0m\u001b[0;34m'_level'\u001b[0m\u001b[0;34m,\u001b[0m \u001b[0;32mNone\u001b[0m\u001b[0;34m)\u001b[0m\u001b[0;34m\u001b[0m\u001b[0m\n\u001b[0;32m-> 3724\u001b[0;31m         \u001b[0mresult\u001b[0m\u001b[0;34m,\u001b[0m \u001b[0mhow\u001b[0m \u001b[0;34m=\u001b[0m \u001b[0mself\u001b[0m\u001b[0;34m.\u001b[0m\u001b[0m_aggregate\u001b[0m\u001b[0;34m(\u001b[0m\u001b[0marg\u001b[0m\u001b[0;34m,\u001b[0m \u001b[0m_level\u001b[0m\u001b[0;34m=\u001b[0m\u001b[0m_level\u001b[0m\u001b[0;34m,\u001b[0m \u001b[0;34m*\u001b[0m\u001b[0margs\u001b[0m\u001b[0;34m,\u001b[0m \u001b[0;34m**\u001b[0m\u001b[0mkwargs\u001b[0m\u001b[0;34m)\u001b[0m\u001b[0;34m\u001b[0m\u001b[0m\n\u001b[0m\u001b[1;32m   3725\u001b[0m         \u001b[0;32mif\u001b[0m \u001b[0mhow\u001b[0m \u001b[0;32mis\u001b[0m \u001b[0;32mNone\u001b[0m\u001b[0;34m:\u001b[0m\u001b[0;34m\u001b[0m\u001b[0m\n\u001b[1;32m   3726\u001b[0m             \u001b[0;32mreturn\u001b[0m \u001b[0mresult\u001b[0m\u001b[0;34m\u001b[0m\u001b[0m\n",
      "\u001b[0;32m/opt/conda/lib/python3.6/site-packages/pandas/core/base.py\u001b[0m in \u001b[0;36m_aggregate\u001b[0;34m(self, arg, *args, **kwargs)\u001b[0m\n\u001b[1;32m    537\u001b[0m             return self._aggregate_multiple_funcs(arg,\n\u001b[1;32m    538\u001b[0m                                                   \u001b[0m_level\u001b[0m\u001b[0;34m=\u001b[0m\u001b[0m_level\u001b[0m\u001b[0;34m,\u001b[0m\u001b[0;34m\u001b[0m\u001b[0m\n\u001b[0;32m--> 539\u001b[0;31m                                                   _axis=_axis), None\n\u001b[0m\u001b[1;32m    540\u001b[0m         \u001b[0;32melse\u001b[0m\u001b[0;34m:\u001b[0m\u001b[0;34m\u001b[0m\u001b[0m\n\u001b[1;32m    541\u001b[0m             \u001b[0mresult\u001b[0m \u001b[0;34m=\u001b[0m \u001b[0;32mNone\u001b[0m\u001b[0;34m\u001b[0m\u001b[0m\n",
      "\u001b[0;32m/opt/conda/lib/python3.6/site-packages/pandas/core/base.py\u001b[0m in \u001b[0;36m_aggregate_multiple_funcs\u001b[0;34m(self, arg, _level, _axis)\u001b[0m\n\u001b[1;32m    582\u001b[0m                 \u001b[0;32mtry\u001b[0m\u001b[0;34m:\u001b[0m\u001b[0;34m\u001b[0m\u001b[0m\n\u001b[1;32m    583\u001b[0m                     \u001b[0mcolg\u001b[0m \u001b[0;34m=\u001b[0m \u001b[0mself\u001b[0m\u001b[0;34m.\u001b[0m\u001b[0m_gotitem\u001b[0m\u001b[0;34m(\u001b[0m\u001b[0mcol\u001b[0m\u001b[0;34m,\u001b[0m \u001b[0mndim\u001b[0m\u001b[0;34m=\u001b[0m\u001b[0;36m1\u001b[0m\u001b[0;34m,\u001b[0m \u001b[0msubset\u001b[0m\u001b[0;34m=\u001b[0m\u001b[0mobj\u001b[0m\u001b[0;34m[\u001b[0m\u001b[0mcol\u001b[0m\u001b[0;34m]\u001b[0m\u001b[0;34m)\u001b[0m\u001b[0;34m\u001b[0m\u001b[0m\n\u001b[0;32m--> 584\u001b[0;31m                     \u001b[0mresults\u001b[0m\u001b[0;34m.\u001b[0m\u001b[0mappend\u001b[0m\u001b[0;34m(\u001b[0m\u001b[0mcolg\u001b[0m\u001b[0;34m.\u001b[0m\u001b[0maggregate\u001b[0m\u001b[0;34m(\u001b[0m\u001b[0marg\u001b[0m\u001b[0;34m)\u001b[0m\u001b[0;34m)\u001b[0m\u001b[0;34m\u001b[0m\u001b[0m\n\u001b[0m\u001b[1;32m    585\u001b[0m                     \u001b[0mkeys\u001b[0m\u001b[0;34m.\u001b[0m\u001b[0mappend\u001b[0m\u001b[0;34m(\u001b[0m\u001b[0mcol\u001b[0m\u001b[0;34m)\u001b[0m\u001b[0;34m\u001b[0m\u001b[0m\n\u001b[1;32m    586\u001b[0m                 \u001b[0;32mexcept\u001b[0m \u001b[0;34m(\u001b[0m\u001b[0mTypeError\u001b[0m\u001b[0;34m,\u001b[0m \u001b[0mDataError\u001b[0m\u001b[0;34m)\u001b[0m\u001b[0;34m:\u001b[0m\u001b[0;34m\u001b[0m\u001b[0m\n",
      "\u001b[0;32m/opt/conda/lib/python3.6/site-packages/pandas/core/groupby.py\u001b[0m in \u001b[0;36maggregate\u001b[0;34m(self, func_or_funcs, *args, **kwargs)\u001b[0m\n\u001b[1;32m   3123\u001b[0m         \u001b[0;32mif\u001b[0m \u001b[0mhasattr\u001b[0m\u001b[0;34m(\u001b[0m\u001b[0mfunc_or_funcs\u001b[0m\u001b[0;34m,\u001b[0m \u001b[0;34m'__iter__'\u001b[0m\u001b[0;34m)\u001b[0m\u001b[0;34m:\u001b[0m\u001b[0;34m\u001b[0m\u001b[0m\n\u001b[1;32m   3124\u001b[0m             ret = self._aggregate_multiple_funcs(func_or_funcs,\n\u001b[0;32m-> 3125\u001b[0;31m                                                  (_level or 0) + 1)\n\u001b[0m\u001b[1;32m   3126\u001b[0m         \u001b[0;32melse\u001b[0m\u001b[0;34m:\u001b[0m\u001b[0;34m\u001b[0m\u001b[0m\n\u001b[1;32m   3127\u001b[0m             \u001b[0mcyfunc\u001b[0m \u001b[0;34m=\u001b[0m \u001b[0mself\u001b[0m\u001b[0;34m.\u001b[0m\u001b[0m_is_cython_func\u001b[0m\u001b[0;34m(\u001b[0m\u001b[0mfunc_or_funcs\u001b[0m\u001b[0;34m)\u001b[0m\u001b[0;34m\u001b[0m\u001b[0m\n",
      "\u001b[0;32m/opt/conda/lib/python3.6/site-packages/pandas/core/groupby.py\u001b[0m in \u001b[0;36m_aggregate_multiple_funcs\u001b[0;34m(self, arg, _level)\u001b[0m\n\u001b[1;32m   3196\u001b[0m                 \u001b[0mobj\u001b[0m\u001b[0;34m.\u001b[0m\u001b[0m_reset_cache\u001b[0m\u001b[0;34m(\u001b[0m\u001b[0;34m)\u001b[0m\u001b[0;34m\u001b[0m\u001b[0m\n\u001b[1;32m   3197\u001b[0m                 \u001b[0mobj\u001b[0m\u001b[0;34m.\u001b[0m\u001b[0m_selection\u001b[0m \u001b[0;34m=\u001b[0m \u001b[0mname\u001b[0m\u001b[0;34m\u001b[0m\u001b[0m\n\u001b[0;32m-> 3198\u001b[0;31m             \u001b[0mresults\u001b[0m\u001b[0;34m[\u001b[0m\u001b[0mname\u001b[0m\u001b[0;34m]\u001b[0m \u001b[0;34m=\u001b[0m \u001b[0mobj\u001b[0m\u001b[0;34m.\u001b[0m\u001b[0maggregate\u001b[0m\u001b[0;34m(\u001b[0m\u001b[0mfunc\u001b[0m\u001b[0;34m)\u001b[0m\u001b[0;34m\u001b[0m\u001b[0m\n\u001b[0m\u001b[1;32m   3199\u001b[0m \u001b[0;34m\u001b[0m\u001b[0m\n\u001b[1;32m   3200\u001b[0m         if isinstance(list(compat.itervalues(results))[0],\n",
      "\u001b[0;32m/opt/conda/lib/python3.6/site-packages/pandas/core/groupby.py\u001b[0m in \u001b[0;36maggregate\u001b[0;34m(self, func_or_funcs, *args, **kwargs)\u001b[0m\n\u001b[1;32m   3133\u001b[0m \u001b[0;34m\u001b[0m\u001b[0m\n\u001b[1;32m   3134\u001b[0m             \u001b[0;32mtry\u001b[0m\u001b[0;34m:\u001b[0m\u001b[0;34m\u001b[0m\u001b[0m\n\u001b[0;32m-> 3135\u001b[0;31m                 \u001b[0;32mreturn\u001b[0m \u001b[0mself\u001b[0m\u001b[0;34m.\u001b[0m\u001b[0m_python_agg_general\u001b[0m\u001b[0;34m(\u001b[0m\u001b[0mfunc_or_funcs\u001b[0m\u001b[0;34m,\u001b[0m \u001b[0;34m*\u001b[0m\u001b[0margs\u001b[0m\u001b[0;34m,\u001b[0m \u001b[0;34m**\u001b[0m\u001b[0mkwargs\u001b[0m\u001b[0;34m)\u001b[0m\u001b[0;34m\u001b[0m\u001b[0m\n\u001b[0m\u001b[1;32m   3136\u001b[0m             \u001b[0;32mexcept\u001b[0m \u001b[0mException\u001b[0m\u001b[0;34m:\u001b[0m\u001b[0;34m\u001b[0m\u001b[0m\n\u001b[1;32m   3137\u001b[0m                 \u001b[0mresult\u001b[0m \u001b[0;34m=\u001b[0m \u001b[0mself\u001b[0m\u001b[0;34m.\u001b[0m\u001b[0m_aggregate_named\u001b[0m\u001b[0;34m(\u001b[0m\u001b[0mfunc_or_funcs\u001b[0m\u001b[0;34m,\u001b[0m \u001b[0;34m*\u001b[0m\u001b[0margs\u001b[0m\u001b[0;34m,\u001b[0m \u001b[0;34m**\u001b[0m\u001b[0mkwargs\u001b[0m\u001b[0;34m)\u001b[0m\u001b[0;34m\u001b[0m\u001b[0m\n",
      "\u001b[0;32m/opt/conda/lib/python3.6/site-packages/pandas/core/groupby.py\u001b[0m in \u001b[0;36m_python_agg_general\u001b[0;34m(self, func, *args, **kwargs)\u001b[0m\n\u001b[1;32m    937\u001b[0m         \u001b[0;32mfor\u001b[0m \u001b[0mname\u001b[0m\u001b[0;34m,\u001b[0m \u001b[0mobj\u001b[0m \u001b[0;32min\u001b[0m \u001b[0mself\u001b[0m\u001b[0;34m.\u001b[0m\u001b[0m_iterate_slices\u001b[0m\u001b[0;34m(\u001b[0m\u001b[0;34m)\u001b[0m\u001b[0;34m:\u001b[0m\u001b[0;34m\u001b[0m\u001b[0m\n\u001b[1;32m    938\u001b[0m             \u001b[0;32mtry\u001b[0m\u001b[0;34m:\u001b[0m\u001b[0;34m\u001b[0m\u001b[0m\n\u001b[0;32m--> 939\u001b[0;31m                 \u001b[0mresult\u001b[0m\u001b[0;34m,\u001b[0m \u001b[0mcounts\u001b[0m \u001b[0;34m=\u001b[0m \u001b[0mself\u001b[0m\u001b[0;34m.\u001b[0m\u001b[0mgrouper\u001b[0m\u001b[0;34m.\u001b[0m\u001b[0magg_series\u001b[0m\u001b[0;34m(\u001b[0m\u001b[0mobj\u001b[0m\u001b[0;34m,\u001b[0m \u001b[0mf\u001b[0m\u001b[0;34m)\u001b[0m\u001b[0;34m\u001b[0m\u001b[0m\n\u001b[0m\u001b[1;32m    940\u001b[0m                 \u001b[0moutput\u001b[0m\u001b[0;34m[\u001b[0m\u001b[0mname\u001b[0m\u001b[0;34m]\u001b[0m \u001b[0;34m=\u001b[0m \u001b[0mself\u001b[0m\u001b[0;34m.\u001b[0m\u001b[0m_try_cast\u001b[0m\u001b[0;34m(\u001b[0m\u001b[0mresult\u001b[0m\u001b[0;34m,\u001b[0m \u001b[0mobj\u001b[0m\u001b[0;34m,\u001b[0m \u001b[0mnumeric_only\u001b[0m\u001b[0;34m=\u001b[0m\u001b[0;32mTrue\u001b[0m\u001b[0;34m)\u001b[0m\u001b[0;34m\u001b[0m\u001b[0m\n\u001b[1;32m    941\u001b[0m             \u001b[0;32mexcept\u001b[0m \u001b[0mTypeError\u001b[0m\u001b[0;34m:\u001b[0m\u001b[0;34m\u001b[0m\u001b[0m\n",
      "\u001b[0;32m/opt/conda/lib/python3.6/site-packages/pandas/core/groupby.py\u001b[0m in \u001b[0;36magg_series\u001b[0;34m(self, obj, func)\u001b[0m\n\u001b[1;32m   2355\u001b[0m     \u001b[0;32mdef\u001b[0m \u001b[0magg_series\u001b[0m\u001b[0;34m(\u001b[0m\u001b[0mself\u001b[0m\u001b[0;34m,\u001b[0m \u001b[0mobj\u001b[0m\u001b[0;34m,\u001b[0m \u001b[0mfunc\u001b[0m\u001b[0;34m)\u001b[0m\u001b[0;34m:\u001b[0m\u001b[0;34m\u001b[0m\u001b[0m\n\u001b[1;32m   2356\u001b[0m         \u001b[0;32mtry\u001b[0m\u001b[0;34m:\u001b[0m\u001b[0;34m\u001b[0m\u001b[0m\n\u001b[0;32m-> 2357\u001b[0;31m             \u001b[0;32mreturn\u001b[0m \u001b[0mself\u001b[0m\u001b[0;34m.\u001b[0m\u001b[0m_aggregate_series_fast\u001b[0m\u001b[0;34m(\u001b[0m\u001b[0mobj\u001b[0m\u001b[0;34m,\u001b[0m \u001b[0mfunc\u001b[0m\u001b[0;34m)\u001b[0m\u001b[0;34m\u001b[0m\u001b[0m\n\u001b[0m\u001b[1;32m   2358\u001b[0m         \u001b[0;32mexcept\u001b[0m \u001b[0mException\u001b[0m\u001b[0;34m:\u001b[0m\u001b[0;34m\u001b[0m\u001b[0m\n\u001b[1;32m   2359\u001b[0m             \u001b[0;32mreturn\u001b[0m \u001b[0mself\u001b[0m\u001b[0;34m.\u001b[0m\u001b[0m_aggregate_series_pure_python\u001b[0m\u001b[0;34m(\u001b[0m\u001b[0mobj\u001b[0m\u001b[0;34m,\u001b[0m \u001b[0mfunc\u001b[0m\u001b[0;34m)\u001b[0m\u001b[0;34m\u001b[0m\u001b[0m\n",
      "\u001b[0;32m/opt/conda/lib/python3.6/site-packages/pandas/core/groupby.py\u001b[0m in \u001b[0;36m_aggregate_series_fast\u001b[0;34m(self, obj, func)\u001b[0m\n\u001b[1;32m   2375\u001b[0m         grouper = lib.SeriesGrouper(obj, func, group_index, ngroups,\n\u001b[1;32m   2376\u001b[0m                                     dummy)\n\u001b[0;32m-> 2377\u001b[0;31m         \u001b[0mresult\u001b[0m\u001b[0;34m,\u001b[0m \u001b[0mcounts\u001b[0m \u001b[0;34m=\u001b[0m \u001b[0mgrouper\u001b[0m\u001b[0;34m.\u001b[0m\u001b[0mget_result\u001b[0m\u001b[0;34m(\u001b[0m\u001b[0;34m)\u001b[0m\u001b[0;34m\u001b[0m\u001b[0m\n\u001b[0m\u001b[1;32m   2378\u001b[0m         \u001b[0;32mreturn\u001b[0m \u001b[0mresult\u001b[0m\u001b[0;34m,\u001b[0m \u001b[0mcounts\u001b[0m\u001b[0;34m\u001b[0m\u001b[0m\n\u001b[1;32m   2379\u001b[0m \u001b[0;34m\u001b[0m\u001b[0m\n",
      "\u001b[0;32mpandas/_libs/src/reduce.pyx\u001b[0m in \u001b[0;36mpandas._libs.lib.SeriesGrouper.get_result\u001b[0;34m()\u001b[0m\n",
      "\u001b[0;32mpandas/_libs/src/reduce.pyx\u001b[0m in \u001b[0;36mpandas._libs.lib.SeriesGrouper.get_result\u001b[0;34m()\u001b[0m\n",
      "\u001b[0;32m/opt/conda/lib/python3.6/site-packages/pandas/core/groupby.py\u001b[0m in \u001b[0;36m<lambda>\u001b[0;34m(x)\u001b[0m\n\u001b[1;32m    931\u001b[0m     \u001b[0;32mdef\u001b[0m \u001b[0m_python_agg_general\u001b[0m\u001b[0;34m(\u001b[0m\u001b[0mself\u001b[0m\u001b[0;34m,\u001b[0m \u001b[0mfunc\u001b[0m\u001b[0;34m,\u001b[0m \u001b[0;34m*\u001b[0m\u001b[0margs\u001b[0m\u001b[0;34m,\u001b[0m \u001b[0;34m**\u001b[0m\u001b[0mkwargs\u001b[0m\u001b[0;34m)\u001b[0m\u001b[0;34m:\u001b[0m\u001b[0;34m\u001b[0m\u001b[0m\n\u001b[1;32m    932\u001b[0m         \u001b[0mfunc\u001b[0m \u001b[0;34m=\u001b[0m \u001b[0mself\u001b[0m\u001b[0;34m.\u001b[0m\u001b[0m_is_builtin_func\u001b[0m\u001b[0;34m(\u001b[0m\u001b[0mfunc\u001b[0m\u001b[0;34m)\u001b[0m\u001b[0;34m\u001b[0m\u001b[0m\n\u001b[0;32m--> 933\u001b[0;31m         \u001b[0mf\u001b[0m \u001b[0;34m=\u001b[0m \u001b[0;32mlambda\u001b[0m \u001b[0mx\u001b[0m\u001b[0;34m:\u001b[0m \u001b[0mfunc\u001b[0m\u001b[0;34m(\u001b[0m\u001b[0mx\u001b[0m\u001b[0;34m,\u001b[0m \u001b[0;34m*\u001b[0m\u001b[0margs\u001b[0m\u001b[0;34m,\u001b[0m \u001b[0;34m**\u001b[0m\u001b[0mkwargs\u001b[0m\u001b[0;34m)\u001b[0m\u001b[0;34m\u001b[0m\u001b[0m\n\u001b[0m\u001b[1;32m    934\u001b[0m \u001b[0;34m\u001b[0m\u001b[0m\n\u001b[1;32m    935\u001b[0m         \u001b[0;31m# iterate through \"columns\" ex exclusions to populate output dict\u001b[0m\u001b[0;34m\u001b[0m\u001b[0;34m\u001b[0m\u001b[0m\n",
      "\u001b[0;32m<ipython-input-65-cd3c635a9dcb>\u001b[0m in \u001b[0;36m<lambda>\u001b[0;34m(x)\u001b[0m\n\u001b[1;32m      9\u001b[0m                           \u001b[0;34m'voucher_amount'\u001b[0m\u001b[0;34m:\u001b[0m \u001b[0mnp\u001b[0m\u001b[0;34m.\u001b[0m\u001b[0msum\u001b[0m\u001b[0;34m,\u001b[0m\u001b[0;34m\u001b[0m\u001b[0m\n\u001b[1;32m     10\u001b[0m                           \u001b[0;34m'delivery_fee'\u001b[0m\u001b[0;34m:\u001b[0m \u001b[0mnp\u001b[0m\u001b[0;34m.\u001b[0m\u001b[0mmean\u001b[0m\u001b[0;34m,\u001b[0m\u001b[0;34m\u001b[0m\u001b[0m\n\u001b[0;32m---> 11\u001b[0;31m                           \u001b[0;34m'restaurant_id'\u001b[0m\u001b[0;34m:\u001b[0m \u001b[0;32mlambda\u001b[0m \u001b[0mx\u001b[0m\u001b[0;34m:\u001b[0m \u001b[0mlen\u001b[0m\u001b[0;34m(\u001b[0m\u001b[0mpd\u001b[0m\u001b[0;34m.\u001b[0m\u001b[0munique\u001b[0m\u001b[0;34m(\u001b[0m\u001b[0mx\u001b[0m\u001b[0;34m)\u001b[0m\u001b[0;34m)\u001b[0m\u001b[0;34m,\u001b[0m\u001b[0;34m\u001b[0m\u001b[0m\n\u001b[0m\u001b[1;32m     12\u001b[0m                           \u001b[0;34m'city_id'\u001b[0m\u001b[0;34m:\u001b[0m \u001b[0;32mlambda\u001b[0m \u001b[0mx\u001b[0m\u001b[0;34m:\u001b[0m \u001b[0mlen\u001b[0m\u001b[0;34m(\u001b[0m\u001b[0mpd\u001b[0m\u001b[0;34m.\u001b[0m\u001b[0munique\u001b[0m\u001b[0;34m(\u001b[0m\u001b[0mx\u001b[0m\u001b[0;34m)\u001b[0m\u001b[0;34m)\u001b[0m\u001b[0;34m,\u001b[0m\u001b[0;34m\u001b[0m\u001b[0m\n\u001b[1;32m     13\u001b[0m                           \u001b[0;34m'payment_id'\u001b[0m\u001b[0;34m:\u001b[0m \u001b[0;32mlambda\u001b[0m \u001b[0mx\u001b[0m\u001b[0;34m:\u001b[0m \u001b[0mlen\u001b[0m\u001b[0;34m(\u001b[0m\u001b[0mpd\u001b[0m\u001b[0;34m.\u001b[0m\u001b[0munique\u001b[0m\u001b[0;34m(\u001b[0m\u001b[0mx\u001b[0m\u001b[0;34m)\u001b[0m\u001b[0;34m)\u001b[0m\u001b[0;34m,\u001b[0m\u001b[0;34m\u001b[0m\u001b[0m\n",
      "\u001b[0;32m/opt/conda/lib/python3.6/site-packages/pandas/core/algorithms.py\u001b[0m in \u001b[0;36munique\u001b[0;34m(values)\u001b[0m\n\u001b[1;32m    359\u001b[0m \u001b[0;34m\u001b[0m\u001b[0m\n\u001b[1;32m    360\u001b[0m     \u001b[0moriginal\u001b[0m \u001b[0;34m=\u001b[0m \u001b[0mvalues\u001b[0m\u001b[0;34m\u001b[0m\u001b[0m\n\u001b[0;32m--> 361\u001b[0;31m     \u001b[0mhtable\u001b[0m\u001b[0;34m,\u001b[0m \u001b[0m_\u001b[0m\u001b[0;34m,\u001b[0m \u001b[0mvalues\u001b[0m\u001b[0;34m,\u001b[0m \u001b[0mdtype\u001b[0m\u001b[0;34m,\u001b[0m \u001b[0mndtype\u001b[0m \u001b[0;34m=\u001b[0m \u001b[0m_get_hashtable_algo\u001b[0m\u001b[0;34m(\u001b[0m\u001b[0mvalues\u001b[0m\u001b[0;34m)\u001b[0m\u001b[0;34m\u001b[0m\u001b[0m\n\u001b[0m\u001b[1;32m    362\u001b[0m \u001b[0;34m\u001b[0m\u001b[0m\n\u001b[1;32m    363\u001b[0m     \u001b[0mtable\u001b[0m \u001b[0;34m=\u001b[0m \u001b[0mhtable\u001b[0m\u001b[0;34m(\u001b[0m\u001b[0mlen\u001b[0m\u001b[0;34m(\u001b[0m\u001b[0mvalues\u001b[0m\u001b[0;34m)\u001b[0m\u001b[0;34m)\u001b[0m\u001b[0;34m\u001b[0m\u001b[0m\n",
      "\u001b[0;32m/opt/conda/lib/python3.6/site-packages/pandas/core/algorithms.py\u001b[0m in \u001b[0;36m_get_hashtable_algo\u001b[0;34m(values)\u001b[0m\n\u001b[1;32m    201\u001b[0m            ndtype)\n\u001b[1;32m    202\u001b[0m     \"\"\"\n\u001b[0;32m--> 203\u001b[0;31m     \u001b[0mvalues\u001b[0m\u001b[0;34m,\u001b[0m \u001b[0mdtype\u001b[0m\u001b[0;34m,\u001b[0m \u001b[0mndtype\u001b[0m \u001b[0;34m=\u001b[0m \u001b[0m_ensure_data\u001b[0m\u001b[0;34m(\u001b[0m\u001b[0mvalues\u001b[0m\u001b[0;34m)\u001b[0m\u001b[0;34m\u001b[0m\u001b[0m\n\u001b[0m\u001b[1;32m    204\u001b[0m \u001b[0;34m\u001b[0m\u001b[0m\n\u001b[1;32m    205\u001b[0m     \u001b[0;32mif\u001b[0m \u001b[0mndtype\u001b[0m \u001b[0;34m==\u001b[0m \u001b[0;34m'object'\u001b[0m\u001b[0;34m:\u001b[0m\u001b[0;34m\u001b[0m\u001b[0m\n",
      "\u001b[0;32m/opt/conda/lib/python3.6/site-packages/pandas/core/algorithms.py\u001b[0m in \u001b[0;36m_ensure_data\u001b[0;34m(values, dtype)\u001b[0m\n\u001b[1;32m     74\u001b[0m         elif (is_unsigned_integer_dtype(values) or\n\u001b[1;32m     75\u001b[0m               is_unsigned_integer_dtype(dtype)):\n\u001b[0;32m---> 76\u001b[0;31m             \u001b[0;32mreturn\u001b[0m \u001b[0m_ensure_uint64\u001b[0m\u001b[0;34m(\u001b[0m\u001b[0mvalues\u001b[0m\u001b[0;34m)\u001b[0m\u001b[0;34m,\u001b[0m \u001b[0;34m'uint64'\u001b[0m\u001b[0;34m,\u001b[0m \u001b[0;34m'uint64'\u001b[0m\u001b[0;34m\u001b[0m\u001b[0m\n\u001b[0m\u001b[1;32m     77\u001b[0m         \u001b[0;32melif\u001b[0m \u001b[0mis_float_dtype\u001b[0m\u001b[0;34m(\u001b[0m\u001b[0mvalues\u001b[0m\u001b[0;34m)\u001b[0m \u001b[0;32mor\u001b[0m \u001b[0mis_float_dtype\u001b[0m\u001b[0;34m(\u001b[0m\u001b[0mdtype\u001b[0m\u001b[0;34m)\u001b[0m\u001b[0;34m:\u001b[0m\u001b[0;34m\u001b[0m\u001b[0m\n\u001b[1;32m     78\u001b[0m             \u001b[0;32mreturn\u001b[0m \u001b[0m_ensure_float64\u001b[0m\u001b[0;34m(\u001b[0m\u001b[0mvalues\u001b[0m\u001b[0;34m)\u001b[0m\u001b[0;34m,\u001b[0m \u001b[0;34m'float64'\u001b[0m\u001b[0;34m,\u001b[0m \u001b[0;34m'float64'\u001b[0m\u001b[0;34m\u001b[0m\u001b[0m\n",
      "\u001b[0;32mpandas/_libs/algos_common_helper.pxi\u001b[0m in \u001b[0;36mpandas._libs.algos.ensure_uint64\u001b[0;34m()\u001b[0m\n",
      "\u001b[0;32mpandas/_libs/algos_common_helper.pxi\u001b[0m in \u001b[0;36mpandas._libs.algos.ensure_uint64\u001b[0;34m()\u001b[0m\n",
      "\u001b[0;32m/opt/conda/lib/python3.6/site-packages/pandas/core/series.py\u001b[0m in \u001b[0;36m__array__\u001b[0;34m(self, result)\u001b[0m\n\u001b[1;32m    491\u001b[0m                                  index=self.index).__finalize__(self)\n\u001b[1;32m    492\u001b[0m \u001b[0;34m\u001b[0m\u001b[0m\n\u001b[0;32m--> 493\u001b[0;31m     \u001b[0;32mdef\u001b[0m \u001b[0m__array__\u001b[0m\u001b[0;34m(\u001b[0m\u001b[0mself\u001b[0m\u001b[0;34m,\u001b[0m \u001b[0mresult\u001b[0m\u001b[0;34m=\u001b[0m\u001b[0;32mNone\u001b[0m\u001b[0;34m)\u001b[0m\u001b[0;34m:\u001b[0m\u001b[0;34m\u001b[0m\u001b[0m\n\u001b[0m\u001b[1;32m    494\u001b[0m         \"\"\"\n\u001b[1;32m    495\u001b[0m         \u001b[0mthe\u001b[0m \u001b[0marray\u001b[0m \u001b[0minterface\u001b[0m\u001b[0;34m,\u001b[0m \u001b[0;32mreturn\u001b[0m \u001b[0mmy\u001b[0m \u001b[0mvalues\u001b[0m\u001b[0;34m\u001b[0m\u001b[0m\n",
      "\u001b[0;31mKeyboardInterrupt\u001b[0m: "
     ]
    }
   ],
   "source": [
    "# # grouped = order_data[['customer_id', 'amount_paid']].groupby('customer_id', as_index=False)\n",
    "# # order_transform = grouped['amount_paid'].agg({'mean': np.mean, \n",
    "# #                                               'std': std, \n",
    "# #                                               'sum': np.sum,\n",
    "# #                                               'count': 'count',\n",
    "# #                                               'quantile75': quantile75})\n",
    "# # aggregate some columns\n",
    "# orders_agg = grouped.agg({'is_failed': np.sum,\n",
    "#                           'voucher_amount': np.sum,\n",
    "#                           'delivery_fee': np.mean,\n",
    "#                           'restaurant_id': lambda x: len(pd.unique(x)),\n",
    "#                           'city_id': lambda x: len(pd.unique(x)),\n",
    "#                           'payment_id': lambda x: len(pd.unique(x)),\n",
    "#                           'platform_id': lambda x: len(pd.unique(x)),\n",
    "#                           'transmission_id': lambda x: len(pd.unique(x)),\n",
    "#                           'amount_paid': [np.mean, np.sum, \n",
    "#                                           lambda x: np.std(np.array(x)), \n",
    "#                                           lambda x: x.quantile(q=0.75)]})\n",
    "# # orders_agg.columns = ['customer_id', 'is_failed_sum', 'voucher_amount_sum',\n",
    "# #                       'delivery_fee_mean', 'restaurant_id_unq_num', 'city_id_unq_num',\n",
    "# #                       'payment_id_unq_num', 'platform_id_unq_num', 'transmission_id_unq_num']"
   ]
  },
  {
   "cell_type": "code",
   "execution_count": null,
   "metadata": {},
   "outputs": [],
   "source": []
  },
  {
   "cell_type": "code",
   "execution_count": 15,
   "metadata": {},
   "outputs": [
    {
     "data": {
      "text/plain": [
       "(16, 42, 10.5625, 22.357142857142858)"
      ]
     },
     "execution_count": 15,
     "metadata": {},
     "output_type": "execute_result"
    }
   ],
   "source": [
    "len(pd.unique(orders_per_client['city_id_unq_num'])), len(pd.unique(orders_per_client['restaurant_id_unq_num'])),\\\n",
    "np.mean(pd.unique(orders_per_client['city_id_unq_num'])), np.mean(pd.unique(orders_per_client['restaurant_id_unq_num']))"
   ]
  },
  {
   "cell_type": "code",
   "execution_count": 16,
   "metadata": {},
   "outputs": [
    {
     "data": {
      "image/png": "[encoded data removed]",
      "text/plain": [
       "<Figure size 432x288 with 1 Axes>"
      ]
     },
     "metadata": {},
     "output_type": "display_data"
    }
   ],
   "source": [
    "plt.hist(orders_per_client[orders_per_client['amount_paid_mean'] < 50]['amount_paid_mean'], bins=50)\n",
    "plt.show()"
   ]
  },
  {
   "cell_type": "code",
   "execution_count": 17,
   "metadata": {},
   "outputs": [
    {
     "data": {
      "image/png": "[encoded data removed]",
      "text/plain": [
       "<Figure size 432x288 with 1 Axes>"
      ]
     },
     "metadata": {},
     "output_type": "display_data"
    }
   ],
   "source": [
    "plt.hist(orders_per_client[orders_per_client['amount_paid_sum'] < 300]['amount_paid_sum'], bins=300)\n",
    "plt.show()"
   ]
  },
  {
   "cell_type": "code",
   "execution_count": 18,
   "metadata": {},
   "outputs": [
    {
     "data": {
      "image/png": "[encoded data removed]",
      "text/plain": [
       "<Figure size 432x288 with 1 Axes>"
      ]
     },
     "metadata": {},
     "output_type": "display_data"
    }
   ],
   "source": [
    "plt.hist(orders_per_client[orders_per_client['amount_paid_quantile75'] < 50]['amount_paid_quantile75'], bins=50)\n",
    "plt.show()"
   ]
  },
  {
   "cell_type": "code",
   "execution_count": 19,
   "metadata": {},
   "outputs": [
    {
     "data": {
      "image/png": "[encoded data removed]",
      "text/plain": [
       "<Figure size 432x288 with 1 Axes>"
      ]
     },
     "metadata": {},
     "output_type": "display_data"
    }
   ],
   "source": [
    "plt.hist(orders_per_client[(orders_per_client['amount_paid_std'] < 15) &\\\n",
    "                           (orders_per_client['amount_paid_std'] > 0)]['amount_paid_std'], bins=80)\n",
    "plt.show()"
   ]
  },
  {
   "cell_type": "code",
   "execution_count": 20,
   "metadata": {},
   "outputs": [
    {
     "data": {
      "text/plain": [
       "(147350, 45)"
      ]
     },
     "execution_count": 20,
     "metadata": {},
     "output_type": "execute_result"
    }
   ],
   "source": [
    "orders_per_client[orders_per_client['amount_paid_std'] == 0].shape"
   ]
  },
  {
   "cell_type": "code",
   "execution_count": 21,
   "metadata": {},
   "outputs": [
    {
     "data": {
      "image/png": "[encoded data removed]",
      "text/plain": [
       "<Figure size 432x288 with 1 Axes>"
      ]
     },
     "metadata": {},
     "output_type": "display_data"
    }
   ],
   "source": [
    "plt.hist(orders_per_client[orders_per_client['orders_num'] < 30]['orders_num'], bins=30)\n",
    "plt.show()"
   ]
  },
  {
   "cell_type": "code",
   "execution_count": 5,
   "metadata": {},
   "outputs": [
    {
     "name": "stdout",
     "output_type": "stream",
     "text": [
      "Column : orders_num, Mean : 3.205, Median : 1.000, Std : 7.026\n"
     ]
    },
    {
     "data": {
      "image/png": "[encoded data removed]",
      "text/plain": [
       "<Figure size 1080x432 with 1 Axes>"
      ]
     },
     "metadata": {},
     "output_type": "display_data"
    },
    {
     "name": "stdout",
     "output_type": "stream",
     "text": [
      "Column : is_failed_num, Mean : 0.101, Median : 0.000, Std : 0.656\n"
     ]
    },
    {
     "data": {
      "image/png": "[encoded data removed]",
      "text/plain": [
       "<Figure size 1080x432 with 1 Axes>"
      ]
     },
     "metadata": {},
     "output_type": "display_data"
    },
    {
     "name": "stdout",
     "output_type": "stream",
     "text": [
      "Column : voucher_amount_sum, Mean : 0.293, Median : 0.000, Std : 1.826\n"
     ]
    },
    {
     "data": {
      "image/png": "[encoded data removed]",
      "text/plain": [
       "<Figure size 1080x432 with 1 Axes>"
      ]
     },
     "metadata": {},
     "output_type": "display_data"
    },
    {
     "name": "stdout",
     "output_type": "stream",
     "text": [
      "Column : delivery_fee_mean, Mean : 0.188, Median : 0.000, Std : 0.352\n"
     ]
    },
    {
     "data": {
      "image/png": "[encoded data removed]",
      "text/plain": [
       "<Figure size 1080x432 with 1 Axes>"
      ]
     },
     "metadata": {},
     "output_type": "display_data"
    },
    {
     "name": "stdout",
     "output_type": "stream",
     "text": [
      "Column : delivery_fee_sum, Mean : 0.581, Median : 0.000, Std : 2.333\n"
     ]
    },
    {
     "data": {
      "image/png": "[encoded data removed]",
      "text/plain": [
       "<Figure size 1080x432 with 1 Axes>"
      ]
     },
     "metadata": {},
     "output_type": "display_data"
    },
    {
     "name": "stdout",
     "output_type": "stream",
     "text": [
      "Column : delivery_fee_num, Mean : 0.770, Median : 0.000, Std : 2.821\n"
     ]
    },
    {
     "data": {
      "image/png": "[encoded data removed]",
      "text/plain": [
       "<Figure size 1080x432 with 1 Axes>"
      ]
     },
     "metadata": {},
     "output_type": "display_data"
    },
    {
     "name": "stdout",
     "output_type": "stream",
     "text": [
      "Column : restaurant_id_unq_num, Mean : 1.761, Median : 1.000, Std : 1.844\n"
     ]
    },
    {
     "data": {
      "image/png": "[encoded data removed]",
      "text/plain": [
       "<Figure size 1080x432 with 1 Axes>"
      ]
     },
     "metadata": {},
     "output_type": "display_data"
    },
    {
     "name": "stdout",
     "output_type": "stream",
     "text": [
      "Column : city_id_unq_num, Mean : 1.045, Median : 1.000, Std : 0.263\n"
     ]
    },
    {
     "data": {
      "image/png": "[encoded data removed]",
      "text/plain": [
       "<Figure size 1080x432 with 1 Axes>"
      ]
     },
     "metadata": {},
     "output_type": "display_data"
    },
    {
     "name": "stdout",
     "output_type": "stream",
     "text": [
      "Column : payment_id_unq_num, Mean : 1.163, Median : 1.000, Std : 0.422\n"
     ]
    },
    {
     "data": {
      "image/png": "[encoded data removed]",
      "text/plain": [
       "<Figure size 1080x432 with 1 Axes>"
      ]
     },
     "metadata": {},
     "output_type": "display_data"
    },
    {
     "name": "stdout",
     "output_type": "stream",
     "text": [
      "Column : platform_id_unq_num, Mean : 1.206, Median : 1.000, Std : 0.506\n"
     ]
    },
    {
     "data": {
      "image/png": "[encoded data removed]",
      "text/plain": [
       "<Figure size 1080x432 with 1 Axes>"
      ]
     },
     "metadata": {},
     "output_type": "display_data"
    },
    {
     "name": "stdout",
     "output_type": "stream",
     "text": [
      "Column : transmission_id_unq_num, Mean : 1.366, Median : 1.000, Std : 0.710\n"
     ]
    },
    {
     "data": {
      "image/png": "[encoded data removed]",
      "text/plain": [
       "<Figure size 1080x432 with 1 Axes>"
      ]
     },
     "metadata": {},
     "output_type": "display_data"
    },
    {
     "name": "stdout",
     "output_type": "stream",
     "text": [
      "Column : amount_paid_mean, Mean : 10.807, Median : 9.717, Std : 5.799\n"
     ]
    },
    {
     "data": {
      "image/png": "[encoded data removed]",
      "text/plain": [
       "<Figure size 1080x432 with 1 Axes>"
      ]
     },
     "metadata": {},
     "output_type": "display_data"
    },
    {
     "name": "stdout",
     "output_type": "stream",
     "text": [
      "Column : amount_paid_sum, Mean : 32.634, Median : 14.178, Std : 70.026\n"
     ]
    },
    {
     "data": {
      "image/png": "[encoded data removed]",
      "text/plain": [
       "<Figure size 1080x432 with 1 Axes>"
      ]
     },
     "metadata": {},
     "output_type": "display_data"
    },
    {
     "name": "stdout",
     "output_type": "stream",
     "text": [
      "Column : amount_paid_std, Mean : 0.995, Median : 0.000, Std : 2.153\n"
     ]
    },
    {
     "data": {
      "image/png": "[encoded data removed]",
      "text/plain": [
       "<Figure size 1080x432 with 1 Axes>"
      ]
     },
     "metadata": {},
     "output_type": "display_data"
    },
    {
     "name": "stdout",
     "output_type": "stream",
     "text": [
      "Column : amount_paid_quantile75, Mean : 11.298, Median : 10.222, Std : 6.196\n"
     ]
    },
    {
     "data": {
      "image/png": "[encoded data removed]",
      "text/plain": [
       "<Figure size 1080x432 with 1 Axes>"
      ]
     },
     "metadata": {},
     "output_type": "display_data"
    },
    {
     "name": "stdout",
     "output_type": "stream",
     "text": [
      "Column : payment_id_1491_num, Mean : 0.149, Median : 0.000, Std : 1.548\n"
     ]
    },
    {
     "data": {
      "image/png": "[encoded data removed]",
      "text/plain": [
       "<Figure size 1080x432 with 1 Axes>"
      ]
     },
     "metadata": {},
     "output_type": "display_data"
    },
    {
     "name": "stdout",
     "output_type": "stream",
     "text": [
      "Column : payment_id_1523_num, Mean : 0.020, Median : 0.000, Std : 0.754\n"
     ]
    },
    {
     "data": {
      "image/png": "[encoded data removed]",
      "text/plain": [
       "<Figure size 1080x432 with 1 Axes>"
      ]
     },
     "metadata": {},
     "output_type": "display_data"
    },
    {
     "name": "stdout",
     "output_type": "stream",
     "text": [
      "Column : payment_id_1619_num, Mean : 1.942, Median : 1.000, Std : 4.652\n"
     ]
    },
    {
     "data": {
      "image/png": "[encoded data removed]",
      "text/plain": [
       "<Figure size 1080x432 with 1 Axes>"
      ]
     },
     "metadata": {},
     "output_type": "display_data"
    },
    {
     "name": "stdout",
     "output_type": "stream",
     "text": [
      "Column : payment_id_1779_num, Mean : 0.954, Median : 0.000, Std : 3.803\n"
     ]
    },
    {
     "data": {
      "image/png": "[encoded data removed]",
      "text/plain": [
       "<Figure size 1080x432 with 1 Axes>"
      ]
     },
     "metadata": {},
     "output_type": "display_data"
    },
    {
     "name": "stdout",
     "output_type": "stream",
     "text": [
      "Column : payment_id_1811_num, Mean : 0.141, Median : 0.000, Std : 1.282\n"
     ]
    },
    {
     "data": {
      "image/png": "[encoded data removed]",
      "text/plain": [
       "<Figure size 1080x432 with 1 Axes>"
      ]
     },
     "metadata": {},
     "output_type": "display_data"
    },
    {
     "name": "stdout",
     "output_type": "stream",
     "text": [
      "Column : platform_id_525_num, Mean : 0.004, Median : 0.000, Std : 0.073\n"
     ]
    },
    {
     "data": {
      "image/png": "[encoded data removed]",
      "text/plain": [
       "<Figure size 1080x432 with 1 Axes>"
      ]
     },
     "metadata": {},
     "output_type": "display_data"
    },
    {
     "name": "stdout",
     "output_type": "stream",
     "text": [
      "Column : platform_id_22167_num, Mean : 0.000, Median : 0.000, Std : 0.003\n"
     ]
    },
    {
     "data": {
      "image/png": "[encoded data removed]",
      "text/plain": [
       "<Figure size 1080x432 with 1 Axes>"
      ]
     },
     "metadata": {},
     "output_type": "display_data"
    },
    {
     "name": "stdout",
     "output_type": "stream",
     "text": [
      "Column : platform_id_22263_num, Mean : 0.001, Median : 0.000, Std : 0.073\n"
     ]
    },
    {
     "data": {
      "image/png": "[encoded data removed]",
      "text/plain": [
       "<Figure size 1080x432 with 1 Axes>"
      ]
     },
     "metadata": {},
     "output_type": "display_data"
    },
    {
     "name": "stdout",
     "output_type": "stream",
     "text": [
      "Column : platform_id_22295_num, Mean : 0.000, Median : 0.000, Std : 0.002\n"
     ]
    },
    {
     "data": {
      "image/png": "[encoded data removed]",
      "text/plain": [
       "<Figure size 1080x432 with 1 Axes>"
      ]
     },
     "metadata": {},
     "output_type": "display_data"
    },
    {
     "name": "stdout",
     "output_type": "stream",
     "text": [
      "Column : platform_id_29463_num, Mean : 0.984, Median : 0.000, Std : 3.787\n"
     ]
    },
    {
     "data": {
      "image/png": "[encoded data removed]",
      "text/plain": [
       "<Figure size 1080x432 with 1 Axes>"
      ]
     },
     "metadata": {},
     "output_type": "display_data"
    },
    {
     "name": "stdout",
     "output_type": "stream",
     "text": [
      "Column : platform_id_29495_num, Mean : 0.045, Median : 0.000, Std : 0.375\n"
     ]
    },
    {
     "data": {
      "image/png": "[encoded data removed]",
      "text/plain": [
       "<Figure size 1080x432 with 1 Axes>"
      ]
     },
     "metadata": {},
     "output_type": "display_data"
    },
    {
     "name": "stdout",
     "output_type": "stream",
     "text": [
      "Column : platform_id_29751_num, Mean : 0.079, Median : 0.000, Std : 1.221\n"
     ]
    },
    {
     "data": {
      "image/png": "[encoded data removed]",
      "text/plain": [
       "<Figure size 1080x432 with 1 Axes>"
      ]
     },
     "metadata": {},
     "output_type": "display_data"
    },
    {
     "name": "stdout",
     "output_type": "stream",
     "text": [
      "Column : platform_id_29815_num, Mean : 0.648, Median : 0.000, Std : 3.341\n"
     ]
    },
    {
     "data": {
      "image/png": "[encoded data removed]",
      "text/plain": [
       "<Figure size 1080x432 with 1 Axes>"
      ]
     },
     "metadata": {},
     "output_type": "display_data"
    },
    {
     "name": "stdout",
     "output_type": "stream",
     "text": [
      "Column : platform_id_30135_num, Mean : 0.002, Median : 0.000, Std : 0.225\n"
     ]
    },
    {
     "data": {
      "image/png": "[encoded data removed]",
      "text/plain": [
       "<Figure size 1080x432 with 1 Axes>"
      ]
     },
     "metadata": {},
     "output_type": "display_data"
    },
    {
     "name": "stdout",
     "output_type": "stream",
     "text": [
      "Column : platform_id_30199_num, Mean : 0.008, Median : 0.000, Std : 0.324\n"
     ]
    },
    {
     "data": {
      "image/png": "[encoded data removed]",
      "text/plain": [
       "<Figure size 1080x432 with 1 Axes>"
      ]
     },
     "metadata": {},
     "output_type": "display_data"
    },
    {
     "name": "stdout",
     "output_type": "stream",
     "text": [
      "Column : platform_id_30231_num, Mean : 0.883, Median : 0.000, Std : 4.027\n"
     ]
    },
    {
     "data": {
      "image/png": "[encoded data removed]",
      "text/plain": [
       "<Figure size 1080x432 with 1 Axes>"
      ]
     },
     "metadata": {},
     "output_type": "display_data"
    },
    {
     "name": "stdout",
     "output_type": "stream",
     "text": [
      "Column : platform_id_30359_num, Mean : 0.422, Median : 0.000, Std : 1.648\n"
     ]
    },
    {
     "data": {
      "image/png": "[encoded data removed]",
      "text/plain": [
       "<Figure size 1080x432 with 1 Axes>"
      ]
     },
     "metadata": {},
     "output_type": "display_data"
    },
    {
     "name": "stdout",
     "output_type": "stream",
     "text": [
      "Column : platform_id_30391_num, Mean : 0.100, Median : 0.000, Std : 0.576\n"
     ]
    },
    {
     "data": {
      "image/png": "[encoded data removed]",
      "text/plain": [
       "<Figure size 1080x432 with 1 Axes>"
      ]
     },
     "metadata": {},
     "output_type": "display_data"
    },
    {
     "name": "stdout",
     "output_type": "stream",
     "text": [
      "Column : platform_id_30423_num, Mean : 0.028, Median : 0.000, Std : 0.263\n"
     ]
    },
    {
     "data": {
      "image/png": "[encoded data removed]",
      "text/plain": [
       "<Figure size 1080x432 with 1 Axes>"
      ]
     },
     "metadata": {},
     "output_type": "display_data"
    },
    {
     "name": "stdout",
     "output_type": "stream",
     "text": [
      "Column : transmission_id_212_num, Mean : 0.052, Median : 0.000, Std : 0.538\n"
     ]
    },
    {
     "data": {
      "image/png": "[encoded data removed]",
      "text/plain": [
       "<Figure size 1080x432 with 1 Axes>"
      ]
     },
     "metadata": {},
     "output_type": "display_data"
    },
    {
     "name": "stdout",
     "output_type": "stream",
     "text": [
      "Column : transmission_id_1988_num, Mean : 0.001, Median : 0.000, Std : 0.033\n"
     ]
    },
    {
     "data": {
      "image/png": "[encoded data removed]",
      "text/plain": [
       "<Figure size 1080x432 with 1 Axes>"
      ]
     },
     "metadata": {},
     "output_type": "display_data"
    },
    {
     "name": "stdout",
     "output_type": "stream",
     "text": [
      "Column : transmission_id_2020_num, Mean : 0.000, Median : 0.000, Std : 0.002\n"
     ]
    },
    {
     "data": {
      "image/png": "[encoded data removed]",
      "text/plain": [
       "<Figure size 1080x432 with 1 Axes>"
      ]
     },
     "metadata": {},
     "output_type": "display_data"
    },
    {
     "name": "stdout",
     "output_type": "stream",
     "text": [
      "Column : transmission_id_4196_num, Mean : 0.021, Median : 0.000, Std : 0.321\n"
     ]
    },
    {
     "data": {
      "image/png": "[encoded data removed]",
      "text/plain": [
       "<Figure size 1080x432 with 1 Axes>"
      ]
     },
     "metadata": {},
     "output_type": "display_data"
    },
    {
     "name": "stdout",
     "output_type": "stream",
     "text": [
      "Column : transmission_id_4228_num, Mean : 0.821, Median : 0.000, Std : 2.780\n"
     ]
    },
    {
     "data": {
      "image/png": "[encoded data removed]",
      "text/plain": [
       "<Figure size 1080x432 with 1 Axes>"
      ]
     },
     "metadata": {},
     "output_type": "display_data"
    },
    {
     "name": "stdout",
     "output_type": "stream",
     "text": [
      "Column : transmission_id_4260_num, Mean : 0.059, Median : 0.000, Std : 0.518\n"
     ]
    },
    {
     "data": {
      "image/png": "[encoded data removed]",
      "text/plain": [
       "<Figure size 1080x432 with 1 Axes>"
      ]
     },
     "metadata": {},
     "output_type": "display_data"
    },
    {
     "name": "stdout",
     "output_type": "stream",
     "text": [
      "Column : transmission_id_4324_num, Mean : 0.830, Median : 0.000, Std : 2.507\n"
     ]
    },
    {
     "data": {
      "image/png": "[encoded data removed]",
      "text/plain": [
       "<Figure size 1080x432 with 1 Axes>"
      ]
     },
     "metadata": {},
     "output_type": "display_data"
    },
    {
     "name": "stdout",
     "output_type": "stream",
     "text": [
      "Column : transmission_id_4356_num, Mean : 1.392, Median : 1.000, Std : 3.922\n"
     ]
    },
    {
     "data": {
      "image/png": "[encoded data removed]",
      "text/plain": [
       "<Figure size 1080x432 with 1 Axes>"
      ]
     },
     "metadata": {},
     "output_type": "display_data"
    },
    {
     "name": "stdout",
     "output_type": "stream",
     "text": [
      "Column : transmission_id_4996_num, Mean : 0.027, Median : 0.000, Std : 0.265\n"
     ]
    },
    {
     "data": {
      "image/png": "[encoded data removed]",
      "text/plain": [
       "<Figure size 1080x432 with 1 Axes>"
      ]
     },
     "metadata": {},
     "output_type": "display_data"
    },
    {
     "name": "stdout",
     "output_type": "stream",
     "text": [
      "Column : transmission_id_21124_num, Mean : 0.001, Median : 0.000, Std : 0.028\n"
     ]
    },
    {
     "data": {
      "image/png": "[encoded data removed]",
      "text/plain": [
       "<Figure size 1080x432 with 1 Axes>"
      ]
     },
     "metadata": {},
     "output_type": "display_data"
    }
   ],
   "source": [
    "# Check outliers\n",
    "sns.set_style(\"whitegrid\")\n",
    "for col in orders_per_client.columns.tolist()[1:]:\n",
    "    print('Column : {}, Mean : {:.3f}, Median : {:.3f}, Std : {:.3f}'.format(col, \n",
    "                                                               orders_per_client[col].mean(), \n",
    "                                                               orders_per_client[col].median(),\n",
    "                                                               orders_per_client[col].std()))\n",
    "    plt.figure(figsize=(15,6))\n",
    "    sns.boxplot(x=orders_per_client[col])\n",
    "    plt.show()"
   ]
  },
  {
   "cell_type": "code",
   "execution_count": 130,
   "metadata": {
    "scrolled": true
   },
   "outputs": [
    {
     "name": "stdout",
     "output_type": "stream",
     "text": [
      "Column : orders_num. Rows removed : 3994. Mean=3.205, Std=7.026\n",
      "Column : is_failed_num. Rows removed : 2585. Mean=0.075, Std=0.381\n",
      "Column : voucher_amount_sum. Rows removed : 3313. Mean=0.238, Std=1.201\n",
      "Column : delivery_fee_mean. Rows removed : 4193. Mean=0.189, Std=0.356\n",
      "Column : delivery_fee_sum. Rows removed : 4093. Mean=0.406, Std=1.107\n",
      "Column : delivery_fee_num. Rows removed : 3422. Mean=0.428, Std=0.864\n",
      "Column : restaurant_id_unq_num. Rows removed : 6730. Mean=1.508, Std=1.140\n",
      "Column : city_id_unq_num. Rows removed : 5454. Mean=1.027, Std=0.171\n",
      "Column : payment_id_unq_num. Rows removed : 1121. Mean=1.097, Std=0.315\n",
      "Column : platform_id_unq_num. Rows removed : 2913. Mean=1.129, Std=0.382\n",
      "Column : transmission_id_unq_num. Rows removed : 5100. Mean=1.194, Std=0.459\n",
      "Column : amount_paid_mean. Rows removed : 3022. Mean=10.870, Std=5.775\n",
      "Column : amount_paid_sum. Rows removed : 3597. Mean=17.113, Std=18.107\n",
      "Column : amount_paid_std. Rows removed : 4717. Mean=0.574, Std=1.361\n",
      "Column : amount_paid_quantile75. Rows removed : 2473. Mean=10.524, Std=4.517\n",
      "Column : payment_id_1491_num. Rows removed : 7426. Mean=0.049, Std=0.276\n",
      "Column : payment_id_1523_num. Rows removed : 224. Mean=0.002, Std=0.075\n",
      "Column : payment_id_1619_num. Rows removed : 2572. Mean=1.039, Std=1.020\n",
      "Column : payment_id_1779_num. Rows removed : 3984. Mean=0.386, Std=0.766\n",
      "Column : payment_id_1811_num. Rows removed : 6937. Mean=0.050, Std=0.280\n",
      "Column : platform_id_525_num. Rows removed : 593. Mean=0.004, Std=0.062\n",
      "Column : platform_id_22167_num. Rows removed : 1. Mean=0.000, Std=0.002\n",
      "Column : platform_id_22263_num. Rows removed : 48. Mean=0.000, Std=0.022\n",
      "Column : platform_id_22295_num. Rows removed : 1. Mean=0.000, Std=0.002\n",
      "Column : platform_id_29463_num. Rows removed : 2599. Mean=0.432, Std=0.677\n",
      "Column : platform_id_29495_num. Rows removed : 5114. Mean=0.035, Std=0.208\n",
      "Column : platform_id_29751_num. Rows removed : 2761. Mean=0.022, Std=0.179\n",
      "Column : platform_id_29815_num. Rows removed : 5797. Mean=0.236, Std=0.562\n",
      "Column : platform_id_30135_num. Rows removed : 54. Mean=0.000, Std=0.025\n",
      "Column : platform_id_30199_num. Rows removed : 457. Mean=0.004, Std=0.079\n",
      "Column : platform_id_30231_num. Rows removed : 2382. Mean=0.289, Std=0.635\n",
      "Column : platform_id_30359_num. Rows removed : 5346. Mean=0.281, Std=0.566\n",
      "Column : platform_id_30391_num. Rows removed : 1238. Mean=0.083, Std=0.320\n",
      "Column : platform_id_30423_num. Rows removed : 3307. Mean=0.026, Std=0.180\n",
      "Column : transmission_id_212_num. Rows removed : 497. Mean=0.004, Std=0.060\n",
      "Column : transmission_id_1988_num. Rows removed : 46. Mean=0.000, Std=0.019\n",
      "Column : transmission_id_2020_num. Rows removed : 0. Mean=0.000, Std=0.000\n",
      "Column : transmission_id_4196_num. Rows removed : 1091. Mean=0.008, Std=0.095\n",
      "Column : transmission_id_4228_num. Rows removed : 2545. Mean=0.284, Std=0.494\n",
      "Column : transmission_id_4260_num. Rows removed : 3099. Mean=0.024, Std=0.160\n",
      "Column : transmission_id_4324_num. Rows removed : 2951. Mean=0.344, Std=0.524\n",
      "Column : transmission_id_4356_num. Rows removed : 260. Mean=0.520, Std=0.585\n",
      "Column : transmission_id_4996_num. Rows removed : 1412. Mean=0.011, Std=0.110\n",
      "Column : transmission_id_21124_num. Rows removed : 52. Mean=0.000, Std=0.021\n"
     ]
    }
   ],
   "source": [
    "# # Remove outliers: mean +- 2sigma\n",
    "# for col in orders_per_client.columns[1:]:\n",
    "#     mean = np.mean(orders_per_client[col])\n",
    "#     std = np.std(orders_per_client[col])\n",
    "#     rows_before = orders_per_client.shape[0]\n",
    "#     orders_per_client = orders_per_client[(orders_per_client[col] >= mean - 3 * std) &\\\n",
    "#                                           (orders_per_client[col] <= mean + 3 * std)]\n",
    "#     rows_after = orders_per_client.shape[0]\n",
    "#     print('Column : {}. Rows removed : {:d}. Mean={:.3f}, Std={:.3f}'.format(\n",
    "#         col, rows_before - rows_after, mean, std))"
   ]
  },
  {
   "cell_type": "code",
   "execution_count": 106,
   "metadata": {},
   "outputs": [
    {
     "name": "stdout",
     "output_type": "stream",
     "text": [
      "['delivery_fee_num', 'amount_paid_sum', 'amount_paid_quantile75']\n"
     ]
    }
   ],
   "source": [
    "# Correlations\n",
    "# Create correlation matrix\n",
    "corr_matrix = orders_per_client.corr().abs()\n",
    "\n",
    "# Select upper triangle of correlation matrix\n",
    "upper = corr_matrix.where(np.triu(np.ones(corr_matrix.shape), k=1).astype(np.bool))\n",
    "\n",
    "# Find index of feature columns with correlation greater than 0.9\n",
    "to_drop = [column for column in upper.columns if any(upper[column] > 0.9)]\n",
    "print(to_drop)"
   ]
  },
  {
   "cell_type": "code",
   "execution_count": 107,
   "metadata": {},
   "outputs": [
    {
     "data": {
      "text/plain": [
       "(245455, 45)"
      ]
     },
     "execution_count": 107,
     "metadata": {},
     "output_type": "execute_result"
    }
   ],
   "source": [
    "orders_per_client.shape"
   ]
  },
  {
   "cell_type": "code",
   "execution_count": 108,
   "metadata": {},
   "outputs": [
    {
     "data": {
      "image/png": "[encoded data removed]",
      "text/plain": [
       "<Figure size 1080x936 with 2 Axes>"
      ]
     },
     "metadata": {},
     "output_type": "display_data"
    }
   ],
   "source": [
    "corr = orders_per_client.merge(labeled_data, on='customer_id', how='left', validate='one_to_one').corr()\n",
    "plt.figure(figsize=(15,13))\n",
    "sns.heatmap(corr, \n",
    "            xticklabels=corr.columns.values,\n",
    "            yticklabels=corr.columns.values)\n",
    "plt.show()"
   ]
  },
  {
   "cell_type": "code",
   "execution_count": 109,
   "metadata": {},
   "outputs": [],
   "source": [
    "orders_per_client.drop(to_drop, axis=1, inplace=True)"
   ]
  },
  {
   "cell_type": "code",
   "execution_count": 110,
   "metadata": {},
   "outputs": [
    {
     "data": {
      "text/plain": [
       "(245455, 42)"
      ]
     },
     "execution_count": 110,
     "metadata": {},
     "output_type": "execute_result"
    }
   ],
   "source": [
    "orders_per_client.shape"
   ]
  },
  {
   "cell_type": "code",
   "execution_count": null,
   "metadata": {},
   "outputs": [],
   "source": []
  },
  {
   "cell_type": "code",
   "execution_count": 111,
   "metadata": {},
   "outputs": [
    {
     "data": {
      "text/plain": [
       "(99957, 42)"
      ]
     },
     "execution_count": 111,
     "metadata": {},
     "output_type": "execute_result"
    }
   ],
   "source": [
    "# Take only these for sequence learning \n",
    "orders_per_client[orders_per_client['orders_num'] > 1].shape"
   ]
  },
  {
   "cell_type": "code",
   "execution_count": null,
   "metadata": {},
   "outputs": [],
   "source": []
  },
  {
   "cell_type": "markdown",
   "metadata": {},
   "source": [
    "### Create training data"
   ]
  },
  {
   "cell_type": "code",
   "execution_count": 112,
   "metadata": {},
   "outputs": [],
   "source": [
    "order_train = orders_per_client.merge(labeled_data, on='customer_id', how='left', validate='one_to_one')"
   ]
  },
  {
   "cell_type": "code",
   "execution_count": 13,
   "metadata": {},
   "outputs": [
    {
     "data": {
      "text/plain": [
       "(245455, 46)"
      ]
     },
     "execution_count": 13,
     "metadata": {},
     "output_type": "execute_result"
    }
   ],
   "source": [
    "order_train.shape"
   ]
  },
  {
   "cell_type": "code",
   "execution_count": 14,
   "metadata": {},
   "outputs": [
    {
     "data": {
      "text/html": [
       "<div>\n",
       "<style scoped>\n",
       "    .dataframe tbody tr th:only-of-type {\n",
       "        vertical-align: middle;\n",
       "    }\n",
       "\n",
       "    .dataframe tbody tr th {\n",
       "        vertical-align: top;\n",
       "    }\n",
       "\n",
       "    .dataframe thead th {\n",
       "        text-align: right;\n",
       "    }\n",
       "</style>\n",
       "<table border=\"1\" class=\"dataframe\">\n",
       "  <thead>\n",
       "    <tr style=\"text-align: right;\">\n",
       "      <th></th>\n",
       "      <th>customer_id</th>\n",
       "      <th>orders_num</th>\n",
       "      <th>is_failed_num</th>\n",
       "      <th>voucher_amount_sum</th>\n",
       "      <th>delivery_fee_mean</th>\n",
       "      <th>delivery_fee_sum</th>\n",
       "      <th>delivery_fee_num</th>\n",
       "      <th>restaurant_id_unq_num</th>\n",
       "      <th>city_id_unq_num</th>\n",
       "      <th>payment_id_unq_num</th>\n",
       "      <th>platform_id_unq_num</th>\n",
       "      <th>transmission_id_unq_num</th>\n",
       "      <th>amount_paid_mean</th>\n",
       "      <th>amount_paid_sum</th>\n",
       "      <th>amount_paid_std</th>\n",
       "      <th>amount_paid_quantile75</th>\n",
       "      <th>payment_id_1491_num</th>\n",
       "      <th>payment_id_1523_num</th>\n",
       "      <th>payment_id_1619_num</th>\n",
       "      <th>payment_id_1779_num</th>\n",
       "      <th>payment_id_1811_num</th>\n",
       "      <th>platform_id_525_num</th>\n",
       "      <th>platform_id_22167_num</th>\n",
       "      <th>platform_id_22263_num</th>\n",
       "      <th>platform_id_22295_num</th>\n",
       "      <th>platform_id_29463_num</th>\n",
       "      <th>platform_id_29495_num</th>\n",
       "      <th>platform_id_29751_num</th>\n",
       "      <th>platform_id_29815_num</th>\n",
       "      <th>platform_id_30135_num</th>\n",
       "      <th>platform_id_30199_num</th>\n",
       "      <th>platform_id_30231_num</th>\n",
       "      <th>platform_id_30359_num</th>\n",
       "      <th>platform_id_30391_num</th>\n",
       "      <th>platform_id_30423_num</th>\n",
       "      <th>transmission_id_212_num</th>\n",
       "      <th>transmission_id_1988_num</th>\n",
       "      <th>transmission_id_2020_num</th>\n",
       "      <th>transmission_id_4196_num</th>\n",
       "      <th>transmission_id_4228_num</th>\n",
       "      <th>transmission_id_4260_num</th>\n",
       "      <th>transmission_id_4324_num</th>\n",
       "      <th>transmission_id_4356_num</th>\n",
       "      <th>transmission_id_4996_num</th>\n",
       "      <th>transmission_id_21124_num</th>\n",
       "      <th>is_returning_customer</th>\n",
       "    </tr>\n",
       "  </thead>\n",
       "  <tbody>\n",
       "    <tr>\n",
       "      <th>0</th>\n",
       "      <td>000097eabfd9</td>\n",
       "      <td>1</td>\n",
       "      <td>0</td>\n",
       "      <td>0.0</td>\n",
       "      <td>0.000</td>\n",
       "      <td>0.000</td>\n",
       "      <td>0</td>\n",
       "      <td>1</td>\n",
       "      <td>1</td>\n",
       "      <td>1</td>\n",
       "      <td>1</td>\n",
       "      <td>1</td>\n",
       "      <td>11.46960</td>\n",
       "      <td>11.46960</td>\n",
       "      <td>0.0</td>\n",
       "      <td>11.46960</td>\n",
       "      <td>0</td>\n",
       "      <td>0</td>\n",
       "      <td>0</td>\n",
       "      <td>1</td>\n",
       "      <td>0</td>\n",
       "      <td>0</td>\n",
       "      <td>0</td>\n",
       "      <td>0</td>\n",
       "      <td>0</td>\n",
       "      <td>0</td>\n",
       "      <td>0</td>\n",
       "      <td>0</td>\n",
       "      <td>0</td>\n",
       "      <td>0</td>\n",
       "      <td>0</td>\n",
       "      <td>1</td>\n",
       "      <td>0</td>\n",
       "      <td>0</td>\n",
       "      <td>0</td>\n",
       "      <td>0</td>\n",
       "      <td>0</td>\n",
       "      <td>0</td>\n",
       "      <td>0</td>\n",
       "      <td>0</td>\n",
       "      <td>0</td>\n",
       "      <td>0</td>\n",
       "      <td>1</td>\n",
       "      <td>0</td>\n",
       "      <td>0</td>\n",
       "      <td>0</td>\n",
       "    </tr>\n",
       "    <tr>\n",
       "      <th>1</th>\n",
       "      <td>0000e2c6d9be</td>\n",
       "      <td>1</td>\n",
       "      <td>0</td>\n",
       "      <td>0.0</td>\n",
       "      <td>0.000</td>\n",
       "      <td>0.000</td>\n",
       "      <td>0</td>\n",
       "      <td>1</td>\n",
       "      <td>1</td>\n",
       "      <td>1</td>\n",
       "      <td>1</td>\n",
       "      <td>1</td>\n",
       "      <td>9.55800</td>\n",
       "      <td>9.55800</td>\n",
       "      <td>0.0</td>\n",
       "      <td>9.55800</td>\n",
       "      <td>0</td>\n",
       "      <td>0</td>\n",
       "      <td>1</td>\n",
       "      <td>0</td>\n",
       "      <td>0</td>\n",
       "      <td>0</td>\n",
       "      <td>0</td>\n",
       "      <td>0</td>\n",
       "      <td>0</td>\n",
       "      <td>0</td>\n",
       "      <td>0</td>\n",
       "      <td>0</td>\n",
       "      <td>0</td>\n",
       "      <td>0</td>\n",
       "      <td>0</td>\n",
       "      <td>0</td>\n",
       "      <td>1</td>\n",
       "      <td>0</td>\n",
       "      <td>0</td>\n",
       "      <td>0</td>\n",
       "      <td>0</td>\n",
       "      <td>0</td>\n",
       "      <td>0</td>\n",
       "      <td>0</td>\n",
       "      <td>0</td>\n",
       "      <td>0</td>\n",
       "      <td>1</td>\n",
       "      <td>0</td>\n",
       "      <td>0</td>\n",
       "      <td>0</td>\n",
       "    </tr>\n",
       "    <tr>\n",
       "      <th>2</th>\n",
       "      <td>000133bb597f</td>\n",
       "      <td>1</td>\n",
       "      <td>0</td>\n",
       "      <td>0.0</td>\n",
       "      <td>0.493</td>\n",
       "      <td>0.493</td>\n",
       "      <td>1</td>\n",
       "      <td>1</td>\n",
       "      <td>1</td>\n",
       "      <td>1</td>\n",
       "      <td>1</td>\n",
       "      <td>1</td>\n",
       "      <td>5.93658</td>\n",
       "      <td>5.93658</td>\n",
       "      <td>0.0</td>\n",
       "      <td>5.93658</td>\n",
       "      <td>0</td>\n",
       "      <td>0</td>\n",
       "      <td>1</td>\n",
       "      <td>0</td>\n",
       "      <td>0</td>\n",
       "      <td>0</td>\n",
       "      <td>0</td>\n",
       "      <td>0</td>\n",
       "      <td>0</td>\n",
       "      <td>0</td>\n",
       "      <td>0</td>\n",
       "      <td>0</td>\n",
       "      <td>0</td>\n",
       "      <td>0</td>\n",
       "      <td>0</td>\n",
       "      <td>0</td>\n",
       "      <td>1</td>\n",
       "      <td>0</td>\n",
       "      <td>0</td>\n",
       "      <td>0</td>\n",
       "      <td>0</td>\n",
       "      <td>0</td>\n",
       "      <td>0</td>\n",
       "      <td>0</td>\n",
       "      <td>0</td>\n",
       "      <td>1</td>\n",
       "      <td>0</td>\n",
       "      <td>0</td>\n",
       "      <td>0</td>\n",
       "      <td>1</td>\n",
       "    </tr>\n",
       "    <tr>\n",
       "      <th>3</th>\n",
       "      <td>00018269939b</td>\n",
       "      <td>1</td>\n",
       "      <td>0</td>\n",
       "      <td>0.0</td>\n",
       "      <td>0.493</td>\n",
       "      <td>0.493</td>\n",
       "      <td>1</td>\n",
       "      <td>1</td>\n",
       "      <td>1</td>\n",
       "      <td>1</td>\n",
       "      <td>1</td>\n",
       "      <td>1</td>\n",
       "      <td>9.82350</td>\n",
       "      <td>9.82350</td>\n",
       "      <td>0.0</td>\n",
       "      <td>9.82350</td>\n",
       "      <td>0</td>\n",
       "      <td>0</td>\n",
       "      <td>1</td>\n",
       "      <td>0</td>\n",
       "      <td>0</td>\n",
       "      <td>0</td>\n",
       "      <td>0</td>\n",
       "      <td>0</td>\n",
       "      <td>0</td>\n",
       "      <td>0</td>\n",
       "      <td>0</td>\n",
       "      <td>0</td>\n",
       "      <td>0</td>\n",
       "      <td>0</td>\n",
       "      <td>0</td>\n",
       "      <td>0</td>\n",
       "      <td>1</td>\n",
       "      <td>0</td>\n",
       "      <td>0</td>\n",
       "      <td>0</td>\n",
       "      <td>0</td>\n",
       "      <td>0</td>\n",
       "      <td>0</td>\n",
       "      <td>0</td>\n",
       "      <td>0</td>\n",
       "      <td>0</td>\n",
       "      <td>1</td>\n",
       "      <td>0</td>\n",
       "      <td>0</td>\n",
       "      <td>0</td>\n",
       "    </tr>\n",
       "    <tr>\n",
       "      <th>4</th>\n",
       "      <td>0001a00468a6</td>\n",
       "      <td>1</td>\n",
       "      <td>0</td>\n",
       "      <td>0.0</td>\n",
       "      <td>0.493</td>\n",
       "      <td>0.493</td>\n",
       "      <td>1</td>\n",
       "      <td>1</td>\n",
       "      <td>1</td>\n",
       "      <td>1</td>\n",
       "      <td>1</td>\n",
       "      <td>1</td>\n",
       "      <td>5.15070</td>\n",
       "      <td>5.15070</td>\n",
       "      <td>0.0</td>\n",
       "      <td>5.15070</td>\n",
       "      <td>0</td>\n",
       "      <td>0</td>\n",
       "      <td>1</td>\n",
       "      <td>0</td>\n",
       "      <td>0</td>\n",
       "      <td>0</td>\n",
       "      <td>0</td>\n",
       "      <td>0</td>\n",
       "      <td>0</td>\n",
       "      <td>1</td>\n",
       "      <td>0</td>\n",
       "      <td>0</td>\n",
       "      <td>0</td>\n",
       "      <td>0</td>\n",
       "      <td>0</td>\n",
       "      <td>0</td>\n",
       "      <td>0</td>\n",
       "      <td>0</td>\n",
       "      <td>0</td>\n",
       "      <td>0</td>\n",
       "      <td>0</td>\n",
       "      <td>0</td>\n",
       "      <td>0</td>\n",
       "      <td>0</td>\n",
       "      <td>0</td>\n",
       "      <td>0</td>\n",
       "      <td>1</td>\n",
       "      <td>0</td>\n",
       "      <td>0</td>\n",
       "      <td>0</td>\n",
       "    </tr>\n",
       "  </tbody>\n",
       "</table>\n",
       "</div>"
      ],
      "text/plain": [
       "    customer_id  orders_num  is_failed_num  voucher_amount_sum  \\\n",
       "0  000097eabfd9           1              0                 0.0   \n",
       "1  0000e2c6d9be           1              0                 0.0   \n",
       "2  000133bb597f           1              0                 0.0   \n",
       "3  00018269939b           1              0                 0.0   \n",
       "4  0001a00468a6           1              0                 0.0   \n",
       "\n",
       "   delivery_fee_mean  delivery_fee_sum  delivery_fee_num  \\\n",
       "0              0.000             0.000                 0   \n",
       "1              0.000             0.000                 0   \n",
       "2              0.493             0.493                 1   \n",
       "3              0.493             0.493                 1   \n",
       "4              0.493             0.493                 1   \n",
       "\n",
       "   restaurant_id_unq_num  city_id_unq_num  payment_id_unq_num  \\\n",
       "0                      1                1                   1   \n",
       "1                      1                1                   1   \n",
       "2                      1                1                   1   \n",
       "3                      1                1                   1   \n",
       "4                      1                1                   1   \n",
       "\n",
       "   platform_id_unq_num  transmission_id_unq_num  amount_paid_mean  \\\n",
       "0                    1                        1          11.46960   \n",
       "1                    1                        1           9.55800   \n",
       "2                    1                        1           5.93658   \n",
       "3                    1                        1           9.82350   \n",
       "4                    1                        1           5.15070   \n",
       "\n",
       "   amount_paid_sum  amount_paid_std  amount_paid_quantile75  \\\n",
       "0         11.46960              0.0                11.46960   \n",
       "1          9.55800              0.0                 9.55800   \n",
       "2          5.93658              0.0                 5.93658   \n",
       "3          9.82350              0.0                 9.82350   \n",
       "4          5.15070              0.0                 5.15070   \n",
       "\n",
       "   payment_id_1491_num  payment_id_1523_num  payment_id_1619_num  \\\n",
       "0                    0                    0                    0   \n",
       "1                    0                    0                    1   \n",
       "2                    0                    0                    1   \n",
       "3                    0                    0                    1   \n",
       "4                    0                    0                    1   \n",
       "\n",
       "   payment_id_1779_num  payment_id_1811_num  platform_id_525_num  \\\n",
       "0                    1                    0                    0   \n",
       "1                    0                    0                    0   \n",
       "2                    0                    0                    0   \n",
       "3                    0                    0                    0   \n",
       "4                    0                    0                    0   \n",
       "\n",
       "   platform_id_22167_num  platform_id_22263_num  platform_id_22295_num  \\\n",
       "0                      0                      0                      0   \n",
       "1                      0                      0                      0   \n",
       "2                      0                      0                      0   \n",
       "3                      0                      0                      0   \n",
       "4                      0                      0                      0   \n",
       "\n",
       "   platform_id_29463_num  platform_id_29495_num  platform_id_29751_num  \\\n",
       "0                      0                      0                      0   \n",
       "1                      0                      0                      0   \n",
       "2                      0                      0                      0   \n",
       "3                      0                      0                      0   \n",
       "4                      1                      0                      0   \n",
       "\n",
       "   platform_id_29815_num  platform_id_30135_num  platform_id_30199_num  \\\n",
       "0                      0                      0                      0   \n",
       "1                      0                      0                      0   \n",
       "2                      0                      0                      0   \n",
       "3                      0                      0                      0   \n",
       "4                      0                      0                      0   \n",
       "\n",
       "   platform_id_30231_num  platform_id_30359_num  platform_id_30391_num  \\\n",
       "0                      1                      0                      0   \n",
       "1                      0                      1                      0   \n",
       "2                      0                      1                      0   \n",
       "3                      0                      1                      0   \n",
       "4                      0                      0                      0   \n",
       "\n",
       "   platform_id_30423_num  transmission_id_212_num  transmission_id_1988_num  \\\n",
       "0                      0                        0                         0   \n",
       "1                      0                        0                         0   \n",
       "2                      0                        0                         0   \n",
       "3                      0                        0                         0   \n",
       "4                      0                        0                         0   \n",
       "\n",
       "   transmission_id_2020_num  transmission_id_4196_num  \\\n",
       "0                         0                         0   \n",
       "1                         0                         0   \n",
       "2                         0                         0   \n",
       "3                         0                         0   \n",
       "4                         0                         0   \n",
       "\n",
       "   transmission_id_4228_num  transmission_id_4260_num  \\\n",
       "0                         0                         0   \n",
       "1                         0                         0   \n",
       "2                         0                         0   \n",
       "3                         0                         0   \n",
       "4                         0                         0   \n",
       "\n",
       "   transmission_id_4324_num  transmission_id_4356_num  \\\n",
       "0                         0                         1   \n",
       "1                         0                         1   \n",
       "2                         1                         0   \n",
       "3                         0                         1   \n",
       "4                         0                         1   \n",
       "\n",
       "   transmission_id_4996_num  transmission_id_21124_num  is_returning_customer  \n",
       "0                         0                          0                      0  \n",
       "1                         0                          0                      0  \n",
       "2                         0                          0                      1  \n",
       "3                         0                          0                      0  \n",
       "4                         0                          0                      0  "
      ]
     },
     "execution_count": 14,
     "metadata": {},
     "output_type": "execute_result"
    }
   ],
   "source": [
    "order_train.head()"
   ]
  },
  {
   "cell_type": "code",
   "execution_count": 15,
   "metadata": {
    "scrolled": true
   },
   "outputs": [
    {
     "data": {
      "text/plain": [
       "customer_id                  0\n",
       "orders_num                   0\n",
       "is_failed_num                0\n",
       "voucher_amount_sum           0\n",
       "delivery_fee_mean            0\n",
       "delivery_fee_sum             0\n",
       "delivery_fee_num             0\n",
       "restaurant_id_unq_num        0\n",
       "city_id_unq_num              0\n",
       "payment_id_unq_num           0\n",
       "platform_id_unq_num          0\n",
       "transmission_id_unq_num      0\n",
       "amount_paid_mean             0\n",
       "amount_paid_sum              0\n",
       "amount_paid_std              0\n",
       "amount_paid_quantile75       0\n",
       "payment_id_1491_num          0\n",
       "payment_id_1523_num          0\n",
       "payment_id_1619_num          0\n",
       "payment_id_1779_num          0\n",
       "payment_id_1811_num          0\n",
       "platform_id_525_num          0\n",
       "platform_id_22167_num        0\n",
       "platform_id_22263_num        0\n",
       "platform_id_22295_num        0\n",
       "platform_id_29463_num        0\n",
       "platform_id_29495_num        0\n",
       "platform_id_29751_num        0\n",
       "platform_id_29815_num        0\n",
       "platform_id_30135_num        0\n",
       "platform_id_30199_num        0\n",
       "platform_id_30231_num        0\n",
       "platform_id_30359_num        0\n",
       "platform_id_30391_num        0\n",
       "platform_id_30423_num        0\n",
       "transmission_id_212_num      0\n",
       "transmission_id_1988_num     0\n",
       "transmission_id_2020_num     0\n",
       "transmission_id_4196_num     0\n",
       "transmission_id_4228_num     0\n",
       "transmission_id_4260_num     0\n",
       "transmission_id_4324_num     0\n",
       "transmission_id_4356_num     0\n",
       "transmission_id_4996_num     0\n",
       "transmission_id_21124_num    0\n",
       "is_returning_customer        0\n",
       "dtype: int64"
      ]
     },
     "execution_count": 15,
     "metadata": {},
     "output_type": "execute_result"
    }
   ],
   "source": [
    "order_train.isna().sum(axis=0)"
   ]
  },
  {
   "cell_type": "code",
   "execution_count": 16,
   "metadata": {},
   "outputs": [
    {
     "data": {
      "text/plain": [
       "0    0.773861\n",
       "1    0.226139\n",
       "Name: is_returning_customer, dtype: float64"
      ]
     },
     "execution_count": 16,
     "metadata": {},
     "output_type": "execute_result"
    }
   ],
   "source": [
    "order_train['is_returning_customer'].value_counts() / order_train.shape[0]"
   ]
  },
  {
   "cell_type": "code",
   "execution_count": null,
   "metadata": {},
   "outputs": [],
   "source": []
  },
  {
   "cell_type": "code",
   "execution_count": 15,
   "metadata": {},
   "outputs": [
    {
     "ename": "NameError",
     "evalue": "name 'tree_important_features' is not defined",
     "output_type": "error",
     "traceback": [
      "\u001b[0;31m---------------------------------------------------------------------------\u001b[0m",
      "\u001b[0;31mNameError\u001b[0m                                 Traceback (most recent call last)",
      "\u001b[0;32m<ipython-input-15-1b0cf3bc6214>\u001b[0m in \u001b[0;36m<module>\u001b[0;34m()\u001b[0m\n\u001b[0;32m----> 1\u001b[0;31m \u001b[0morder_train\u001b[0m \u001b[0;34m=\u001b[0m \u001b[0morder_train\u001b[0m\u001b[0;34m[\u001b[0m\u001b[0mtree_important_features\u001b[0m\u001b[0;34m.\u001b[0m\u001b[0mtolist\u001b[0m\u001b[0;34m(\u001b[0m\u001b[0;34m)\u001b[0m \u001b[0;34m+\u001b[0m \u001b[0;34m[\u001b[0m\u001b[0;34m'is_returning_customer'\u001b[0m\u001b[0;34m]\u001b[0m\u001b[0;34m]\u001b[0m\u001b[0;34m\u001b[0m\u001b[0m\n\u001b[0m",
      "\u001b[0;31mNameError\u001b[0m: name 'tree_important_features' is not defined"
     ]
    }
   ],
   "source": [
    "order_train = order_train[tree_important_features.tolist() + ['is_returning_customer']]"
   ]
  },
  {
   "cell_type": "code",
   "execution_count": null,
   "metadata": {},
   "outputs": [],
   "source": [
    "order_train.head()"
   ]
  },
  {
   "cell_type": "code",
   "execution_count": null,
   "metadata": {},
   "outputs": [],
   "source": []
  },
  {
   "cell_type": "code",
   "execution_count": 113,
   "metadata": {},
   "outputs": [],
   "source": [
    "X = order_train.iloc[:, 1:-1]\n",
    "y = order_train.iloc[:, -1]"
   ]
  },
  {
   "cell_type": "code",
   "execution_count": 114,
   "metadata": {},
   "outputs": [],
   "source": [
    "# Normalize table\n",
    "scaler = preprocessing.StandardScaler().fit(X)\n",
    "scaler_file = 'scaler.pkl'\n",
    "pickle.dump(scaler, open(scaler_file, 'wb'))\n",
    "X_norm = scaler.transform(X)\n",
    "# df[columns_norm] = df[columns_norm].astype('float32')"
   ]
  },
  {
   "cell_type": "code",
   "execution_count": 115,
   "metadata": {},
   "outputs": [],
   "source": [
    "X_train, X_test, y_train, y_test = train_test_split(X_norm, y, test_size=0.3, stratify=y, \n",
    "                                                    shuffle=True, random_state=142) \n",
    "X_val, X_test, y_val, y_test = train_test_split(X_test, y_test, test_size=0.1, stratify=y_test, \n",
    "                                                shuffle=True, random_state=142) "
   ]
  },
  {
   "cell_type": "code",
   "execution_count": 19,
   "metadata": {
    "scrolled": true
   },
   "outputs": [
    {
     "data": {
      "text/plain": [
       "(0.22614045094227614,\n",
       " 0.22614035881882516,\n",
       " 0.22609994568169473,\n",
       " 171818,\n",
       " 66273,\n",
       " 7364)"
      ]
     },
     "execution_count": 19,
     "metadata": {},
     "output_type": "execute_result"
    }
   ],
   "source": [
    "y_train.mean(), y_val.mean(), y_test.mean(), len(y_train), len(y_val), len(y_test)"
   ]
  },
  {
   "cell_type": "code",
   "execution_count": 35,
   "metadata": {},
   "outputs": [],
   "source": [
    "# def compute_metrics(X, y, model, threshold=0.5, to_print=True, to_return=False,\n",
    "#                     compute_acc=True, compute_auc=True, compute_aps=True):\n",
    "#     if compute_acc:\n",
    "#         acc = accuracy_score(y, (model.predict_proba(X)[:,1] > threshold).astype('int'))\n",
    "#     if compute_auc:\n",
    "#         auc = roc_auc_score(y, model.predict_proba(X)[:,1])\n",
    "#     if compute_aps:\n",
    "#         aps = average_precision_score(y, model.predict_proba(X)[:,1])\n",
    "#     if to_print:\n",
    "#         print('acc = {:.3f}, auc = {:.3f}, aps = {:.3f}'.format(acc if compute_acc else np.nan, \n",
    "#                                                                 auc if compute_auc else np.nan, \n",
    "#                                                                 aps if compute_aps else np.nan))\n",
    "#     if to_return:\n",
    "#         return acc, auc, aps"
   ]
  },
  {
   "cell_type": "code",
   "execution_count": 20,
   "metadata": {},
   "outputs": [],
   "source": [
    "def compute_metrics(y_true, y_pred, prob):\n",
    "    acc = accuracy_score(y_true, y_pred)\n",
    "    auc = roc_auc_score(y_true, prob)\n",
    "    aps = average_precision_score(y_true, prob)\n",
    "    precision = precision_score(y_true, y_pred)\n",
    "    recall = recall_score(y_true, y_pred)\n",
    "    f1 = f1_score(y_true, y_pred)\n",
    "    \n",
    "    return {'acc': acc, 'auc': auc, 'aps': aps, \n",
    "            'precision': precision, 'recall': recall, \n",
    "            'f1': f1}"
   ]
  },
  {
   "cell_type": "code",
   "execution_count": 21,
   "metadata": {},
   "outputs": [],
   "source": [
    "def compute_basic_metrics(y_true, y_pred, prob):\n",
    "    acc = accuracy_score(y_true, y_pred)\n",
    "    auc = roc_auc_score(y_true, prob)\n",
    "    aps = average_precision_score(y_true, prob)\n",
    "    \n",
    "    return {'acc': acc, 'auc': auc, 'aps': aps}"
   ]
  },
  {
   "cell_type": "code",
   "execution_count": 22,
   "metadata": {},
   "outputs": [],
   "source": [
    "def try_acc_thresholds(model, data_dict):\n",
    "    thresholds = [.1,.2,.3,.4,.5,.6,.7,.8,.9]\n",
    "    for thr in thresholds:\n",
    "        acc_train = accuracy_score(data_dict['y_train'], \n",
    "                                   (model.predict_proba(data_dict['X_train'])[:,1] > thr).astype('int'))\n",
    "        acc_val = accuracy_score(data_dict['y_val'], \n",
    "                                 (model.predict_proba(data_dict['X_val'])[:,1] > thr).astype('int'))\n",
    "        print('Threshold= {}, Train acc= {:.3f},  Val acc= {:.3f}'.format(thr, acc_train, acc_val))"
   ]
  },
  {
   "cell_type": "code",
   "execution_count": 23,
   "metadata": {},
   "outputs": [],
   "source": [
    "def compute_zero_baseline(y_true):\n",
    "    metric_dict = compute_basic_metrics(y_true, np.zeros(y_true.shape[0]), np.zeros(y_true.shape[0]))\n",
    "    return metric_dict"
   ]
  },
  {
   "cell_type": "code",
   "execution_count": 24,
   "metadata": {},
   "outputs": [],
   "source": [
    "def compute_rand_baseline(y_true, thr=0.5):\n",
    "    rand_pred = np.random.random_sample((y_true.shape[0],))\n",
    "    metric_dict = compute_metrics(y_true, np.round(rand_pred + 0.5 - thr), rand_pred)\n",
    "    return metric_dict"
   ]
  },
  {
   "cell_type": "code",
   "execution_count": null,
   "metadata": {},
   "outputs": [],
   "source": []
  },
  {
   "cell_type": "markdown",
   "metadata": {},
   "source": [
    "## Baseline"
   ]
  },
  {
   "cell_type": "code",
   "execution_count": 25,
   "metadata": {},
   "outputs": [
    {
     "data": {
      "text/plain": [
       "{'acc': 0.77385954905772392, 'auc': 0.5, 'aps': 0.22614045094227614}"
      ]
     },
     "execution_count": 25,
     "metadata": {},
     "output_type": "execute_result"
    }
   ],
   "source": [
    "# Baseline on train: zero prediction\n",
    "compute_zero_baseline(y_train)"
   ]
  },
  {
   "cell_type": "code",
   "execution_count": 26,
   "metadata": {},
   "outputs": [
    {
     "data": {
      "text/plain": [
       "{'acc': 0.50166455202598093,\n",
       " 'auc': 0.49902688741915818,\n",
       " 'aps': 0.22540208355054861,\n",
       " 'precision': 0.22651571856287425,\n",
       " 'recall': 0.49846866555140906,\n",
       " 'f1': 0.3114852966009698}"
      ]
     },
     "execution_count": 26,
     "metadata": {},
     "output_type": "execute_result"
    }
   ],
   "source": [
    "# Baseline on train: random prediction with thr=0.5\n",
    "compute_rand_baseline(y_train, thr=0.5)"
   ]
  },
  {
   "cell_type": "code",
   "execution_count": 27,
   "metadata": {},
   "outputs": [
    {
     "data": {
      "text/plain": [
       "{'acc': 0.71883621040868828,\n",
       " 'auc': 0.49983634918525133,\n",
       " 'aps': 0.22591723023333327,\n",
       " 'precision': 0.2247262986256697,\n",
       " 'recall': 0.09931797709432505,\n",
       " 'f1': 0.13775501097685044}"
      ]
     },
     "execution_count": 27,
     "metadata": {},
     "output_type": "execute_result"
    }
   ],
   "source": [
    "# Baseline on train: random prediction with thr=0.9\n",
    "compute_rand_baseline(y_train, thr=0.9)"
   ]
  },
  {
   "cell_type": "code",
   "execution_count": 28,
   "metadata": {},
   "outputs": [
    {
     "data": {
      "text/plain": [
       "{'acc': 0.77385964118117478, 'auc': 0.5, 'aps': 0.22614035881882516}"
      ]
     },
     "execution_count": 28,
     "metadata": {},
     "output_type": "execute_result"
    }
   ],
   "source": [
    "# Baseline on val: zero prediction\n",
    "compute_zero_baseline(y_val)"
   ]
  },
  {
   "cell_type": "code",
   "execution_count": 29,
   "metadata": {},
   "outputs": [
    {
     "data": {
      "text/plain": [
       "{'acc': 0.49979629713457968,\n",
       " 'auc': 0.49895146944039614,\n",
       " 'aps': 0.22480537945599074,\n",
       " 'precision': 0.22617216945575155,\n",
       " 'recall': 0.5005004337092146,\n",
       " 'f1': 0.31155507559395246}"
      ]
     },
     "execution_count": 29,
     "metadata": {},
     "output_type": "execute_result"
    }
   ],
   "source": [
    "# Baseline on val: random prediction with thr=0.5\n",
    "compute_rand_baseline(y_val, thr=0.5)"
   ]
  },
  {
   "cell_type": "code",
   "execution_count": 30,
   "metadata": {
    "scrolled": false
   },
   "outputs": [
    {
     "data": {
      "text/plain": [
       "{'acc': 0.71950869886680846,\n",
       " 'auc': 0.49780329578931493,\n",
       " 'aps': 0.22545030671614247,\n",
       " 'precision': 0.2266241651487553,\n",
       " 'recall': 0.099619670380996866,\n",
       " 'f1': 0.13840092699884124}"
      ]
     },
     "execution_count": 30,
     "metadata": {},
     "output_type": "execute_result"
    }
   ],
   "source": [
    "# Baseline on val: random prediction with thr=0.9\n",
    "compute_rand_baseline(y_val, thr=0.9)"
   ]
  },
  {
   "cell_type": "code",
   "execution_count": null,
   "metadata": {},
   "outputs": [],
   "source": []
  },
  {
   "cell_type": "markdown",
   "metadata": {},
   "source": [
    "## Logistic regression"
   ]
  },
  {
   "cell_type": "code",
   "execution_count": 77,
   "metadata": {},
   "outputs": [
    {
     "data": {
      "text/plain": [
       "LogisticRegression(C=1.0, class_weight=None, dual=False, fit_intercept=True,\n",
       "          intercept_scaling=1, max_iter=100, multi_class='ovr', n_jobs=1,\n",
       "          penalty='l2', random_state=None, solver='liblinear', tol=0.0001,\n",
       "          verbose=0, warm_start=False)"
      ]
     },
     "execution_count": 77,
     "metadata": {},
     "output_type": "execute_result"
    }
   ],
   "source": [
    "log_reg = LogisticRegression(C=1.0)\n",
    "log_reg.fit(X_train, y_train)"
   ]
  },
  {
   "cell_type": "code",
   "execution_count": 78,
   "metadata": {},
   "outputs": [],
   "source": [
    "y_pred_val = log_reg.predict_proba(X_val)[:,1]"
   ]
  },
  {
   "cell_type": "code",
   "execution_count": 40,
   "metadata": {},
   "outputs": [
    {
     "data": {
      "text/plain": [
       "(array([[ 0.16651498, -0.12283527, -0.01029817, -0.00572569, -0.02866383,\n",
       "          0.03792088,  0.01761649,  0.08840141,  0.13637122,  0.20663683,\n",
       "         -0.13702842,  0.23211777, -0.05207465,  0.03483228,  0.11228627,\n",
       "          0.17283153,  0.03484056, -0.05823805, -0.00107428, -0.01566295,\n",
       "          0.00268848,  0.0680445 ,  0.01673157,  0.05492044,  0.09360992,\n",
       "         -0.00235683, -0.00824459,  0.07772015,  0.18853922, -0.16383915,\n",
       "          0.0203705 ,  0.01479835,  0.04545471,  0.0130741 , -0.01853944,\n",
       "          0.1367761 ,  0.00093357,  0.01565219,  0.17770433,  0.18727632,\n",
       "         -0.01018647]]), array([-1.33196033]))"
      ]
     },
     "execution_count": 40,
     "metadata": {},
     "output_type": "execute_result"
    }
   ],
   "source": [
    "log_reg.coef_, log_reg.intercept_"
   ]
  },
  {
   "cell_type": "code",
   "execution_count": 41,
   "metadata": {},
   "outputs": [],
   "source": [
    "prob_train = log_reg.predict_proba(X_train)[:,1]\n",
    "y_pred_train = log_reg.predict(X_train)\n",
    "prob_val = log_reg.predict_proba(X_val)[:,1]\n",
    "y_pred_val = log_reg.predict(X_val)"
   ]
  },
  {
   "cell_type": "code",
   "execution_count": 42,
   "metadata": {},
   "outputs": [
    {
     "data": {
      "image/png": "[encoded data removed]",
      "text/plain": [
       "<Figure size 432x288 with 1 Axes>"
      ]
     },
     "metadata": {},
     "output_type": "display_data"
    }
   ],
   "source": [
    "plt.hist(prob_val, bins=150)\n",
    "plt.show()"
   ]
  },
  {
   "cell_type": "code",
   "execution_count": 43,
   "metadata": {},
   "outputs": [
    {
     "data": {
      "text/plain": [
       "{'acc': 0.80886752261113504,\n",
       " 'auc': 0.75145655076534978,\n",
       " 'aps': 0.54329459842311734,\n",
       " 'precision': 0.7092173913043478,\n",
       " 'recall': 0.26238579333419121,\n",
       " 'f1': 0.38305466842006386}"
      ]
     },
     "execution_count": 43,
     "metadata": {},
     "output_type": "execute_result"
    }
   ],
   "source": [
    "compute_metrics(y_train, y_pred_train, prob_train)"
   ]
  },
  {
   "cell_type": "code",
   "execution_count": 44,
   "metadata": {},
   "outputs": [
    {
     "data": {
      "text/plain": [
       "{'acc': 0.80773467324551473,\n",
       " 'auc': 0.75378283688263292,\n",
       " 'aps': 0.5432924488044707,\n",
       " 'precision': 0.70005346640527533,\n",
       " 'recall': 0.26209381463935411,\n",
       " 'f1': 0.38139625206330713}"
      ]
     },
     "execution_count": 44,
     "metadata": {},
     "output_type": "execute_result"
    }
   ],
   "source": [
    "compute_metrics(y_val, y_pred_val, prob_val)"
   ]
  },
  {
   "cell_type": "code",
   "execution_count": 72,
   "metadata": {},
   "outputs": [
    {
     "name": "stdout",
     "output_type": "stream",
     "text": [
      "Threshold= 0.1, Train acc= 0.260,  Val acc= 0.260\n",
      "Threshold= 0.2, Train acc= 0.737,  Val acc= 0.736\n",
      "Threshold= 0.3, Train acc= 0.794,  Val acc= 0.793\n",
      "Threshold= 0.4, Train acc= 0.808,  Val acc= 0.807\n",
      "Threshold= 0.5, Train acc= 0.809,  Val acc= 0.808\n",
      "Threshold= 0.6, Train acc= 0.805,  Val acc= 0.804\n",
      "Threshold= 0.7, Train acc= 0.799,  Val acc= 0.799\n",
      "Threshold= 0.8, Train acc= 0.794,  Val acc= 0.794\n",
      "Threshold= 0.9, Train acc= 0.788,  Val acc= 0.787\n"
     ]
    }
   ],
   "source": [
    "# Try thresholds on thain set\n",
    "data_dict = {'X_train': X_train, 'y_train': y_train,\n",
    "             'X_val': X_val, 'y_val': y_val}\n",
    "try_acc_thresholds(log_reg, data_dict)"
   ]
  },
  {
   "cell_type": "code",
   "execution_count": null,
   "metadata": {},
   "outputs": [],
   "source": []
  },
  {
   "cell_type": "markdown",
   "metadata": {},
   "source": [
    "## Random forests"
   ]
  },
  {
   "cell_type": "code",
   "execution_count": 91,
   "metadata": {},
   "outputs": [],
   "source": [
    "tree_clf = RandomForestClassifier(n_estimators=50, max_depth=4)"
   ]
  },
  {
   "cell_type": "code",
   "execution_count": 92,
   "metadata": {},
   "outputs": [
    {
     "data": {
      "text/plain": [
       "RandomForestClassifier(bootstrap=True, class_weight=None, criterion='gini',\n",
       "            max_depth=4, max_features='auto', max_leaf_nodes=None,\n",
       "            min_impurity_decrease=0.0, min_impurity_split=None,\n",
       "            min_samples_leaf=1, min_samples_split=2,\n",
       "            min_weight_fraction_leaf=0.0, n_estimators=50, n_jobs=1,\n",
       "            oob_score=False, random_state=None, verbose=0,\n",
       "            warm_start=False)"
      ]
     },
     "execution_count": 92,
     "metadata": {},
     "output_type": "execute_result"
    }
   ],
   "source": [
    "tree_clf.fit(X_train, y_train)"
   ]
  },
  {
   "cell_type": "code",
   "execution_count": 94,
   "metadata": {},
   "outputs": [],
   "source": [
    "prob_train = tree_clf.predict_proba(X_train)[:,1]\n",
    "y_pred_train = tree_clf.predict(X_train)\n",
    "prob_val = tree_clf.predict_proba(X_val)[:,1]\n",
    "y_pred_val = tree_clf.predict(X_val)"
   ]
  },
  {
   "cell_type": "code",
   "execution_count": 95,
   "metadata": {},
   "outputs": [
    {
     "data": {
      "text/plain": [
       "{'acc': 0.80982784108766248,\n",
       " 'auc': 0.75826272831172292,\n",
       " 'aps': 0.54117772359595406,\n",
       " 'precision': 0.6884376143432126,\n",
       " 'recall': 0.29054175781752672,\n",
       " 'f1': 0.40862939568892187}"
      ]
     },
     "execution_count": 95,
     "metadata": {},
     "output_type": "execute_result"
    }
   ],
   "source": [
    "compute_metrics(y_train, y_pred_train, prob_train)"
   ]
  },
  {
   "cell_type": "code",
   "execution_count": 96,
   "metadata": {},
   "outputs": [
    {
     "data": {
      "text/plain": [
       "{'acc': 0.80974152369743335,\n",
       " 'auc': 0.76009353695325621,\n",
       " 'aps': 0.5416553703105238,\n",
       " 'precision': 0.68514481469947053,\n",
       " 'recall': 0.29358777607259623,\n",
       " 'f1': 0.41104208510439533}"
      ]
     },
     "execution_count": 96,
     "metadata": {},
     "output_type": "execute_result"
    }
   ],
   "source": [
    "compute_metrics(y_val, y_pred_val, prob_val)"
   ]
  },
  {
   "cell_type": "code",
   "execution_count": 98,
   "metadata": {},
   "outputs": [
    {
     "data": {
      "image/png": "[encoded data removed]",
      "text/plain": [
       "<Figure size 432x288 with 1 Axes>"
      ]
     },
     "metadata": {},
     "output_type": "display_data"
    }
   ],
   "source": [
    "plt.hist(prob_val, bins=150)\n",
    "plt.show()"
   ]
  },
  {
   "cell_type": "code",
   "execution_count": 121,
   "metadata": {},
   "outputs": [
    {
     "name": "stdout",
     "output_type": "stream",
     "text": [
      "Threshold= 0.1, Train= 0.226,  Val= 0.226\n",
      "Threshold= 0.2, Train= 0.695,  Val= 0.694\n",
      "Threshold= 0.3, Train= 0.778,  Val= 0.779\n",
      "Threshold= 0.4, Train= 0.806,  Val= 0.805\n",
      "Threshold= 0.5, Train= 0.810,  Val= 0.810\n",
      "Threshold= 0.6, Train= 0.800,  Val= 0.799\n",
      "Threshold= 0.7, Train= 0.786,  Val= 0.785\n",
      "Threshold= 0.8, Train= 0.775,  Val= 0.775\n",
      "Threshold= 0.9, Train= 0.774,  Val= 0.774\n"
     ]
    }
   ],
   "source": [
    "# Try thresholds\n",
    "try_acc_thresholds(tree_clf, data_dict)"
   ]
  },
  {
   "cell_type": "code",
   "execution_count": null,
   "metadata": {},
   "outputs": [],
   "source": []
  },
  {
   "cell_type": "code",
   "execution_count": 99,
   "metadata": {},
   "outputs": [],
   "source": [
    "tree_clf_2 = RandomForestClassifier(n_estimators=10, max_depth=20)"
   ]
  },
  {
   "cell_type": "code",
   "execution_count": 100,
   "metadata": {},
   "outputs": [
    {
     "data": {
      "text/plain": [
       "RandomForestClassifier(bootstrap=True, class_weight=None, criterion='gini',\n",
       "            max_depth=20, max_features='auto', max_leaf_nodes=None,\n",
       "            min_impurity_decrease=0.0, min_impurity_split=None,\n",
       "            min_samples_leaf=1, min_samples_split=2,\n",
       "            min_weight_fraction_leaf=0.0, n_estimators=10, n_jobs=1,\n",
       "            oob_score=False, random_state=None, verbose=0,\n",
       "            warm_start=False)"
      ]
     },
     "execution_count": 100,
     "metadata": {},
     "output_type": "execute_result"
    }
   ],
   "source": [
    "tree_clf_2.fit(X_train, y_train)"
   ]
  },
  {
   "cell_type": "code",
   "execution_count": 101,
   "metadata": {
    "scrolled": true
   },
   "outputs": [
    {
     "data": {
      "text/plain": [
       "{'acc': 0.80982784108766248,\n",
       " 'auc': 0.75826272831172292,\n",
       " 'aps': 0.54117772359595406,\n",
       " 'precision': 0.6884376143432126,\n",
       " 'recall': 0.29054175781752672,\n",
       " 'f1': 0.40862939568892187}"
      ]
     },
     "execution_count": 101,
     "metadata": {},
     "output_type": "execute_result"
    }
   ],
   "source": [
    "compute_metrics(y_train, y_pred_train, prob_train)"
   ]
  },
  {
   "cell_type": "code",
   "execution_count": 102,
   "metadata": {
    "scrolled": true
   },
   "outputs": [
    {
     "data": {
      "text/plain": [
       "{'acc': 0.80974152369743335,\n",
       " 'auc': 0.76009353695325621,\n",
       " 'aps': 0.5416553703105238,\n",
       " 'precision': 0.68514481469947053,\n",
       " 'recall': 0.29358777607259623,\n",
       " 'f1': 0.41104208510439533}"
      ]
     },
     "execution_count": 102,
     "metadata": {},
     "output_type": "execute_result"
    }
   ],
   "source": [
    "compute_metrics(y_val, y_pred_val, prob_val) # why no overfit?"
   ]
  },
  {
   "cell_type": "code",
   "execution_count": 103,
   "metadata": {},
   "outputs": [
    {
     "data": {
      "image/png": "[encoded data removed]",
      "text/plain": [
       "<Figure size 432x288 with 1 Axes>"
      ]
     },
     "metadata": {},
     "output_type": "display_data"
    },
    {
     "data": {
      "image/png": "[encoded data removed]",
      "text/plain": [
       "<Figure size 432x288 with 1 Axes>"
      ]
     },
     "metadata": {},
     "output_type": "display_data"
    }
   ],
   "source": [
    "plt.hist(prob_train, bins=150)\n",
    "plt.show()\n",
    "plt.hist(prob_val, bins=150)\n",
    "plt.show()"
   ]
  },
  {
   "cell_type": "code",
   "execution_count": null,
   "metadata": {},
   "outputs": [],
   "source": []
  },
  {
   "cell_type": "markdown",
   "metadata": {},
   "source": [
    "## Decision tree"
   ]
  },
  {
   "cell_type": "code",
   "execution_count": 25,
   "metadata": {},
   "outputs": [],
   "source": [
    "dtree_clf = tree.DecisionTreeClassifier()\n",
    "dtree_clf = dtree_clf.fit(X_train, y_train)"
   ]
  },
  {
   "cell_type": "code",
   "execution_count": 26,
   "metadata": {},
   "outputs": [],
   "source": [
    "prob_train = dtree_clf.predict_proba(X_train)[:,1]\n",
    "y_pred_train = dtree_clf.predict(X_train)\n",
    "prob_val = dtree_clf.predict_proba(X_val)[:,1]\n",
    "y_pred_val = dtree_clf.predict(X_val)"
   ]
  },
  {
   "cell_type": "code",
   "execution_count": 27,
   "metadata": {
    "scrolled": true
   },
   "outputs": [
    {
     "data": {
      "text/plain": [
       "{'acc': 0.96072588436601525,\n",
       " 'auc': 0.9886546668212034,\n",
       " 'aps': 0.96903076615064454,\n",
       " 'precision': 0.99644370226056844,\n",
       " 'recall': 0.82928837987389015,\n",
       " 'f1': 0.90521406899651646}"
      ]
     },
     "execution_count": 27,
     "metadata": {},
     "output_type": "execute_result"
    }
   ],
   "source": [
    "compute_metrics(y_train, y_pred_train, prob_train)"
   ]
  },
  {
   "cell_type": "code",
   "execution_count": 28,
   "metadata": {
    "scrolled": false
   },
   "outputs": [
    {
     "data": {
      "text/plain": [
       "{'acc': 0.75092420744496247,\n",
       " 'auc': 0.59328944123761274,\n",
       " 'aps': 0.32288884248669358,\n",
       " 'precision': 0.44228432563791009,\n",
       " 'recall': 0.38860345632881832,\n",
       " 'f1': 0.41370982063576633}"
      ]
     },
     "execution_count": 28,
     "metadata": {},
     "output_type": "execute_result"
    }
   ],
   "source": [
    "compute_metrics(y_val, y_pred_val, prob_val)"
   ]
  },
  {
   "cell_type": "code",
   "execution_count": 29,
   "metadata": {
    "scrolled": true
   },
   "outputs": [
    {
     "data": {
      "text/plain": [
       "{'class_weight': None,\n",
       " 'criterion': 'gini',\n",
       " 'max_depth': None,\n",
       " 'max_features': None,\n",
       " 'max_leaf_nodes': None,\n",
       " 'min_impurity_decrease': 0.0,\n",
       " 'min_impurity_split': None,\n",
       " 'min_samples_leaf': 1,\n",
       " 'min_samples_split': 2,\n",
       " 'min_weight_fraction_leaf': 0.0,\n",
       " 'presort': False,\n",
       " 'random_state': None,\n",
       " 'splitter': 'best'}"
      ]
     },
     "execution_count": 29,
     "metadata": {},
     "output_type": "execute_result"
    }
   ],
   "source": [
    "dtree_clf.get_params()"
   ]
  },
  {
   "cell_type": "code",
   "execution_count": 45,
   "metadata": {},
   "outputs": [],
   "source": [
    "# Let's try to avoid overfitting"
   ]
  },
  {
   "cell_type": "code",
   "execution_count": 58,
   "metadata": {},
   "outputs": [],
   "source": [
    "dtree_clf = tree.DecisionTreeClassifier(max_depth=6)\n",
    "dtree_clf = dtree_clf.fit(X_train, y_train)"
   ]
  },
  {
   "cell_type": "code",
   "execution_count": 59,
   "metadata": {},
   "outputs": [],
   "source": [
    "prob_train = dtree_clf.predict_proba(X_train)[:,1]\n",
    "y_pred_train = dtree_clf.predict(X_train)\n",
    "prob_val = dtree_clf.predict_proba(X_val)[:,1]\n",
    "y_pred_val = dtree_clf.predict(X_val)"
   ]
  },
  {
   "cell_type": "code",
   "execution_count": 60,
   "metadata": {
    "scrolled": true
   },
   "outputs": [
    {
     "data": {
      "text/plain": [
       "{'acc': 0.81433260775937333,\n",
       " 'auc': 0.76020631782320114,\n",
       " 'aps': 0.53463298125040937,\n",
       " 'precision': 0.67883962555292665,\n",
       " 'recall': 0.33967314373954444,\n",
       " 'f1': 0.45278487743794704}"
      ]
     },
     "execution_count": 60,
     "metadata": {},
     "output_type": "execute_result"
    }
   ],
   "source": [
    "compute_metrics(y_train, y_pred_train, prob_train)"
   ]
  },
  {
   "cell_type": "code",
   "execution_count": 61,
   "metadata": {
    "scrolled": true
   },
   "outputs": [
    {
     "data": {
      "text/plain": [
       "{'acc': 0.8122010471836193,\n",
       " 'auc': 0.75914105474624438,\n",
       " 'aps': 0.5313676176028459,\n",
       " 'precision': 0.66821130676552365,\n",
       " 'recall': 0.33675852405418027,\n",
       " 'f1': 0.44782608695652176}"
      ]
     },
     "execution_count": 61,
     "metadata": {},
     "output_type": "execute_result"
    }
   ],
   "source": [
    "compute_metrics(y_val, y_pred_val, prob_val)"
   ]
  },
  {
   "cell_type": "code",
   "execution_count": null,
   "metadata": {},
   "outputs": [],
   "source": []
  },
  {
   "cell_type": "markdown",
   "metadata": {},
   "source": [
    "## SVM with kernel rbf"
   ]
  },
  {
   "cell_type": "code",
   "execution_count": null,
   "metadata": {},
   "outputs": [],
   "source": [
    "gamma = 10\n",
    "for i in range(3):\n",
    "    svm_clf = svm.SVC(kernel='rbf', gamma=gamma)\n",
    "    svm_clf.fit(X_train, y_train)\n",
    "    \n",
    "    prob_train = svm_clf.predict_proba(X_train)[:,1]\n",
    "    y_pred_train = svm_clf.predict(X_train)\n",
    "    prob_val = svm_clf.predict_proba(X_val)[:,1]\n",
    "    y_pred_val = svm_clf.predict(X_val)\n",
    "\n",
    "    scores_train = compute_metrics(y_train, y_pred_train, prob_train)\n",
    "    scores_val = compute_metrics(y_val, y_pred_val, prob_val)\n",
    "    print('Gamma= {}\\nTrain scores:\\n{},\\nVal scores:\\n{}'.format(gamma, scores_train, scores_val))\n",
    "    gamma /= 10 "
   ]
  },
  {
   "cell_type": "code",
   "execution_count": null,
   "metadata": {},
   "outputs": [],
   "source": []
  },
  {
   "cell_type": "markdown",
   "metadata": {},
   "source": [
    "## XGboost"
   ]
  },
  {
   "cell_type": "code",
   "execution_count": 95,
   "metadata": {},
   "outputs": [
    {
     "data": {
      "text/plain": [
       "XGBClassifier(base_score=0.5, booster='gbtree', colsample_bylevel=1,\n",
       "       colsample_bytree=1, gamma=0, learning_rate=0.1, max_delta_step=0,\n",
       "       max_depth=3, min_child_weight=1, missing=None, n_estimators=100,\n",
       "       n_jobs=1, nthread=None, objective='binary:logistic', random_state=0,\n",
       "       reg_alpha=0, reg_lambda=1, scale_pos_weight=1, seed=None,\n",
       "       silent=True, subsample=1)"
      ]
     },
     "execution_count": 95,
     "metadata": {},
     "output_type": "execute_result"
    }
   ],
   "source": [
    "xgb_model = XGBClassifier()\n",
    "xgb_model.fit(X_train, y_train)"
   ]
  },
  {
   "cell_type": "code",
   "execution_count": 96,
   "metadata": {},
   "outputs": [],
   "source": [
    "prob_train = xgb_model.predict_proba(X_train)[:,1]\n",
    "y_pred_train = xgb_model.predict(X_train)\n",
    "prob_val = xgb_model.predict_proba(X_val)[:,1]\n",
    "y_pred_val = xgb_model.predict(X_val)"
   ]
  },
  {
   "cell_type": "code",
   "execution_count": 97,
   "metadata": {
    "scrolled": false
   },
   "outputs": [
    {
     "data": {
      "text/plain": [
       "{'acc': 0.816037900569207,\n",
       " 'auc': 0.77000277229598579,\n",
       " 'aps': 0.57244115145606378,\n",
       " 'precision': 0.6899407663678776,\n",
       " 'recall': 0.33874662205636341,\n",
       " 'f1': 0.45439480770558593}"
      ]
     },
     "execution_count": 97,
     "metadata": {},
     "output_type": "execute_result"
    }
   ],
   "source": [
    "compute_metrics(y_train, y_pred_train, prob_train)"
   ]
  },
  {
   "cell_type": "code",
   "execution_count": 98,
   "metadata": {},
   "outputs": [
    {
     "data": {
      "text/plain": [
       "{'acc': 0.81447950145609826,\n",
       " 'auc': 0.76982824207502987,\n",
       " 'aps': 0.56856870553164895,\n",
       " 'precision': 0.68071965628356601,\n",
       " 'recall': 0.33829318742910525,\n",
       " 'f1': 0.45197236460887008}"
      ]
     },
     "execution_count": 98,
     "metadata": {},
     "output_type": "execute_result"
    }
   ],
   "source": [
    "compute_metrics(y_val, y_pred_val, prob_val)"
   ]
  },
  {
   "cell_type": "code",
   "execution_count": 352,
   "metadata": {},
   "outputs": [
    {
     "name": "stdout",
     "output_type": "stream",
     "text": [
      "acc = 0.814, auc = 0.770, aps = 0.569\n"
     ]
    }
   ],
   "source": [
    "# compute_metrics(X_val, y_val, xgb_model)"
   ]
  },
  {
   "cell_type": "code",
   "execution_count": 354,
   "metadata": {},
   "outputs": [
    {
     "data": {
      "image/png": "[encoded data removed]",
      "text/plain": [
       "<Figure size 432x288 with 1 Axes>"
      ]
     },
     "metadata": {},
     "output_type": "display_data"
    },
    {
     "data": {
      "image/png": "[encoded data removed]",
      "text/plain": [
       "<Figure size 432x288 with 1 Axes>"
      ]
     },
     "metadata": {},
     "output_type": "display_data"
    }
   ],
   "source": [
    "plt.hist(xgb_model.predict_proba(X_train)[:,1], bins=100)\n",
    "plt.show()\n",
    "plt.hist(xgb_model.predict_proba(X_val)[:,1], bins=100)\n",
    "plt.show()"
   ]
  },
  {
   "cell_type": "code",
   "execution_count": 122,
   "metadata": {
    "scrolled": true
   },
   "outputs": [
    {
     "name": "stdout",
     "output_type": "stream",
     "text": [
      "Threshold= 0.1, Train= 0.226,  Val= 0.226\n",
      "Threshold= 0.2, Train= 0.695,  Val= 0.694\n",
      "Threshold= 0.3, Train= 0.778,  Val= 0.779\n",
      "Threshold= 0.4, Train= 0.806,  Val= 0.805\n",
      "Threshold= 0.5, Train= 0.810,  Val= 0.810\n",
      "Threshold= 0.6, Train= 0.800,  Val= 0.799\n",
      "Threshold= 0.7, Train= 0.786,  Val= 0.785\n",
      "Threshold= 0.8, Train= 0.775,  Val= 0.775\n",
      "Threshold= 0.9, Train= 0.774,  Val= 0.774\n"
     ]
    }
   ],
   "source": [
    "# Try thresholds\n",
    "try_acc_thresholds(tree_clf, data_dict)"
   ]
  },
  {
   "cell_type": "code",
   "execution_count": null,
   "metadata": {},
   "outputs": [],
   "source": []
  },
  {
   "cell_type": "markdown",
   "metadata": {},
   "source": [
    "## Feature importances"
   ]
  },
  {
   "cell_type": "code",
   "execution_count": 123,
   "metadata": {},
   "outputs": [],
   "source": [
    "def plot_feature_importances(df):\n",
    "    \"\"\"\n",
    "    Plot importances returned by a model. This can work with any measure of\n",
    "    feature importance provided that higher importance is better. \n",
    "    \n",
    "    Args:\n",
    "        df (dataframe): feature importances. Must have the features in a column\n",
    "        called `features` and the importances in a column called `importance\n",
    "        \n",
    "    Returns:\n",
    "        shows a plot of the 15 most importance features\n",
    "        \n",
    "        df (dataframe): feature importances sorted by importance (highest to lowest) \n",
    "        with a column for normalized importance\n",
    "        \"\"\"\n",
    "    \n",
    "    # Sort features according to importance\n",
    "    df = df.sort_values('importance', ascending = False).reset_index()\n",
    "    \n",
    "    # Normalize the feature importances to add up to one\n",
    "    df['importance_normalized'] = df['importance'] / df['importance'].sum()\n",
    "\n",
    "    # Make a horizontal bar chart of feature importances\n",
    "    plt.figure(figsize = (10, 6))\n",
    "    ax = plt.subplot()\n",
    "    \n",
    "    # Need to reverse the index to plot most important on top\n",
    "    ax.barh(list(reversed(list(df.index[:15]))), \n",
    "            df['importance_normalized'].head(15), \n",
    "            align = 'center', edgecolor = 'k')\n",
    "    \n",
    "    # Set the yticks and labels\n",
    "    ax.set_yticks(list(reversed(list(df.index[:15]))))\n",
    "    ax.set_yticklabels(df['feature'].head(15))\n",
    "    \n",
    "    # Plot labeling\n",
    "    plt.xlabel('Normalized Importance'); plt.title('Feature Importances')\n",
    "    plt.show()\n",
    "    \n",
    "    return df"
   ]
  },
  {
   "cell_type": "code",
   "execution_count": 124,
   "metadata": {},
   "outputs": [],
   "source": [
    "def get_feature_importances(model, feature_names):\n",
    "    feature_importance_values = model.feature_importances_\n",
    "    feature_importances = pd.DataFrame({'feature': feature_names, \n",
    "                                        'importance': feature_importance_values})\n",
    "    return feature_importances"
   ]
  },
  {
   "cell_type": "code",
   "execution_count": 125,
   "metadata": {
    "scrolled": true
   },
   "outputs": [
    {
     "data": {
      "image/png": "[encoded data removed]",
      "text/plain": [
       "<Figure size 720x432 with 1 Axes>"
      ]
     },
     "metadata": {},
     "output_type": "display_data"
    }
   ],
   "source": [
    "# Forest\n",
    "fi = get_feature_importances(tree_clf, X.columns)\n",
    "tree_df_fi = plot_feature_importances(fi)"
   ]
  },
  {
   "cell_type": "code",
   "execution_count": 126,
   "metadata": {
    "scrolled": true
   },
   "outputs": [
    {
     "data": {
      "image/png": "[encoded data removed]",
      "text/plain": [
       "<Figure size 720x432 with 1 Axes>"
      ]
     },
     "metadata": {},
     "output_type": "display_data"
    }
   ],
   "source": [
    "# XGB\n",
    "fi = get_feature_importances(xgb_model, X.columns)\n",
    "xgb_df_fi = plot_feature_importances(fi)"
   ]
  },
  {
   "cell_type": "code",
   "execution_count": 127,
   "metadata": {},
   "outputs": [
    {
     "data": {
      "text/plain": [
       "0                   orders_num\n",
       "1      transmission_id_unq_num\n",
       "2              amount_paid_std\n",
       "3          payment_id_1619_num\n",
       "4        restaurant_id_unq_num\n",
       "5     transmission_id_4356_num\n",
       "6     transmission_id_4228_num\n",
       "7          payment_id_1779_num\n",
       "8           payment_id_unq_num\n",
       "9        platform_id_29463_num\n",
       "10       platform_id_30231_num\n",
       "11         platform_id_unq_num\n",
       "12    transmission_id_4324_num\n",
       "Name: feature, dtype: object"
      ]
     },
     "execution_count": 127,
     "metadata": {},
     "output_type": "execute_result"
    }
   ],
   "source": [
    "tree_important_features = tree_df_fi[tree_df_fi['importance'] >= 0.01]['feature']\n",
    "tree_important_features"
   ]
  },
  {
   "cell_type": "code",
   "execution_count": 128,
   "metadata": {},
   "outputs": [
    {
     "data": {
      "text/plain": [
       "0                   orders_num\n",
       "1        platform_id_30391_num\n",
       "2             amount_paid_mean\n",
       "3                is_failed_num\n",
       "4     transmission_id_4996_num\n",
       "5        platform_id_30359_num\n",
       "6            delivery_fee_mean\n",
       "7           voucher_amount_sum\n",
       "8              amount_paid_std\n",
       "9     transmission_id_4356_num\n",
       "10    transmission_id_4228_num\n",
       "11    transmission_id_4324_num\n",
       "12         payment_id_1779_num\n",
       "13         payment_id_1811_num\n",
       "14         payment_id_1491_num\n",
       "15    transmission_id_1988_num\n",
       "16         platform_id_525_num\n",
       "17         payment_id_1619_num\n",
       "18       platform_id_30231_num\n",
       "19       platform_id_29815_num\n",
       "20         platform_id_unq_num\n",
       "21       restaurant_id_unq_num\n",
       "Name: feature, dtype: object"
      ]
     },
     "execution_count": 128,
     "metadata": {},
     "output_type": "execute_result"
    }
   ],
   "source": [
    "xgb_important_features = xgb_df_fi[xgb_df_fi['importance'] >= 0.01]['feature']\n",
    "xgb_important_features"
   ]
  },
  {
   "cell_type": "code",
   "execution_count": null,
   "metadata": {},
   "outputs": [],
   "source": []
  },
  {
   "cell_type": "markdown",
   "metadata": {},
   "source": [
    "## Ensemble"
   ]
  },
  {
   "cell_type": "code",
   "execution_count": 90,
   "metadata": {},
   "outputs": [],
   "source": [
    "class EnsembleModel():\n",
    "    def __init__(self, model_list, weights=None):\n",
    "        self.model_list = model_list\n",
    "        if not weights:\n",
    "            self.weights = [1./len(model_list)] * len(model_list)\n",
    "        else:\n",
    "            self.weights = weights\n",
    "        # check sum of weight =1\n",
    "        if sum(self.weights) != 1.:\n",
    "            print('Error. Weights sum is not 1')\n",
    "    \n",
    "    def predict_proba(self, X):\n",
    "        outputs = np.vstack([model.predict_proba(X)[:,1] for model in self.model_list])\n",
    "        return np.average(outputs, axis=0, weights=self.weights)\n",
    "    \n",
    "    def predict(self, X):\n",
    "        outputs = np.vstack([model.predict(X) for model in self.model_list])\n",
    "        return np.round(np.average(outputs, axis=0, weights=self.weights))"
   ]
  },
  {
   "cell_type": "code",
   "execution_count": 105,
   "metadata": {},
   "outputs": [],
   "source": [
    "log_reg = LogisticRegression(C=1.0)\n",
    "log_reg.fit(X_train, y_train)\n",
    "\n",
    "dtree_clf = tree.DecisionTreeClassifier(max_depth=6)\n",
    "dtree_clf = dtree_clf.fit(X_train, y_train)\n",
    "\n",
    "xgb_model = XGBClassifier()\n",
    "xgb_model.fit(X_train, y_train)\n",
    "\n",
    "ensemble = EnsembleModel([log_reg, dtree_clf, xgb_model])#, weights=[0.1, 0.3, 0.6])"
   ]
  },
  {
   "cell_type": "code",
   "execution_count": 106,
   "metadata": {},
   "outputs": [],
   "source": [
    "prob_train = ensemble.predict_proba(X_train)\n",
    "y_pred_train = ensemble.predict(X_train)\n",
    "prob_val = ensemble.predict_proba(X_val)\n",
    "y_pred_val = ensemble.predict(X_val)"
   ]
  },
  {
   "cell_type": "code",
   "execution_count": 103,
   "metadata": {},
   "outputs": [
    {
     "data": {
      "text/plain": [
       "{'acc': 0.81556647149891159,\n",
       " 'auc': 0.76870600907042086,\n",
       " 'aps': 0.56961515864641887,\n",
       " 'precision': 0.69688976810638537,\n",
       " 'recall': 0.3263929996139493,\n",
       " 'f1': 0.44456908488598323}"
      ]
     },
     "execution_count": 103,
     "metadata": {},
     "output_type": "execute_result"
    }
   ],
   "source": [
    "compute_metrics(y_train, y_pred_train, prob_train)"
   ]
  },
  {
   "cell_type": "code",
   "execution_count": 94,
   "metadata": {},
   "outputs": [
    {
     "data": {
      "text/plain": [
       "{'acc': 0.81416263033211111,\n",
       " 'auc': 0.76809796401665598,\n",
       " 'aps': 0.56404911351097098,\n",
       " 'precision': 0.68644422727907306,\n",
       " 'recall': 0.32808433976112633,\n",
       " 'f1': 0.44397291196388267}"
      ]
     },
     "execution_count": 94,
     "metadata": {},
     "output_type": "execute_result"
    }
   ],
   "source": [
    "compute_metrics(y_val, y_pred_val, prob_val)"
   ]
  },
  {
   "cell_type": "code",
   "execution_count": null,
   "metadata": {},
   "outputs": [],
   "source": []
  },
  {
   "cell_type": "markdown",
   "metadata": {},
   "source": [
    "## MLP in Keras"
   ]
  },
  {
   "cell_type": "code",
   "execution_count": 35,
   "metadata": {},
   "outputs": [],
   "source": [
    "import os\n",
    "import tensorflow as tf\n",
    "import keras.backend.tensorflow_backend as KTF\n",
    "\n",
    "def get_session(gpu_fraction=0.2):\n",
    "    '''Assume that you have 6GB of GPU memory and want to allocate ~2GB'''\n",
    "\n",
    "    num_threads = os.environ.get('OMP_NUM_THREADS')\n",
    "    gpu_options = tf.GPUOptions(per_process_gpu_memory_fraction=gpu_fraction)\n",
    "\n",
    "    if num_threads:\n",
    "        return tf.Session(config=tf.ConfigProto(\n",
    "            gpu_options=gpu_options, intra_op_parallelism_threads=num_threads))\n",
    "    else:\n",
    "        return tf.Session(config=tf.ConfigProto(gpu_options=gpu_options))\n",
    "\n",
    "KTF.set_session(get_session())"
   ]
  },
  {
   "cell_type": "code",
   "execution_count": 38,
   "metadata": {},
   "outputs": [],
   "source": [
    "from keras.models import Sequential\n",
    "from keras.layers import Dense\n",
    "from keras import metrics\n",
    "from keras import optimizers\n",
    "from keras.callbacks import ModelCheckpoint"
   ]
  },
  {
   "cell_type": "code",
   "execution_count": 41,
   "metadata": {},
   "outputs": [
    {
     "name": "stdout",
     "output_type": "stream",
     "text": [
      "Train on 171818 samples, validate on 66273 samples\n",
      "Epoch 1/150\n",
      " - 9s - loss: 0.4571 - acc: 0.8068 - val_loss: 0.4430 - val_acc: 0.8114\n",
      "\n",
      "Epoch 00001: val_acc improved from -inf to 0.81137, saving model to weights.best.hdf5\n",
      "Epoch 2/150\n",
      " - 9s - loss: 0.4421 - acc: 0.8126 - val_loss: 0.4404 - val_acc: 0.8121\n",
      "\n",
      "Epoch 00002: val_acc improved from 0.81137 to 0.81213, saving model to weights.best.hdf5\n",
      "Epoch 3/150\n",
      " - 9s - loss: 0.4408 - acc: 0.8129 - val_loss: 0.4402 - val_acc: 0.8123\n",
      "\n",
      "Epoch 00003: val_acc improved from 0.81213 to 0.81234, saving model to weights.best.hdf5\n",
      "Epoch 4/150\n",
      " - 9s - loss: 0.4402 - acc: 0.8131 - val_loss: 0.4394 - val_acc: 0.8126\n",
      "\n",
      "Epoch 00004: val_acc improved from 0.81234 to 0.81261, saving model to weights.best.hdf5\n",
      "Epoch 5/150\n",
      " - 10s - loss: 0.4398 - acc: 0.8134 - val_loss: 0.4397 - val_acc: 0.8123\n",
      "\n",
      "Epoch 00005: val_acc did not improve from 0.81261\n",
      "Epoch 6/150\n",
      " - 9s - loss: 0.4393 - acc: 0.8134 - val_loss: 0.4394 - val_acc: 0.8118\n",
      "\n",
      "Epoch 00006: val_acc did not improve from 0.81261\n",
      "Epoch 7/150\n",
      " - 9s - loss: 0.4390 - acc: 0.8135 - val_loss: 0.4398 - val_acc: 0.8122\n",
      "\n",
      "Epoch 00007: val_acc did not improve from 0.81261\n",
      "Epoch 8/150\n",
      " - 9s - loss: 0.4387 - acc: 0.8138 - val_loss: 0.4400 - val_acc: 0.8120\n",
      "\n",
      "Epoch 00008: val_acc did not improve from 0.81261\n",
      "Epoch 9/150\n",
      " - 9s - loss: 0.4382 - acc: 0.8135 - val_loss: 0.4403 - val_acc: 0.8121\n",
      "\n",
      "Epoch 00009: val_acc did not improve from 0.81261\n",
      "Epoch 10/150\n",
      " - 9s - loss: 0.4380 - acc: 0.8142 - val_loss: 0.4391 - val_acc: 0.8123\n",
      "\n",
      "Epoch 00010: val_acc did not improve from 0.81261\n",
      "Epoch 11/150\n",
      " - 9s - loss: 0.4378 - acc: 0.8150 - val_loss: 0.4386 - val_acc: 0.8129\n",
      "\n",
      "Epoch 00011: val_acc improved from 0.81261 to 0.81291, saving model to weights.best.hdf5\n",
      "Epoch 12/150\n",
      " - 10s - loss: 0.4374 - acc: 0.8147 - val_loss: 0.4391 - val_acc: 0.8131\n",
      "\n",
      "Epoch 00012: val_acc improved from 0.81291 to 0.81306, saving model to weights.best.hdf5\n",
      "Epoch 13/150\n",
      " - 9s - loss: 0.4373 - acc: 0.8150 - val_loss: 0.4386 - val_acc: 0.8137\n",
      "\n",
      "Epoch 00013: val_acc improved from 0.81306 to 0.81373, saving model to weights.best.hdf5\n",
      "Epoch 14/150\n",
      " - 9s - loss: 0.4370 - acc: 0.8150 - val_loss: 0.4390 - val_acc: 0.8128\n",
      "\n",
      "Epoch 00014: val_acc did not improve from 0.81373\n",
      "Epoch 15/150\n",
      " - 9s - loss: 0.4369 - acc: 0.8152 - val_loss: 0.4388 - val_acc: 0.8129\n",
      "\n",
      "Epoch 00015: val_acc did not improve from 0.81373\n",
      "Epoch 16/150\n",
      " - 9s - loss: 0.4365 - acc: 0.8156 - val_loss: 0.4390 - val_acc: 0.8136\n",
      "\n",
      "Epoch 00016: val_acc did not improve from 0.81373\n",
      "Epoch 17/150\n",
      " - 9s - loss: 0.4364 - acc: 0.8158 - val_loss: 0.4390 - val_acc: 0.8133\n",
      "\n",
      "Epoch 00017: val_acc did not improve from 0.81373\n",
      "Epoch 18/150\n",
      " - 9s - loss: 0.4362 - acc: 0.8160 - val_loss: 0.4389 - val_acc: 0.8135\n",
      "\n",
      "Epoch 00018: val_acc did not improve from 0.81373\n",
      "Epoch 19/150\n",
      " - 9s - loss: 0.4359 - acc: 0.8163 - val_loss: 0.4400 - val_acc: 0.8122\n",
      "\n",
      "Epoch 00019: val_acc did not improve from 0.81373\n",
      "Epoch 20/150\n",
      " - 9s - loss: 0.4358 - acc: 0.8158 - val_loss: 0.4390 - val_acc: 0.8132\n",
      "\n",
      "Epoch 00020: val_acc did not improve from 0.81373\n",
      "Epoch 21/150\n",
      " - 9s - loss: 0.4356 - acc: 0.8159 - val_loss: 0.4391 - val_acc: 0.8131\n",
      "\n",
      "Epoch 00021: val_acc did not improve from 0.81373\n",
      "Epoch 22/150\n",
      " - 9s - loss: 0.4353 - acc: 0.8164 - val_loss: 0.4393 - val_acc: 0.8132\n",
      "\n",
      "Epoch 00022: val_acc did not improve from 0.81373\n",
      "Epoch 23/150\n",
      " - 9s - loss: 0.4352 - acc: 0.8167 - val_loss: 0.4400 - val_acc: 0.8132\n",
      "\n",
      "Epoch 00023: val_acc did not improve from 0.81373\n",
      "Epoch 24/150\n",
      " - 9s - loss: 0.4349 - acc: 0.8168 - val_loss: 0.4411 - val_acc: 0.8126\n",
      "\n",
      "Epoch 00024: val_acc did not improve from 0.81373\n",
      "Epoch 25/150\n",
      " - 9s - loss: 0.4349 - acc: 0.8166 - val_loss: 0.4398 - val_acc: 0.8132\n",
      "\n",
      "Epoch 00025: val_acc did not improve from 0.81373\n",
      "Epoch 26/150\n",
      " - 10s - loss: 0.4346 - acc: 0.8171 - val_loss: 0.4394 - val_acc: 0.8133\n",
      "\n",
      "Epoch 00026: val_acc did not improve from 0.81373\n",
      "Epoch 27/150\n",
      " - 9s - loss: 0.4343 - acc: 0.8175 - val_loss: 0.4392 - val_acc: 0.8126\n",
      "\n",
      "Epoch 00027: val_acc did not improve from 0.81373\n",
      "Epoch 28/150\n",
      " - 9s - loss: 0.4342 - acc: 0.8174 - val_loss: 0.4409 - val_acc: 0.8128\n",
      "\n",
      "Epoch 00028: val_acc did not improve from 0.81373\n",
      "Epoch 29/150\n",
      " - 9s - loss: 0.4340 - acc: 0.8175 - val_loss: 0.4405 - val_acc: 0.8129\n",
      "\n",
      "Epoch 00029: val_acc did not improve from 0.81373\n",
      "Epoch 30/150\n",
      " - 9s - loss: 0.4339 - acc: 0.8174 - val_loss: 0.4398 - val_acc: 0.8135\n",
      "\n",
      "Epoch 00030: val_acc did not improve from 0.81373\n",
      "Epoch 31/150\n",
      " - 9s - loss: 0.4339 - acc: 0.8171 - val_loss: 0.4391 - val_acc: 0.8141\n",
      "\n",
      "Epoch 00031: val_acc improved from 0.81373 to 0.81410, saving model to weights.best.hdf5\n",
      "Epoch 32/150\n",
      " - 9s - loss: 0.4334 - acc: 0.8175 - val_loss: 0.4396 - val_acc: 0.8139\n",
      "\n",
      "Epoch 00032: val_acc did not improve from 0.81410\n",
      "Epoch 33/150\n",
      " - 9s - loss: 0.4336 - acc: 0.8175 - val_loss: 0.4391 - val_acc: 0.8130\n",
      "\n",
      "Epoch 00033: val_acc did not improve from 0.81410\n",
      "Epoch 34/150\n",
      " - 9s - loss: 0.4332 - acc: 0.8177 - val_loss: 0.4403 - val_acc: 0.8131\n",
      "\n",
      "Epoch 00034: val_acc did not improve from 0.81410\n",
      "Epoch 35/150\n",
      " - 9s - loss: 0.4330 - acc: 0.8178 - val_loss: 0.4399 - val_acc: 0.8130\n",
      "\n",
      "Epoch 00035: val_acc did not improve from 0.81410\n",
      "Epoch 36/150\n",
      " - 9s - loss: 0.4329 - acc: 0.8182 - val_loss: 0.4400 - val_acc: 0.8126\n",
      "\n",
      "Epoch 00036: val_acc did not improve from 0.81410\n",
      "Epoch 37/150\n",
      " - 9s - loss: 0.4328 - acc: 0.8180 - val_loss: 0.4404 - val_acc: 0.8124\n",
      "\n",
      "Epoch 00037: val_acc did not improve from 0.81410\n",
      "Epoch 38/150\n",
      " - 9s - loss: 0.4326 - acc: 0.8183 - val_loss: 0.4412 - val_acc: 0.8134\n",
      "\n",
      "Epoch 00038: val_acc did not improve from 0.81410\n",
      "Epoch 39/150\n",
      " - 9s - loss: 0.4326 - acc: 0.8182 - val_loss: 0.4409 - val_acc: 0.8129\n",
      "\n",
      "Epoch 00039: val_acc did not improve from 0.81410\n",
      "Epoch 40/150\n",
      " - 9s - loss: 0.4322 - acc: 0.8184 - val_loss: 0.4410 - val_acc: 0.8141\n",
      "\n",
      "Epoch 00040: val_acc did not improve from 0.81410\n",
      "Epoch 41/150\n",
      " - 9s - loss: 0.4320 - acc: 0.8187 - val_loss: 0.4406 - val_acc: 0.8125\n",
      "\n",
      "Epoch 00041: val_acc did not improve from 0.81410\n",
      "Epoch 42/150\n",
      " - 9s - loss: 0.4319 - acc: 0.8185 - val_loss: 0.4407 - val_acc: 0.8128\n",
      "\n",
      "Epoch 00042: val_acc did not improve from 0.81410\n",
      "Epoch 43/150\n",
      " - 9s - loss: 0.4316 - acc: 0.8185 - val_loss: 0.4414 - val_acc: 0.8134\n",
      "\n",
      "Epoch 00043: val_acc did not improve from 0.81410\n",
      "Epoch 44/150\n",
      " - 9s - loss: 0.4316 - acc: 0.8186 - val_loss: 0.4416 - val_acc: 0.8120\n",
      "\n",
      "Epoch 00044: val_acc did not improve from 0.81410\n",
      "Epoch 45/150\n",
      " - 9s - loss: 0.4315 - acc: 0.8185 - val_loss: 0.4417 - val_acc: 0.8129\n",
      "\n",
      "Epoch 00045: val_acc did not improve from 0.81410\n",
      "Epoch 46/150\n",
      " - 9s - loss: 0.4312 - acc: 0.8190 - val_loss: 0.4415 - val_acc: 0.8134\n",
      "\n",
      "Epoch 00046: val_acc did not improve from 0.81410\n",
      "Epoch 47/150\n",
      " - 9s - loss: 0.4311 - acc: 0.8188 - val_loss: 0.4406 - val_acc: 0.8127\n",
      "\n",
      "Epoch 00047: val_acc did not improve from 0.81410\n",
      "Epoch 48/150\n",
      " - 9s - loss: 0.4309 - acc: 0.8190 - val_loss: 0.4411 - val_acc: 0.8131\n",
      "\n",
      "Epoch 00048: val_acc did not improve from 0.81410\n",
      "Epoch 49/150\n",
      " - 9s - loss: 0.4306 - acc: 0.8191 - val_loss: 0.4405 - val_acc: 0.8126\n",
      "\n",
      "Epoch 00049: val_acc did not improve from 0.81410\n",
      "Epoch 50/150\n",
      " - 9s - loss: 0.4306 - acc: 0.8194 - val_loss: 0.4403 - val_acc: 0.8129\n",
      "\n",
      "Epoch 00050: val_acc did not improve from 0.81410\n",
      "Epoch 51/150\n",
      " - 9s - loss: 0.4302 - acc: 0.8195 - val_loss: 0.4407 - val_acc: 0.8123\n",
      "\n",
      "Epoch 00051: val_acc did not improve from 0.81410\n",
      "Epoch 52/150\n",
      " - 9s - loss: 0.4300 - acc: 0.8197 - val_loss: 0.4437 - val_acc: 0.8116\n",
      "\n",
      "Epoch 00052: val_acc did not improve from 0.81410\n",
      "Epoch 53/150\n",
      " - 9s - loss: 0.4299 - acc: 0.8194 - val_loss: 0.4420 - val_acc: 0.8118\n",
      "\n",
      "Epoch 00053: val_acc did not improve from 0.81410\n",
      "Epoch 54/150\n",
      " - 9s - loss: 0.4298 - acc: 0.8198 - val_loss: 0.4430 - val_acc: 0.8124\n",
      "\n",
      "Epoch 00054: val_acc did not improve from 0.81410\n",
      "Epoch 55/150\n",
      " - 9s - loss: 0.4295 - acc: 0.8200 - val_loss: 0.4421 - val_acc: 0.8118\n",
      "\n",
      "Epoch 00055: val_acc did not improve from 0.81410\n",
      "Epoch 56/150\n",
      " - 9s - loss: 0.4294 - acc: 0.8199 - val_loss: 0.4431 - val_acc: 0.8112\n",
      "\n",
      "Epoch 00056: val_acc did not improve from 0.81410\n",
      "Epoch 57/150\n",
      " - 9s - loss: 0.4295 - acc: 0.8202 - val_loss: 0.4416 - val_acc: 0.8128\n",
      "\n",
      "Epoch 00057: val_acc did not improve from 0.81410\n",
      "Epoch 58/150\n",
      " - 9s - loss: 0.4293 - acc: 0.8201 - val_loss: 0.4418 - val_acc: 0.8125\n",
      "\n",
      "Epoch 00058: val_acc did not improve from 0.81410\n",
      "Epoch 59/150\n"
     ]
    },
    {
     "name": "stdout",
     "output_type": "stream",
     "text": [
      " - 9s - loss: 0.4291 - acc: 0.8201 - val_loss: 0.4429 - val_acc: 0.8123\n",
      "\n",
      "Epoch 00059: val_acc did not improve from 0.81410\n",
      "Epoch 60/150\n",
      " - 9s - loss: 0.4287 - acc: 0.8205 - val_loss: 0.4425 - val_acc: 0.8109\n",
      "\n",
      "Epoch 00060: val_acc did not improve from 0.81410\n",
      "Epoch 61/150\n",
      " - 9s - loss: 0.4287 - acc: 0.8201 - val_loss: 0.4422 - val_acc: 0.8123\n",
      "\n",
      "Epoch 00061: val_acc did not improve from 0.81410\n",
      "Epoch 62/150\n",
      " - 9s - loss: 0.4284 - acc: 0.8209 - val_loss: 0.4436 - val_acc: 0.8117\n",
      "\n",
      "Epoch 00062: val_acc did not improve from 0.81410\n",
      "Epoch 63/150\n",
      " - 9s - loss: 0.4283 - acc: 0.8213 - val_loss: 0.4434 - val_acc: 0.8119\n",
      "\n",
      "Epoch 00063: val_acc did not improve from 0.81410\n",
      "Epoch 64/150\n",
      " - 9s - loss: 0.4281 - acc: 0.8207 - val_loss: 0.4447 - val_acc: 0.8109\n",
      "\n",
      "Epoch 00064: val_acc did not improve from 0.81410\n",
      "Epoch 65/150\n",
      " - 9s - loss: 0.4283 - acc: 0.8211 - val_loss: 0.4439 - val_acc: 0.8110\n",
      "\n",
      "Epoch 00065: val_acc did not improve from 0.81410\n",
      "Epoch 66/150\n",
      " - 9s - loss: 0.4278 - acc: 0.8214 - val_loss: 0.4432 - val_acc: 0.8121\n",
      "\n",
      "Epoch 00066: val_acc did not improve from 0.81410\n",
      "Epoch 67/150\n",
      " - 9s - loss: 0.4274 - acc: 0.8212 - val_loss: 0.4443 - val_acc: 0.8116\n",
      "\n",
      "Epoch 00067: val_acc did not improve from 0.81410\n",
      "Epoch 68/150\n",
      " - 9s - loss: 0.4276 - acc: 0.8207 - val_loss: 0.4456 - val_acc: 0.8110\n",
      "\n",
      "Epoch 00068: val_acc did not improve from 0.81410\n",
      "Epoch 69/150\n",
      " - 9s - loss: 0.4272 - acc: 0.8217 - val_loss: 0.4452 - val_acc: 0.8105\n",
      "\n",
      "Epoch 00069: val_acc did not improve from 0.81410\n",
      "Epoch 70/150\n",
      " - 9s - loss: 0.4272 - acc: 0.8215 - val_loss: 0.4443 - val_acc: 0.8115\n",
      "\n",
      "Epoch 00070: val_acc did not improve from 0.81410\n",
      "Epoch 71/150\n",
      " - 9s - loss: 0.4268 - acc: 0.8214 - val_loss: 0.4444 - val_acc: 0.8114\n",
      "\n",
      "Epoch 00071: val_acc did not improve from 0.81410\n",
      "Epoch 72/150\n",
      " - 10s - loss: 0.4268 - acc: 0.8221 - val_loss: 0.4459 - val_acc: 0.8097\n",
      "\n",
      "Epoch 00072: val_acc did not improve from 0.81410\n",
      "Epoch 73/150\n",
      " - 9s - loss: 0.4265 - acc: 0.8222 - val_loss: 0.4447 - val_acc: 0.8092\n",
      "\n",
      "Epoch 00073: val_acc did not improve from 0.81410\n",
      "Epoch 74/150\n",
      " - 9s - loss: 0.4263 - acc: 0.8218 - val_loss: 0.4474 - val_acc: 0.8101\n",
      "\n",
      "Epoch 00074: val_acc did not improve from 0.81410\n",
      "Epoch 75/150\n",
      " - 9s - loss: 0.4261 - acc: 0.8220 - val_loss: 0.4465 - val_acc: 0.8102\n",
      "\n",
      "Epoch 00075: val_acc did not improve from 0.81410\n",
      "Epoch 76/150\n",
      " - 9s - loss: 0.4261 - acc: 0.8226 - val_loss: 0.4456 - val_acc: 0.8097\n",
      "\n",
      "Epoch 00076: val_acc did not improve from 0.81410\n",
      "Epoch 77/150\n",
      " - 9s - loss: 0.4259 - acc: 0.8222 - val_loss: 0.4447 - val_acc: 0.8119\n",
      "\n",
      "Epoch 00077: val_acc did not improve from 0.81410\n",
      "Epoch 78/150\n",
      " - 9s - loss: 0.4257 - acc: 0.8229 - val_loss: 0.4456 - val_acc: 0.8102\n",
      "\n",
      "Epoch 00078: val_acc did not improve from 0.81410\n",
      "Epoch 79/150\n",
      " - 9s - loss: 0.4255 - acc: 0.8227 - val_loss: 0.4461 - val_acc: 0.8094\n",
      "\n",
      "Epoch 00079: val_acc did not improve from 0.81410\n",
      "Epoch 80/150\n",
      " - 9s - loss: 0.4253 - acc: 0.8231 - val_loss: 0.4475 - val_acc: 0.8107\n",
      "\n",
      "Epoch 00080: val_acc did not improve from 0.81410\n",
      "Epoch 81/150\n",
      " - 10s - loss: 0.4249 - acc: 0.8232 - val_loss: 0.4474 - val_acc: 0.8109\n",
      "\n",
      "Epoch 00081: val_acc did not improve from 0.81410\n",
      "Epoch 82/150\n",
      " - 9s - loss: 0.4249 - acc: 0.8233 - val_loss: 0.4472 - val_acc: 0.8105\n",
      "\n",
      "Epoch 00082: val_acc did not improve from 0.81410\n",
      "Epoch 83/150\n",
      " - 9s - loss: 0.4247 - acc: 0.8232 - val_loss: 0.4492 - val_acc: 0.8099\n",
      "\n",
      "Epoch 00083: val_acc did not improve from 0.81410\n",
      "Epoch 84/150\n",
      " - 9s - loss: 0.4245 - acc: 0.8236 - val_loss: 0.4470 - val_acc: 0.8112\n",
      "\n",
      "Epoch 00084: val_acc did not improve from 0.81410\n",
      "Epoch 85/150\n",
      " - 9s - loss: 0.4246 - acc: 0.8234 - val_loss: 0.4465 - val_acc: 0.8088\n",
      "\n",
      "Epoch 00085: val_acc did not improve from 0.81410\n",
      "Epoch 86/150\n",
      " - 9s - loss: 0.4244 - acc: 0.8233 - val_loss: 0.4485 - val_acc: 0.8098\n",
      "\n",
      "Epoch 00086: val_acc did not improve from 0.81410\n",
      "Epoch 87/150\n",
      " - 9s - loss: 0.4243 - acc: 0.8239 - val_loss: 0.4475 - val_acc: 0.8105\n",
      "\n",
      "Epoch 00087: val_acc did not improve from 0.81410\n",
      "Epoch 88/150\n",
      " - 9s - loss: 0.4237 - acc: 0.8237 - val_loss: 0.4485 - val_acc: 0.8098\n",
      "\n",
      "Epoch 00088: val_acc did not improve from 0.81410\n",
      "Epoch 89/150\n",
      " - 9s - loss: 0.4236 - acc: 0.8242 - val_loss: 0.4506 - val_acc: 0.8091\n",
      "\n",
      "Epoch 00089: val_acc did not improve from 0.81410\n",
      "Epoch 90/150\n",
      " - 9s - loss: 0.4234 - acc: 0.8241 - val_loss: 0.4492 - val_acc: 0.8096\n",
      "\n",
      "Epoch 00090: val_acc did not improve from 0.81410\n",
      "Epoch 91/150\n",
      " - 10s - loss: 0.4237 - acc: 0.8243 - val_loss: 0.4480 - val_acc: 0.8089\n",
      "\n",
      "Epoch 00091: val_acc did not improve from 0.81410\n",
      "Epoch 92/150\n",
      " - 9s - loss: 0.4232 - acc: 0.8243 - val_loss: 0.4487 - val_acc: 0.8101\n",
      "\n",
      "Epoch 00092: val_acc did not improve from 0.81410\n",
      "Epoch 93/150\n",
      " - 9s - loss: 0.4229 - acc: 0.8240 - val_loss: 0.4499 - val_acc: 0.8105\n",
      "\n",
      "Epoch 00093: val_acc did not improve from 0.81410\n",
      "Epoch 94/150\n",
      " - 9s - loss: 0.4227 - acc: 0.8243 - val_loss: 0.4486 - val_acc: 0.8109\n",
      "\n",
      "Epoch 00094: val_acc did not improve from 0.81410\n",
      "Epoch 95/150\n",
      " - 9s - loss: 0.4227 - acc: 0.8243 - val_loss: 0.4499 - val_acc: 0.8093\n",
      "\n",
      "Epoch 00095: val_acc did not improve from 0.81410\n",
      "Epoch 96/150\n",
      " - 9s - loss: 0.4222 - acc: 0.8251 - val_loss: 0.4523 - val_acc: 0.8092\n",
      "\n",
      "Epoch 00096: val_acc did not improve from 0.81410\n",
      "Epoch 97/150\n",
      " - 9s - loss: 0.4222 - acc: 0.8247 - val_loss: 0.4503 - val_acc: 0.8076\n",
      "\n",
      "Epoch 00097: val_acc did not improve from 0.81410\n",
      "Epoch 98/150\n",
      " - 9s - loss: 0.4221 - acc: 0.8246 - val_loss: 0.4498 - val_acc: 0.8091\n",
      "\n",
      "Epoch 00098: val_acc did not improve from 0.81410\n",
      "Epoch 99/150\n",
      " - 10s - loss: 0.4217 - acc: 0.8250 - val_loss: 0.4508 - val_acc: 0.8090\n",
      "\n",
      "Epoch 00099: val_acc did not improve from 0.81410\n",
      "Epoch 100/150\n",
      " - 9s - loss: 0.4219 - acc: 0.8251 - val_loss: 0.4516 - val_acc: 0.8086\n",
      "\n",
      "Epoch 00100: val_acc did not improve from 0.81410\n",
      "Epoch 101/150\n",
      " - 9s - loss: 0.4215 - acc: 0.8252 - val_loss: 0.4537 - val_acc: 0.8090\n",
      "\n",
      "Epoch 00101: val_acc did not improve from 0.81410\n",
      "Epoch 102/150\n",
      " - 9s - loss: 0.4211 - acc: 0.8254 - val_loss: 0.4520 - val_acc: 0.8092\n",
      "\n",
      "Epoch 00102: val_acc did not improve from 0.81410\n",
      "Epoch 103/150\n",
      " - 9s - loss: 0.4210 - acc: 0.8257 - val_loss: 0.4517 - val_acc: 0.8087\n",
      "\n",
      "Epoch 00103: val_acc did not improve from 0.81410\n",
      "Epoch 104/150\n",
      " - 9s - loss: 0.4208 - acc: 0.8256 - val_loss: 0.4533 - val_acc: 0.8090\n",
      "\n",
      "Epoch 00104: val_acc did not improve from 0.81410\n",
      "Epoch 105/150\n",
      " - 9s - loss: 0.4207 - acc: 0.8257 - val_loss: 0.4555 - val_acc: 0.8081\n",
      "\n",
      "Epoch 00105: val_acc did not improve from 0.81410\n",
      "Epoch 106/150\n",
      " - 9s - loss: 0.4204 - acc: 0.8257 - val_loss: 0.4576 - val_acc: 0.8059\n",
      "\n",
      "Epoch 00106: val_acc did not improve from 0.81410\n",
      "Epoch 107/150\n",
      " - 9s - loss: 0.4204 - acc: 0.8253 - val_loss: 0.4516 - val_acc: 0.8094\n",
      "\n",
      "Epoch 00107: val_acc did not improve from 0.81410\n",
      "Epoch 108/150\n",
      " - 10s - loss: 0.4202 - acc: 0.8261 - val_loss: 0.4528 - val_acc: 0.8090\n",
      "\n",
      "Epoch 00108: val_acc did not improve from 0.81410\n",
      "Epoch 109/150\n",
      " - 10s - loss: 0.4199 - acc: 0.8263 - val_loss: 0.4537 - val_acc: 0.8076\n",
      "\n",
      "Epoch 00109: val_acc did not improve from 0.81410\n",
      "Epoch 110/150\n",
      " - 9s - loss: 0.4201 - acc: 0.8264 - val_loss: 0.4558 - val_acc: 0.8067\n",
      "\n",
      "Epoch 00110: val_acc did not improve from 0.81410\n",
      "Epoch 111/150\n",
      " - 9s - loss: 0.4198 - acc: 0.8264 - val_loss: 0.4557 - val_acc: 0.8081\n",
      "\n",
      "Epoch 00111: val_acc did not improve from 0.81410\n",
      "Epoch 112/150\n",
      " - 9s - loss: 0.4198 - acc: 0.8265 - val_loss: 0.4555 - val_acc: 0.8065\n",
      "\n",
      "Epoch 00112: val_acc did not improve from 0.81410\n",
      "Epoch 113/150\n",
      " - 9s - loss: 0.4192 - acc: 0.8270 - val_loss: 0.4533 - val_acc: 0.8096\n",
      "\n",
      "Epoch 00113: val_acc did not improve from 0.81410\n",
      "Epoch 114/150\n",
      " - 9s - loss: 0.4194 - acc: 0.8266 - val_loss: 0.4543 - val_acc: 0.8087\n",
      "\n",
      "Epoch 00114: val_acc did not improve from 0.81410\n",
      "Epoch 115/150\n",
      " - 9s - loss: 0.4190 - acc: 0.8269 - val_loss: 0.4548 - val_acc: 0.8084\n",
      "\n",
      "Epoch 00115: val_acc did not improve from 0.81410\n",
      "Epoch 116/150\n",
      " - 9s - loss: 0.4189 - acc: 0.8268 - val_loss: 0.4554 - val_acc: 0.8083\n",
      "\n",
      "Epoch 00116: val_acc did not improve from 0.81410\n",
      "Epoch 117/150\n",
      " - 9s - loss: 0.4188 - acc: 0.8274 - val_loss: 0.4572 - val_acc: 0.8068\n",
      "\n",
      "Epoch 00117: val_acc did not improve from 0.81410\n",
      "Epoch 118/150\n",
      " - 9s - loss: 0.4187 - acc: 0.8271 - val_loss: 0.4601 - val_acc: 0.8079\n",
      "\n",
      "Epoch 00118: val_acc did not improve from 0.81410\n",
      "Epoch 119/150\n",
      " - 10s - loss: 0.4185 - acc: 0.8271 - val_loss: 0.4549 - val_acc: 0.8069\n"
     ]
    },
    {
     "name": "stdout",
     "output_type": "stream",
     "text": [
      "\n",
      "Epoch 00119: val_acc did not improve from 0.81410\n",
      "Epoch 120/150\n",
      " - 9s - loss: 0.4181 - acc: 0.8276 - val_loss: 0.4578 - val_acc: 0.8062\n",
      "\n",
      "Epoch 00120: val_acc did not improve from 0.81410\n",
      "Epoch 121/150\n",
      " - 9s - loss: 0.4182 - acc: 0.8278 - val_loss: 0.4582 - val_acc: 0.8086\n",
      "\n",
      "Epoch 00121: val_acc did not improve from 0.81410\n",
      "Epoch 122/150\n",
      " - 9s - loss: 0.4180 - acc: 0.8274 - val_loss: 0.4571 - val_acc: 0.8071\n",
      "\n",
      "Epoch 00122: val_acc did not improve from 0.81410\n",
      "Epoch 123/150\n",
      " - 9s - loss: 0.4176 - acc: 0.8271 - val_loss: 0.4587 - val_acc: 0.8071\n",
      "\n",
      "Epoch 00123: val_acc did not improve from 0.81410\n",
      "Epoch 124/150\n",
      " - 9s - loss: 0.4178 - acc: 0.8272 - val_loss: 0.4586 - val_acc: 0.8086\n",
      "\n",
      "Epoch 00124: val_acc did not improve from 0.81410\n",
      "Epoch 125/150\n",
      " - 9s - loss: 0.4179 - acc: 0.8278 - val_loss: 0.4609 - val_acc: 0.8082\n",
      "\n",
      "Epoch 00125: val_acc did not improve from 0.81410\n",
      "Epoch 126/150\n",
      " - 9s - loss: 0.4174 - acc: 0.8277 - val_loss: 0.4601 - val_acc: 0.8064\n",
      "\n",
      "Epoch 00126: val_acc did not improve from 0.81410\n",
      "Epoch 127/150\n",
      " - 9s - loss: 0.4170 - acc: 0.8278 - val_loss: 0.4603 - val_acc: 0.8069\n",
      "\n",
      "Epoch 00127: val_acc did not improve from 0.81410\n",
      "Epoch 128/150\n",
      " - 10s - loss: 0.4169 - acc: 0.8282 - val_loss: 0.4591 - val_acc: 0.8078\n",
      "\n",
      "Epoch 00128: val_acc did not improve from 0.81410\n",
      "Epoch 129/150\n",
      " - 9s - loss: 0.4168 - acc: 0.8280 - val_loss: 0.4605 - val_acc: 0.8068\n",
      "\n",
      "Epoch 00129: val_acc did not improve from 0.81410\n",
      "Epoch 130/150\n",
      " - 9s - loss: 0.4168 - acc: 0.8276 - val_loss: 0.4614 - val_acc: 0.8078\n",
      "\n",
      "Epoch 00130: val_acc did not improve from 0.81410\n",
      "Epoch 131/150\n",
      " - 9s - loss: 0.4166 - acc: 0.8282 - val_loss: 0.4610 - val_acc: 0.8076\n",
      "\n",
      "Epoch 00131: val_acc did not improve from 0.81410\n",
      "Epoch 132/150\n",
      " - 9s - loss: 0.4165 - acc: 0.8284 - val_loss: 0.4611 - val_acc: 0.8060\n",
      "\n",
      "Epoch 00132: val_acc did not improve from 0.81410\n",
      "Epoch 133/150\n",
      " - 9s - loss: 0.4168 - acc: 0.8282 - val_loss: 0.4601 - val_acc: 0.8070\n",
      "\n",
      "Epoch 00133: val_acc did not improve from 0.81410\n",
      "Epoch 134/150\n",
      " - 9s - loss: 0.4159 - acc: 0.8286 - val_loss: 0.4620 - val_acc: 0.8054\n",
      "\n",
      "Epoch 00134: val_acc did not improve from 0.81410\n",
      "Epoch 135/150\n",
      " - 9s - loss: 0.4160 - acc: 0.8287 - val_loss: 0.4638 - val_acc: 0.8070\n",
      "\n",
      "Epoch 00135: val_acc did not improve from 0.81410\n",
      "Epoch 136/150\n",
      " - 9s - loss: 0.4160 - acc: 0.8284 - val_loss: 0.4633 - val_acc: 0.8060\n",
      "\n",
      "Epoch 00136: val_acc did not improve from 0.81410\n",
      "Epoch 137/150\n",
      " - 9s - loss: 0.4159 - acc: 0.8283 - val_loss: 0.4588 - val_acc: 0.8078\n",
      "\n",
      "Epoch 00137: val_acc did not improve from 0.81410\n",
      "Epoch 138/150\n",
      " - 10s - loss: 0.4155 - acc: 0.8286 - val_loss: 0.4608 - val_acc: 0.8067\n",
      "\n",
      "Epoch 00138: val_acc did not improve from 0.81410\n",
      "Epoch 139/150\n",
      " - 9s - loss: 0.4160 - acc: 0.8289 - val_loss: 0.4630 - val_acc: 0.8074\n",
      "\n",
      "Epoch 00139: val_acc did not improve from 0.81410\n",
      "Epoch 140/150\n",
      " - 9s - loss: 0.4152 - acc: 0.8292 - val_loss: 0.4641 - val_acc: 0.8057\n",
      "\n",
      "Epoch 00140: val_acc did not improve from 0.81410\n",
      "Epoch 141/150\n",
      " - 9s - loss: 0.4150 - acc: 0.8290 - val_loss: 0.4627 - val_acc: 0.8072\n",
      "\n",
      "Epoch 00141: val_acc did not improve from 0.81410\n",
      "Epoch 142/150\n",
      " - 9s - loss: 0.4148 - acc: 0.8293 - val_loss: 0.4623 - val_acc: 0.8055\n",
      "\n",
      "Epoch 00142: val_acc did not improve from 0.81410\n",
      "Epoch 143/150\n",
      " - 9s - loss: 0.4148 - acc: 0.8290 - val_loss: 0.4649 - val_acc: 0.8057\n",
      "\n",
      "Epoch 00143: val_acc did not improve from 0.81410\n",
      "Epoch 144/150\n",
      " - 9s - loss: 0.4149 - acc: 0.8292 - val_loss: 0.4620 - val_acc: 0.8063\n",
      "\n",
      "Epoch 00144: val_acc did not improve from 0.81410\n",
      "Epoch 145/150\n",
      " - 9s - loss: 0.4149 - acc: 0.8290 - val_loss: 0.4640 - val_acc: 0.8071\n",
      "\n",
      "Epoch 00145: val_acc did not improve from 0.81410\n",
      "Epoch 146/150\n",
      " - 9s - loss: 0.4144 - acc: 0.8290 - val_loss: 0.4623 - val_acc: 0.8048\n",
      "\n",
      "Epoch 00146: val_acc did not improve from 0.81410\n",
      "Epoch 147/150\n",
      " - 9s - loss: 0.4142 - acc: 0.8298 - val_loss: 0.4638 - val_acc: 0.8066\n",
      "\n",
      "Epoch 00147: val_acc did not improve from 0.81410\n",
      "Epoch 148/150\n",
      " - 9s - loss: 0.4140 - acc: 0.8292 - val_loss: 0.4645 - val_acc: 0.8068\n",
      "\n",
      "Epoch 00148: val_acc did not improve from 0.81410\n",
      "Epoch 149/150\n",
      " - 9s - loss: 0.4140 - acc: 0.8296 - val_loss: 0.4639 - val_acc: 0.8067\n",
      "\n",
      "Epoch 00149: val_acc did not improve from 0.81410\n",
      "Epoch 150/150\n",
      " - 9s - loss: 0.4137 - acc: 0.8299 - val_loss: 0.4667 - val_acc: 0.8063\n",
      "\n",
      "Epoch 00150: val_acc did not improve from 0.81410\n"
     ]
    },
    {
     "data": {
      "text/plain": [
       "<keras.callbacks.History at 0x7fcf8c79a5c0>"
      ]
     },
     "execution_count": 41,
     "metadata": {},
     "output_type": "execute_result"
    }
   ],
   "source": [
    "# Create model\n",
    "model = Sequential()\n",
    "model.add(Dense(128, input_dim=41, kernel_initializer='uniform', activation='relu'))\n",
    "model.add(Dense(32, kernel_initializer='uniform', activation='relu'))\n",
    "model.add(Dense(1, kernel_initializer='uniform', activation='sigmoid'))\n",
    "# Optimizer\n",
    "sgd = optimizers.SGD(lr=0.01, decay=1e-6, momentum=0.9, nesterov=True)\n",
    "# Compile model\n",
    "model.compile(loss='binary_crossentropy', optimizer=sgd, metrics=['accuracy'])\n",
    "# Checkpoint\n",
    "filepath=\"weights.best.hdf5\"\n",
    "checkpoint = ModelCheckpoint(filepath, monitor='val_acc', verbose=1, save_best_only=True, mode='max')\n",
    "callbacks_list = [checkpoint]\n",
    "# Fit the model\n",
    "model.fit(X_train, y_train, epochs=150, batch_size=64, callbacks=callbacks_list, \n",
    "          verbose=2, validation_data=(X_val, y_val))"
   ]
  },
  {
   "cell_type": "code",
   "execution_count": 42,
   "metadata": {},
   "outputs": [],
   "source": [
    "# Restore the best epoch\n",
    "model.load_weights(\"weights.best.hdf5\")"
   ]
  },
  {
   "cell_type": "code",
   "execution_count": 47,
   "metadata": {},
   "outputs": [
    {
     "data": {
      "text/plain": [
       "([0.43224539596081241, 0.81855218894480908],\n",
       " [0.43913647790596522, 0.81410227392754209])"
      ]
     },
     "execution_count": 47,
     "metadata": {},
     "output_type": "execute_result"
    }
   ],
   "source": [
    "# estimate accuracy on whole dataset using loaded weights\n",
    "scores_train = model.evaluate(X_train, y_train, verbose=0)\n",
    "scores_val = model.evaluate(X_val, y_val, verbose=0)\n",
    "scores_train, scores_val"
   ]
  },
  {
   "cell_type": "code",
   "execution_count": 48,
   "metadata": {},
   "outputs": [],
   "source": [
    "# calculate predictions\n",
    "prob_train = model.predict(X_train)\n",
    "y_pred_train = [round(x[0]) for x in prob_train]\n",
    "prob_val = model.predict(X_val)\n",
    "y_pred_val = [round(x[0]) for x in prob_val]"
   ]
  },
  {
   "cell_type": "code",
   "execution_count": 49,
   "metadata": {},
   "outputs": [
    {
     "data": {
      "text/plain": [
       "{'acc': 0.8185521889441153,\n",
       " 'auc': 0.77283312265600745,\n",
       " 'aps': 0.58342185763903809,\n",
       " 'precision': 0.70829490587533228,\n",
       " 'recall': 0.33601853043366364,\n",
       " 'f1': 0.45580226225387521}"
      ]
     },
     "execution_count": 49,
     "metadata": {},
     "output_type": "execute_result"
    }
   ],
   "source": [
    "compute_metrics(y_train, y_pred_train, prob_train)"
   ]
  },
  {
   "cell_type": "code",
   "execution_count": 50,
   "metadata": {},
   "outputs": [
    {
     "data": {
      "text/plain": [
       "{'acc': 0.81410227392754209,\n",
       " 'auc': 0.7682259337286117,\n",
       " 'aps': 0.56266923708458993,\n",
       " 'precision': 0.68482328482328481,\n",
       " 'recall': 0.32968572763061321,\n",
       " 'f1': 0.44509503648319976}"
      ]
     },
     "execution_count": 50,
     "metadata": {},
     "output_type": "execute_result"
    }
   ],
   "source": [
    "compute_metrics(y_val, y_pred_val, prob_val)"
   ]
  },
  {
   "cell_type": "code",
   "execution_count": null,
   "metadata": {},
   "outputs": [],
   "source": []
  },
  {
   "cell_type": "code",
   "execution_count": 51,
   "metadata": {
    "scrolled": true
   },
   "outputs": [
    {
     "name": "stdout",
     "output_type": "stream",
     "text": [
      "Train on 171818 samples, validate on 66273 samples\n",
      "Epoch 1/150\n",
      " - 9s - loss: 0.5284 - acc: 0.7782 - val_loss: 0.4641 - val_acc: 0.8013\n",
      "\n",
      "Epoch 00001: val_acc improved from -inf to 0.80126, saving model to weights.best.hdf5\n",
      "Epoch 2/150\n",
      " - 9s - loss: 0.4545 - acc: 0.8070 - val_loss: 0.4485 - val_acc: 0.8091\n",
      "\n",
      "Epoch 00002: val_acc improved from 0.80126 to 0.80912, saving model to weights.best.hdf5\n",
      "Epoch 3/150\n",
      " - 9s - loss: 0.4475 - acc: 0.8107 - val_loss: 0.4453 - val_acc: 0.8109\n",
      "\n",
      "Epoch 00003: val_acc improved from 0.80912 to 0.81086, saving model to weights.best.hdf5\n",
      "Epoch 4/150\n",
      " - 9s - loss: 0.4452 - acc: 0.8115 - val_loss: 0.4439 - val_acc: 0.8114\n",
      "\n",
      "Epoch 00004: val_acc improved from 0.81086 to 0.81136, saving model to weights.best.hdf5\n",
      "Epoch 5/150\n",
      " - 9s - loss: 0.4440 - acc: 0.8124 - val_loss: 0.4431 - val_acc: 0.8119\n",
      "\n",
      "Epoch 00005: val_acc improved from 0.81136 to 0.81190, saving model to weights.best.hdf5\n",
      "Epoch 6/150\n",
      " - 9s - loss: 0.4431 - acc: 0.8124 - val_loss: 0.4423 - val_acc: 0.8119\n",
      "\n",
      "Epoch 00006: val_acc did not improve from 0.81190\n",
      "Epoch 7/150\n",
      " - 10s - loss: 0.4423 - acc: 0.8128 - val_loss: 0.4417 - val_acc: 0.8123\n",
      "\n",
      "Epoch 00007: val_acc improved from 0.81190 to 0.81234, saving model to weights.best.hdf5\n",
      "Epoch 8/150\n",
      " - 9s - loss: 0.4417 - acc: 0.8130 - val_loss: 0.4414 - val_acc: 0.8121\n",
      "\n",
      "Epoch 00008: val_acc did not improve from 0.81234\n",
      "Epoch 9/150\n",
      " - 10s - loss: 0.4412 - acc: 0.8132 - val_loss: 0.4409 - val_acc: 0.8123\n",
      "\n",
      "Epoch 00009: val_acc did not improve from 0.81234\n",
      "Epoch 10/150\n",
      " - 9s - loss: 0.4408 - acc: 0.8134 - val_loss: 0.4403 - val_acc: 0.8124\n",
      "\n",
      "Epoch 00010: val_acc improved from 0.81234 to 0.81237, saving model to weights.best.hdf5\n",
      "Epoch 11/150\n",
      " - 9s - loss: 0.4404 - acc: 0.8135 - val_loss: 0.4404 - val_acc: 0.8121\n",
      "\n",
      "Epoch 00011: val_acc did not improve from 0.81237\n",
      "Epoch 12/150\n",
      " - 9s - loss: 0.4402 - acc: 0.8134 - val_loss: 0.4401 - val_acc: 0.8124\n",
      "\n",
      "Epoch 00012: val_acc improved from 0.81237 to 0.81240, saving model to weights.best.hdf5\n",
      "Epoch 13/150\n",
      " - 9s - loss: 0.4399 - acc: 0.8134 - val_loss: 0.4401 - val_acc: 0.8124\n",
      "\n",
      "Epoch 00013: val_acc did not improve from 0.81240\n",
      "Epoch 14/150\n",
      " - 9s - loss: 0.4397 - acc: 0.8134 - val_loss: 0.4401 - val_acc: 0.8123\n",
      "\n",
      "Epoch 00014: val_acc did not improve from 0.81240\n",
      "Epoch 15/150\n",
      " - 9s - loss: 0.4395 - acc: 0.8138 - val_loss: 0.4398 - val_acc: 0.8126\n",
      "\n",
      "Epoch 00015: val_acc improved from 0.81240 to 0.81256, saving model to weights.best.hdf5\n",
      "Epoch 16/150\n",
      " - 9s - loss: 0.4394 - acc: 0.8137 - val_loss: 0.4399 - val_acc: 0.8124\n",
      "\n",
      "Epoch 00016: val_acc did not improve from 0.81256\n",
      "Epoch 17/150\n",
      " - 9s - loss: 0.4392 - acc: 0.8136 - val_loss: 0.4397 - val_acc: 0.8127\n",
      "\n",
      "Epoch 00017: val_acc improved from 0.81256 to 0.81267, saving model to weights.best.hdf5\n",
      "Epoch 18/150\n",
      " - 10s - loss: 0.4391 - acc: 0.8138 - val_loss: 0.4394 - val_acc: 0.8123\n",
      "\n",
      "Epoch 00018: val_acc did not improve from 0.81267\n",
      "Epoch 19/150\n",
      " - 10s - loss: 0.4390 - acc: 0.8136 - val_loss: 0.4397 - val_acc: 0.8124\n",
      "\n",
      "Epoch 00019: val_acc did not improve from 0.81267\n",
      "Epoch 20/150\n",
      " - 9s - loss: 0.4388 - acc: 0.8137 - val_loss: 0.4395 - val_acc: 0.8122\n",
      "\n",
      "Epoch 00020: val_acc did not improve from 0.81267\n",
      "Epoch 21/150\n",
      " - 9s - loss: 0.4387 - acc: 0.8139 - val_loss: 0.4395 - val_acc: 0.8124\n",
      "\n",
      "Epoch 00021: val_acc did not improve from 0.81267\n",
      "Epoch 22/150\n",
      " - 9s - loss: 0.4386 - acc: 0.8137 - val_loss: 0.4393 - val_acc: 0.8124\n",
      "\n",
      "Epoch 00022: val_acc did not improve from 0.81267\n",
      "Epoch 23/150\n",
      " - 9s - loss: 0.4384 - acc: 0.8140 - val_loss: 0.4393 - val_acc: 0.8122\n",
      "\n",
      "Epoch 00023: val_acc did not improve from 0.81267\n",
      "Epoch 24/150\n",
      " - 10s - loss: 0.4384 - acc: 0.8138 - val_loss: 0.4392 - val_acc: 0.8125\n",
      "\n",
      "Epoch 00024: val_acc did not improve from 0.81267\n",
      "Epoch 25/150\n",
      " - 10s - loss: 0.4383 - acc: 0.8141 - val_loss: 0.4393 - val_acc: 0.8123\n",
      "\n",
      "Epoch 00025: val_acc did not improve from 0.81267\n",
      "Epoch 26/150\n",
      " - 9s - loss: 0.4382 - acc: 0.8140 - val_loss: 0.4394 - val_acc: 0.8125\n",
      "\n",
      "Epoch 00026: val_acc did not improve from 0.81267\n",
      "Epoch 27/150\n",
      " - 9s - loss: 0.4380 - acc: 0.8143 - val_loss: 0.4393 - val_acc: 0.8120\n",
      "\n",
      "Epoch 00027: val_acc did not improve from 0.81267\n",
      "Epoch 28/150\n",
      " - 10s - loss: 0.4379 - acc: 0.8140 - val_loss: 0.4390 - val_acc: 0.8123\n",
      "\n",
      "Epoch 00028: val_acc did not improve from 0.81267\n",
      "Epoch 29/150\n",
      " - 9s - loss: 0.4378 - acc: 0.8142 - val_loss: 0.4391 - val_acc: 0.8126\n",
      "\n",
      "Epoch 00029: val_acc did not improve from 0.81267\n",
      "Epoch 30/150\n",
      " - 9s - loss: 0.4377 - acc: 0.8140 - val_loss: 0.4394 - val_acc: 0.8128\n",
      "\n",
      "Epoch 00030: val_acc improved from 0.81267 to 0.81283, saving model to weights.best.hdf5\n",
      "Epoch 31/150\n",
      " - 9s - loss: 0.4377 - acc: 0.8142 - val_loss: 0.4391 - val_acc: 0.8123\n",
      "\n",
      "Epoch 00031: val_acc did not improve from 0.81283\n",
      "Epoch 32/150\n",
      " - 10s - loss: 0.4376 - acc: 0.8144 - val_loss: 0.4389 - val_acc: 0.8124\n",
      "\n",
      "Epoch 00032: val_acc did not improve from 0.81283\n",
      "Epoch 33/150\n",
      " - 9s - loss: 0.4374 - acc: 0.8143 - val_loss: 0.4389 - val_acc: 0.8121\n",
      "\n",
      "Epoch 00033: val_acc did not improve from 0.81283\n",
      "Epoch 34/150\n",
      " - 10s - loss: 0.4374 - acc: 0.8145 - val_loss: 0.4388 - val_acc: 0.8127\n",
      "\n",
      "Epoch 00034: val_acc did not improve from 0.81283\n",
      "Epoch 35/150\n",
      " - 9s - loss: 0.4373 - acc: 0.8147 - val_loss: 0.4392 - val_acc: 0.8121\n",
      "\n",
      "Epoch 00035: val_acc did not improve from 0.81283\n",
      "Epoch 36/150\n",
      " - 10s - loss: 0.4372 - acc: 0.8142 - val_loss: 0.4387 - val_acc: 0.8122\n",
      "\n",
      "Epoch 00036: val_acc did not improve from 0.81283\n",
      "Epoch 37/150\n",
      " - 9s - loss: 0.4371 - acc: 0.8144 - val_loss: 0.4392 - val_acc: 0.8122\n",
      "\n",
      "Epoch 00037: val_acc did not improve from 0.81283\n",
      "Epoch 38/150\n",
      " - 9s - loss: 0.4370 - acc: 0.8145 - val_loss: 0.4391 - val_acc: 0.8125\n",
      "\n",
      "Epoch 00038: val_acc did not improve from 0.81283\n",
      "Epoch 39/150\n",
      " - 9s - loss: 0.4370 - acc: 0.8144 - val_loss: 0.4390 - val_acc: 0.8122\n",
      "\n",
      "Epoch 00039: val_acc did not improve from 0.81283\n",
      "Epoch 40/150\n",
      " - 9s - loss: 0.4368 - acc: 0.8148 - val_loss: 0.4392 - val_acc: 0.8125\n",
      "\n",
      "Epoch 00040: val_acc did not improve from 0.81283\n",
      "Epoch 41/150\n",
      " - 10s - loss: 0.4367 - acc: 0.8148 - val_loss: 0.4395 - val_acc: 0.8121\n",
      "\n",
      "Epoch 00041: val_acc did not improve from 0.81283\n",
      "Epoch 42/150\n",
      " - 9s - loss: 0.4367 - acc: 0.8148 - val_loss: 0.4390 - val_acc: 0.8128\n",
      "\n",
      "Epoch 00042: val_acc did not improve from 0.81283\n",
      "Epoch 43/150\n",
      " - 9s - loss: 0.4366 - acc: 0.8150 - val_loss: 0.4390 - val_acc: 0.8127\n",
      "\n",
      "Epoch 00043: val_acc did not improve from 0.81283\n",
      "Epoch 44/150\n",
      " - 9s - loss: 0.4365 - acc: 0.8149 - val_loss: 0.4387 - val_acc: 0.8124\n",
      "\n",
      "Epoch 00044: val_acc did not improve from 0.81283\n",
      "Epoch 45/150\n",
      " - 9s - loss: 0.4364 - acc: 0.8148 - val_loss: 0.4392 - val_acc: 0.8125\n",
      "\n",
      "Epoch 00045: val_acc did not improve from 0.81283\n",
      "Epoch 46/150\n",
      " - 9s - loss: 0.4363 - acc: 0.8149 - val_loss: 0.4389 - val_acc: 0.8124\n",
      "\n",
      "Epoch 00046: val_acc did not improve from 0.81283\n",
      "Epoch 47/150\n",
      " - 9s - loss: 0.4362 - acc: 0.8147 - val_loss: 0.4387 - val_acc: 0.8120\n",
      "\n",
      "Epoch 00047: val_acc did not improve from 0.81283\n",
      "Epoch 48/150\n",
      " - 9s - loss: 0.4362 - acc: 0.8153 - val_loss: 0.4388 - val_acc: 0.8120\n",
      "\n",
      "Epoch 00048: val_acc did not improve from 0.81283\n",
      "Epoch 49/150\n",
      " - 9s - loss: 0.4361 - acc: 0.8150 - val_loss: 0.4388 - val_acc: 0.8125\n",
      "\n",
      "Epoch 00049: val_acc did not improve from 0.81283\n",
      "Epoch 50/150\n",
      " - 9s - loss: 0.4361 - acc: 0.8153 - val_loss: 0.4388 - val_acc: 0.8122\n",
      "\n",
      "Epoch 00050: val_acc did not improve from 0.81283\n",
      "Epoch 51/150\n",
      " - 10s - loss: 0.4360 - acc: 0.8152 - val_loss: 0.4387 - val_acc: 0.8129\n",
      "\n",
      "Epoch 00051: val_acc improved from 0.81283 to 0.81293, saving model to weights.best.hdf5\n",
      "Epoch 52/150\n",
      " - 9s - loss: 0.4359 - acc: 0.8155 - val_loss: 0.4387 - val_acc: 0.8130\n",
      "\n",
      "Epoch 00052: val_acc improved from 0.81293 to 0.81297, saving model to weights.best.hdf5\n",
      "Epoch 53/150\n",
      " - 9s - loss: 0.4359 - acc: 0.8156 - val_loss: 0.4396 - val_acc: 0.8122\n",
      "\n",
      "Epoch 00053: val_acc did not improve from 0.81297\n",
      "Epoch 54/150\n",
      " - 9s - loss: 0.4358 - acc: 0.8158 - val_loss: 0.4390 - val_acc: 0.8128\n",
      "\n",
      "Epoch 00054: val_acc did not improve from 0.81297\n",
      "Epoch 55/150\n",
      " - 9s - loss: 0.4357 - acc: 0.8160 - val_loss: 0.4391 - val_acc: 0.8130\n",
      "\n",
      "Epoch 00055: val_acc improved from 0.81297 to 0.81300, saving model to weights.best.hdf5\n",
      "Epoch 56/150\n",
      " - 9s - loss: 0.4356 - acc: 0.8160 - val_loss: 0.4392 - val_acc: 0.8125\n",
      "\n",
      "Epoch 00056: val_acc did not improve from 0.81300\n",
      "Epoch 57/150\n"
     ]
    },
    {
     "name": "stdout",
     "output_type": "stream",
     "text": [
      " - 9s - loss: 0.4356 - acc: 0.8158 - val_loss: 0.4395 - val_acc: 0.8132\n",
      "\n",
      "Epoch 00057: val_acc improved from 0.81300 to 0.81323, saving model to weights.best.hdf5\n",
      "Epoch 58/150\n",
      " - 9s - loss: 0.4355 - acc: 0.8160 - val_loss: 0.4391 - val_acc: 0.8128\n",
      "\n",
      "Epoch 00058: val_acc did not improve from 0.81323\n",
      "Epoch 59/150\n",
      " - 9s - loss: 0.4354 - acc: 0.8159 - val_loss: 0.4386 - val_acc: 0.8129\n",
      "\n",
      "Epoch 00059: val_acc did not improve from 0.81323\n",
      "Epoch 60/150\n",
      " - 10s - loss: 0.4353 - acc: 0.8159 - val_loss: 0.4391 - val_acc: 0.8127\n",
      "\n",
      "Epoch 00060: val_acc did not improve from 0.81323\n",
      "Epoch 61/150\n",
      " - 9s - loss: 0.4353 - acc: 0.8164 - val_loss: 0.4389 - val_acc: 0.8128\n",
      "\n",
      "Epoch 00061: val_acc did not improve from 0.81323\n",
      "Epoch 62/150\n",
      " - 9s - loss: 0.4352 - acc: 0.8166 - val_loss: 0.4394 - val_acc: 0.8125\n",
      "\n",
      "Epoch 00062: val_acc did not improve from 0.81323\n",
      "Epoch 63/150\n",
      " - 9s - loss: 0.4351 - acc: 0.8162 - val_loss: 0.4387 - val_acc: 0.8133\n",
      "\n",
      "Epoch 00063: val_acc improved from 0.81323 to 0.81335, saving model to weights.best.hdf5\n",
      "Epoch 64/150\n",
      " - 9s - loss: 0.4350 - acc: 0.8166 - val_loss: 0.4388 - val_acc: 0.8130\n",
      "\n",
      "Epoch 00064: val_acc did not improve from 0.81335\n",
      "Epoch 65/150\n",
      " - 9s - loss: 0.4349 - acc: 0.8164 - val_loss: 0.4395 - val_acc: 0.8132\n",
      "\n",
      "Epoch 00065: val_acc did not improve from 0.81335\n",
      "Epoch 66/150\n",
      " - 9s - loss: 0.4349 - acc: 0.8164 - val_loss: 0.4391 - val_acc: 0.8128\n",
      "\n",
      "Epoch 00066: val_acc did not improve from 0.81335\n",
      "Epoch 67/150\n",
      " - 9s - loss: 0.4349 - acc: 0.8166 - val_loss: 0.4394 - val_acc: 0.8129\n",
      "\n",
      "Epoch 00067: val_acc did not improve from 0.81335\n",
      "Epoch 68/150\n",
      " - 9s - loss: 0.4347 - acc: 0.8163 - val_loss: 0.4394 - val_acc: 0.8130\n",
      "\n",
      "Epoch 00068: val_acc did not improve from 0.81335\n",
      "Epoch 69/150\n",
      " - 9s - loss: 0.4348 - acc: 0.8161 - val_loss: 0.4387 - val_acc: 0.8130\n",
      "\n",
      "Epoch 00069: val_acc did not improve from 0.81335\n",
      "Epoch 70/150\n",
      " - 9s - loss: 0.4347 - acc: 0.8167 - val_loss: 0.4388 - val_acc: 0.8127\n",
      "\n",
      "Epoch 00070: val_acc did not improve from 0.81335\n",
      "Epoch 71/150\n",
      " - 9s - loss: 0.4345 - acc: 0.8166 - val_loss: 0.4392 - val_acc: 0.8126\n",
      "\n",
      "Epoch 00071: val_acc did not improve from 0.81335\n",
      "Epoch 72/150\n",
      " - 9s - loss: 0.4346 - acc: 0.8166 - val_loss: 0.4389 - val_acc: 0.8130\n",
      "\n",
      "Epoch 00072: val_acc did not improve from 0.81335\n",
      "Epoch 73/150\n",
      " - 9s - loss: 0.4343 - acc: 0.8166 - val_loss: 0.4393 - val_acc: 0.8128\n",
      "\n",
      "Epoch 00073: val_acc did not improve from 0.81335\n",
      "Epoch 74/150\n",
      " - 9s - loss: 0.4344 - acc: 0.8169 - val_loss: 0.4390 - val_acc: 0.8131\n",
      "\n",
      "Epoch 00074: val_acc did not improve from 0.81335\n",
      "Epoch 75/150\n",
      " - 10s - loss: 0.4343 - acc: 0.8169 - val_loss: 0.4397 - val_acc: 0.8119\n",
      "\n",
      "Epoch 00075: val_acc did not improve from 0.81335\n",
      "Epoch 76/150\n",
      " - 9s - loss: 0.4342 - acc: 0.8168 - val_loss: 0.4390 - val_acc: 0.8127\n",
      "\n",
      "Epoch 00076: val_acc did not improve from 0.81335\n",
      "Epoch 77/150\n",
      " - 9s - loss: 0.4342 - acc: 0.8168 - val_loss: 0.4391 - val_acc: 0.8121\n",
      "\n",
      "Epoch 00077: val_acc did not improve from 0.81335\n",
      "Epoch 78/150\n",
      " - 9s - loss: 0.4342 - acc: 0.8169 - val_loss: 0.4389 - val_acc: 0.8127\n",
      "\n",
      "Epoch 00078: val_acc did not improve from 0.81335\n",
      "Epoch 79/150\n",
      " - 9s - loss: 0.4341 - acc: 0.8167 - val_loss: 0.4389 - val_acc: 0.8127\n",
      "\n",
      "Epoch 00079: val_acc did not improve from 0.81335\n",
      "Epoch 80/150\n",
      " - 9s - loss: 0.4339 - acc: 0.8173 - val_loss: 0.4389 - val_acc: 0.8129\n",
      "\n",
      "Epoch 00080: val_acc did not improve from 0.81335\n",
      "Epoch 81/150\n",
      " - 9s - loss: 0.4339 - acc: 0.8171 - val_loss: 0.4389 - val_acc: 0.8130\n",
      "\n",
      "Epoch 00081: val_acc did not improve from 0.81335\n",
      "Epoch 82/150\n",
      " - 9s - loss: 0.4338 - acc: 0.8171 - val_loss: 0.4393 - val_acc: 0.8124\n",
      "\n",
      "Epoch 00082: val_acc did not improve from 0.81335\n",
      "Epoch 83/150\n",
      " - 9s - loss: 0.4337 - acc: 0.8171 - val_loss: 0.4397 - val_acc: 0.8122\n",
      "\n",
      "Epoch 00083: val_acc did not improve from 0.81335\n",
      "Epoch 84/150\n",
      " - 10s - loss: 0.4338 - acc: 0.8173 - val_loss: 0.4392 - val_acc: 0.8128\n",
      "\n",
      "Epoch 00084: val_acc did not improve from 0.81335\n",
      "Epoch 85/150\n",
      " - 9s - loss: 0.4337 - acc: 0.8172 - val_loss: 0.4397 - val_acc: 0.8124\n",
      "\n",
      "Epoch 00085: val_acc did not improve from 0.81335\n",
      "Epoch 86/150\n",
      " - 9s - loss: 0.4336 - acc: 0.8174 - val_loss: 0.4401 - val_acc: 0.8126\n",
      "\n",
      "Epoch 00086: val_acc did not improve from 0.81335\n",
      "Epoch 87/150\n",
      " - 9s - loss: 0.4334 - acc: 0.8176 - val_loss: 0.4395 - val_acc: 0.8127\n",
      "\n",
      "Epoch 00087: val_acc did not improve from 0.81335\n",
      "Epoch 88/150\n",
      " - 9s - loss: 0.4335 - acc: 0.8175 - val_loss: 0.4399 - val_acc: 0.8129\n",
      "\n",
      "Epoch 00088: val_acc did not improve from 0.81335\n",
      "Epoch 89/150\n",
      " - 9s - loss: 0.4335 - acc: 0.8174 - val_loss: 0.4397 - val_acc: 0.8130\n",
      "\n",
      "Epoch 00089: val_acc did not improve from 0.81335\n",
      "Epoch 90/150\n",
      " - 9s - loss: 0.4334 - acc: 0.8174 - val_loss: 0.4393 - val_acc: 0.8125\n",
      "\n",
      "Epoch 00090: val_acc did not improve from 0.81335\n",
      "Epoch 91/150\n",
      " - 10s - loss: 0.4334 - acc: 0.8175 - val_loss: 0.4395 - val_acc: 0.8129\n",
      "\n",
      "Epoch 00091: val_acc did not improve from 0.81335\n",
      "Epoch 92/150\n",
      " - 10s - loss: 0.4332 - acc: 0.8176 - val_loss: 0.4394 - val_acc: 0.8126\n",
      "\n",
      "Epoch 00092: val_acc did not improve from 0.81335\n",
      "Epoch 93/150\n",
      " - 9s - loss: 0.4333 - acc: 0.8177 - val_loss: 0.4396 - val_acc: 0.8127\n",
      "\n",
      "Epoch 00093: val_acc did not improve from 0.81335\n",
      "Epoch 94/150\n",
      " - 9s - loss: 0.4331 - acc: 0.8175 - val_loss: 0.4401 - val_acc: 0.8125\n",
      "\n",
      "Epoch 00094: val_acc did not improve from 0.81335\n",
      "Epoch 95/150\n",
      " - 9s - loss: 0.4330 - acc: 0.8176 - val_loss: 0.4398 - val_acc: 0.8130\n",
      "\n",
      "Epoch 00095: val_acc did not improve from 0.81335\n",
      "Epoch 96/150\n",
      " - 9s - loss: 0.4332 - acc: 0.8179 - val_loss: 0.4394 - val_acc: 0.8124\n",
      "\n",
      "Epoch 00096: val_acc did not improve from 0.81335\n",
      "Epoch 97/150\n",
      " - 9s - loss: 0.4330 - acc: 0.8177 - val_loss: 0.4400 - val_acc: 0.8127\n",
      "\n",
      "Epoch 00097: val_acc did not improve from 0.81335\n",
      "Epoch 98/150\n",
      " - 9s - loss: 0.4329 - acc: 0.8178 - val_loss: 0.4397 - val_acc: 0.8129\n",
      "\n",
      "Epoch 00098: val_acc did not improve from 0.81335\n",
      "Epoch 99/150\n",
      " - 9s - loss: 0.4330 - acc: 0.8180 - val_loss: 0.4399 - val_acc: 0.8124\n",
      "\n",
      "Epoch 00099: val_acc did not improve from 0.81335\n",
      "Epoch 100/150\n",
      " - 9s - loss: 0.4329 - acc: 0.8184 - val_loss: 0.4399 - val_acc: 0.8125\n",
      "\n",
      "Epoch 00100: val_acc did not improve from 0.81335\n",
      "Epoch 101/150\n",
      " - 9s - loss: 0.4327 - acc: 0.8177 - val_loss: 0.4395 - val_acc: 0.8127\n",
      "\n",
      "Epoch 00101: val_acc did not improve from 0.81335\n",
      "Epoch 102/150\n",
      " - 9s - loss: 0.4327 - acc: 0.8181 - val_loss: 0.4399 - val_acc: 0.8125\n",
      "\n",
      "Epoch 00102: val_acc did not improve from 0.81335\n",
      "Epoch 103/150\n",
      " - 10s - loss: 0.4327 - acc: 0.8178 - val_loss: 0.4399 - val_acc: 0.8122\n",
      "\n",
      "Epoch 00103: val_acc did not improve from 0.81335\n",
      "Epoch 104/150\n",
      " - 10s - loss: 0.4326 - acc: 0.8182 - val_loss: 0.4407 - val_acc: 0.8124\n",
      "\n",
      "Epoch 00104: val_acc did not improve from 0.81335\n",
      "Epoch 105/150\n",
      " - 9s - loss: 0.4325 - acc: 0.8183 - val_loss: 0.4398 - val_acc: 0.8122\n",
      "\n",
      "Epoch 00105: val_acc did not improve from 0.81335\n",
      "Epoch 106/150\n",
      " - 9s - loss: 0.4325 - acc: 0.8181 - val_loss: 0.4400 - val_acc: 0.8131\n",
      "\n",
      "Epoch 00106: val_acc did not improve from 0.81335\n",
      "Epoch 107/150\n",
      " - 9s - loss: 0.4324 - acc: 0.8183 - val_loss: 0.4406 - val_acc: 0.8126\n",
      "\n",
      "Epoch 00107: val_acc did not improve from 0.81335\n",
      "Epoch 108/150\n",
      " - 9s - loss: 0.4324 - acc: 0.8181 - val_loss: 0.4403 - val_acc: 0.8125\n",
      "\n",
      "Epoch 00108: val_acc did not improve from 0.81335\n",
      "Epoch 109/150\n",
      " - 10s - loss: 0.4323 - acc: 0.8185 - val_loss: 0.4398 - val_acc: 0.8128\n",
      "\n",
      "Epoch 00109: val_acc did not improve from 0.81335\n",
      "Epoch 110/150\n",
      " - 9s - loss: 0.4322 - acc: 0.8186 - val_loss: 0.4401 - val_acc: 0.8121\n",
      "\n",
      "Epoch 00110: val_acc did not improve from 0.81335\n",
      "Epoch 111/150\n",
      " - 10s - loss: 0.4323 - acc: 0.8184 - val_loss: 0.4399 - val_acc: 0.8124\n",
      "\n",
      "Epoch 00111: val_acc did not improve from 0.81335\n",
      "Epoch 112/150\n",
      " - 10s - loss: 0.4321 - acc: 0.8185 - val_loss: 0.4400 - val_acc: 0.8127\n",
      "\n",
      "Epoch 00112: val_acc did not improve from 0.81335\n",
      "Epoch 113/150\n",
      " - 9s - loss: 0.4321 - acc: 0.8185 - val_loss: 0.4398 - val_acc: 0.8132\n",
      "\n",
      "Epoch 00113: val_acc did not improve from 0.81335\n",
      "Epoch 114/150\n",
      " - 9s - loss: 0.4320 - acc: 0.8184 - val_loss: 0.4402 - val_acc: 0.8131\n",
      "\n",
      "Epoch 00114: val_acc did not improve from 0.81335\n",
      "Epoch 115/150\n",
      " - 9s - loss: 0.4319 - acc: 0.8185 - val_loss: 0.4400 - val_acc: 0.8119\n",
      "\n",
      "Epoch 00115: val_acc did not improve from 0.81335\n",
      "Epoch 116/150\n",
      " - 9s - loss: 0.4319 - acc: 0.8186 - val_loss: 0.4408 - val_acc: 0.8124\n"
     ]
    },
    {
     "name": "stdout",
     "output_type": "stream",
     "text": [
      "\n",
      "Epoch 00116: val_acc did not improve from 0.81335\n",
      "Epoch 117/150\n",
      " - 9s - loss: 0.4318 - acc: 0.8184 - val_loss: 0.4410 - val_acc: 0.8130\n",
      "\n",
      "Epoch 00117: val_acc did not improve from 0.81335\n",
      "Epoch 118/150\n",
      " - 9s - loss: 0.4319 - acc: 0.8188 - val_loss: 0.4411 - val_acc: 0.8129\n",
      "\n",
      "Epoch 00118: val_acc did not improve from 0.81335\n",
      "Epoch 119/150\n",
      " - 9s - loss: 0.4319 - acc: 0.8185 - val_loss: 0.4404 - val_acc: 0.8120\n",
      "\n",
      "Epoch 00119: val_acc did not improve from 0.81335\n",
      "Epoch 120/150\n",
      " - 10s - loss: 0.4317 - acc: 0.8186 - val_loss: 0.4407 - val_acc: 0.8127\n",
      "\n",
      "Epoch 00120: val_acc did not improve from 0.81335\n",
      "Epoch 121/150\n",
      " - 10s - loss: 0.4316 - acc: 0.8186 - val_loss: 0.4404 - val_acc: 0.8129\n",
      "\n",
      "Epoch 00121: val_acc did not improve from 0.81335\n",
      "Epoch 122/150\n",
      " - 9s - loss: 0.4316 - acc: 0.8189 - val_loss: 0.4406 - val_acc: 0.8128\n",
      "\n",
      "Epoch 00122: val_acc did not improve from 0.81335\n",
      "Epoch 123/150\n",
      " - 9s - loss: 0.4316 - acc: 0.8190 - val_loss: 0.4403 - val_acc: 0.8131\n",
      "\n",
      "Epoch 00123: val_acc did not improve from 0.81335\n",
      "Epoch 124/150\n",
      " - 9s - loss: 0.4314 - acc: 0.8187 - val_loss: 0.4414 - val_acc: 0.8128\n",
      "\n",
      "Epoch 00124: val_acc did not improve from 0.81335\n",
      "Epoch 125/150\n",
      " - 9s - loss: 0.4315 - acc: 0.8188 - val_loss: 0.4415 - val_acc: 0.8126\n",
      "\n",
      "Epoch 00125: val_acc did not improve from 0.81335\n",
      "Epoch 126/150\n",
      " - 9s - loss: 0.4314 - acc: 0.8190 - val_loss: 0.4407 - val_acc: 0.8126\n",
      "\n",
      "Epoch 00126: val_acc did not improve from 0.81335\n",
      "Epoch 127/150\n",
      " - 9s - loss: 0.4313 - acc: 0.8190 - val_loss: 0.4419 - val_acc: 0.8118\n",
      "\n",
      "Epoch 00127: val_acc did not improve from 0.81335\n",
      "Epoch 128/150\n",
      " - 9s - loss: 0.4314 - acc: 0.8188 - val_loss: 0.4406 - val_acc: 0.8124\n",
      "\n",
      "Epoch 00128: val_acc did not improve from 0.81335\n",
      "Epoch 129/150\n",
      " - 9s - loss: 0.4313 - acc: 0.8188 - val_loss: 0.4405 - val_acc: 0.8129\n",
      "\n",
      "Epoch 00129: val_acc did not improve from 0.81335\n",
      "Epoch 130/150\n",
      " - 9s - loss: 0.4311 - acc: 0.8191 - val_loss: 0.4404 - val_acc: 0.8123\n",
      "\n",
      "Epoch 00130: val_acc did not improve from 0.81335\n",
      "Epoch 131/150\n",
      " - 9s - loss: 0.4311 - acc: 0.8188 - val_loss: 0.4408 - val_acc: 0.8128\n",
      "\n",
      "Epoch 00131: val_acc did not improve from 0.81335\n",
      "Epoch 132/150\n",
      " - 9s - loss: 0.4311 - acc: 0.8191 - val_loss: 0.4406 - val_acc: 0.8123\n",
      "\n",
      "Epoch 00132: val_acc did not improve from 0.81335\n",
      "Epoch 133/150\n",
      " - 9s - loss: 0.4310 - acc: 0.8191 - val_loss: 0.4408 - val_acc: 0.8123\n",
      "\n",
      "Epoch 00133: val_acc did not improve from 0.81335\n",
      "Epoch 134/150\n",
      " - 9s - loss: 0.4309 - acc: 0.8197 - val_loss: 0.4406 - val_acc: 0.8120\n",
      "\n",
      "Epoch 00134: val_acc did not improve from 0.81335\n",
      "Epoch 135/150\n",
      " - 9s - loss: 0.4310 - acc: 0.8191 - val_loss: 0.4410 - val_acc: 0.8126\n",
      "\n",
      "Epoch 00135: val_acc did not improve from 0.81335\n",
      "Epoch 136/150\n",
      " - 9s - loss: 0.4308 - acc: 0.8192 - val_loss: 0.4412 - val_acc: 0.8125\n",
      "\n",
      "Epoch 00136: val_acc did not improve from 0.81335\n",
      "Epoch 137/150\n",
      " - 9s - loss: 0.4307 - acc: 0.8192 - val_loss: 0.4426 - val_acc: 0.8122\n",
      "\n",
      "Epoch 00137: val_acc did not improve from 0.81335\n",
      "Epoch 138/150\n",
      " - 9s - loss: 0.4308 - acc: 0.8194 - val_loss: 0.4409 - val_acc: 0.8122\n",
      "\n",
      "Epoch 00138: val_acc did not improve from 0.81335\n",
      "Epoch 139/150\n",
      " - 10s - loss: 0.4309 - acc: 0.8194 - val_loss: 0.4407 - val_acc: 0.8127\n",
      "\n",
      "Epoch 00139: val_acc did not improve from 0.81335\n",
      "Epoch 140/150\n",
      " - 9s - loss: 0.4305 - acc: 0.8193 - val_loss: 0.4412 - val_acc: 0.8124\n",
      "\n",
      "Epoch 00140: val_acc did not improve from 0.81335\n",
      "Epoch 141/150\n",
      " - 10s - loss: 0.4306 - acc: 0.8193 - val_loss: 0.4426 - val_acc: 0.8113\n",
      "\n",
      "Epoch 00141: val_acc did not improve from 0.81335\n",
      "Epoch 142/150\n",
      " - 9s - loss: 0.4306 - acc: 0.8192 - val_loss: 0.4408 - val_acc: 0.8125\n",
      "\n",
      "Epoch 00142: val_acc did not improve from 0.81335\n",
      "Epoch 143/150\n",
      " - 9s - loss: 0.4306 - acc: 0.8195 - val_loss: 0.4411 - val_acc: 0.8118\n",
      "\n",
      "Epoch 00143: val_acc did not improve from 0.81335\n",
      "Epoch 144/150\n",
      " - 9s - loss: 0.4305 - acc: 0.8195 - val_loss: 0.4415 - val_acc: 0.8121\n",
      "\n",
      "Epoch 00144: val_acc did not improve from 0.81335\n",
      "Epoch 145/150\n",
      " - 9s - loss: 0.4304 - acc: 0.8196 - val_loss: 0.4413 - val_acc: 0.8123\n",
      "\n",
      "Epoch 00145: val_acc did not improve from 0.81335\n",
      "Epoch 146/150\n",
      " - 9s - loss: 0.4304 - acc: 0.8196 - val_loss: 0.4417 - val_acc: 0.8121\n",
      "\n",
      "Epoch 00146: val_acc did not improve from 0.81335\n",
      "Epoch 147/150\n",
      " - 9s - loss: 0.4304 - acc: 0.8195 - val_loss: 0.4420 - val_acc: 0.8126\n",
      "\n",
      "Epoch 00147: val_acc did not improve from 0.81335\n",
      "Epoch 148/150\n",
      " - 10s - loss: 0.4302 - acc: 0.8195 - val_loss: 0.4420 - val_acc: 0.8121\n",
      "\n",
      "Epoch 00148: val_acc did not improve from 0.81335\n",
      "Epoch 149/150\n",
      " - 9s - loss: 0.4301 - acc: 0.8197 - val_loss: 0.4412 - val_acc: 0.8124\n",
      "\n",
      "Epoch 00149: val_acc did not improve from 0.81335\n",
      "Epoch 150/150\n",
      " - 10s - loss: 0.4302 - acc: 0.8194 - val_loss: 0.4417 - val_acc: 0.8118\n",
      "\n",
      "Epoch 00150: val_acc did not improve from 0.81335\n"
     ]
    },
    {
     "data": {
      "text/plain": [
       "<keras.callbacks.History at 0x7fcfec7e7d30>"
      ]
     },
     "execution_count": 51,
     "metadata": {},
     "output_type": "execute_result"
    }
   ],
   "source": [
    "# Create model. Learning rate changed\n",
    "model = Sequential()\n",
    "model.add(Dense(128, input_dim=41, kernel_initializer='uniform', activation='relu'))\n",
    "model.add(Dense(32, kernel_initializer='uniform', activation='relu'))\n",
    "model.add(Dense(1, kernel_initializer='uniform', activation='sigmoid'))\n",
    "# Optimizer\n",
    "sgd = optimizers.SGD(lr=0.001, decay=1e-6, momentum=0.9, nesterov=True)\n",
    "# Compile model\n",
    "model.compile(loss='binary_crossentropy', optimizer=sgd, metrics=['accuracy'])\n",
    "# Checkpoint\n",
    "filepath=\"weights.best_lr.hdf5\"\n",
    "checkpoint = ModelCheckpoint(filepath, monitor='val_acc', verbose=1, save_best_only=True, mode='max')\n",
    "callbacks_list = [checkpoint]\n",
    "# Fit the model\n",
    "model.fit(X_train, y_train, epochs=150, batch_size=64, callbacks=callbacks_list, \n",
    "          verbose=2, validation_data=(X_val, y_val))"
   ]
  },
  {
   "cell_type": "code",
   "execution_count": 52,
   "metadata": {},
   "outputs": [],
   "source": [
    "# Restore the best epoch\n",
    "model.load_weights(\"weights.best.hdf5\")"
   ]
  },
  {
   "cell_type": "code",
   "execution_count": 53,
   "metadata": {},
   "outputs": [
    {
     "data": {
      "text/plain": [
       "([0.43443416632712495, 0.81657917098186206],\n",
       " [0.43867087720272763, 0.81334781887042984])"
      ]
     },
     "execution_count": 53,
     "metadata": {},
     "output_type": "execute_result"
    }
   ],
   "source": [
    "# estimate accuracy on whole dataset using loaded weights\n",
    "scores_train = model.evaluate(X_train, y_train, verbose=0)\n",
    "scores_val = model.evaluate(X_val, y_val, verbose=0)\n",
    "scores_train, scores_val"
   ]
  },
  {
   "cell_type": "code",
   "execution_count": 54,
   "metadata": {},
   "outputs": [],
   "source": [
    "# calculate predictions\n",
    "prob_train = model.predict(X_train)\n",
    "y_pred_train = [round(x[0]) for x in prob_train]\n",
    "prob_val = model.predict(X_val)\n",
    "y_pred_val = [round(x[0]) for x in prob_val]"
   ]
  },
  {
   "cell_type": "code",
   "execution_count": 55,
   "metadata": {},
   "outputs": [
    {
     "data": {
      "text/plain": [
       "{'acc': 0.81657917098324972,\n",
       " 'auc': 0.77083898523903582,\n",
       " 'aps': 0.57446706508628254,\n",
       " 'precision': 0.68741701562659585,\n",
       " 'recall': 0.34644189936945052,\n",
       " 'f1': 0.46070126803223982}"
      ]
     },
     "execution_count": 55,
     "metadata": {},
     "output_type": "execute_result"
    }
   ],
   "source": [
    "compute_metrics(y_train, y_pred_train, prob_train)"
   ]
  },
  {
   "cell_type": "code",
   "execution_count": 56,
   "metadata": {
    "scrolled": true
   },
   "outputs": [
    {
     "data": {
      "text/plain": [
       "{'acc': 0.81334781887042984,\n",
       " 'auc': 0.76802947923193399,\n",
       " 'aps': 0.56233226927030877,\n",
       " 'precision': 0.67053303792519225,\n",
       " 'recall': 0.34329752452125173,\n",
       " 'f1': 0.4541041482789055}"
      ]
     },
     "execution_count": 56,
     "metadata": {},
     "output_type": "execute_result"
    }
   ],
   "source": [
    "compute_metrics(y_val, y_pred_val, prob_val)"
   ]
  },
  {
   "cell_type": "code",
   "execution_count": null,
   "metadata": {},
   "outputs": [],
   "source": []
  },
  {
   "cell_type": "markdown",
   "metadata": {},
   "source": [
    "## Sequences in tensorflow"
   ]
  },
  {
   "cell_type": "code",
   "execution_count": null,
   "metadata": {},
   "outputs": [],
   "source": [
    "from bunch import Bunch"
   ]
  },
  {
   "cell_type": "code",
   "execution_count": 135,
   "metadata": {},
   "outputs": [],
   "source": [
    "order_data_lbl = order_data.merge(labeled_data, on='customer_id', how='left', validate='many_to_one')"
   ]
  },
  {
   "cell_type": "code",
   "execution_count": 136,
   "metadata": {},
   "outputs": [
    {
     "data": {
      "text/plain": [
       "(786600, 42)"
      ]
     },
     "execution_count": 136,
     "metadata": {},
     "output_type": "execute_result"
    }
   ],
   "source": [
    "order_data_lbl.shape"
   ]
  },
  {
   "cell_type": "code",
   "execution_count": 137,
   "metadata": {},
   "outputs": [
    {
     "data": {
      "text/plain": [
       "Index(['customer_id', 'order_hour', 'customer_order_rank', 'is_failed',\n",
       "       'voucher_amount', 'delivery_fee', 'amount_paid', 'restaurant_id',\n",
       "       'city_id', 'payment_id', 'platform_id', 'transmission_id',\n",
       "       'payment_id_1491', 'payment_id_1523', 'payment_id_1619',\n",
       "       'payment_id_1779', 'payment_id_1811', 'platform_id_525',\n",
       "       'platform_id_22167', 'platform_id_22263', 'platform_id_22295',\n",
       "       'platform_id_29463', 'platform_id_29495', 'platform_id_29751',\n",
       "       'platform_id_29815', 'platform_id_30135', 'platform_id_30199',\n",
       "       'platform_id_30231', 'platform_id_30359', 'platform_id_30391',\n",
       "       'platform_id_30423', 'transmission_id_212', 'transmission_id_1988',\n",
       "       'transmission_id_2020', 'transmission_id_4196', 'transmission_id_4228',\n",
       "       'transmission_id_4260', 'transmission_id_4324', 'transmission_id_4356',\n",
       "       'transmission_id_4996', 'transmission_id_21124',\n",
       "       'is_returning_customer'],\n",
       "      dtype='object')"
      ]
     },
     "execution_count": 137,
     "metadata": {},
     "output_type": "execute_result"
    }
   ],
   "source": [
    "order_data_lbl.columns"
   ]
  },
  {
   "cell_type": "code",
   "execution_count": 191,
   "metadata": {},
   "outputs": [],
   "source": [
    "order_data_lbl.drop(['order_date', 'customer_order_rank', 'restaurant_id',\n",
    "                     'restaurant_id', 'city_id', 'payment_id', 'platform_id',\n",
    "                     'transmission_id'], axis=1, inplace=True)"
   ]
  },
  {
   "cell_type": "code",
   "execution_count": 187,
   "metadata": {},
   "outputs": [
    {
     "data": {
      "text/plain": [
       "((245455, 2), 245455)"
      ]
     },
     "execution_count": 187,
     "metadata": {},
     "output_type": "execute_result"
    }
   ],
   "source": [
    "labeled_data.shape, len(pd.unique(order_data_lbl['customer_id']))"
   ]
  },
  {
   "cell_type": "code",
   "execution_count": null,
   "metadata": {},
   "outputs": [],
   "source": []
  },
  {
   "cell_type": "code",
   "execution_count": 192,
   "metadata": {},
   "outputs": [
    {
     "data": {
      "text/html": [
       "<div>\n",
       "<style scoped>\n",
       "    .dataframe tbody tr th:only-of-type {\n",
       "        vertical-align: middle;\n",
       "    }\n",
       "\n",
       "    .dataframe tbody tr th {\n",
       "        vertical-align: top;\n",
       "    }\n",
       "\n",
       "    .dataframe thead th {\n",
       "        text-align: right;\n",
       "    }\n",
       "</style>\n",
       "<table border=\"1\" class=\"dataframe\">\n",
       "  <thead>\n",
       "    <tr style=\"text-align: right;\">\n",
       "      <th></th>\n",
       "      <th>customer_id</th>\n",
       "      <th>order_hour</th>\n",
       "      <th>is_failed</th>\n",
       "      <th>voucher_amount</th>\n",
       "      <th>delivery_fee</th>\n",
       "      <th>amount_paid</th>\n",
       "      <th>payment_id_1491</th>\n",
       "      <th>payment_id_1523</th>\n",
       "      <th>payment_id_1619</th>\n",
       "      <th>payment_id_1779</th>\n",
       "      <th>payment_id_1811</th>\n",
       "      <th>platform_id_525</th>\n",
       "      <th>platform_id_22167</th>\n",
       "      <th>platform_id_22263</th>\n",
       "      <th>platform_id_22295</th>\n",
       "      <th>platform_id_29463</th>\n",
       "      <th>platform_id_29495</th>\n",
       "      <th>platform_id_29751</th>\n",
       "      <th>platform_id_29815</th>\n",
       "      <th>platform_id_30135</th>\n",
       "      <th>platform_id_30199</th>\n",
       "      <th>platform_id_30231</th>\n",
       "      <th>platform_id_30359</th>\n",
       "      <th>platform_id_30391</th>\n",
       "      <th>platform_id_30423</th>\n",
       "      <th>transmission_id_212</th>\n",
       "      <th>transmission_id_1988</th>\n",
       "      <th>transmission_id_2020</th>\n",
       "      <th>transmission_id_4196</th>\n",
       "      <th>transmission_id_4228</th>\n",
       "      <th>transmission_id_4260</th>\n",
       "      <th>transmission_id_4324</th>\n",
       "      <th>transmission_id_4356</th>\n",
       "      <th>transmission_id_4996</th>\n",
       "      <th>transmission_id_21124</th>\n",
       "      <th>is_returning_customer</th>\n",
       "    </tr>\n",
       "  </thead>\n",
       "  <tbody>\n",
       "    <tr>\n",
       "      <th>0</th>\n",
       "      <td>000097eabfd9</td>\n",
       "      <td>19</td>\n",
       "      <td>0</td>\n",
       "      <td>0.0</td>\n",
       "      <td>0.0</td>\n",
       "      <td>11.4696</td>\n",
       "      <td>0</td>\n",
       "      <td>0</td>\n",
       "      <td>0</td>\n",
       "      <td>1</td>\n",
       "      <td>0</td>\n",
       "      <td>0</td>\n",
       "      <td>0</td>\n",
       "      <td>0</td>\n",
       "      <td>0</td>\n",
       "      <td>0</td>\n",
       "      <td>0</td>\n",
       "      <td>0</td>\n",
       "      <td>0</td>\n",
       "      <td>0</td>\n",
       "      <td>0</td>\n",
       "      <td>1</td>\n",
       "      <td>0</td>\n",
       "      <td>0</td>\n",
       "      <td>0</td>\n",
       "      <td>0</td>\n",
       "      <td>0</td>\n",
       "      <td>0</td>\n",
       "      <td>0</td>\n",
       "      <td>0</td>\n",
       "      <td>0</td>\n",
       "      <td>0</td>\n",
       "      <td>1</td>\n",
       "      <td>0</td>\n",
       "      <td>0</td>\n",
       "      <td>0</td>\n",
       "    </tr>\n",
       "  </tbody>\n",
       "</table>\n",
       "</div>"
      ],
      "text/plain": [
       "    customer_id  order_hour  is_failed  voucher_amount  delivery_fee  \\\n",
       "0  000097eabfd9          19          0             0.0           0.0   \n",
       "\n",
       "   amount_paid  payment_id_1491  payment_id_1523  payment_id_1619  \\\n",
       "0      11.4696                0                0                0   \n",
       "\n",
       "   payment_id_1779  payment_id_1811  platform_id_525  platform_id_22167  \\\n",
       "0                1                0                0                  0   \n",
       "\n",
       "   platform_id_22263  platform_id_22295  platform_id_29463  platform_id_29495  \\\n",
       "0                  0                  0                  0                  0   \n",
       "\n",
       "   platform_id_29751  platform_id_29815  platform_id_30135  platform_id_30199  \\\n",
       "0                  0                  0                  0                  0   \n",
       "\n",
       "   platform_id_30231  platform_id_30359  platform_id_30391  platform_id_30423  \\\n",
       "0                  1                  0                  0                  0   \n",
       "\n",
       "   transmission_id_212  transmission_id_1988  transmission_id_2020  \\\n",
       "0                    0                     0                     0   \n",
       "\n",
       "   transmission_id_4196  transmission_id_4228  transmission_id_4260  \\\n",
       "0                     0                     0                     0   \n",
       "\n",
       "   transmission_id_4324  transmission_id_4356  transmission_id_4996  \\\n",
       "0                     0                     1                     0   \n",
       "\n",
       "   transmission_id_21124  is_returning_customer  \n",
       "0                      0                      0  "
      ]
     },
     "execution_count": 192,
     "metadata": {},
     "output_type": "execute_result"
    }
   ],
   "source": [
    "order_data_lbl.head(1)"
   ]
  },
  {
   "cell_type": "code",
   "execution_count": 193,
   "metadata": {},
   "outputs": [
    {
     "data": {
      "text/plain": [
       "(0.22614045094227614, 0.22613631734046744, 171818, 73637)"
      ]
     },
     "execution_count": 193,
     "metadata": {},
     "output_type": "execute_result"
    }
   ],
   "source": [
    "cust_train, cust_val, lbl_train, lbl_val = train_test_split(labeled_data, labeled_data['is_returning_customer'], \n",
    "                                                            test_size=0.3, stratify=labeled_data['is_returning_customer'],\n",
    "                                                            shuffle=True, random_state=142)\n",
    "lbl_train.mean(), lbl_val.mean(), len(lbl_train), len(lbl_val)"
   ]
  },
  {
   "cell_type": "code",
   "execution_count": null,
   "metadata": {},
   "outputs": [],
   "source": []
  },
  {
   "cell_type": "code",
   "execution_count": 139,
   "metadata": {},
   "outputs": [],
   "source": [
    "import tensorflow as tf\n",
    "\n",
    "\n",
    "def set_seed(config):\n",
    "    np.random.seed(config.seed)\n",
    "    random.seed(config.seed)\n",
    "    \n",
    "    \n",
    "def set_gpu_config(gpu_frac):\n",
    "    gpu_options = tf.GPUOptions(per_process_gpu_memory_fraction=gpu_frac, allow_growth=True)\n",
    "    gpu_config = tf.ConfigProto(log_device_placement=False, gpu_options=gpu_options) #True\n",
    "    \n",
    "    return gpu_config"
   ]
  },
  {
   "cell_type": "code",
   "execution_count": 313,
   "metadata": {},
   "outputs": [],
   "source": [
    "config = {'batch_size': 64, 'num_epochs': 1, 'input_size': 39, 'seed': 142,\n",
    "          'gpu_frac': 0.5, 'threshold': 0.5, 'learning_rate': 1e-3, 'num_rnn_layers': 2,\n",
    "          'hid_size': 32}\n",
    "config = Bunch(config)"
   ]
  },
  {
   "cell_type": "code",
   "execution_count": 294,
   "metadata": {},
   "outputs": [],
   "source": [
    "DATA_VARIABLES = 'data_variables'\n",
    "\n",
    "\n",
    "def init_data_variables(sess):\n",
    "    for data_var in tf.get_collection(DATA_VARIABLES):\n",
    "        data_var.init(sess)\n",
    "\n",
    "\n",
    "class DataVarWrapper:\n",
    "    def __init__(self, data):\n",
    "        self.name = 'data_wrapper'\n",
    "        self.data = data\n",
    "        self.var = tf.Variable(tf.zeros(self.data.shape, dtype=self.data.dtype), \n",
    "                               validate_shape=False, trainable=False, \n",
    "                               dtype=self.data.dtype, collections=[], name='data_var')\n",
    "        tf.add_to_collection(DATA_VARIABLES, self)\n",
    "\n",
    "        \n",
    "    def init(self, sess):\n",
    "        self.var.load(self.data, sess)"
   ]
  },
  {
   "cell_type": "code",
   "execution_count": 307,
   "metadata": {},
   "outputs": [],
   "source": [
    "class BatchIterator:\n",
    "    def __init__(self, config, order_data):\n",
    "        self.config = config\n",
    "        \n",
    "        with tf.device('/cpu:0'):\n",
    "            self.data_var_wrapper = DataVarWrapper(order_data.values.astype('float32'))\n",
    "            \n",
    "            \n",
    "    def _map_function(self, row):\n",
    "        sample_dict = {\n",
    "            'X': self.data_var_wrapper.var[row[0]:row[0]+row[1], :],\n",
    "            'y': row[2],\n",
    "            'seqlen': row[1] \n",
    "        }\n",
    "        return sample_dict\n",
    "    \n",
    "    \n",
    "    def create_iterator(self, sess, order_summary, is_training=True):\n",
    "        if is_training:\n",
    "            dataset = tf.data.Dataset.from_tensor_slices(order_summary)\n",
    "            dataset = dataset.shuffle(10000)\n",
    "            dataset = dataset.repeat(self.config.num_epochs)\n",
    "        else:\n",
    "            dataset = tf.data.Dataset.from_tensor_slices(order_summary)\n",
    "\n",
    "        dataset = dataset.map(self._map_function, num_parallel_calls=64)\n",
    "        dataset = dataset.padded_batch(self.config.batch_size, \n",
    "                                       padded_shapes={'X': [None, self.config.input_size],\n",
    "                                                      'y': [],\n",
    "                                                      'seqlen': []})            \n",
    "        dataset = dataset.prefetch(4)\n",
    "        init_iter = dataset.make_initializable_iterator()\n",
    "        get_next = init_iter.get_next()\n",
    "\n",
    "        return {'init_iter': init_iter.initializer, 'get_next': get_next}"
   ]
  },
  {
   "cell_type": "code",
   "execution_count": 159,
   "metadata": {},
   "outputs": [],
   "source": [
    "def create_order_summary(order_data_lbl):\n",
    "#     customer_ids = pd.unique(labeled_data['customer_id'])\n",
    "    grouped = order_data_lbl.groupby('customer_id', as_index=False)\n",
    "    order_summary_list = []\n",
    "    \n",
    "    for name, group in grouped:\n",
    "        #orders = order_data[order_data['customer_id'] == customer_id]\n",
    "        order_summary_list.append([name, group.index[0], group.shape[0], \n",
    "                                   (group['is_returning_customer'].sum() > 0).astype('int8')])\n",
    "            \n",
    "    order_summary = np.array(order_summary_list)\n",
    "    order_summary = pd.DataFrame(order_summary, columns=['customer_id', 'idx_start', 'num_orders', 'label'])\n",
    "    \n",
    "    order_summary['customer_id'] = order_summary['customer_id'].astype('str')\n",
    "    order_summary['idx_start'] = order_summary['idx_start'].astype('int64')\n",
    "    order_summary['num_orders'] = order_summary['num_orders'].astype('int64')\n",
    "    order_summary['label'] = order_summary['label'].astype('int8')\n",
    "    \n",
    "    return order_summary"
   ]
  },
  {
   "cell_type": "code",
   "execution_count": 213,
   "metadata": {},
   "outputs": [],
   "source": [
    "order_summary = create_order_summary(order_data_lbl)"
   ]
  },
  {
   "cell_type": "code",
   "execution_count": 214,
   "metadata": {},
   "outputs": [
    {
     "data": {
      "text/html": [
       "<div>\n",
       "<style scoped>\n",
       "    .dataframe tbody tr th:only-of-type {\n",
       "        vertical-align: middle;\n",
       "    }\n",
       "\n",
       "    .dataframe tbody tr th {\n",
       "        vertical-align: top;\n",
       "    }\n",
       "\n",
       "    .dataframe thead th {\n",
       "        text-align: right;\n",
       "    }\n",
       "</style>\n",
       "<table border=\"1\" class=\"dataframe\">\n",
       "  <thead>\n",
       "    <tr style=\"text-align: right;\">\n",
       "      <th></th>\n",
       "      <th>customer_id</th>\n",
       "      <th>idx_start</th>\n",
       "      <th>num_orders</th>\n",
       "      <th>label</th>\n",
       "    </tr>\n",
       "  </thead>\n",
       "  <tbody>\n",
       "    <tr>\n",
       "      <th>0</th>\n",
       "      <td>000097eabfd9</td>\n",
       "      <td>0</td>\n",
       "      <td>1</td>\n",
       "      <td>0</td>\n",
       "    </tr>\n",
       "  </tbody>\n",
       "</table>\n",
       "</div>"
      ],
      "text/plain": [
       "    customer_id  idx_start  num_orders  label\n",
       "0  000097eabfd9          0           1      0"
      ]
     },
     "execution_count": 214,
     "metadata": {},
     "output_type": "execute_result"
    }
   ],
   "source": [
    "order_summary.head(1)"
   ]
  },
  {
   "cell_type": "code",
   "execution_count": 215,
   "metadata": {},
   "outputs": [
    {
     "data": {
      "text/plain": [
       "((171818, 4), (73637, 4))"
      ]
     },
     "execution_count": 215,
     "metadata": {},
     "output_type": "execute_result"
    }
   ],
   "source": [
    "order_summary_train = order_summary[order_summary['customer_id'].isin(cust_train['customer_id'])]\n",
    "order_summary_val = order_summary[order_summary['customer_id'].isin(cust_val['customer_id'])]\n",
    "order_summary_train.shape, order_summary_val.shape"
   ]
  },
  {
   "cell_type": "code",
   "execution_count": 314,
   "metadata": {},
   "outputs": [],
   "source": [
    "tf.reset_default_graph()\n",
    "gpu_config = set_gpu_config(config.gpu_frac)\n",
    "sess = tf.Session(config=gpu_config)"
   ]
  },
  {
   "cell_type": "code",
   "execution_count": 315,
   "metadata": {},
   "outputs": [],
   "source": [
    "batch_iterator = BatchIterator(config, order_data_lbl.iloc[:, 1:-1])\n",
    "iter_dict = {'train': batch_iterator.create_iterator(sess, order_summary_train.iloc[:, 1:], True),\n",
    "             'val': batch_iterator.create_iterator(sess, order_summary_val.iloc[:, 1:], False)}"
   ]
  },
  {
   "cell_type": "code",
   "execution_count": 298,
   "metadata": {},
   "outputs": [
    {
     "data": {
      "text/plain": [
       "({'init_iter': <tf.Operation 'MakeIterator' type=MakeIterator>,\n",
       "  'get_next': {'X': <tf.Tensor 'IteratorGetNext:0' shape=(?, ?, 39) dtype=float32>,\n",
       "   'y': <tf.Tensor 'IteratorGetNext:2' shape=(?,) dtype=int64>,\n",
       "   'seqlen': <tf.Tensor 'IteratorGetNext:1' shape=(?,) dtype=int64>}},\n",
       " {'init_iter': <tf.Operation 'MakeIterator_1' type=MakeIterator>,\n",
       "  'get_next': {'X': <tf.Tensor 'IteratorGetNext_1:0' shape=(?, ?, 39) dtype=float32>,\n",
       "   'y': <tf.Tensor 'IteratorGetNext_1:2' shape=(?,) dtype=int64>,\n",
       "   'seqlen': <tf.Tensor 'IteratorGetNext_1:1' shape=(?,) dtype=int64>}})"
      ]
     },
     "execution_count": 298,
     "metadata": {},
     "output_type": "execute_result"
    }
   ],
   "source": [
    "iter_dict['train'], iter_dict['val']"
   ]
  },
  {
   "cell_type": "code",
   "execution_count": 299,
   "metadata": {},
   "outputs": [],
   "source": [
    "sess.run(tf.global_variables_initializer(), init_data_variables(sess))\n",
    "sess.run(iter_dict['train']['init_iter'])"
   ]
  },
  {
   "cell_type": "code",
   "execution_count": 300,
   "metadata": {},
   "outputs": [
    {
     "data": {
      "text/plain": [
       "((64, 22, 39), (64,), 22)"
      ]
     },
     "execution_count": 300,
     "metadata": {},
     "output_type": "execute_result"
    }
   ],
   "source": [
    "next_batch = sess.run(iter_dict['train']['get_next'])\n",
    "next_batch['X'].shape, next_batch['y'].shape, next_batch['seqlen'].max()"
   ]
  },
  {
   "cell_type": "code",
   "execution_count": 301,
   "metadata": {},
   "outputs": [],
   "source": [
    "def network(data_dict, config):\n",
    "    cell = tf.contrib.cudnn_rnn.CudnnLSTM(num_layers=config.num_rnn_layers,\n",
    "                                          num_units=config.hid_size,  \n",
    "                                          kernel_initializer=tf.initializers.random_normal(stddev=1e-3),\n",
    "                                          bias_initializer=tf.initializers.zeros())\n",
    "    cell.build(input_shape=data_dict['input'].shape)\n",
    "    outputs, output_states = cell.call(inputs=data_dict['input'])\n",
    "    \n",
    "#     conv1 = causal_conv1d(outputs, \n",
    "#                           filters=config.num_filters,\n",
    "#                           kernel_size=config.filter_width,  \n",
    "#                           kernel_initializer=tf.initializers.random_normal(stddev=1e-3),\n",
    "#                           bias_initializer=tf.initializers.ones(), \n",
    "#                           #padding='same', \n",
    "#                           activation=tf.nn.relu)\n",
    "#     conv2 = causal_conv1d(conv1, \n",
    "#                           filters=config.num_filters,\n",
    "#                           kernel_size=config.filter_width,  \n",
    "#                           kernel_initializer=tf.initializers.random_normal(stddev=1e-3),\n",
    "#                           bias_initializer=tf.initializers.ones(), \n",
    "#                           #padding='same', \n",
    "#                           activation=tf.nn.relu)\n",
    "    dense = tf.layers.dense(inputs=outputs, \n",
    "                            units=1, \n",
    "                            activation=tf.nn.sigmoid, \n",
    "                            kernel_initializer=tf.initializers.random_normal(stddev=1e-3),\n",
    "                            bias_initializer=tf.initializers.ones())\n",
    "    return dense"
   ]
  },
  {
   "cell_type": "code",
   "execution_count": 302,
   "metadata": {},
   "outputs": [],
   "source": [
    "class Model:\n",
    "    def __init__(self, config):\n",
    "        self.config = config\n",
    "        self.build_model()\n",
    "        \n",
    "        \n",
    "    def build_model(self):\n",
    "        # data placeholders\n",
    "        self.data_dict = {'input': tf.placeholder(tf.float32, shape=[None, None, self.config.input_size]), \n",
    "                          'target': tf.placeholder(tf.float32, shape=[None]), \n",
    "                          'seq_lens': tf.placeholder(tf.int64, shape=[None])}\n",
    "        # training parameters\n",
    "        self.threshold = tf.placeholder_with_default(self.config.threshold, shape=[])\n",
    "        self.learning_rate = tf.placeholder_with_default(self.config.learning_rate, shape=[])\n",
    "        \n",
    "        self.max_len = tf.reduce_max(self.data_dict['seq_lens'])\n",
    "        self.mask = tf.sequence_mask(self.data_dict['seq_lens'], self.max_len)\n",
    "        net_output = network(self.data_dict, self.config)\n",
    "        self.dense = self.extract_axis_1(net_output, self.data_dict['seq_lens'] - 1)\n",
    "        \n",
    "        with tf.name_scope('predicted_probs'):\n",
    "            self.prediction = tf.squeeze(self.dense, axis=1)\n",
    "        with tf.name_scope('rounded_predictions'):\n",
    "            self.prediction_int = tf.round(tf.add(self.prediction, 0.5-self.config.threshold))\n",
    "        with tf.name_scope('is_correct_predictions'):\n",
    "            self.is_correct_pred = self._is_correct_pred(self.data_dict['target'], \n",
    "                                                         self.prediction_int)\n",
    "            \n",
    "        with tf.name_scope('loss'):\n",
    "            self.loss = self._cost(self.data_dict['target'], self.prediction)\n",
    "        with tf.name_scope('optimizer'):\n",
    "            optimizer = tf.train.AdamOptimizer(self.config.learning_rate, 0.9)\n",
    "            self.train_step = optimizer.minimize(self.loss)\n",
    "        with tf.name_scope('accuracy'):\n",
    "            self.accuracy = tf.reduce_sum(tf.cast(self.is_correct_pred, tf.float32))\n",
    "            \n",
    "#         self.accum_acc = self._create_accum_metric(tf.metrics.accuracy, 'accum_acc', \n",
    "#                                                    predictions=self.prediction_int, \n",
    "#                                                    labels=self.data_dict['target'], \n",
    "#                                                    weights=self.mask)\n",
    "#         self.accum_auc = self._create_accum_metric(tf.metrics.auc, 'accum_auc', \n",
    "#                                                    predictions=self.prediction, # !! not self.prediction_int !!, \n",
    "#                                                    labels=self.data_dict['target'], \n",
    "#                                                    weights=self.mask,\n",
    "#                                                    curve='ROC')\n",
    "#         self.accum_pr = self._create_accum_metric(tf.metrics.auc, 'accum_pr', \n",
    "#                                                   predictions=self.prediction, # !! not self.prediction_int !!, \n",
    "#                                                   labels=self.data_dict['target'], \n",
    "#                                                   weights=self.mask,\n",
    "#                                                   curve='PR',\n",
    "#                                                   summation_method='careful_interpolation')\n",
    "#         self.accum_loss = self._create_accum_metric(tf.metrics.mean, 'accum_loss', \n",
    "#                                                     values=self.loss)\n",
    "        \n",
    "#         # check average prediction certainty for different delta\n",
    "#         self.accum_pred_delta_list = [self._create_accum_metric(tf.metrics.mean, 'accum_pred_delta', \n",
    "#                                                                 values=pred_delta) \n",
    "#                                       for pred_delta in self._mean_pred_delta(self.data_dict['target'], self.prediction)]\n",
    "        \n",
    "\n",
    "    def _cost(self, target, outcome):\n",
    "        outcome = tf.maximum(1e-4, tf.minimum(1 - 1e-4, outcome))\n",
    "        cross_entropy = -(tf.cast(target, dtype=tf.float32) * tf.log(outcome) + \n",
    "                          tf.cast(1-target, dtype=tf.float32) * (tf.log1p(-outcome)))\n",
    "        return tf.reduce_mean(cross_entropy)\n",
    "    \n",
    "    \n",
    "    def _is_correct_pred(self, target, predint):\n",
    "        equal = tf.equal(tf.cast(target, tf.float64), tf.cast(predint, tf.float64))\n",
    "        equal = tf.cast(equal, dtype=tf.float32)    \n",
    "        return equal\n",
    "    \n",
    "    \n",
    "#     def _create_accum_metric(self, metric, scope, **metric_args):\n",
    "#         with tf.name_scope(scope) as scope:\n",
    "#             metric_op, update_op = metric(**metric_args)\n",
    "#             vars = tf.contrib.framework.get_variables(scope, collection=tf.GraphKeys.LOCAL_VARIABLES)\n",
    "#             reset_op = tf.variables_initializer(vars)\n",
    "#         return {'metric_op': metric_op, 'update_op': update_op, 'reset_op': reset_op}\n",
    "    \n",
    "    \n",
    "#     def _mean_pred_delta(self, target, outcome):\n",
    "#         delta_list = [-120, -90, -60, -30, 0, 30, 60, 90, 120]\n",
    "#         tmp = tf.ones([tf.shape(target)[0], 1], tf.float32)\n",
    "#         target_ext = tf.concat([tmp, target], axis=1)\n",
    "#         idx = tf.where(tf.equal(target_ext[:, 1:] - target_ext[:, :-1], 1.))\n",
    "#         tmp2_list = [tf.scalar_mul(delta, tf.ones([tf.shape(idx)[0]], tf.int64)) \n",
    "#                      for delta in delta_list]\n",
    "#         idx2_list = [tf.concat([idx[:,:-1], tf.reshape(tf.add(idx[:,-1], tmp2), [-1, 1])], axis=1) \n",
    "#                      for tmp2 in tmp2_list]\n",
    "#         pred_list = [tf.gather_nd(outcome, idx2) \n",
    "#                      for idx2 in idx2_list] # returns 0 if value by index is unavailable\n",
    "# #         pred_mean_list = [tf.reduce_mean(pred) \n",
    "# #                           for pred in pred_list]\n",
    "#         preds_notna_list = [tf.where(tf.is_nan(preds), tf.zeros(tf.shape(preds)), preds) \n",
    "#                             for preds in pred_list]\n",
    "#         return preds_notna_list\n",
    "    def extract_axis_1(self, data, ind):\n",
    "        batch_range = tf.range(tf.shape(data)[0])\n",
    "        indices = tf.stack([tf.cast(batch_range, dtype=tf.int64), \n",
    "                            tf.cast(ind, dtype=tf.int64)], \n",
    "                           axis=1)\n",
    "        res = tf.gather_nd(data, indices)\n",
    "        \n",
    "        return res"
   ]
  },
  {
   "cell_type": "code",
   "execution_count": 316,
   "metadata": {},
   "outputs": [],
   "source": [
    "model = Model(config)"
   ]
  },
  {
   "cell_type": "code",
   "execution_count": 317,
   "metadata": {},
   "outputs": [],
   "source": [
    "init = tf.group(tf.global_variables_initializer(), tf.local_variables_initializer())"
   ]
  },
  {
   "cell_type": "code",
   "execution_count": 323,
   "metadata": {},
   "outputs": [
    {
     "data": {
      "text/plain": [
       "(64, 1)"
      ]
     },
     "execution_count": 323,
     "metadata": {},
     "output_type": "execute_result"
    }
   ],
   "source": [
    "sess.run(init)\n",
    "init_data_variables(sess)\n",
    "sess.run(iter_dict['val']['init_iter'])\n",
    "next_batch = sess.run(iter_dict['val']['get_next'])\n",
    "sess.run(model.dense, feed_dict={model.data_dict['input']: next_batch['X'],\n",
    "                                 model.data_dict['target']: next_batch['y'],\n",
    "                                 model.data_dict['seq_lens']: next_batch['seqlen']}).shape"
   ]
  },
  {
   "cell_type": "code",
   "execution_count": null,
   "metadata": {},
   "outputs": [],
   "source": [
    "sess.run(model.prediction, feed_dict={model.data_dict['input']: next_batch['X'],\n",
    "                                      model.data_dict['target']: next_batch['y'],\n",
    "                                      model.data_dict['seq_lens']: next_batch['seqlen']})"
   ]
  },
  {
   "cell_type": "code",
   "execution_count": null,
   "metadata": {},
   "outputs": [],
   "source": [
    "sess.run(model.loss, feed_dict={model.data_dict['input']: next_batch['X'],\n",
    "                                model.data_dict['target']: next_batch['y'],\n",
    "                                model.data_dict['seq_lens']: next_batch['seqlen']})"
   ]
  },
  {
   "cell_type": "code",
   "execution_count": 283,
   "metadata": {},
   "outputs": [
    {
     "data": {
      "text/plain": [
       "1.0788867264054716"
      ]
     },
     "execution_count": 283,
     "metadata": {},
     "output_type": "execute_result"
    }
   ],
   "source": [
    "a = next_batch['y']\n",
    "b = sess.run(model.prediction, feed_dict={model.data_dict['input']: next_batch['X'],\n",
    "                                          model.data_dict['target']: next_batch['y'],\n",
    "                                          model.data_dict['seq_lens']: next_batch['seqlen']})\n",
    "-(a*np.log(b) + (1-a)*np.log(1-b)).mean()"
   ]
  },
  {
   "cell_type": "code",
   "execution_count": null,
   "metadata": {},
   "outputs": [],
   "source": []
  },
  {
   "cell_type": "code",
   "execution_count": null,
   "metadata": {},
   "outputs": [],
   "source": []
  },
  {
   "cell_type": "code",
   "execution_count": null,
   "metadata": {},
   "outputs": [],
   "source": []
  },
  {
   "cell_type": "code",
   "execution_count": null,
   "metadata": {},
   "outputs": [],
   "source": []
  },
  {
   "cell_type": "code",
   "execution_count": null,
   "metadata": {},
   "outputs": [],
   "source": []
  },
  {
   "cell_type": "code",
   "execution_count": null,
   "metadata": {},
   "outputs": [],
   "source": []
  },
  {
   "cell_type": "code",
   "execution_count": null,
   "metadata": {},
   "outputs": [],
   "source": []
  }
 ],
 "metadata": {
  "kernelspec": {
   "display_name": "Python 3",
   "language": "python",
   "name": "python3"
  },
  "language_info": {
   "codemirror_mode": {
    "name": "ipython",
    "version": 3
   },
   "file_extension": ".py",
   "mimetype": "text/x-python",
   "name": "python",
   "nbconvert_exporter": "python",
   "pygments_lexer": "ipython3",
   "version": "3.6.3"
  }
 },
 "nbformat": 4,
 "nbformat_minor": 2
}
