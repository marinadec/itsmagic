{
 "cells": [
  {
   "cell_type": "code",
   "execution_count": 34,
   "metadata": {},
   "outputs": [],
   "source": [
    "import pandas as pd\n",
    "import numpy as np\n",
    "\n",
    "import matplotlib.pyplot as plt\n",
    "from sklearn.linear_model import LogisticRegression\n",
    "from sklearn.ensemble import RandomForestClassifier\n",
    "from sklearn.model_selection import train_test_split\n",
    "from sklearn.metrics import accuracy_score, average_precision_score,\\\n",
    "    roc_auc_score, precision_score, recall_score, f1_score\n",
    "from xgboost import XGBClassifier\n",
    "import sys, re\n",
    "from collections import OrderedDict\n",
    "import seaborn as sns\n",
    "from sklearn import preprocessing\n",
    "import _pickle as pickle\n",
    "from sklearn import tree\n",
    "from sklearn import svm"
   ]
  },
  {
   "cell_type": "code",
   "execution_count": 16,
   "metadata": {},
   "outputs": [],
   "source": [
    "seed = 142\n",
    "pd.options.display.max_columns = 50\n",
    "np.random.seed(seed)"
   ]
  },
  {
   "cell_type": "markdown",
   "metadata": {},
   "source": [
    "## Read data"
   ]
  },
  {
   "cell_type": "code",
   "execution_count": 17,
   "metadata": {},
   "outputs": [],
   "source": [
    "data = pd.read_feather('Xy_norm.feather')"
   ]
  },
  {
   "cell_type": "code",
   "execution_count": 18,
   "metadata": {},
   "outputs": [
    {
     "data": {
      "text/plain": [
       "(245455, 42)"
      ]
     },
     "execution_count": 18,
     "metadata": {},
     "output_type": "execute_result"
    }
   ],
   "source": [
    "data.shape"
   ]
  },
  {
   "cell_type": "code",
   "execution_count": 19,
   "metadata": {},
   "outputs": [
    {
     "data": {
      "text/html": [
       "<div>\n",
       "<style scoped>\n",
       "    .dataframe tbody tr th:only-of-type {\n",
       "        vertical-align: middle;\n",
       "    }\n",
       "\n",
       "    .dataframe tbody tr th {\n",
       "        vertical-align: top;\n",
       "    }\n",
       "\n",
       "    .dataframe thead th {\n",
       "        text-align: right;\n",
       "    }\n",
       "</style>\n",
       "<table border=\"1\" class=\"dataframe\">\n",
       "  <thead>\n",
       "    <tr style=\"text-align: right;\">\n",
       "      <th></th>\n",
       "      <th>orders_num</th>\n",
       "      <th>is_failed_num</th>\n",
       "      <th>voucher_amount_sum</th>\n",
       "      <th>delivery_fee_mean</th>\n",
       "      <th>delivery_fee_sum</th>\n",
       "      <th>restaurant_id_unq_num</th>\n",
       "      <th>city_id_unq_num</th>\n",
       "      <th>payment_id_unq_num</th>\n",
       "      <th>platform_id_unq_num</th>\n",
       "      <th>transmission_id_unq_num</th>\n",
       "      <th>amount_paid_mean</th>\n",
       "      <th>amount_paid_std</th>\n",
       "      <th>payment_id_1491_num</th>\n",
       "      <th>payment_id_1523_num</th>\n",
       "      <th>payment_id_1619_num</th>\n",
       "      <th>payment_id_1779_num</th>\n",
       "      <th>payment_id_1811_num</th>\n",
       "      <th>platform_id_525_num</th>\n",
       "      <th>platform_id_22167_num</th>\n",
       "      <th>platform_id_22263_num</th>\n",
       "      <th>platform_id_22295_num</th>\n",
       "      <th>platform_id_29463_num</th>\n",
       "      <th>platform_id_29495_num</th>\n",
       "      <th>platform_id_29751_num</th>\n",
       "      <th>platform_id_29815_num</th>\n",
       "      <th>platform_id_30135_num</th>\n",
       "      <th>platform_id_30199_num</th>\n",
       "      <th>platform_id_30231_num</th>\n",
       "      <th>platform_id_30359_num</th>\n",
       "      <th>platform_id_30391_num</th>\n",
       "      <th>platform_id_30423_num</th>\n",
       "      <th>transmission_id_212_num</th>\n",
       "      <th>transmission_id_1988_num</th>\n",
       "      <th>transmission_id_2020_num</th>\n",
       "      <th>transmission_id_4196_num</th>\n",
       "      <th>transmission_id_4228_num</th>\n",
       "      <th>transmission_id_4260_num</th>\n",
       "      <th>transmission_id_4324_num</th>\n",
       "      <th>transmission_id_4356_num</th>\n",
       "      <th>transmission_id_4996_num</th>\n",
       "      <th>transmission_id_21124_num</th>\n",
       "      <th>is_returning_customer</th>\n",
       "    </tr>\n",
       "  </thead>\n",
       "  <tbody>\n",
       "    <tr>\n",
       "      <th>0</th>\n",
       "      <td>-0.313796</td>\n",
       "      <td>-0.153931</td>\n",
       "      <td>-0.160605</td>\n",
       "      <td>-0.534689</td>\n",
       "      <td>-0.248892</td>\n",
       "      <td>-0.412621</td>\n",
       "      <td>-0.170542</td>\n",
       "      <td>-0.3857</td>\n",
       "      <td>-0.407176</td>\n",
       "      <td>-0.515242</td>\n",
       "      <td>0.114188</td>\n",
       "      <td>-0.462233</td>\n",
       "      <td>-0.096045</td>\n",
       "      <td>-0.026364</td>\n",
       "      <td>-0.417414</td>\n",
       "      <td>0.012129</td>\n",
       "      <td>-0.109599</td>\n",
       "      <td>-0.061359</td>\n",
       "      <td>-0.003496</td>\n",
       "      <td>-0.012939</td>\n",
       "      <td>-0.002018</td>\n",
       "      <td>-0.259836</td>\n",
       "      <td>-0.121011</td>\n",
       "      <td>-0.064448</td>\n",
       "      <td>-0.193848</td>\n",
       "      <td>-0.010699</td>\n",
       "      <td>-0.02617</td>\n",
       "      <td>0.029065</td>\n",
       "      <td>-0.256269</td>\n",
       "      <td>-0.172863</td>\n",
       "      <td>-0.105601</td>\n",
       "      <td>-0.095907</td>\n",
       "      <td>-0.025389</td>\n",
       "      <td>-0.002018</td>\n",
       "      <td>-0.067011</td>\n",
       "      <td>-0.295478</td>\n",
       "      <td>-0.114311</td>\n",
       "      <td>-0.330953</td>\n",
       "      <td>-0.100007</td>\n",
       "      <td>-0.103457</td>\n",
       "      <td>-0.021054</td>\n",
       "      <td>0</td>\n",
       "    </tr>\n",
       "    <tr>\n",
       "      <th>1</th>\n",
       "      <td>-0.313796</td>\n",
       "      <td>-0.153931</td>\n",
       "      <td>-0.160605</td>\n",
       "      <td>-0.534689</td>\n",
       "      <td>-0.248892</td>\n",
       "      <td>-0.412621</td>\n",
       "      <td>-0.170542</td>\n",
       "      <td>-0.3857</td>\n",
       "      <td>-0.407176</td>\n",
       "      <td>-0.515242</td>\n",
       "      <td>-0.215465</td>\n",
       "      <td>-0.462233</td>\n",
       "      <td>-0.096045</td>\n",
       "      <td>-0.026364</td>\n",
       "      <td>-0.202441</td>\n",
       "      <td>-0.250828</td>\n",
       "      <td>-0.109599</td>\n",
       "      <td>-0.061359</td>\n",
       "      <td>-0.003496</td>\n",
       "      <td>-0.012939</td>\n",
       "      <td>-0.002018</td>\n",
       "      <td>-0.259836</td>\n",
       "      <td>-0.121011</td>\n",
       "      <td>-0.064448</td>\n",
       "      <td>-0.193848</td>\n",
       "      <td>-0.010699</td>\n",
       "      <td>-0.02617</td>\n",
       "      <td>-0.219259</td>\n",
       "      <td>0.350588</td>\n",
       "      <td>-0.172863</td>\n",
       "      <td>-0.105601</td>\n",
       "      <td>-0.095907</td>\n",
       "      <td>-0.025389</td>\n",
       "      <td>-0.002018</td>\n",
       "      <td>-0.067011</td>\n",
       "      <td>-0.295478</td>\n",
       "      <td>-0.114311</td>\n",
       "      <td>-0.330953</td>\n",
       "      <td>-0.100007</td>\n",
       "      <td>-0.103457</td>\n",
       "      <td>-0.021054</td>\n",
       "      <td>0</td>\n",
       "    </tr>\n",
       "    <tr>\n",
       "      <th>2</th>\n",
       "      <td>-0.313796</td>\n",
       "      <td>-0.153931</td>\n",
       "      <td>-0.160605</td>\n",
       "      <td>0.864187</td>\n",
       "      <td>-0.037560</td>\n",
       "      <td>-0.412621</td>\n",
       "      <td>-0.170542</td>\n",
       "      <td>-0.3857</td>\n",
       "      <td>-0.407176</td>\n",
       "      <td>-0.515242</td>\n",
       "      <td>-0.839974</td>\n",
       "      <td>-0.462233</td>\n",
       "      <td>-0.096045</td>\n",
       "      <td>-0.026364</td>\n",
       "      <td>-0.202441</td>\n",
       "      <td>-0.250828</td>\n",
       "      <td>-0.109599</td>\n",
       "      <td>-0.061359</td>\n",
       "      <td>-0.003496</td>\n",
       "      <td>-0.012939</td>\n",
       "      <td>-0.002018</td>\n",
       "      <td>-0.259836</td>\n",
       "      <td>-0.121011</td>\n",
       "      <td>-0.064448</td>\n",
       "      <td>-0.193848</td>\n",
       "      <td>-0.010699</td>\n",
       "      <td>-0.02617</td>\n",
       "      <td>-0.219259</td>\n",
       "      <td>0.350588</td>\n",
       "      <td>-0.172863</td>\n",
       "      <td>-0.105601</td>\n",
       "      <td>-0.095907</td>\n",
       "      <td>-0.025389</td>\n",
       "      <td>-0.002018</td>\n",
       "      <td>-0.067011</td>\n",
       "      <td>-0.295478</td>\n",
       "      <td>-0.114311</td>\n",
       "      <td>0.067902</td>\n",
       "      <td>-0.354967</td>\n",
       "      <td>-0.103457</td>\n",
       "      <td>-0.021054</td>\n",
       "      <td>1</td>\n",
       "    </tr>\n",
       "  </tbody>\n",
       "</table>\n",
       "</div>"
      ],
      "text/plain": [
       "   orders_num  is_failed_num  voucher_amount_sum  delivery_fee_mean  \\\n",
       "0   -0.313796      -0.153931           -0.160605          -0.534689   \n",
       "1   -0.313796      -0.153931           -0.160605          -0.534689   \n",
       "2   -0.313796      -0.153931           -0.160605           0.864187   \n",
       "\n",
       "   delivery_fee_sum  restaurant_id_unq_num  city_id_unq_num  \\\n",
       "0         -0.248892              -0.412621        -0.170542   \n",
       "1         -0.248892              -0.412621        -0.170542   \n",
       "2         -0.037560              -0.412621        -0.170542   \n",
       "\n",
       "   payment_id_unq_num  platform_id_unq_num  transmission_id_unq_num  \\\n",
       "0             -0.3857            -0.407176                -0.515242   \n",
       "1             -0.3857            -0.407176                -0.515242   \n",
       "2             -0.3857            -0.407176                -0.515242   \n",
       "\n",
       "   amount_paid_mean  amount_paid_std  payment_id_1491_num  \\\n",
       "0          0.114188        -0.462233            -0.096045   \n",
       "1         -0.215465        -0.462233            -0.096045   \n",
       "2         -0.839974        -0.462233            -0.096045   \n",
       "\n",
       "   payment_id_1523_num  payment_id_1619_num  payment_id_1779_num  \\\n",
       "0            -0.026364            -0.417414             0.012129   \n",
       "1            -0.026364            -0.202441            -0.250828   \n",
       "2            -0.026364            -0.202441            -0.250828   \n",
       "\n",
       "   payment_id_1811_num  platform_id_525_num  platform_id_22167_num  \\\n",
       "0            -0.109599            -0.061359              -0.003496   \n",
       "1            -0.109599            -0.061359              -0.003496   \n",
       "2            -0.109599            -0.061359              -0.003496   \n",
       "\n",
       "   platform_id_22263_num  platform_id_22295_num  platform_id_29463_num  \\\n",
       "0              -0.012939              -0.002018              -0.259836   \n",
       "1              -0.012939              -0.002018              -0.259836   \n",
       "2              -0.012939              -0.002018              -0.259836   \n",
       "\n",
       "   platform_id_29495_num  platform_id_29751_num  platform_id_29815_num  \\\n",
       "0              -0.121011              -0.064448              -0.193848   \n",
       "1              -0.121011              -0.064448              -0.193848   \n",
       "2              -0.121011              -0.064448              -0.193848   \n",
       "\n",
       "   platform_id_30135_num  platform_id_30199_num  platform_id_30231_num  \\\n",
       "0              -0.010699               -0.02617               0.029065   \n",
       "1              -0.010699               -0.02617              -0.219259   \n",
       "2              -0.010699               -0.02617              -0.219259   \n",
       "\n",
       "   platform_id_30359_num  platform_id_30391_num  platform_id_30423_num  \\\n",
       "0              -0.256269              -0.172863              -0.105601   \n",
       "1               0.350588              -0.172863              -0.105601   \n",
       "2               0.350588              -0.172863              -0.105601   \n",
       "\n",
       "   transmission_id_212_num  transmission_id_1988_num  \\\n",
       "0                -0.095907                 -0.025389   \n",
       "1                -0.095907                 -0.025389   \n",
       "2                -0.095907                 -0.025389   \n",
       "\n",
       "   transmission_id_2020_num  transmission_id_4196_num  \\\n",
       "0                 -0.002018                 -0.067011   \n",
       "1                 -0.002018                 -0.067011   \n",
       "2                 -0.002018                 -0.067011   \n",
       "\n",
       "   transmission_id_4228_num  transmission_id_4260_num  \\\n",
       "0                 -0.295478                 -0.114311   \n",
       "1                 -0.295478                 -0.114311   \n",
       "2                 -0.295478                 -0.114311   \n",
       "\n",
       "   transmission_id_4324_num  transmission_id_4356_num  \\\n",
       "0                 -0.330953                 -0.100007   \n",
       "1                 -0.330953                 -0.100007   \n",
       "2                  0.067902                 -0.354967   \n",
       "\n",
       "   transmission_id_4996_num  transmission_id_21124_num  is_returning_customer  \n",
       "0                 -0.103457                  -0.021054                      0  \n",
       "1                 -0.103457                  -0.021054                      0  \n",
       "2                 -0.103457                  -0.021054                      1  "
      ]
     },
     "execution_count": 19,
     "metadata": {},
     "output_type": "execute_result"
    }
   ],
   "source": [
    "data.head(3)"
   ]
  },
  {
   "cell_type": "code",
   "execution_count": 20,
   "metadata": {},
   "outputs": [],
   "source": [
    "X = data.iloc[:, 1:-1]\n",
    "y = data.iloc[:, -1]"
   ]
  },
  {
   "cell_type": "code",
   "execution_count": 21,
   "metadata": {},
   "outputs": [],
   "source": [
    "# Create train, val, test matrices\n",
    "X_train, X_test, y_train, y_test = train_test_split(X, y, test_size=0.3, stratify=y, \n",
    "                                                    shuffle=True, random_state=seed) \n",
    "X_val, X_test, y_val, y_test = train_test_split(X_test, y_test, test_size=0.1, stratify=y_test, \n",
    "                                                shuffle=True, random_state=seed) "
   ]
  },
  {
   "cell_type": "code",
   "execution_count": 22,
   "metadata": {},
   "outputs": [
    {
     "data": {
      "text/plain": [
       "(0.22614045094227614,\n",
       " 0.22614035881882516,\n",
       " 0.22609994568169473,\n",
       " 171818,\n",
       " 66273,\n",
       " 7364)"
      ]
     },
     "execution_count": 22,
     "metadata": {},
     "output_type": "execute_result"
    }
   ],
   "source": [
    "# Check if splitting has the same ratio of positive labels\n",
    "y_train.mean(), y_val.mean(), y_test.mean(), len(y_train), len(y_val), len(y_test)"
   ]
  },
  {
   "cell_type": "markdown",
   "metadata": {},
   "source": [
    "$Comment$: Distribution of labels is the same for train, validation and test sets."
   ]
  },
  {
   "cell_type": "markdown",
   "metadata": {},
   "source": [
    "## Create metric functions"
   ]
  },
  {
   "cell_type": "code",
   "execution_count": 23,
   "metadata": {},
   "outputs": [],
   "source": [
    "# Compute metrics: accuracy, auc, aps, precision, recall, f1\n",
    "def compute_metrics(y_true, y_pred, prob):\n",
    "    acc = accuracy_score(y_true, y_pred)\n",
    "    auc = roc_auc_score(y_true, prob)\n",
    "    aps = average_precision_score(y_true, prob)\n",
    "    precision = precision_score(y_true, y_pred)\n",
    "    recall = recall_score(y_true, y_pred)\n",
    "    f1 = f1_score(y_true, y_pred)\n",
    "    \n",
    "    return {'acc': acc, 'auc': auc, 'aps': aps, \n",
    "            'precision': precision, 'recall': recall, \n",
    "            'f1': f1}\n",
    "\n",
    "\n",
    "# Compute basic metrics: accuracy, auc, aps (used for zero baseline mainly)\n",
    "def compute_basic_metrics(y_true, y_pred, prob):\n",
    "    acc = accuracy_score(y_true, y_pred)\n",
    "    auc = roc_auc_score(y_true, prob)\n",
    "    aps = average_precision_score(y_true, prob)\n",
    "    \n",
    "    return {'acc': acc, 'auc': auc, 'aps': aps}\n",
    "\n",
    "\n",
    "# Compute accuracy for different thresholds [0.1, ..., 0.9]\n",
    "def try_acc_thresholds(model, data_dict):\n",
    "    thresholds = [.1,.2,.3,.4,.5,.6,.7,.8,.9]\n",
    "    for thr in thresholds:\n",
    "        acc_train = accuracy_score(data_dict['y_train'], \n",
    "                                   (model.predict_proba(data_dict['X_train'])[:,1] > thr).astype('int'))\n",
    "        acc_val = accuracy_score(data_dict['y_val'], \n",
    "                                 (model.predict_proba(data_dict['X_val'])[:,1] > thr).astype('int'))\n",
    "        print('Threshold= {}, Train acc= {:.3f},  Val acc= {:.3f}'.format(thr, acc_train, acc_val))\n",
    "        \n",
    "        \n",
    "# Compute basic metrics for zero output \n",
    "def compute_zero_baseline(y_true):\n",
    "    metric_dict = compute_basic_metrics(y_true, np.zeros(y_true.shape[0]), np.zeros(y_true.shape[0]))\n",
    "    return metric_dict\n",
    "\n",
    "\n",
    "# Compute metrics for random 0/1 output \n",
    "def compute_rand_baseline(y_true, thr=0.5):\n",
    "    rand_pred = np.random.random_sample((y_true.shape[0],))\n",
    "    metric_dict = compute_metrics(y_true, np.round(rand_pred + 0.5 - thr), rand_pred)\n",
    "    return metric_dict"
   ]
  },
  {
   "cell_type": "markdown",
   "metadata": {},
   "source": [
    "## Baseline"
   ]
  },
  {
   "cell_type": "markdown",
   "metadata": {},
   "source": [
    "### Train set"
   ]
  },
  {
   "cell_type": "code",
   "execution_count": 24,
   "metadata": {},
   "outputs": [
    {
     "data": {
      "text/plain": [
       "{'acc': 0.77385954905772392, 'auc': 0.5, 'aps': 0.22614045094227614}"
      ]
     },
     "execution_count": 24,
     "metadata": {},
     "output_type": "execute_result"
    }
   ],
   "source": [
    "# Zero baseline\n",
    "compute_zero_baseline(y_train)"
   ]
  },
  {
   "cell_type": "code",
   "execution_count": 25,
   "metadata": {},
   "outputs": [
    {
     "data": {
      "text/plain": [
       "{'acc': 0.50166455202598093,\n",
       " 'auc': 0.49902688741915818,\n",
       " 'aps': 0.22540208355054861,\n",
       " 'precision': 0.22651571856287425,\n",
       " 'recall': 0.49846866555140906,\n",
       " 'f1': 0.3114852966009698}"
      ]
     },
     "execution_count": 25,
     "metadata": {},
     "output_type": "execute_result"
    }
   ],
   "source": [
    "# Random baseline (threshold=0.5)\n",
    "compute_rand_baseline(y_train, thr=0.5)"
   ]
  },
  {
   "cell_type": "code",
   "execution_count": 26,
   "metadata": {},
   "outputs": [
    {
     "data": {
      "text/plain": [
       "{'acc': 0.71883621040868828,\n",
       " 'auc': 0.49983634918525133,\n",
       " 'aps': 0.22591723023333327,\n",
       " 'precision': 0.2247262986256697,\n",
       " 'recall': 0.09931797709432505,\n",
       " 'f1': 0.13775501097685044}"
      ]
     },
     "execution_count": 26,
     "metadata": {},
     "output_type": "execute_result"
    }
   ],
   "source": [
    "# Random baseline (threshold=0.5)\n",
    "compute_rand_baseline(y_train, thr=0.9)"
   ]
  },
  {
   "cell_type": "markdown",
   "metadata": {},
   "source": [
    "### Validation set"
   ]
  },
  {
   "cell_type": "code",
   "execution_count": 27,
   "metadata": {},
   "outputs": [
    {
     "data": {
      "text/plain": [
       "{'acc': 0.77385964118117478, 'auc': 0.5, 'aps': 0.22614035881882516}"
      ]
     },
     "execution_count": 27,
     "metadata": {},
     "output_type": "execute_result"
    }
   ],
   "source": [
    "# Zero baseline\n",
    "compute_zero_baseline(y_val)"
   ]
  },
  {
   "cell_type": "code",
   "execution_count": 28,
   "metadata": {},
   "outputs": [
    {
     "data": {
      "text/plain": [
       "{'acc': 0.49979629713457968,\n",
       " 'auc': 0.49895146944039614,\n",
       " 'aps': 0.22480537945599074,\n",
       " 'precision': 0.22617216945575155,\n",
       " 'recall': 0.5005004337092146,\n",
       " 'f1': 0.31155507559395246}"
      ]
     },
     "execution_count": 28,
     "metadata": {},
     "output_type": "execute_result"
    }
   ],
   "source": [
    "# Random baseline (threshold=0.5)\n",
    "compute_rand_baseline(y_val, thr=0.5)"
   ]
  },
  {
   "cell_type": "code",
   "execution_count": 29,
   "metadata": {},
   "outputs": [
    {
     "data": {
      "text/plain": [
       "{'acc': 0.71950869886680846,\n",
       " 'auc': 0.49780329578931493,\n",
       " 'aps': 0.22545030671614247,\n",
       " 'precision': 0.2266241651487553,\n",
       " 'recall': 0.099619670380996866,\n",
       " 'f1': 0.13840092699884124}"
      ]
     },
     "execution_count": 29,
     "metadata": {},
     "output_type": "execute_result"
    }
   ],
   "source": [
    "# Random baseline (threshold=0.9)\n",
    "compute_rand_baseline(y_val, thr=0.9)"
   ]
  },
  {
   "cell_type": "markdown",
   "metadata": {},
   "source": [
    "$Comment$: We will compare these zero and random baselines metrics with the models below."
   ]
  },
  {
   "cell_type": "markdown",
   "metadata": {},
   "source": [
    "## Logistic regression"
   ]
  },
  {
   "cell_type": "code",
   "execution_count": 30,
   "metadata": {},
   "outputs": [
    {
     "data": {
      "text/plain": [
       "LogisticRegression(C=1.0, class_weight=None, dual=False, fit_intercept=True,\n",
       "          intercept_scaling=1, max_iter=100, multi_class='ovr', n_jobs=1,\n",
       "          penalty='l2', random_state=None, solver='liblinear', tol=0.0001,\n",
       "          verbose=0, warm_start=False)"
      ]
     },
     "execution_count": 30,
     "metadata": {},
     "output_type": "execute_result"
    }
   ],
   "source": [
    "# Train with regularization\n",
    "log_reg = LogisticRegression(C=1.0)\n",
    "log_reg.fit(X_train, y_train)"
   ]
  },
  {
   "cell_type": "code",
   "execution_count": 31,
   "metadata": {},
   "outputs": [],
   "source": [
    "# Predict for val set\n",
    "y_pred_val = log_reg.predict_proba(X_val)[:,1]"
   ]
  },
  {
   "cell_type": "code",
   "execution_count": 32,
   "metadata": {},
   "outputs": [
    {
     "data": {
      "text/plain": [
       "(array([[-0.12285088, -0.01030362, -0.00572957, -0.02866086,  0.03796215,\n",
       "          0.01761493,  0.0884019 ,  0.13637196,  0.20661698, -0.13702989,\n",
       "          0.23212244, -0.04069597,  0.04032924,  0.14646664,  0.20079719,\n",
       "          0.04427254, -0.05777088, -0.00105366, -0.01519414,  0.00268847,\n",
       "          0.09233123,  0.01914287,  0.06276501,  0.11505164, -0.00090941,\n",
       "         -0.00617146,  0.10355623,  0.19911338, -0.16014418,  0.02205983,\n",
       "          0.02016334,  0.04578503,  0.01298719, -0.01535417,  0.16437958,\n",
       "          0.00608195,  0.04054943,  0.21664891,  0.18991323, -0.00990552]]),\n",
       " array([-1.3319579]))"
      ]
     },
     "execution_count": 32,
     "metadata": {},
     "output_type": "execute_result"
    }
   ],
   "source": [
    "# See the coefficients\n",
    "log_reg.coef_, log_reg.intercept_"
   ]
  },
  {
   "cell_type": "code",
   "execution_count": 36,
   "metadata": {},
   "outputs": [],
   "source": [
    "# Collect the outputs and labels\n",
    "prob_train = log_reg.predict_proba(X_train)[:,1]\n",
    "y_pred_train = log_reg.predict(X_train)\n",
    "prob_val = log_reg.predict_proba(X_val)[:,1]\n",
    "y_pred_val = log_reg.predict(X_val)"
   ]
  },
  {
   "cell_type": "code",
   "execution_count": 37,
   "metadata": {},
   "outputs": [
    {
     "data": {
      "image/png": "[encoded data removed]",
      "text/plain": [
       "<Figure size 432x288 with 1 Axes>"
      ]
     },
     "metadata": {},
     "output_type": "display_data"
    }
   ],
   "source": [
    "# Check the output distribution (val set)\n",
    "plt.hist(prob_val, bins=150)\n",
    "plt.show()"
   ]
  },
  {
   "cell_type": "code",
   "execution_count": 43,
   "metadata": {},
   "outputs": [
    {
     "data": {
      "text/plain": [
       "{'acc': 0.80886752261113504,\n",
       " 'auc': 0.75145655076534978,\n",
       " 'aps': 0.54329459842311734,\n",
       " 'precision': 0.7092173913043478,\n",
       " 'recall': 0.26238579333419121,\n",
       " 'f1': 0.38305466842006386}"
      ]
     },
     "execution_count": 43,
     "metadata": {},
     "output_type": "execute_result"
    }
   ],
   "source": [
    "# Train set metrics\n",
    "compute_metrics(y_train, y_pred_train, prob_train)"
   ]
  },
  {
   "cell_type": "code",
   "execution_count": 38,
   "metadata": {},
   "outputs": [
    {
     "data": {
      "text/plain": [
       "{'acc': 0.80773467324551473,\n",
       " 'auc': 0.75378287981653935,\n",
       " 'aps': 0.5432914675130337,\n",
       " 'precision': 0.70005346640527533,\n",
       " 'recall': 0.26209381463935411,\n",
       " 'f1': 0.38139625206330713}"
      ]
     },
     "execution_count": 38,
     "metadata": {},
     "output_type": "execute_result"
    }
   ],
   "source": [
    "# Val set metrics\n",
    "compute_metrics(y_val, y_pred_val, prob_val)"
   ]
  },
  {
   "cell_type": "code",
   "execution_count": 39,
   "metadata": {
    "scrolled": true
   },
   "outputs": [
    {
     "name": "stdout",
     "output_type": "stream",
     "text": [
      "Threshold= 0.1, Train acc= 0.260,  Val acc= 0.260\n",
      "Threshold= 0.2, Train acc= 0.737,  Val acc= 0.736\n",
      "Threshold= 0.3, Train acc= 0.794,  Val acc= 0.793\n",
      "Threshold= 0.4, Train acc= 0.808,  Val acc= 0.807\n",
      "Threshold= 0.5, Train acc= 0.809,  Val acc= 0.808\n",
      "Threshold= 0.6, Train acc= 0.805,  Val acc= 0.804\n",
      "Threshold= 0.7, Train acc= 0.799,  Val acc= 0.799\n",
      "Threshold= 0.8, Train acc= 0.794,  Val acc= 0.794\n",
      "Threshold= 0.9, Train acc= 0.788,  Val acc= 0.787\n"
     ]
    }
   ],
   "source": [
    "# Try thresholds on train set\n",
    "data_dict = {'X_train': X_train, 'y_train': y_train,\n",
    "             'X_val': X_val, 'y_val': y_val}\n",
    "try_acc_thresholds(log_reg, data_dict)"
   ]
  },
  {
   "cell_type": "markdown",
   "metadata": {},
   "source": [
    "$Comment$: No overfitting as metrics on the validation set are not worse than on the train set.\n",
    "\n",
    "Threshold 0.5 should work fine to be picked as it gives the best accuracy on both train and val sets.\n",
    "\n",
    "The model performs better than zero and random baselines."
   ]
  },
  {
   "cell_type": "markdown",
   "metadata": {},
   "source": [
    "## Random forest"
   ]
  },
  {
   "cell_type": "markdown",
   "metadata": {},
   "source": [
    "### Relatevily small model"
   ]
  },
  {
   "cell_type": "code",
   "execution_count": 40,
   "metadata": {},
   "outputs": [
    {
     "data": {
      "text/plain": [
       "RandomForestClassifier(bootstrap=True, class_weight=None, criterion='gini',\n",
       "            max_depth=4, max_features='auto', max_leaf_nodes=None,\n",
       "            min_impurity_decrease=0.0, min_impurity_split=None,\n",
       "            min_samples_leaf=1, min_samples_split=2,\n",
       "            min_weight_fraction_leaf=0.0, n_estimators=50, n_jobs=1,\n",
       "            oob_score=False, random_state=None, verbose=0,\n",
       "            warm_start=False)"
      ]
     },
     "execution_count": 40,
     "metadata": {},
     "output_type": "execute_result"
    }
   ],
   "source": [
    "# Train\n",
    "tree_clf = RandomForestClassifier(n_estimators=50, max_depth=4)\n",
    "tree_clf.fit(X_train, y_train)"
   ]
  },
  {
   "cell_type": "code",
   "execution_count": 41,
   "metadata": {},
   "outputs": [],
   "source": [
    "# Collect the outputs and labels\n",
    "prob_train = tree_clf.predict_proba(X_train)[:,1]\n",
    "y_pred_train = tree_clf.predict(X_train)\n",
    "prob_val = tree_clf.predict_proba(X_val)[:,1]\n",
    "y_pred_val = tree_clf.predict(X_val)"
   ]
  },
  {
   "cell_type": "code",
   "execution_count": 42,
   "metadata": {},
   "outputs": [
    {
     "data": {
      "text/plain": [
       "{'acc': 0.80716222980130137,\n",
       " 'auc': 0.75868446728275896,\n",
       " 'aps': 0.5386024973431971,\n",
       " 'precision': 0.69934503901895206,\n",
       " 'recall': 0.25831939261356324,\n",
       " 'f1': 0.37728118480651041}"
      ]
     },
     "execution_count": 42,
     "metadata": {},
     "output_type": "execute_result"
    }
   ],
   "source": [
    "# Train set metrics\n",
    "compute_metrics(y_train, y_pred_train, prob_train)"
   ]
  },
  {
   "cell_type": "code",
   "execution_count": 43,
   "metadata": {},
   "outputs": [
    {
     "data": {
      "text/plain": [
       "{'acc': 0.80651245605299293,\n",
       " 'auc': 0.75973274772595301,\n",
       " 'aps': 0.53824588660841943,\n",
       " 'precision': 0.69397633560415917,\n",
       " 'recall': 0.25829051844932277,\n",
       " 'f1': 0.37646486749331387}"
      ]
     },
     "execution_count": 43,
     "metadata": {},
     "output_type": "execute_result"
    }
   ],
   "source": [
    "# Val set metrics\n",
    "compute_metrics(y_val, y_pred_val, prob_val)"
   ]
  },
  {
   "cell_type": "code",
   "execution_count": 44,
   "metadata": {},
   "outputs": [
    {
     "data": {
      "image/png": "[encoded data removed]",
      "text/plain": [
       "<Figure size 432x288 with 1 Axes>"
      ]
     },
     "metadata": {},
     "output_type": "display_data"
    }
   ],
   "source": [
    "# Check the output distribution (val set)\n",
    "plt.hist(prob_train, bins=150)\n",
    "plt.show()\n",
    "plt.hist(prob_val, bins=150)\n",
    "plt.show()"
   ]
  },
  {
   "cell_type": "code",
   "execution_count": 45,
   "metadata": {},
   "outputs": [
    {
     "name": "stdout",
     "output_type": "stream",
     "text": [
      "Threshold= 0.1, Train acc= 0.226,  Val acc= 0.226\n",
      "Threshold= 0.2, Train acc= 0.695,  Val acc= 0.694\n",
      "Threshold= 0.3, Train acc= 0.775,  Val acc= 0.775\n",
      "Threshold= 0.4, Train acc= 0.806,  Val acc= 0.805\n",
      "Threshold= 0.5, Train acc= 0.807,  Val acc= 0.807\n",
      "Threshold= 0.6, Train acc= 0.798,  Val acc= 0.798\n",
      "Threshold= 0.7, Train acc= 0.784,  Val acc= 0.784\n",
      "Threshold= 0.8, Train acc= 0.775,  Val acc= 0.775\n",
      "Threshold= 0.9, Train acc= 0.774,  Val acc= 0.774\n"
     ]
    }
   ],
   "source": [
    "# Try thresholds on train set\n",
    "try_acc_thresholds(tree_clf, data_dict)"
   ]
  },
  {
   "cell_type": "markdown",
   "metadata": {},
   "source": [
    "### Bigger model"
   ]
  },
  {
   "cell_type": "code",
   "execution_count": 60,
   "metadata": {},
   "outputs": [
    {
     "data": {
      "text/plain": [
       "RandomForestClassifier(bootstrap=True, class_weight=None, criterion='gini',\n",
       "            max_depth=50, max_features='auto', max_leaf_nodes=None,\n",
       "            min_impurity_decrease=0.0, min_impurity_split=None,\n",
       "            min_samples_leaf=1, min_samples_split=2,\n",
       "            min_weight_fraction_leaf=0.0, n_estimators=50, n_jobs=1,\n",
       "            oob_score=False, random_state=None, verbose=0,\n",
       "            warm_start=False)"
      ]
     },
     "execution_count": 60,
     "metadata": {},
     "output_type": "execute_result"
    }
   ],
   "source": [
    "# Train bigger model\n",
    "tree_clf_2 = RandomForestClassifier(n_estimators=50, max_depth=50)\n",
    "tree_clf_2.fit(X_train, y_train)"
   ]
  },
  {
   "cell_type": "code",
   "execution_count": 61,
   "metadata": {},
   "outputs": [],
   "source": [
    "# Collect the outputs and labels\n",
    "prob_train = tree_clf_2.predict_proba(X_train)[:,1]\n",
    "y_pred_train = tree_clf_2.predict(X_train)\n",
    "prob_val = tree_clf_2.predict_proba(X_val)[:,1]\n",
    "y_pred_val = tree_clf_2.predict(X_val)"
   ]
  },
  {
   "cell_type": "code",
   "execution_count": 62,
   "metadata": {
    "scrolled": true
   },
   "outputs": [
    {
     "data": {
      "text/plain": [
       "{'acc': 0.95886344853274974,\n",
       " 'auc': 0.97262266386272511,\n",
       " 'aps': 0.94918514359719519,\n",
       " 'precision': 0.98973900717961361,\n",
       " 'recall': 0.82666323510487716,\n",
       " 'f1': 0.90088068659897902}"
      ]
     },
     "execution_count": 62,
     "metadata": {},
     "output_type": "execute_result"
    }
   ],
   "source": [
    "# Train set metrics\n",
    "compute_metrics(y_train, y_pred_train, prob_train)"
   ]
  },
  {
   "cell_type": "code",
   "execution_count": 63,
   "metadata": {
    "scrolled": true
   },
   "outputs": [
    {
     "data": {
      "text/plain": [
       "{'acc': 0.78603654580296656,\n",
       " 'auc': 0.73160543424704638,\n",
       " 'aps': 0.48679465558682622,\n",
       " 'precision': 0.53948527253155887,\n",
       " 'recall': 0.36785213852005072,\n",
       " 'f1': 0.43743553122272472}"
      ]
     },
     "execution_count": 63,
     "metadata": {},
     "output_type": "execute_result"
    }
   ],
   "source": [
    "# Val set metrics\n",
    "compute_metrics(y_val, y_pred_val, prob_val)"
   ]
  },
  {
   "cell_type": "code",
   "execution_count": 59,
   "metadata": {
    "scrolled": true
   },
   "outputs": [
    {
     "data": {
      "image/png": "[encoded data removed]",
      "text/plain": [
       "<Figure size 432x288 with 1 Axes>"
      ]
     },
     "metadata": {},
     "output_type": "display_data"
    },
    {
     "data": {
      "image/png": "[encoded data removed]",
      "text/plain": [
       "<Figure size 432x288 with 1 Axes>"
      ]
     },
     "metadata": {},
     "output_type": "display_data"
    }
   ],
   "source": [
    "# Check the output distribution (train, val)\n",
    "plt.hist(prob_train, bins=150)\n",
    "plt.show()\n",
    "plt.hist(prob_val, bins=150)\n",
    "plt.show()"
   ]
  },
  {
   "cell_type": "markdown",
   "metadata": {},
   "source": [
    "$Comment:$ No overfitting even with the second model. But making the model much much bigger brings overfitting on some metrics on validation set. \n",
    "\n",
    "The second model is bigger, but performance is not significantly better than on the first model.\n",
    "\n",
    "Threshold of 0.5 works fine again, as for the logistic regression.\n",
    "\n",
    "Some metrics are better, some are worse on the validation set comparing two models - logistic regression and random forest. Overall, the performance is about the same."
   ]
  },
  {
   "cell_type": "markdown",
   "metadata": {},
   "source": [
    "## Decision tree"
   ]
  },
  {
   "cell_type": "markdown",
   "metadata": {},
   "source": [
    "### Default configuration"
   ]
  },
  {
   "cell_type": "code",
   "execution_count": 70,
   "metadata": {},
   "outputs": [],
   "source": [
    "# Train \n",
    "dtree_clf = tree.DecisionTreeClassifier()\n",
    "dtree_clf = dtree_clf.fit(X_train, y_train)"
   ]
  },
  {
   "cell_type": "code",
   "execution_count": 71,
   "metadata": {},
   "outputs": [],
   "source": [
    "# Collect the outputs and labels\n",
    "prob_train = dtree_clf.predict_proba(X_train)[:,1]\n",
    "y_pred_train = dtree_clf.predict(X_train)\n",
    "prob_val = dtree_clf.predict_proba(X_val)[:,1]\n",
    "y_pred_val = dtree_clf.predict(X_val)"
   ]
  },
  {
   "cell_type": "code",
   "execution_count": 72,
   "metadata": {
    "scrolled": true
   },
   "outputs": [
    {
     "data": {
      "text/plain": [
       "{'acc': 0.96072588436601525,\n",
       " 'auc': 0.9886546668212034,\n",
       " 'aps': 0.96903076615064454,\n",
       " 'precision': 0.99644370226056844,\n",
       " 'recall': 0.82928837987389015,\n",
       " 'f1': 0.90521406899651646}"
      ]
     },
     "execution_count": 72,
     "metadata": {},
     "output_type": "execute_result"
    }
   ],
   "source": [
    "# Train set metrics\n",
    "compute_metrics(y_train, y_pred_train, prob_train)"
   ]
  },
  {
   "cell_type": "code",
   "execution_count": 73,
   "metadata": {
    "scrolled": false
   },
   "outputs": [
    {
     "data": {
      "text/plain": [
       "{'acc': 0.75033573250041496,\n",
       " 'auc': 0.59139977430452073,\n",
       " 'aps': 0.32123097596189598,\n",
       " 'precision': 0.44043707495988388,\n",
       " 'recall': 0.38459998665510109,\n",
       " 'f1': 0.4106290517916934}"
      ]
     },
     "execution_count": 73,
     "metadata": {},
     "output_type": "execute_result"
    }
   ],
   "source": [
    "# Val set metrics\n",
    "compute_metrics(y_val, y_pred_val, prob_val)"
   ]
  },
  {
   "cell_type": "code",
   "execution_count": 74,
   "metadata": {
    "scrolled": true
   },
   "outputs": [
    {
     "data": {
      "text/plain": [
       "{'class_weight': None,\n",
       " 'criterion': 'gini',\n",
       " 'max_depth': None,\n",
       " 'max_features': None,\n",
       " 'max_leaf_nodes': None,\n",
       " 'min_impurity_decrease': 0.0,\n",
       " 'min_impurity_split': None,\n",
       " 'min_samples_leaf': 1,\n",
       " 'min_samples_split': 2,\n",
       " 'min_weight_fraction_leaf': 0.0,\n",
       " 'presort': False,\n",
       " 'random_state': None,\n",
       " 'splitter': 'best'}"
      ]
     },
     "execution_count": 74,
     "metadata": {},
     "output_type": "execute_result"
    }
   ],
   "source": [
    "# Check params\n",
    "dtree_clf.get_params()"
   ]
  },
  {
   "cell_type": "markdown",
   "metadata": {},
   "source": [
    "$Comment:$ Let's try to avoid overfitting."
   ]
  },
  {
   "cell_type": "markdown",
   "metadata": {},
   "source": [
    "### Smaller model"
   ]
  },
  {
   "cell_type": "code",
   "execution_count": 76,
   "metadata": {},
   "outputs": [],
   "source": [
    "# Train smaller model\n",
    "dtree_clf = tree.DecisionTreeClassifier(max_depth=6)\n",
    "dtree_clf = dtree_clf.fit(X_train, y_train)"
   ]
  },
  {
   "cell_type": "code",
   "execution_count": 80,
   "metadata": {},
   "outputs": [],
   "source": [
    "# Collect the outputs and labels\n",
    "prob_train = dtree_clf.predict_proba(X_train)[:,1]\n",
    "y_pred_train = dtree_clf.predict(X_train)\n",
    "prob_val = dtree_clf.predict_proba(X_val)[:,1]\n",
    "y_pred_val = dtree_clf.predict(X_val)"
   ]
  },
  {
   "cell_type": "code",
   "execution_count": 82,
   "metadata": {
    "scrolled": true
   },
   "outputs": [
    {
     "data": {
      "text/plain": [
       "{'acc': 0.80973471929599927,\n",
       " 'auc': 0.75395425531900395,\n",
       " 'aps': 0.51806586081193828,\n",
       " 'precision': 0.6988643695960769,\n",
       " 'recall': 0.27875434307038993,\n",
       " 'f1': 0.3985428587198499}"
      ]
     },
     "execution_count": 82,
     "metadata": {},
     "output_type": "execute_result"
    }
   ],
   "source": [
    "# Train set metrics\n",
    "compute_metrics(y_train, y_pred_train, prob_train)"
   ]
  },
  {
   "cell_type": "code",
   "execution_count": 83,
   "metadata": {
    "scrolled": false
   },
   "outputs": [
    {
     "data": {
      "text/plain": [
       "{'acc': 0.80842877189805806,\n",
       " 'auc': 0.75309046454307138,\n",
       " 'aps': 0.51302947264440868,\n",
       " 'precision': 0.68937014382542572,\n",
       " 'recall': 0.2782411423233469,\n",
       " 'f1': 0.3964632059326868}"
      ]
     },
     "execution_count": 83,
     "metadata": {},
     "output_type": "execute_result"
    }
   ],
   "source": [
    "# Val set metrics\n",
    "compute_metrics(y_val, y_pred_val, prob_val)"
   ]
  },
  {
   "cell_type": "markdown",
   "metadata": {},
   "source": [
    "$Comment:$ The second model is better than the first one probably as we got rid of overfitting.\n",
    "\n",
    "The accuracy and f1 score are slightly better than on the previous models, but still almost the same. And better than on the baseline anyway."
   ]
  },
  {
   "cell_type": "markdown",
   "metadata": {},
   "source": [
    "## XGboost"
   ]
  },
  {
   "cell_type": "code",
   "execution_count": 84,
   "metadata": {},
   "outputs": [
    {
     "data": {
      "text/plain": [
       "XGBClassifier(base_score=0.5, booster='gbtree', colsample_bylevel=1,\n",
       "       colsample_bytree=1, gamma=0, learning_rate=0.1, max_delta_step=0,\n",
       "       max_depth=3, min_child_weight=1, missing=None, n_estimators=100,\n",
       "       n_jobs=1, nthread=None, objective='binary:logistic', random_state=0,\n",
       "       reg_alpha=0, reg_lambda=1, scale_pos_weight=1, seed=None,\n",
       "       silent=True, subsample=1)"
      ]
     },
     "execution_count": 84,
     "metadata": {},
     "output_type": "execute_result"
    }
   ],
   "source": [
    "# Train\n",
    "xgb_model = XGBClassifier()\n",
    "xgb_model.fit(X_train, y_train)"
   ]
  },
  {
   "cell_type": "code",
   "execution_count": 85,
   "metadata": {},
   "outputs": [],
   "source": [
    "# Collect the outputs and labels\n",
    "prob_train = xgb_model.predict_proba(X_train)[:,1]\n",
    "y_pred_train = xgb_model.predict(X_train)\n",
    "prob_val = xgb_model.predict_proba(X_val)[:,1]\n",
    "y_pred_val = xgb_model.predict(X_val)"
   ]
  },
  {
   "cell_type": "code",
   "execution_count": 86,
   "metadata": {
    "scrolled": false
   },
   "outputs": [
    {
     "data": {
      "text/plain": [
       "{'acc': 0.81517070388434276,\n",
       " 'auc': 0.7682560859757479,\n",
       " 'aps': 0.56756526025567378,\n",
       " 'precision': 0.69074492099322804,\n",
       " 'recall': 0.33076824089563761,\n",
       " 'f1': 0.44732949304745834}"
      ]
     },
     "execution_count": 86,
     "metadata": {},
     "output_type": "execute_result"
    }
   ],
   "source": [
    "# Train set metrics\n",
    "compute_metrics(y_train, y_pred_train, prob_train)"
   ]
  },
  {
   "cell_type": "code",
   "execution_count": 87,
   "metadata": {},
   "outputs": [
    {
     "data": {
      "text/plain": [
       "{'acc': 0.81312148235329618,\n",
       " 'auc': 0.76819135371962366,\n",
       " 'aps': 0.5618083925431453,\n",
       " 'precision': 0.67802408319649698,\n",
       " 'recall': 0.33061987055448055,\n",
       " 'f1': 0.44449428122897511}"
      ]
     },
     "execution_count": 87,
     "metadata": {},
     "output_type": "execute_result"
    }
   ],
   "source": [
    "# Val set metrics\n",
    "compute_metrics(y_val, y_pred_val, prob_val)"
   ]
  },
  {
   "cell_type": "code",
   "execution_count": 354,
   "metadata": {},
   "outputs": [
    {
     "data": {
      "image/png": "[encoded data removed]",
      "text/plain": [
       "<Figure size 432x288 with 1 Axes>"
      ]
     },
     "metadata": {},
     "output_type": "display_data"
    },
    {
     "data": {
      "image/png": "[encoded data removed]",
      "text/plain": [
       "<Figure size 432x288 with 1 Axes>"
      ]
     },
     "metadata": {},
     "output_type": "display_data"
    }
   ],
   "source": [
    "plt.hist(xgb_model.predict_proba(X_train)[:,1], bins=100)\n",
    "plt.show()\n",
    "plt.hist(xgb_model.predict_proba(X_val)[:,1], bins=100)\n",
    "plt.show()"
   ]
  },
  {
   "cell_type": "code",
   "execution_count": 89,
   "metadata": {
    "scrolled": false
   },
   "outputs": [
    {
     "name": "stdout",
     "output_type": "stream",
     "text": [
      "Threshold= 0.1, Train acc= 0.301,  Val acc= 0.302\n",
      "Threshold= 0.2, Train acc= 0.706,  Val acc= 0.705\n",
      "Threshold= 0.3, Train acc= 0.788,  Val acc= 0.787\n",
      "Threshold= 0.4, Train acc= 0.811,  Val acc= 0.809\n",
      "Threshold= 0.5, Train acc= 0.815,  Val acc= 0.813\n",
      "Threshold= 0.6, Train acc= 0.810,  Val acc= 0.809\n",
      "Threshold= 0.7, Train acc= 0.800,  Val acc= 0.799\n",
      "Threshold= 0.8, Train acc= 0.788,  Val acc= 0.788\n",
      "Threshold= 0.9, Train acc= 0.778,  Val acc= 0.777\n"
     ]
    }
   ],
   "source": [
    "# Try thresholds on train set\n",
    "try_acc_thresholds(xgb_model, data_dict)"
   ]
  },
  {
   "cell_type": "markdown",
   "metadata": {},
   "source": [
    "$Comment:$ The best model so far regarding the val set. \n",
    "\n",
    "No overfitting as the metrics on train and val sets are similar. \n",
    "\n",
    "Threshold to be picked is 0.5 again."
   ]
  },
  {
   "cell_type": "code",
   "execution_count": null,
   "metadata": {},
   "outputs": [],
   "source": []
  },
  {
   "cell_type": "code",
   "execution_count": null,
   "metadata": {},
   "outputs": [],
   "source": []
  },
  {
   "cell_type": "code",
   "execution_count": null,
   "metadata": {},
   "outputs": [],
   "source": []
  },
  {
   "cell_type": "code",
   "execution_count": null,
   "metadata": {},
   "outputs": [],
   "source": []
  }
 ],
 "metadata": {
  "kernelspec": {
   "display_name": "Python 3",
   "language": "python",
   "name": "python3"
  },
  "language_info": {
   "codemirror_mode": {
    "name": "ipython",
    "version": 3
   },
   "file_extension": ".py",
   "mimetype": "text/x-python",
   "name": "python",
   "nbconvert_exporter": "python",
   "pygments_lexer": "ipython3",
   "version": "3.6.3"
  }
 },
 "nbformat": 4,
 "nbformat_minor": 2
}
