{
 "cells": [
  {
   "cell_type": "code",
   "execution_count": 1,
   "metadata": {},
   "outputs": [
    {
     "name": "stderr",
     "output_type": "stream",
     "text": [
      "Using TensorFlow backend.\n"
     ]
    }
   ],
   "source": [
    "import os\n",
    "import tqdm\n",
    "import sys, re\n",
    "import numpy as np\n",
    "import pandas as pd\n",
    "from bunch import Bunch\n",
    "import _pickle as pickle\n",
    "from collections import OrderedDict\n",
    "\n",
    "import seaborn as sns\n",
    "import matplotlib.pyplot as plt\n",
    "\n",
    "from sklearn import tree\n",
    "from sklearn import svm\n",
    "from sklearn import preprocessing\n",
    "from sklearn.linear_model import LogisticRegression\n",
    "from sklearn.ensemble import RandomForestClassifier\n",
    "from sklearn.model_selection import train_test_split\n",
    "from sklearn.metrics import accuracy_score, average_precision_score,\\\n",
    "    roc_auc_score, precision_score, recall_score, f1_score\n",
    "\n",
    "from xgboost import XGBClassifier\n",
    "\n",
    "import tensorflow as tf\n",
    "from keras import metrics\n",
    "from keras import optimizers\n",
    "from keras.layers import Dense\n",
    "from keras.models import Sequential\n",
    "from keras.callbacks import ModelCheckpoint\n",
    "import keras.backend.tensorflow_backend as KTF"
   ]
  },
  {
   "cell_type": "code",
   "execution_count": 2,
   "metadata": {},
   "outputs": [],
   "source": [
    "seed = 142\n",
    "pd.options.display.max_columns = 50\n",
    "np.random.seed(seed)"
   ]
  },
  {
   "cell_type": "markdown",
   "metadata": {},
   "source": [
    "## Read data"
   ]
  },
  {
   "cell_type": "code",
   "execution_count": 3,
   "metadata": {},
   "outputs": [],
   "source": [
    "data = pd.read_feather('Xy_norm.feather')"
   ]
  },
  {
   "cell_type": "code",
   "execution_count": 4,
   "metadata": {},
   "outputs": [
    {
     "data": {
      "text/plain": [
       "(245455, 42)"
      ]
     },
     "execution_count": 4,
     "metadata": {},
     "output_type": "execute_result"
    }
   ],
   "source": [
    "data.shape"
   ]
  },
  {
   "cell_type": "code",
   "execution_count": 5,
   "metadata": {},
   "outputs": [
    {
     "data": {
      "text/html": [
       "<div>\n",
       "<style scoped>\n",
       "    .dataframe tbody tr th:only-of-type {\n",
       "        vertical-align: middle;\n",
       "    }\n",
       "\n",
       "    .dataframe tbody tr th {\n",
       "        vertical-align: top;\n",
       "    }\n",
       "\n",
       "    .dataframe thead th {\n",
       "        text-align: right;\n",
       "    }\n",
       "</style>\n",
       "<table border=\"1\" class=\"dataframe\">\n",
       "  <thead>\n",
       "    <tr style=\"text-align: right;\">\n",
       "      <th></th>\n",
       "      <th>orders_num</th>\n",
       "      <th>is_failed_num</th>\n",
       "      <th>voucher_amount_sum</th>\n",
       "      <th>delivery_fee_mean</th>\n",
       "      <th>delivery_fee_sum</th>\n",
       "      <th>restaurant_id_unq_num</th>\n",
       "      <th>city_id_unq_num</th>\n",
       "      <th>payment_id_unq_num</th>\n",
       "      <th>platform_id_unq_num</th>\n",
       "      <th>transmission_id_unq_num</th>\n",
       "      <th>amount_paid_mean</th>\n",
       "      <th>amount_paid_std</th>\n",
       "      <th>payment_id_1491_num</th>\n",
       "      <th>payment_id_1523_num</th>\n",
       "      <th>payment_id_1619_num</th>\n",
       "      <th>payment_id_1779_num</th>\n",
       "      <th>payment_id_1811_num</th>\n",
       "      <th>platform_id_525_num</th>\n",
       "      <th>platform_id_22167_num</th>\n",
       "      <th>platform_id_22263_num</th>\n",
       "      <th>platform_id_22295_num</th>\n",
       "      <th>platform_id_29463_num</th>\n",
       "      <th>platform_id_29495_num</th>\n",
       "      <th>platform_id_29751_num</th>\n",
       "      <th>platform_id_29815_num</th>\n",
       "      <th>platform_id_30135_num</th>\n",
       "      <th>platform_id_30199_num</th>\n",
       "      <th>platform_id_30231_num</th>\n",
       "      <th>platform_id_30359_num</th>\n",
       "      <th>platform_id_30391_num</th>\n",
       "      <th>platform_id_30423_num</th>\n",
       "      <th>transmission_id_212_num</th>\n",
       "      <th>transmission_id_1988_num</th>\n",
       "      <th>transmission_id_2020_num</th>\n",
       "      <th>transmission_id_4196_num</th>\n",
       "      <th>transmission_id_4228_num</th>\n",
       "      <th>transmission_id_4260_num</th>\n",
       "      <th>transmission_id_4324_num</th>\n",
       "      <th>transmission_id_4356_num</th>\n",
       "      <th>transmission_id_4996_num</th>\n",
       "      <th>transmission_id_21124_num</th>\n",
       "      <th>is_returning_customer</th>\n",
       "    </tr>\n",
       "  </thead>\n",
       "  <tbody>\n",
       "    <tr>\n",
       "      <th>0</th>\n",
       "      <td>-0.313796</td>\n",
       "      <td>-0.153931</td>\n",
       "      <td>-0.160605</td>\n",
       "      <td>-0.534689</td>\n",
       "      <td>-0.248892</td>\n",
       "      <td>-0.412621</td>\n",
       "      <td>-0.170542</td>\n",
       "      <td>-0.3857</td>\n",
       "      <td>-0.407176</td>\n",
       "      <td>-0.515242</td>\n",
       "      <td>0.114188</td>\n",
       "      <td>-0.462233</td>\n",
       "      <td>-0.096045</td>\n",
       "      <td>-0.026364</td>\n",
       "      <td>-0.417414</td>\n",
       "      <td>0.012129</td>\n",
       "      <td>-0.109599</td>\n",
       "      <td>-0.061359</td>\n",
       "      <td>-0.003496</td>\n",
       "      <td>-0.012939</td>\n",
       "      <td>-0.002018</td>\n",
       "      <td>-0.259836</td>\n",
       "      <td>-0.121011</td>\n",
       "      <td>-0.064448</td>\n",
       "      <td>-0.193848</td>\n",
       "      <td>-0.010699</td>\n",
       "      <td>-0.02617</td>\n",
       "      <td>0.029065</td>\n",
       "      <td>-0.256269</td>\n",
       "      <td>-0.172863</td>\n",
       "      <td>-0.105601</td>\n",
       "      <td>-0.095907</td>\n",
       "      <td>-0.025389</td>\n",
       "      <td>-0.002018</td>\n",
       "      <td>-0.067011</td>\n",
       "      <td>-0.295478</td>\n",
       "      <td>-0.114311</td>\n",
       "      <td>-0.330953</td>\n",
       "      <td>-0.100007</td>\n",
       "      <td>-0.103457</td>\n",
       "      <td>-0.021054</td>\n",
       "      <td>0</td>\n",
       "    </tr>\n",
       "    <tr>\n",
       "      <th>1</th>\n",
       "      <td>-0.313796</td>\n",
       "      <td>-0.153931</td>\n",
       "      <td>-0.160605</td>\n",
       "      <td>-0.534689</td>\n",
       "      <td>-0.248892</td>\n",
       "      <td>-0.412621</td>\n",
       "      <td>-0.170542</td>\n",
       "      <td>-0.3857</td>\n",
       "      <td>-0.407176</td>\n",
       "      <td>-0.515242</td>\n",
       "      <td>-0.215465</td>\n",
       "      <td>-0.462233</td>\n",
       "      <td>-0.096045</td>\n",
       "      <td>-0.026364</td>\n",
       "      <td>-0.202441</td>\n",
       "      <td>-0.250828</td>\n",
       "      <td>-0.109599</td>\n",
       "      <td>-0.061359</td>\n",
       "      <td>-0.003496</td>\n",
       "      <td>-0.012939</td>\n",
       "      <td>-0.002018</td>\n",
       "      <td>-0.259836</td>\n",
       "      <td>-0.121011</td>\n",
       "      <td>-0.064448</td>\n",
       "      <td>-0.193848</td>\n",
       "      <td>-0.010699</td>\n",
       "      <td>-0.02617</td>\n",
       "      <td>-0.219259</td>\n",
       "      <td>0.350588</td>\n",
       "      <td>-0.172863</td>\n",
       "      <td>-0.105601</td>\n",
       "      <td>-0.095907</td>\n",
       "      <td>-0.025389</td>\n",
       "      <td>-0.002018</td>\n",
       "      <td>-0.067011</td>\n",
       "      <td>-0.295478</td>\n",
       "      <td>-0.114311</td>\n",
       "      <td>-0.330953</td>\n",
       "      <td>-0.100007</td>\n",
       "      <td>-0.103457</td>\n",
       "      <td>-0.021054</td>\n",
       "      <td>0</td>\n",
       "    </tr>\n",
       "    <tr>\n",
       "      <th>2</th>\n",
       "      <td>-0.313796</td>\n",
       "      <td>-0.153931</td>\n",
       "      <td>-0.160605</td>\n",
       "      <td>0.864187</td>\n",
       "      <td>-0.037560</td>\n",
       "      <td>-0.412621</td>\n",
       "      <td>-0.170542</td>\n",
       "      <td>-0.3857</td>\n",
       "      <td>-0.407176</td>\n",
       "      <td>-0.515242</td>\n",
       "      <td>-0.839974</td>\n",
       "      <td>-0.462233</td>\n",
       "      <td>-0.096045</td>\n",
       "      <td>-0.026364</td>\n",
       "      <td>-0.202441</td>\n",
       "      <td>-0.250828</td>\n",
       "      <td>-0.109599</td>\n",
       "      <td>-0.061359</td>\n",
       "      <td>-0.003496</td>\n",
       "      <td>-0.012939</td>\n",
       "      <td>-0.002018</td>\n",
       "      <td>-0.259836</td>\n",
       "      <td>-0.121011</td>\n",
       "      <td>-0.064448</td>\n",
       "      <td>-0.193848</td>\n",
       "      <td>-0.010699</td>\n",
       "      <td>-0.02617</td>\n",
       "      <td>-0.219259</td>\n",
       "      <td>0.350588</td>\n",
       "      <td>-0.172863</td>\n",
       "      <td>-0.105601</td>\n",
       "      <td>-0.095907</td>\n",
       "      <td>-0.025389</td>\n",
       "      <td>-0.002018</td>\n",
       "      <td>-0.067011</td>\n",
       "      <td>-0.295478</td>\n",
       "      <td>-0.114311</td>\n",
       "      <td>0.067902</td>\n",
       "      <td>-0.354967</td>\n",
       "      <td>-0.103457</td>\n",
       "      <td>-0.021054</td>\n",
       "      <td>1</td>\n",
       "    </tr>\n",
       "  </tbody>\n",
       "</table>\n",
       "</div>"
      ],
      "text/plain": [
       "   orders_num  is_failed_num  voucher_amount_sum  delivery_fee_mean  \\\n",
       "0   -0.313796      -0.153931           -0.160605          -0.534689   \n",
       "1   -0.313796      -0.153931           -0.160605          -0.534689   \n",
       "2   -0.313796      -0.153931           -0.160605           0.864187   \n",
       "\n",
       "   delivery_fee_sum  restaurant_id_unq_num  city_id_unq_num  \\\n",
       "0         -0.248892              -0.412621        -0.170542   \n",
       "1         -0.248892              -0.412621        -0.170542   \n",
       "2         -0.037560              -0.412621        -0.170542   \n",
       "\n",
       "   payment_id_unq_num  platform_id_unq_num  transmission_id_unq_num  \\\n",
       "0             -0.3857            -0.407176                -0.515242   \n",
       "1             -0.3857            -0.407176                -0.515242   \n",
       "2             -0.3857            -0.407176                -0.515242   \n",
       "\n",
       "   amount_paid_mean  amount_paid_std  payment_id_1491_num  \\\n",
       "0          0.114188        -0.462233            -0.096045   \n",
       "1         -0.215465        -0.462233            -0.096045   \n",
       "2         -0.839974        -0.462233            -0.096045   \n",
       "\n",
       "   payment_id_1523_num  payment_id_1619_num  payment_id_1779_num  \\\n",
       "0            -0.026364            -0.417414             0.012129   \n",
       "1            -0.026364            -0.202441            -0.250828   \n",
       "2            -0.026364            -0.202441            -0.250828   \n",
       "\n",
       "   payment_id_1811_num  platform_id_525_num  platform_id_22167_num  \\\n",
       "0            -0.109599            -0.061359              -0.003496   \n",
       "1            -0.109599            -0.061359              -0.003496   \n",
       "2            -0.109599            -0.061359              -0.003496   \n",
       "\n",
       "   platform_id_22263_num  platform_id_22295_num  platform_id_29463_num  \\\n",
       "0              -0.012939              -0.002018              -0.259836   \n",
       "1              -0.012939              -0.002018              -0.259836   \n",
       "2              -0.012939              -0.002018              -0.259836   \n",
       "\n",
       "   platform_id_29495_num  platform_id_29751_num  platform_id_29815_num  \\\n",
       "0              -0.121011              -0.064448              -0.193848   \n",
       "1              -0.121011              -0.064448              -0.193848   \n",
       "2              -0.121011              -0.064448              -0.193848   \n",
       "\n",
       "   platform_id_30135_num  platform_id_30199_num  platform_id_30231_num  \\\n",
       "0              -0.010699               -0.02617               0.029065   \n",
       "1              -0.010699               -0.02617              -0.219259   \n",
       "2              -0.010699               -0.02617              -0.219259   \n",
       "\n",
       "   platform_id_30359_num  platform_id_30391_num  platform_id_30423_num  \\\n",
       "0              -0.256269              -0.172863              -0.105601   \n",
       "1               0.350588              -0.172863              -0.105601   \n",
       "2               0.350588              -0.172863              -0.105601   \n",
       "\n",
       "   transmission_id_212_num  transmission_id_1988_num  \\\n",
       "0                -0.095907                 -0.025389   \n",
       "1                -0.095907                 -0.025389   \n",
       "2                -0.095907                 -0.025389   \n",
       "\n",
       "   transmission_id_2020_num  transmission_id_4196_num  \\\n",
       "0                 -0.002018                 -0.067011   \n",
       "1                 -0.002018                 -0.067011   \n",
       "2                 -0.002018                 -0.067011   \n",
       "\n",
       "   transmission_id_4228_num  transmission_id_4260_num  \\\n",
       "0                 -0.295478                 -0.114311   \n",
       "1                 -0.295478                 -0.114311   \n",
       "2                 -0.295478                 -0.114311   \n",
       "\n",
       "   transmission_id_4324_num  transmission_id_4356_num  \\\n",
       "0                 -0.330953                 -0.100007   \n",
       "1                 -0.330953                 -0.100007   \n",
       "2                  0.067902                 -0.354967   \n",
       "\n",
       "   transmission_id_4996_num  transmission_id_21124_num  is_returning_customer  \n",
       "0                 -0.103457                  -0.021054                      0  \n",
       "1                 -0.103457                  -0.021054                      0  \n",
       "2                 -0.103457                  -0.021054                      1  "
      ]
     },
     "execution_count": 5,
     "metadata": {},
     "output_type": "execute_result"
    }
   ],
   "source": [
    "data.head(3)"
   ]
  },
  {
   "cell_type": "code",
   "execution_count": 6,
   "metadata": {},
   "outputs": [],
   "source": [
    "X = data.iloc[:, 1:-1]\n",
    "y = data.iloc[:, -1]"
   ]
  },
  {
   "cell_type": "code",
   "execution_count": 7,
   "metadata": {},
   "outputs": [],
   "source": [
    "# Create train, val, test matrices\n",
    "X_train, X_test, y_train, y_test = train_test_split(X, y, test_size=0.3, stratify=y, \n",
    "                                                    shuffle=True, random_state=seed) \n",
    "X_val, X_test, y_val, y_test = train_test_split(X_test, y_test, test_size=0.1, stratify=y_test, \n",
    "                                                shuffle=True, random_state=seed) "
   ]
  },
  {
   "cell_type": "code",
   "execution_count": 8,
   "metadata": {},
   "outputs": [
    {
     "data": {
      "text/plain": [
       "(0.22614045094227614,\n",
       " 0.22614035881882516,\n",
       " 0.22609994568169473,\n",
       " 171818,\n",
       " 66273,\n",
       " 7364)"
      ]
     },
     "execution_count": 8,
     "metadata": {},
     "output_type": "execute_result"
    }
   ],
   "source": [
    "# Check if splitting has the same ratio of positive labels\n",
    "y_train.mean(), y_val.mean(), y_test.mean(), len(y_train), len(y_val), len(y_test)"
   ]
  },
  {
   "cell_type": "markdown",
   "metadata": {},
   "source": [
    "$Comment$: Distribution of labels is the same for train, validation and test sets."
   ]
  },
  {
   "cell_type": "markdown",
   "metadata": {},
   "source": [
    "## Create metric functions"
   ]
  },
  {
   "cell_type": "code",
   "execution_count": 9,
   "metadata": {},
   "outputs": [],
   "source": [
    "# Compute metrics: accuracy, auc, aps, precision, recall, f1\n",
    "def compute_metrics(y_true, y_pred, prob):\n",
    "    acc = accuracy_score(y_true, y_pred)\n",
    "    auc = roc_auc_score(y_true, prob)\n",
    "    aps = average_precision_score(y_true, prob)\n",
    "    precision = precision_score(y_true, y_pred)\n",
    "    recall = recall_score(y_true, y_pred)\n",
    "    f1 = f1_score(y_true, y_pred)\n",
    "    \n",
    "    return {'acc': acc, 'auc': auc, 'aps': aps, \n",
    "            'precision': precision, 'recall': recall, \n",
    "            'f1': f1}\n",
    "\n",
    "\n",
    "# Compute basic metrics: accuracy, auc, aps (used for zero baseline mainly)\n",
    "def compute_basic_metrics(y_true, y_pred, prob):\n",
    "    acc = accuracy_score(y_true, y_pred)\n",
    "    auc = roc_auc_score(y_true, prob)\n",
    "    aps = average_precision_score(y_true, prob)\n",
    "    \n",
    "    return {'acc': acc, 'auc': auc, 'aps': aps}\n",
    "\n",
    "\n",
    "# Compute accuracy for different thresholds [0.1, ..., 0.9]\n",
    "def try_acc_thresholds(model, data_dict):\n",
    "    thresholds = [.1,.2,.3,.4,.5,.6,.7,.8,.9]\n",
    "    for thr in thresholds:\n",
    "        acc_train = accuracy_score(data_dict['y_train'], \n",
    "                                   (model.predict_proba(data_dict['X_train'])[:,1] > thr).astype('int'))\n",
    "        acc_val = accuracy_score(data_dict['y_val'], \n",
    "                                 (model.predict_proba(data_dict['X_val'])[:,1] > thr).astype('int'))\n",
    "        print('Threshold= {}, Train acc= {:.3f},  Val acc= {:.3f}'.format(thr, acc_train, acc_val))\n",
    "        \n",
    "        \n",
    "# Compute basic metrics for zero output \n",
    "def compute_zero_baseline(y_true):\n",
    "    metric_dict = compute_basic_metrics(y_true, np.zeros(y_true.shape[0]), np.zeros(y_true.shape[0]))\n",
    "    return metric_dict\n",
    "\n",
    "\n",
    "# Compute metrics for random 0/1 output \n",
    "def compute_rand_baseline(y_true, thr=0.5):\n",
    "    rand_pred = np.random.random_sample((y_true.shape[0],))\n",
    "    metric_dict = compute_metrics(y_true, np.round(rand_pred + 0.5 - thr), rand_pred)\n",
    "    return metric_dict"
   ]
  },
  {
   "cell_type": "markdown",
   "metadata": {},
   "source": [
    "## Baseline"
   ]
  },
  {
   "cell_type": "markdown",
   "metadata": {},
   "source": [
    "### Train set"
   ]
  },
  {
   "cell_type": "code",
   "execution_count": 10,
   "metadata": {},
   "outputs": [
    {
     "data": {
      "text/plain": [
       "{'acc': 0.77385954905772392, 'auc': 0.5, 'aps': 0.22614045094227614}"
      ]
     },
     "execution_count": 10,
     "metadata": {},
     "output_type": "execute_result"
    }
   ],
   "source": [
    "# Zero baseline\n",
    "compute_zero_baseline(y_train)"
   ]
  },
  {
   "cell_type": "code",
   "execution_count": 11,
   "metadata": {},
   "outputs": [
    {
     "data": {
      "text/plain": [
       "{'acc': 0.50166455202598093,\n",
       " 'auc': 0.49902688741915818,\n",
       " 'aps': 0.22540208355054861,\n",
       " 'precision': 0.22651571856287425,\n",
       " 'recall': 0.49846866555140906,\n",
       " 'f1': 0.3114852966009698}"
      ]
     },
     "execution_count": 11,
     "metadata": {},
     "output_type": "execute_result"
    }
   ],
   "source": [
    "# Random baseline (threshold=0.5)\n",
    "compute_rand_baseline(y_train, thr=0.5)"
   ]
  },
  {
   "cell_type": "code",
   "execution_count": 12,
   "metadata": {},
   "outputs": [
    {
     "data": {
      "text/plain": [
       "{'acc': 0.71883621040868828,\n",
       " 'auc': 0.49983634918525133,\n",
       " 'aps': 0.22591723023333327,\n",
       " 'precision': 0.2247262986256697,\n",
       " 'recall': 0.09931797709432505,\n",
       " 'f1': 0.13775501097685044}"
      ]
     },
     "execution_count": 12,
     "metadata": {},
     "output_type": "execute_result"
    }
   ],
   "source": [
    "# Random baseline (threshold=0.5)\n",
    "compute_rand_baseline(y_train, thr=0.9)"
   ]
  },
  {
   "cell_type": "markdown",
   "metadata": {},
   "source": [
    "### Validation set"
   ]
  },
  {
   "cell_type": "code",
   "execution_count": 13,
   "metadata": {},
   "outputs": [
    {
     "data": {
      "text/plain": [
       "{'acc': 0.77385964118117478, 'auc': 0.5, 'aps': 0.22614035881882516}"
      ]
     },
     "execution_count": 13,
     "metadata": {},
     "output_type": "execute_result"
    }
   ],
   "source": [
    "# Zero baseline\n",
    "compute_zero_baseline(y_val)"
   ]
  },
  {
   "cell_type": "code",
   "execution_count": 14,
   "metadata": {},
   "outputs": [
    {
     "data": {
      "text/plain": [
       "{'acc': 0.49979629713457968,\n",
       " 'auc': 0.49895146944039614,\n",
       " 'aps': 0.22480537945599074,\n",
       " 'precision': 0.22617216945575155,\n",
       " 'recall': 0.5005004337092146,\n",
       " 'f1': 0.31155507559395246}"
      ]
     },
     "execution_count": 14,
     "metadata": {},
     "output_type": "execute_result"
    }
   ],
   "source": [
    "# Random baseline (threshold=0.5)\n",
    "compute_rand_baseline(y_val, thr=0.5)"
   ]
  },
  {
   "cell_type": "code",
   "execution_count": 15,
   "metadata": {},
   "outputs": [
    {
     "data": {
      "text/plain": [
       "{'acc': 0.71950869886680846,\n",
       " 'auc': 0.49780329578931493,\n",
       " 'aps': 0.22545030671614247,\n",
       " 'precision': 0.2266241651487553,\n",
       " 'recall': 0.099619670380996866,\n",
       " 'f1': 0.13840092699884124}"
      ]
     },
     "execution_count": 15,
     "metadata": {},
     "output_type": "execute_result"
    }
   ],
   "source": [
    "# Random baseline (threshold=0.9)\n",
    "compute_rand_baseline(y_val, thr=0.9)"
   ]
  },
  {
   "cell_type": "markdown",
   "metadata": {},
   "source": [
    "$Comment$: We will compare these zero and random baselines metrics with the models below."
   ]
  },
  {
   "cell_type": "markdown",
   "metadata": {},
   "source": [
    "## Logistic regression"
   ]
  },
  {
   "cell_type": "code",
   "execution_count": 16,
   "metadata": {},
   "outputs": [
    {
     "data": {
      "text/plain": [
       "LogisticRegression(C=1.0, class_weight=None, dual=False, fit_intercept=True,\n",
       "          intercept_scaling=1, max_iter=100, multi_class='ovr', n_jobs=1,\n",
       "          penalty='l2', random_state=None, solver='liblinear', tol=0.0001,\n",
       "          verbose=0, warm_start=False)"
      ]
     },
     "execution_count": 16,
     "metadata": {},
     "output_type": "execute_result"
    }
   ],
   "source": [
    "# Train with regularization\n",
    "log_reg = LogisticRegression(C=1.0)\n",
    "log_reg.fit(X_train, y_train)"
   ]
  },
  {
   "cell_type": "code",
   "execution_count": 17,
   "metadata": {},
   "outputs": [],
   "source": [
    "# Predict for val set\n",
    "y_pred_val = log_reg.predict_proba(X_val)[:,1]"
   ]
  },
  {
   "cell_type": "code",
   "execution_count": 18,
   "metadata": {},
   "outputs": [
    {
     "data": {
      "text/plain": [
       "(array([[-0.12285088, -0.01030362, -0.00572957, -0.02866086,  0.03796215,\n",
       "          0.01761493,  0.0884019 ,  0.13637196,  0.20661698, -0.13702989,\n",
       "          0.23212244, -0.04069597,  0.04032924,  0.14646664,  0.20079719,\n",
       "          0.04427254, -0.05777088, -0.00105366, -0.01519414,  0.00268847,\n",
       "          0.09233123,  0.01914287,  0.06276501,  0.11505164, -0.00090941,\n",
       "         -0.00617146,  0.10355623,  0.19911338, -0.16014418,  0.02205983,\n",
       "          0.02016334,  0.04578503,  0.01298719, -0.01535417,  0.16437958,\n",
       "          0.00608195,  0.04054943,  0.21664891,  0.18991323, -0.00990552]]),\n",
       " array([-1.3319579]))"
      ]
     },
     "execution_count": 18,
     "metadata": {},
     "output_type": "execute_result"
    }
   ],
   "source": [
    "# See the coefficients\n",
    "log_reg.coef_, log_reg.intercept_"
   ]
  },
  {
   "cell_type": "code",
   "execution_count": 19,
   "metadata": {},
   "outputs": [],
   "source": [
    "# Collect the outputs and labels\n",
    "prob_train = log_reg.predict_proba(X_train)[:,1]\n",
    "y_pred_train = log_reg.predict(X_train)\n",
    "prob_val = log_reg.predict_proba(X_val)[:,1]\n",
    "y_pred_val = log_reg.predict(X_val)"
   ]
  },
  {
   "cell_type": "code",
   "execution_count": 20,
   "metadata": {},
   "outputs": [
    {
     "data": {
      "image/png": "[encoded data removed]",
      "text/plain": [
       "<Figure size 432x288 with 1 Axes>"
      ]
     },
     "metadata": {},
     "output_type": "display_data"
    }
   ],
   "source": [
    "# Check the output distribution (val set)\n",
    "plt.hist(prob_val, bins=150)\n",
    "plt.show()"
   ]
  },
  {
   "cell_type": "code",
   "execution_count": 21,
   "metadata": {},
   "outputs": [
    {
     "data": {
      "text/plain": [
       "{'acc': 0.80887334272311395,\n",
       " 'auc': 0.75145655928212052,\n",
       " 'aps': 0.54329449453961198,\n",
       " 'precision': 0.70923761825264331,\n",
       " 'recall': 0.26241153004761292,\n",
       " 'f1': 0.38308504442899816}"
      ]
     },
     "execution_count": 21,
     "metadata": {},
     "output_type": "execute_result"
    }
   ],
   "source": [
    "# Train set metrics\n",
    "compute_metrics(y_train, y_pred_train, prob_train)"
   ]
  },
  {
   "cell_type": "code",
   "execution_count": 22,
   "metadata": {},
   "outputs": [
    {
     "data": {
      "text/plain": [
       "{'acc': 0.80773467324551473,\n",
       " 'auc': 0.75378287981653935,\n",
       " 'aps': 0.5432914675130337,\n",
       " 'precision': 0.70005346640527533,\n",
       " 'recall': 0.26209381463935411,\n",
       " 'f1': 0.38139625206330713}"
      ]
     },
     "execution_count": 22,
     "metadata": {},
     "output_type": "execute_result"
    }
   ],
   "source": [
    "# Val set metrics\n",
    "compute_metrics(y_val, y_pred_val, prob_val)"
   ]
  },
  {
   "cell_type": "code",
   "execution_count": 23,
   "metadata": {
    "scrolled": true
   },
   "outputs": [
    {
     "name": "stdout",
     "output_type": "stream",
     "text": [
      "Threshold= 0.1, Train acc= 0.260,  Val acc= 0.260\n",
      "Threshold= 0.2, Train acc= 0.737,  Val acc= 0.736\n",
      "Threshold= 0.3, Train acc= 0.794,  Val acc= 0.793\n",
      "Threshold= 0.4, Train acc= 0.808,  Val acc= 0.807\n",
      "Threshold= 0.5, Train acc= 0.809,  Val acc= 0.808\n",
      "Threshold= 0.6, Train acc= 0.805,  Val acc= 0.804\n",
      "Threshold= 0.7, Train acc= 0.799,  Val acc= 0.799\n",
      "Threshold= 0.8, Train acc= 0.794,  Val acc= 0.794\n",
      "Threshold= 0.9, Train acc= 0.788,  Val acc= 0.787\n"
     ]
    }
   ],
   "source": [
    "# Try thresholds on train set\n",
    "data_dict = {'X_train': X_train, 'y_train': y_train,\n",
    "             'X_val': X_val, 'y_val': y_val}\n",
    "try_acc_thresholds(log_reg, data_dict)"
   ]
  },
  {
   "cell_type": "markdown",
   "metadata": {},
   "source": [
    "$Comment$: No overfitting as metrics on the validation set are not worse than on the train set.\n",
    "\n",
    "Threshold 0.5 should work fine to be picked as it gives the best accuracy on both train and val sets.\n",
    "\n",
    "The model performs better than zero and random baselines."
   ]
  },
  {
   "cell_type": "markdown",
   "metadata": {},
   "source": [
    "## Random forest"
   ]
  },
  {
   "cell_type": "markdown",
   "metadata": {},
   "source": [
    "### Relatevily small model"
   ]
  },
  {
   "cell_type": "code",
   "execution_count": 24,
   "metadata": {},
   "outputs": [
    {
     "data": {
      "text/plain": [
       "RandomForestClassifier(bootstrap=True, class_weight=None, criterion='gini',\n",
       "            max_depth=4, max_features='auto', max_leaf_nodes=None,\n",
       "            min_impurity_decrease=0.0, min_impurity_split=None,\n",
       "            min_samples_leaf=1, min_samples_split=2,\n",
       "            min_weight_fraction_leaf=0.0, n_estimators=50, n_jobs=1,\n",
       "            oob_score=False, random_state=None, verbose=0,\n",
       "            warm_start=False)"
      ]
     },
     "execution_count": 24,
     "metadata": {},
     "output_type": "execute_result"
    }
   ],
   "source": [
    "# Train\n",
    "tree_clf = RandomForestClassifier(n_estimators=50, max_depth=4)\n",
    "tree_clf.fit(X_train, y_train)"
   ]
  },
  {
   "cell_type": "code",
   "execution_count": 25,
   "metadata": {},
   "outputs": [],
   "source": [
    "# Collect the outputs and labels\n",
    "prob_train = tree_clf.predict_proba(X_train)[:,1]\n",
    "y_pred_train = tree_clf.predict(X_train)\n",
    "prob_val = tree_clf.predict_proba(X_val)[:,1]\n",
    "y_pred_val = tree_clf.predict(X_val)"
   ]
  },
  {
   "cell_type": "code",
   "execution_count": 26,
   "metadata": {},
   "outputs": [
    {
     "data": {
      "text/plain": [
       "{'acc': 0.80716222980130137,\n",
       " 'auc': 0.75868446728275896,\n",
       " 'aps': 0.5386024973431971,\n",
       " 'precision': 0.69934503901895206,\n",
       " 'recall': 0.25831939261356324,\n",
       " 'f1': 0.37728118480651041}"
      ]
     },
     "execution_count": 26,
     "metadata": {},
     "output_type": "execute_result"
    }
   ],
   "source": [
    "# Train set metrics\n",
    "compute_metrics(y_train, y_pred_train, prob_train)"
   ]
  },
  {
   "cell_type": "code",
   "execution_count": 27,
   "metadata": {},
   "outputs": [
    {
     "data": {
      "text/plain": [
       "{'acc': 0.80651245605299293,\n",
       " 'auc': 0.75973274772595301,\n",
       " 'aps': 0.53824588660841943,\n",
       " 'precision': 0.69397633560415917,\n",
       " 'recall': 0.25829051844932277,\n",
       " 'f1': 0.37646486749331387}"
      ]
     },
     "execution_count": 27,
     "metadata": {},
     "output_type": "execute_result"
    }
   ],
   "source": [
    "# Val set metrics\n",
    "compute_metrics(y_val, y_pred_val, prob_val)"
   ]
  },
  {
   "cell_type": "code",
   "execution_count": 28,
   "metadata": {},
   "outputs": [
    {
     "data": {
      "image/png": "[encoded data removed]",
      "text/plain": [
       "<Figure size 432x288 with 1 Axes>"
      ]
     },
     "metadata": {},
     "output_type": "display_data"
    },
    {
     "data": {
      "image/png": "[encoded data removed]",
      "text/plain": [
       "<Figure size 432x288 with 1 Axes>"
      ]
     },
     "metadata": {},
     "output_type": "display_data"
    }
   ],
   "source": [
    "# Check the output distribution (val set)\n",
    "plt.hist(prob_train, bins=150)\n",
    "plt.show()\n",
    "plt.hist(prob_val, bins=150)\n",
    "plt.show()"
   ]
  },
  {
   "cell_type": "code",
   "execution_count": 29,
   "metadata": {},
   "outputs": [
    {
     "name": "stdout",
     "output_type": "stream",
     "text": [
      "Threshold= 0.1, Train acc= 0.226,  Val acc= 0.226\n",
      "Threshold= 0.2, Train acc= 0.695,  Val acc= 0.694\n",
      "Threshold= 0.3, Train acc= 0.775,  Val acc= 0.775\n",
      "Threshold= 0.4, Train acc= 0.806,  Val acc= 0.805\n",
      "Threshold= 0.5, Train acc= 0.807,  Val acc= 0.807\n",
      "Threshold= 0.6, Train acc= 0.798,  Val acc= 0.798\n",
      "Threshold= 0.7, Train acc= 0.784,  Val acc= 0.784\n",
      "Threshold= 0.8, Train acc= 0.775,  Val acc= 0.775\n",
      "Threshold= 0.9, Train acc= 0.774,  Val acc= 0.774\n"
     ]
    }
   ],
   "source": [
    "# Try thresholds on train set\n",
    "try_acc_thresholds(tree_clf, data_dict)"
   ]
  },
  {
   "cell_type": "markdown",
   "metadata": {},
   "source": [
    "### Bigger model"
   ]
  },
  {
   "cell_type": "code",
   "execution_count": 30,
   "metadata": {},
   "outputs": [
    {
     "data": {
      "text/plain": [
       "RandomForestClassifier(bootstrap=True, class_weight=None, criterion='gini',\n",
       "            max_depth=50, max_features='auto', max_leaf_nodes=None,\n",
       "            min_impurity_decrease=0.0, min_impurity_split=None,\n",
       "            min_samples_leaf=1, min_samples_split=2,\n",
       "            min_weight_fraction_leaf=0.0, n_estimators=50, n_jobs=1,\n",
       "            oob_score=False, random_state=None, verbose=0,\n",
       "            warm_start=False)"
      ]
     },
     "execution_count": 30,
     "metadata": {},
     "output_type": "execute_result"
    }
   ],
   "source": [
    "# Train bigger model\n",
    "tree_clf_2 = RandomForestClassifier(n_estimators=50, max_depth=50)\n",
    "tree_clf_2.fit(X_train, y_train)"
   ]
  },
  {
   "cell_type": "code",
   "execution_count": 31,
   "metadata": {},
   "outputs": [],
   "source": [
    "# Collect the outputs and labels\n",
    "prob_train = tree_clf_2.predict_proba(X_train)[:,1]\n",
    "y_pred_train = tree_clf_2.predict(X_train)\n",
    "prob_val = tree_clf_2.predict_proba(X_val)[:,1]\n",
    "y_pred_val = tree_clf_2.predict(X_val)"
   ]
  },
  {
   "cell_type": "code",
   "execution_count": 32,
   "metadata": {
    "scrolled": true
   },
   "outputs": [
    {
     "data": {
      "text/plain": [
       "{'acc': 0.95863064405359155,\n",
       " 'auc': 0.97249366382015756,\n",
       " 'aps': 0.94884924779414237,\n",
       " 'precision': 0.99096842040147226,\n",
       " 'recall': 0.82457856131771978,\n",
       " 'f1': 0.90014890568370187}"
      ]
     },
     "execution_count": 32,
     "metadata": {},
     "output_type": "execute_result"
    }
   ],
   "source": [
    "# Train set metrics\n",
    "compute_metrics(y_train, y_pred_train, prob_train)"
   ]
  },
  {
   "cell_type": "code",
   "execution_count": 33,
   "metadata": {
    "scrolled": true
   },
   "outputs": [
    {
     "data": {
      "text/plain": [
       "{'acc': 0.78614216951096227,\n",
       " 'auc': 0.73220959172038191,\n",
       " 'aps': 0.48878494075789947,\n",
       " 'precision': 0.53990196078431374,\n",
       " 'recall': 0.36745179155267899,\n",
       " 'f1': 0.43728907769881287}"
      ]
     },
     "execution_count": 33,
     "metadata": {},
     "output_type": "execute_result"
    }
   ],
   "source": [
    "# Val set metrics\n",
    "compute_metrics(y_val, y_pred_val, prob_val)"
   ]
  },
  {
   "cell_type": "code",
   "execution_count": 34,
   "metadata": {
    "scrolled": true
   },
   "outputs": [
    {
     "data": {
      "image/png": "[encoded data removed]",
      "text/plain": [
       "<Figure size 432x288 with 1 Axes>"
      ]
     },
     "metadata": {},
     "output_type": "display_data"
    },
    {
     "data": {
      "image/png": "[encoded data removed]",
      "text/plain": [
       "<Figure size 432x288 with 1 Axes>"
      ]
     },
     "metadata": {},
     "output_type": "display_data"
    }
   ],
   "source": [
    "# Check the output distribution (train, val)\n",
    "plt.hist(prob_train, bins=150)\n",
    "plt.show()\n",
    "plt.hist(prob_val, bins=150)\n",
    "plt.show()"
   ]
  },
  {
   "cell_type": "markdown",
   "metadata": {},
   "source": [
    "$Comment:$ No overfitting even with the second model. But making the model much much bigger brings overfitting on some metrics on validation set. \n",
    "\n",
    "The second model is bigger, but performance is not significantly better than on the first model.\n",
    "\n",
    "Threshold of 0.5 works fine again, as for the logistic regression.\n",
    "\n",
    "Some metrics are better, some are worse on the validation set comparing two models - logistic regression and random forest. Overall, the performance is about the same."
   ]
  },
  {
   "cell_type": "markdown",
   "metadata": {},
   "source": [
    "## Decision tree"
   ]
  },
  {
   "cell_type": "markdown",
   "metadata": {},
   "source": [
    "### Default configuration"
   ]
  },
  {
   "cell_type": "code",
   "execution_count": 35,
   "metadata": {},
   "outputs": [],
   "source": [
    "# Train \n",
    "dtree_clf = tree.DecisionTreeClassifier()\n",
    "dtree_clf = dtree_clf.fit(X_train, y_train)"
   ]
  },
  {
   "cell_type": "code",
   "execution_count": 36,
   "metadata": {},
   "outputs": [],
   "source": [
    "# Collect the outputs and labels\n",
    "prob_train = dtree_clf.predict_proba(X_train)[:,1]\n",
    "y_pred_train = dtree_clf.predict(X_train)\n",
    "prob_val = dtree_clf.predict_proba(X_val)[:,1]\n",
    "y_pred_val = dtree_clf.predict(X_val)"
   ]
  },
  {
   "cell_type": "code",
   "execution_count": 37,
   "metadata": {
    "scrolled": true
   },
   "outputs": [
    {
     "data": {
      "text/plain": [
       "{'acc': 0.96072588436601525,\n",
       " 'auc': 0.9886546668212034,\n",
       " 'aps': 0.96903076615064454,\n",
       " 'precision': 0.99644370226056844,\n",
       " 'recall': 0.82928837987389015,\n",
       " 'f1': 0.90521406899651646}"
      ]
     },
     "execution_count": 37,
     "metadata": {},
     "output_type": "execute_result"
    }
   ],
   "source": [
    "# Train set metrics\n",
    "compute_metrics(y_train, y_pred_train, prob_train)"
   ]
  },
  {
   "cell_type": "code",
   "execution_count": 38,
   "metadata": {
    "scrolled": false
   },
   "outputs": [
    {
     "data": {
      "text/plain": [
       "{'acc': 0.74989814856728987,\n",
       " 'auc': 0.59166806763472457,\n",
       " 'aps': 0.32123279781139058,\n",
       " 'precision': 0.43966565349544073,\n",
       " 'recall': 0.3860679255354641,\n",
       " 'f1': 0.4111272959818098}"
      ]
     },
     "execution_count": 38,
     "metadata": {},
     "output_type": "execute_result"
    }
   ],
   "source": [
    "# Val set metrics\n",
    "compute_metrics(y_val, y_pred_val, prob_val)"
   ]
  },
  {
   "cell_type": "code",
   "execution_count": 39,
   "metadata": {
    "scrolled": true
   },
   "outputs": [
    {
     "data": {
      "text/plain": [
       "{'class_weight': None,\n",
       " 'criterion': 'gini',\n",
       " 'max_depth': None,\n",
       " 'max_features': None,\n",
       " 'max_leaf_nodes': None,\n",
       " 'min_impurity_decrease': 0.0,\n",
       " 'min_impurity_split': None,\n",
       " 'min_samples_leaf': 1,\n",
       " 'min_samples_split': 2,\n",
       " 'min_weight_fraction_leaf': 0.0,\n",
       " 'presort': False,\n",
       " 'random_state': None,\n",
       " 'splitter': 'best'}"
      ]
     },
     "execution_count": 39,
     "metadata": {},
     "output_type": "execute_result"
    }
   ],
   "source": [
    "# Check params\n",
    "dtree_clf.get_params()"
   ]
  },
  {
   "cell_type": "markdown",
   "metadata": {},
   "source": [
    "$Comment:$ Let's try to avoid overfitting."
   ]
  },
  {
   "cell_type": "markdown",
   "metadata": {},
   "source": [
    "### Smaller model"
   ]
  },
  {
   "cell_type": "code",
   "execution_count": 40,
   "metadata": {},
   "outputs": [],
   "source": [
    "# Train smaller model\n",
    "dtree_clf = tree.DecisionTreeClassifier(max_depth=6)\n",
    "dtree_clf = dtree_clf.fit(X_train, y_train)"
   ]
  },
  {
   "cell_type": "code",
   "execution_count": 41,
   "metadata": {},
   "outputs": [],
   "source": [
    "# Collect the outputs and labels\n",
    "prob_train = dtree_clf.predict_proba(X_train)[:,1]\n",
    "y_pred_train = dtree_clf.predict(X_train)\n",
    "prob_val = dtree_clf.predict_proba(X_val)[:,1]\n",
    "y_pred_val = dtree_clf.predict(X_val)"
   ]
  },
  {
   "cell_type": "code",
   "execution_count": 42,
   "metadata": {
    "scrolled": true
   },
   "outputs": [
    {
     "data": {
      "text/plain": [
       "{'acc': 0.80973471929599927,\n",
       " 'auc': 0.75395425531900395,\n",
       " 'aps': 0.51806586081193828,\n",
       " 'precision': 0.6988643695960769,\n",
       " 'recall': 0.27875434307038993,\n",
       " 'f1': 0.3985428587198499}"
      ]
     },
     "execution_count": 42,
     "metadata": {},
     "output_type": "execute_result"
    }
   ],
   "source": [
    "# Train set metrics\n",
    "compute_metrics(y_train, y_pred_train, prob_train)"
   ]
  },
  {
   "cell_type": "code",
   "execution_count": 43,
   "metadata": {
    "scrolled": false
   },
   "outputs": [
    {
     "data": {
      "text/plain": [
       "{'acc': 0.80842877189805806,\n",
       " 'auc': 0.75307639588258024,\n",
       " 'aps': 0.51301098967475145,\n",
       " 'precision': 0.68937014382542572,\n",
       " 'recall': 0.2782411423233469,\n",
       " 'f1': 0.3964632059326868}"
      ]
     },
     "execution_count": 43,
     "metadata": {},
     "output_type": "execute_result"
    }
   ],
   "source": [
    "# Val set metrics\n",
    "compute_metrics(y_val, y_pred_val, prob_val)"
   ]
  },
  {
   "cell_type": "markdown",
   "metadata": {},
   "source": [
    "$Comment:$ The second model is better than the first one probably as we got rid of overfitting.\n",
    "\n",
    "The accuracy and f1 score are slightly better than on the previous models, but still almost the same. And better than on the baseline anyway."
   ]
  },
  {
   "cell_type": "markdown",
   "metadata": {},
   "source": [
    "## XGboost"
   ]
  },
  {
   "cell_type": "code",
   "execution_count": 44,
   "metadata": {},
   "outputs": [
    {
     "data": {
      "text/plain": [
       "XGBClassifier(base_score=0.5, booster='gbtree', colsample_bylevel=1,\n",
       "       colsample_bytree=1, gamma=0, learning_rate=0.1, max_delta_step=0,\n",
       "       max_depth=3, min_child_weight=1, missing=None, n_estimators=100,\n",
       "       n_jobs=1, nthread=None, objective='binary:logistic', random_state=0,\n",
       "       reg_alpha=0, reg_lambda=1, scale_pos_weight=1, seed=None,\n",
       "       silent=True, subsample=1)"
      ]
     },
     "execution_count": 44,
     "metadata": {},
     "output_type": "execute_result"
    }
   ],
   "source": [
    "# Train\n",
    "xgb_model = XGBClassifier()\n",
    "xgb_model.fit(X_train, y_train)"
   ]
  },
  {
   "cell_type": "code",
   "execution_count": 45,
   "metadata": {},
   "outputs": [],
   "source": [
    "# Collect the outputs and labels\n",
    "prob_train = xgb_model.predict_proba(X_train)[:,1]\n",
    "y_pred_train = xgb_model.predict(X_train)\n",
    "prob_val = xgb_model.predict_proba(X_val)[:,1]\n",
    "y_pred_val = xgb_model.predict(X_val)"
   ]
  },
  {
   "cell_type": "code",
   "execution_count": 46,
   "metadata": {
    "scrolled": false
   },
   "outputs": [
    {
     "data": {
      "text/plain": [
       "{'acc': 0.81517070388434276,\n",
       " 'auc': 0.7682560859757479,\n",
       " 'aps': 0.56756526025567378,\n",
       " 'precision': 0.69074492099322804,\n",
       " 'recall': 0.33076824089563761,\n",
       " 'f1': 0.44732949304745834}"
      ]
     },
     "execution_count": 46,
     "metadata": {},
     "output_type": "execute_result"
    }
   ],
   "source": [
    "# Train set metrics\n",
    "compute_metrics(y_train, y_pred_train, prob_train)"
   ]
  },
  {
   "cell_type": "code",
   "execution_count": 47,
   "metadata": {},
   "outputs": [
    {
     "data": {
      "text/plain": [
       "{'acc': 0.81312148235329618,\n",
       " 'auc': 0.76819135371962366,\n",
       " 'aps': 0.5618083925431453,\n",
       " 'precision': 0.67802408319649698,\n",
       " 'recall': 0.33061987055448055,\n",
       " 'f1': 0.44449428122897511}"
      ]
     },
     "execution_count": 47,
     "metadata": {},
     "output_type": "execute_result"
    }
   ],
   "source": [
    "# Val set metrics\n",
    "compute_metrics(y_val, y_pred_val, prob_val)"
   ]
  },
  {
   "cell_type": "code",
   "execution_count": 48,
   "metadata": {},
   "outputs": [
    {
     "data": {
      "image/png": "[encoded data removed]",
      "text/plain": [
       "<Figure size 432x288 with 1 Axes>"
      ]
     },
     "metadata": {},
     "output_type": "display_data"
    },
    {
     "data": {
      "image/png": "[encoded data removed]",
      "text/plain": [
       "<Figure size 432x288 with 1 Axes>"
      ]
     },
     "metadata": {},
     "output_type": "display_data"
    }
   ],
   "source": [
    "# Check the output distribution (train, val)\n",
    "plt.hist(xgb_model.predict_proba(X_train)[:,1], bins=100)\n",
    "plt.show()\n",
    "plt.hist(xgb_model.predict_proba(X_val)[:,1], bins=100)\n",
    "plt.show()"
   ]
  },
  {
   "cell_type": "code",
   "execution_count": 49,
   "metadata": {
    "scrolled": false
   },
   "outputs": [
    {
     "name": "stdout",
     "output_type": "stream",
     "text": [
      "Threshold= 0.1, Train acc= 0.301,  Val acc= 0.302\n",
      "Threshold= 0.2, Train acc= 0.706,  Val acc= 0.705\n",
      "Threshold= 0.3, Train acc= 0.788,  Val acc= 0.787\n",
      "Threshold= 0.4, Train acc= 0.811,  Val acc= 0.809\n",
      "Threshold= 0.5, Train acc= 0.815,  Val acc= 0.813\n",
      "Threshold= 0.6, Train acc= 0.810,  Val acc= 0.809\n",
      "Threshold= 0.7, Train acc= 0.800,  Val acc= 0.799\n",
      "Threshold= 0.8, Train acc= 0.788,  Val acc= 0.788\n",
      "Threshold= 0.9, Train acc= 0.778,  Val acc= 0.777\n"
     ]
    }
   ],
   "source": [
    "# Try thresholds on train set\n",
    "try_acc_thresholds(xgb_model, data_dict)"
   ]
  },
  {
   "cell_type": "markdown",
   "metadata": {},
   "source": [
    "$Comment:$ The best model so far regarding the val set. \n",
    "\n",
    "No overfitting as the metrics on train and val sets are similar. \n",
    "\n",
    "Threshold to be picked is 0.5 again."
   ]
  },
  {
   "cell_type": "markdown",
   "metadata": {},
   "source": [
    "## SVM with kernel rbf"
   ]
  },
  {
   "cell_type": "code",
   "execution_count": 50,
   "metadata": {
    "scrolled": true
   },
   "outputs": [],
   "source": [
    "# # Vary gamma and print metrics after each run\n",
    "# gamma = 1\n",
    "# for i in range(3):\n",
    "#     svm_clf = svm.SVC(kernel='rbf', gamma=gamma, probability=True)\n",
    "#     svm_clf.fit(X_train, y_train)\n",
    "    \n",
    "#     prob_train = svm_clf.predict_proba(X_train)[:,1]\n",
    "#     y_pred_train = svm_clf.predict(X_train)\n",
    "#     prob_val = svm_clf.predict_proba(X_val)[:,1]\n",
    "#     y_pred_val = svm_clf.predict(X_val)\n",
    "\n",
    "#     scores_train = compute_metrics(y_train, y_pred_train, prob_train)\n",
    "#     scores_val = compute_metrics(y_val, y_pred_val, prob_val)\n",
    "#     print('Gamma= {}\\nTrain scores:\\n{},\\nVal scores:\\n{}'.format(gamma, scores_train, scores_val))\n",
    "#     gamma /= 10 "
   ]
  },
  {
   "cell_type": "markdown",
   "metadata": {},
   "source": [
    "$Comment:$ Takes too time to learn a single model because of the rbf kernel. I'm too lazy to wait."
   ]
  },
  {
   "cell_type": "markdown",
   "metadata": {},
   "source": [
    "# Ensemble"
   ]
  },
  {
   "cell_type": "code",
   "execution_count": 51,
   "metadata": {},
   "outputs": [],
   "source": [
    "# Models: log reg, decision tree, gxboost \n",
    "class EnsembleModel():\n",
    "    def __init__(self, model_list, weights=None):\n",
    "        self.model_list = model_list\n",
    "        if not weights:\n",
    "            self.weights = [1./len(model_list)] * len(model_list)\n",
    "        else:\n",
    "            self.weights = weights\n",
    "        # check sum of weight =1\n",
    "        if sum(self.weights) != 1.:\n",
    "            print('Error. Weights sum is not 1')\n",
    "    \n",
    "    def predict_proba(self, X):\n",
    "        outputs = np.vstack([model.predict_proba(X)[:,1] for model in self.model_list])\n",
    "        return np.average(outputs, axis=0, weights=self.weights)\n",
    "    \n",
    "    def predict(self, X):\n",
    "        outputs = np.vstack([model.predict(X) for model in self.model_list])\n",
    "        return np.round(np.average(outputs, axis=0, weights=self.weights))"
   ]
  },
  {
   "cell_type": "code",
   "execution_count": 52,
   "metadata": {},
   "outputs": [],
   "source": [
    "# Train with regularization\n",
    "log_reg = LogisticRegression(C=1.0)\n",
    "log_reg.fit(X_train, y_train)\n",
    "\n",
    "dtree_clf = tree.DecisionTreeClassifier(max_depth=6)\n",
    "dtree_clf = dtree_clf.fit(X_train, y_train)\n",
    "\n",
    "xgb_model = XGBClassifier()\n",
    "xgb_model.fit(X_train, y_train)\n",
    "\n",
    "ensemble = EnsembleModel([log_reg, dtree_clf, xgb_model])#, weights=[0.1, 0.3, 0.6])"
   ]
  },
  {
   "cell_type": "code",
   "execution_count": 53,
   "metadata": {},
   "outputs": [],
   "source": [
    "# Collect the outputs and labels\n",
    "prob_train = ensemble.predict_proba(X_train)\n",
    "y_pred_train = ensemble.predict(X_train)\n",
    "prob_val = ensemble.predict_proba(X_val)\n",
    "y_pred_val = ensemble.predict(X_val)"
   ]
  },
  {
   "cell_type": "code",
   "execution_count": 54,
   "metadata": {},
   "outputs": [
    {
     "data": {
      "text/plain": [
       "{'acc': 0.81396594070469919,\n",
       " 'auc': 0.76583364354461059,\n",
       " 'aps': 0.56351436398000676,\n",
       " 'precision': 0.7111860251302482,\n",
       " 'recall': 0.29862308583193925,\n",
       " 'f1': 0.42062715243791915}"
      ]
     },
     "execution_count": 54,
     "metadata": {},
     "output_type": "execute_result"
    }
   ],
   "source": [
    "# Train set metrics\n",
    "compute_metrics(y_train, y_pred_train, prob_train)"
   ]
  },
  {
   "cell_type": "code",
   "execution_count": 55,
   "metadata": {
    "scrolled": true
   },
   "outputs": [
    {
     "data": {
      "text/plain": [
       "{'acc': 0.81242738370075296,\n",
       " 'auc': 0.76695420735381781,\n",
       " 'aps': 0.56070747510415653,\n",
       " 'precision': 0.70018796992481203,\n",
       " 'recall': 0.298258490691933,\n",
       " 'f1': 0.41832389686958965}"
      ]
     },
     "execution_count": 55,
     "metadata": {},
     "output_type": "execute_result"
    }
   ],
   "source": [
    "# Val set metrics\n",
    "compute_metrics(y_val, y_pred_val, prob_val)"
   ]
  },
  {
   "cell_type": "code",
   "execution_count": 56,
   "metadata": {},
   "outputs": [
    {
     "data": {
      "image/png": "[encoded data removed]",
      "text/plain": [
       "<Figure size 432x288 with 1 Axes>"
      ]
     },
     "metadata": {},
     "output_type": "display_data"
    },
    {
     "data": {
      "image/png": "[encoded data removed]",
      "text/plain": [
       "<Figure size 432x288 with 1 Axes>"
      ]
     },
     "metadata": {},
     "output_type": "display_data"
    }
   ],
   "source": [
    "# Check the output distribution (train, val)\n",
    "plt.hist(xgb_model.predict_proba(X_train)[:,1], bins=100)\n",
    "plt.show()\n",
    "plt.hist(xgb_model.predict_proba(X_val)[:,1], bins=100)\n",
    "plt.show()"
   ]
  },
  {
   "cell_type": "markdown",
   "metadata": {},
   "source": [
    "$Comment:$ No overfitting. Output predictions distribution is as expected (like in other models).\n",
    "\n",
    "Metrics are about the same, but precision score is higher than for all of the previous models."
   ]
  },
  {
   "cell_type": "code",
   "execution_count": null,
   "metadata": {},
   "outputs": [],
   "source": []
  },
  {
   "cell_type": "markdown",
   "metadata": {},
   "source": [
    "# MLP in Keras"
   ]
  },
  {
   "cell_type": "code",
   "execution_count": 57,
   "metadata": {},
   "outputs": [],
   "source": [
    "# Set GPU usage with fraction\n",
    "def get_session(gpu_fraction=0.2):\n",
    "    '''Assume that you have 6GB of GPU memory and want to allocate ~2GB'''\n",
    "\n",
    "    num_threads = os.environ.get('OMP_NUM_THREADS')\n",
    "    gpu_options = tf.GPUOptions(per_process_gpu_memory_fraction=gpu_fraction)\n",
    "\n",
    "    if num_threads:\n",
    "        return tf.Session(config=tf.ConfigProto(\n",
    "            gpu_options=gpu_options, intra_op_parallelism_threads=num_threads))\n",
    "    else:\n",
    "        return tf.Session(config=tf.ConfigProto(gpu_options=gpu_options))\n",
    "\n",
    "KTF.set_session(get_session())"
   ]
  },
  {
   "cell_type": "code",
   "execution_count": 58,
   "metadata": {
    "scrolled": true
   },
   "outputs": [
    {
     "name": "stdout",
     "output_type": "stream",
     "text": [
      "Train on 171818 samples, validate on 66273 samples\n",
      "Epoch 1/50\n",
      " - 9s - loss: 0.4571 - acc: 0.8060 - val_loss: 0.4433 - val_acc: 0.8119\n",
      "\n",
      "Epoch 00001: val_acc improved from -inf to 0.81193, saving model to weights.best.hdf5\n",
      "Epoch 2/50\n",
      " - 9s - loss: 0.4424 - acc: 0.8128 - val_loss: 0.4426 - val_acc: 0.8124\n",
      "\n",
      "Epoch 00002: val_acc improved from 0.81193 to 0.81238, saving model to weights.best.hdf5\n",
      "Epoch 3/50\n",
      " - 9s - loss: 0.4410 - acc: 0.8128 - val_loss: 0.4400 - val_acc: 0.8121\n",
      "\n",
      "Epoch 00003: val_acc did not improve from 0.81238\n",
      "Epoch 4/50\n",
      " - 9s - loss: 0.4403 - acc: 0.8135 - val_loss: 0.4398 - val_acc: 0.8119\n",
      "\n",
      "Epoch 00004: val_acc did not improve from 0.81238\n",
      "Epoch 5/50\n",
      " - 9s - loss: 0.4398 - acc: 0.8132 - val_loss: 0.4412 - val_acc: 0.8127\n",
      "\n",
      "Epoch 00005: val_acc improved from 0.81238 to 0.81265, saving model to weights.best.hdf5\n",
      "Epoch 6/50\n",
      " - 9s - loss: 0.4394 - acc: 0.8136 - val_loss: 0.4413 - val_acc: 0.8110\n",
      "\n",
      "Epoch 00006: val_acc did not improve from 0.81265\n",
      "Epoch 7/50\n",
      " - 9s - loss: 0.4389 - acc: 0.8139 - val_loss: 0.4396 - val_acc: 0.8127\n",
      "\n",
      "Epoch 00007: val_acc improved from 0.81265 to 0.81270, saving model to weights.best.hdf5\n",
      "Epoch 8/50\n",
      " - 9s - loss: 0.4386 - acc: 0.8142 - val_loss: 0.4390 - val_acc: 0.8132\n",
      "\n",
      "Epoch 00008: val_acc improved from 0.81270 to 0.81317, saving model to weights.best.hdf5\n",
      "Epoch 9/50\n",
      " - 9s - loss: 0.4383 - acc: 0.8140 - val_loss: 0.4402 - val_acc: 0.8127\n",
      "\n",
      "Epoch 00009: val_acc did not improve from 0.81317\n",
      "Epoch 10/50\n",
      " - 9s - loss: 0.4380 - acc: 0.8144 - val_loss: 0.4386 - val_acc: 0.8129\n",
      "\n",
      "Epoch 00010: val_acc did not improve from 0.81317\n",
      "Epoch 11/50\n",
      " - 9s - loss: 0.4378 - acc: 0.8147 - val_loss: 0.4392 - val_acc: 0.8129\n",
      "\n",
      "Epoch 00011: val_acc did not improve from 0.81317\n",
      "Epoch 12/50\n",
      " - 9s - loss: 0.4375 - acc: 0.8152 - val_loss: 0.4389 - val_acc: 0.8134\n",
      "\n",
      "Epoch 00012: val_acc improved from 0.81317 to 0.81344, saving model to weights.best.hdf5\n",
      "Epoch 13/50\n",
      " - 9s - loss: 0.4372 - acc: 0.8150 - val_loss: 0.4387 - val_acc: 0.8128\n",
      "\n",
      "Epoch 00013: val_acc did not improve from 0.81344\n",
      "Epoch 14/50\n",
      " - 9s - loss: 0.4370 - acc: 0.8152 - val_loss: 0.4390 - val_acc: 0.8132\n",
      "\n",
      "Epoch 00014: val_acc did not improve from 0.81344\n",
      "Epoch 15/50\n",
      " - 9s - loss: 0.4367 - acc: 0.8156 - val_loss: 0.4390 - val_acc: 0.8132\n",
      "\n",
      "Epoch 00015: val_acc did not improve from 0.81344\n",
      "Epoch 16/50\n",
      " - 9s - loss: 0.4366 - acc: 0.8156 - val_loss: 0.4389 - val_acc: 0.8139\n",
      "\n",
      "Epoch 00016: val_acc improved from 0.81344 to 0.81386, saving model to weights.best.hdf5\n",
      "Epoch 17/50\n",
      " - 9s - loss: 0.4361 - acc: 0.8159 - val_loss: 0.4396 - val_acc: 0.8126\n",
      "\n",
      "Epoch 00017: val_acc did not improve from 0.81386\n",
      "Epoch 18/50\n",
      " - 9s - loss: 0.4359 - acc: 0.8163 - val_loss: 0.4390 - val_acc: 0.8129\n",
      "\n",
      "Epoch 00018: val_acc did not improve from 0.81386\n",
      "Epoch 19/50\n",
      " - 9s - loss: 0.4357 - acc: 0.8159 - val_loss: 0.4399 - val_acc: 0.8138\n",
      "\n",
      "Epoch 00019: val_acc did not improve from 0.81386\n",
      "Epoch 20/50\n",
      " - 9s - loss: 0.4355 - acc: 0.8167 - val_loss: 0.4389 - val_acc: 0.8137\n",
      "\n",
      "Epoch 00020: val_acc did not improve from 0.81386\n",
      "Epoch 21/50\n",
      " - 9s - loss: 0.4350 - acc: 0.8164 - val_loss: 0.4397 - val_acc: 0.8134\n",
      "\n",
      "Epoch 00021: val_acc did not improve from 0.81386\n",
      "Epoch 22/50\n",
      " - 9s - loss: 0.4352 - acc: 0.8166 - val_loss: 0.4390 - val_acc: 0.8138\n",
      "\n",
      "Epoch 00022: val_acc did not improve from 0.81386\n",
      "Epoch 23/50\n",
      " - 9s - loss: 0.4351 - acc: 0.8168 - val_loss: 0.4389 - val_acc: 0.8135\n",
      "\n",
      "Epoch 00023: val_acc did not improve from 0.81386\n",
      "Epoch 24/50\n",
      " - 9s - loss: 0.4349 - acc: 0.8169 - val_loss: 0.4394 - val_acc: 0.8137\n",
      "\n",
      "Epoch 00024: val_acc did not improve from 0.81386\n",
      "Epoch 25/50\n",
      " - 9s - loss: 0.4346 - acc: 0.8171 - val_loss: 0.4393 - val_acc: 0.8129\n",
      "\n",
      "Epoch 00025: val_acc did not improve from 0.81386\n",
      "Epoch 26/50\n",
      " - 9s - loss: 0.4345 - acc: 0.8174 - val_loss: 0.4395 - val_acc: 0.8135\n",
      "\n",
      "Epoch 00026: val_acc did not improve from 0.81386\n",
      "Epoch 27/50\n",
      " - 9s - loss: 0.4345 - acc: 0.8168 - val_loss: 0.4403 - val_acc: 0.8136\n",
      "\n",
      "Epoch 00027: val_acc did not improve from 0.81386\n",
      "Epoch 28/50\n",
      " - 9s - loss: 0.4341 - acc: 0.8176 - val_loss: 0.4406 - val_acc: 0.8129\n",
      "\n",
      "Epoch 00028: val_acc did not improve from 0.81386\n",
      "Epoch 29/50\n",
      " - 10s - loss: 0.4340 - acc: 0.8172 - val_loss: 0.4406 - val_acc: 0.8135\n",
      "\n",
      "Epoch 00029: val_acc did not improve from 0.81386\n",
      "Epoch 30/50\n",
      " - 9s - loss: 0.4339 - acc: 0.8173 - val_loss: 0.4400 - val_acc: 0.8133\n",
      "\n",
      "Epoch 00030: val_acc did not improve from 0.81386\n",
      "Epoch 31/50\n",
      " - 9s - loss: 0.4338 - acc: 0.8172 - val_loss: 0.4408 - val_acc: 0.8132\n",
      "\n",
      "Epoch 00031: val_acc did not improve from 0.81386\n",
      "Epoch 32/50\n",
      " - 9s - loss: 0.4335 - acc: 0.8173 - val_loss: 0.4406 - val_acc: 0.8138\n",
      "\n",
      "Epoch 00032: val_acc did not improve from 0.81386\n",
      "Epoch 33/50\n",
      " - 9s - loss: 0.4334 - acc: 0.8175 - val_loss: 0.4407 - val_acc: 0.8128\n",
      "\n",
      "Epoch 00033: val_acc did not improve from 0.81386\n",
      "Epoch 34/50\n",
      " - 9s - loss: 0.4332 - acc: 0.8176 - val_loss: 0.4400 - val_acc: 0.8132\n",
      "\n",
      "Epoch 00034: val_acc did not improve from 0.81386\n",
      "Epoch 35/50\n",
      " - 9s - loss: 0.4330 - acc: 0.8177 - val_loss: 0.4409 - val_acc: 0.8129\n",
      "\n",
      "Epoch 00035: val_acc did not improve from 0.81386\n",
      "Epoch 36/50\n",
      " - 9s - loss: 0.4331 - acc: 0.8174 - val_loss: 0.4411 - val_acc: 0.8127\n",
      "\n",
      "Epoch 00036: val_acc did not improve from 0.81386\n",
      "Epoch 37/50\n",
      " - 9s - loss: 0.4327 - acc: 0.8181 - val_loss: 0.4404 - val_acc: 0.8135\n",
      "\n",
      "Epoch 00037: val_acc did not improve from 0.81386\n",
      "Epoch 38/50\n",
      " - 10s - loss: 0.4326 - acc: 0.8182 - val_loss: 0.4413 - val_acc: 0.8133\n",
      "\n",
      "Epoch 00038: val_acc did not improve from 0.81386\n",
      "Epoch 39/50\n",
      " - 9s - loss: 0.4325 - acc: 0.8180 - val_loss: 0.4417 - val_acc: 0.8125\n",
      "\n",
      "Epoch 00039: val_acc did not improve from 0.81386\n",
      "Epoch 40/50\n",
      " - 9s - loss: 0.4323 - acc: 0.8181 - val_loss: 0.4411 - val_acc: 0.8128\n",
      "\n",
      "Epoch 00040: val_acc did not improve from 0.81386\n",
      "Epoch 41/50\n",
      " - 9s - loss: 0.4321 - acc: 0.8184 - val_loss: 0.4404 - val_acc: 0.8131\n",
      "\n",
      "Epoch 00041: val_acc did not improve from 0.81386\n",
      "Epoch 42/50\n",
      " - 9s - loss: 0.4320 - acc: 0.8187 - val_loss: 0.4430 - val_acc: 0.8125\n",
      "\n",
      "Epoch 00042: val_acc did not improve from 0.81386\n",
      "Epoch 43/50\n",
      " - 9s - loss: 0.4318 - acc: 0.8183 - val_loss: 0.4410 - val_acc: 0.8129\n",
      "\n",
      "Epoch 00043: val_acc did not improve from 0.81386\n",
      "Epoch 44/50\n",
      " - 9s - loss: 0.4316 - acc: 0.8188 - val_loss: 0.4402 - val_acc: 0.8132\n",
      "\n",
      "Epoch 00044: val_acc did not improve from 0.81386\n",
      "Epoch 45/50\n",
      " - 9s - loss: 0.4315 - acc: 0.8186 - val_loss: 0.4410 - val_acc: 0.8118\n",
      "\n",
      "Epoch 00045: val_acc did not improve from 0.81386\n",
      "Epoch 46/50\n",
      " - 9s - loss: 0.4313 - acc: 0.8188 - val_loss: 0.4413 - val_acc: 0.8123\n",
      "\n",
      "Epoch 00046: val_acc did not improve from 0.81386\n",
      "Epoch 47/50\n",
      " - 9s - loss: 0.4311 - acc: 0.8187 - val_loss: 0.4410 - val_acc: 0.8123\n",
      "\n",
      "Epoch 00047: val_acc did not improve from 0.81386\n",
      "Epoch 48/50\n",
      " - 9s - loss: 0.4312 - acc: 0.8188 - val_loss: 0.4419 - val_acc: 0.8124\n",
      "\n",
      "Epoch 00048: val_acc did not improve from 0.81386\n",
      "Epoch 49/50\n",
      " - 9s - loss: 0.4311 - acc: 0.8190 - val_loss: 0.4409 - val_acc: 0.8123\n",
      "\n",
      "Epoch 00049: val_acc did not improve from 0.81386\n",
      "Epoch 50/50\n",
      " - 9s - loss: 0.4308 - acc: 0.8191 - val_loss: 0.4415 - val_acc: 0.8123\n",
      "\n",
      "Epoch 00050: val_acc did not improve from 0.81386\n"
     ]
    },
    {
     "data": {
      "text/plain": [
       "<keras.callbacks.History at 0x7f1f1427a978>"
      ]
     },
     "execution_count": 58,
     "metadata": {},
     "output_type": "execute_result"
    }
   ],
   "source": [
    "# Create model\n",
    "model = Sequential()\n",
    "model.add(Dense(128, input_dim=40, kernel_initializer='uniform', activation='relu'))\n",
    "model.add(Dense(32, kernel_initializer='uniform', activation='relu'))\n",
    "model.add(Dense(1, kernel_initializer='uniform', activation='sigmoid'))\n",
    "\n",
    "# Optimizer\n",
    "sgd = optimizers.SGD(lr=0.01, decay=1e-6, momentum=0.9, nesterov=True)\n",
    "\n",
    "# Compile model\n",
    "model.compile(loss='binary_crossentropy', optimizer=sgd, metrics=['accuracy'])\n",
    "\n",
    "# Checkpoint\n",
    "filepath=\"weights.best.hdf5\"\n",
    "checkpoint = ModelCheckpoint(filepath, monitor='val_acc', verbose=1, save_best_only=True, mode='max')\n",
    "callbacks_list = [checkpoint]\n",
    "\n",
    "# Fit the model\n",
    "model.fit(X_train, y_train, epochs=50, batch_size=64, callbacks=callbacks_list, \n",
    "          verbose=2, validation_data=(X_val, y_val))"
   ]
  },
  {
   "cell_type": "code",
   "execution_count": 59,
   "metadata": {},
   "outputs": [],
   "source": [
    "# Restore the best epoch\n",
    "model.load_weights(\"weights.best.hdf5\")"
   ]
  },
  {
   "cell_type": "code",
   "execution_count": 60,
   "metadata": {},
   "outputs": [
    {
     "data": {
      "text/plain": [
       "([0.43481558462942616, 0.8164453084063461],\n",
       " [0.4388669556738351, 0.81386084830926619])"
      ]
     },
     "execution_count": 60,
     "metadata": {},
     "output_type": "execute_result"
    }
   ],
   "source": [
    "# Estimate loss and accuracy using loaded weights\n",
    "scores_train = model.evaluate(X_train, y_train, verbose=0)\n",
    "scores_val = model.evaluate(X_val, y_val, verbose=0)\n",
    "scores_train, scores_val"
   ]
  },
  {
   "cell_type": "code",
   "execution_count": 61,
   "metadata": {},
   "outputs": [],
   "source": [
    "# Calculate predictions\n",
    "prob_train = model.predict(X_train)\n",
    "y_pred_train = [round(x[0]) for x in prob_train]\n",
    "prob_val = model.predict(X_val)\n",
    "y_pred_val = [round(x[0]) for x in prob_val]"
   ]
  },
  {
   "cell_type": "code",
   "execution_count": 62,
   "metadata": {},
   "outputs": [
    {
     "data": {
      "text/plain": [
       "{'acc': 0.81644530840773377,\n",
       " 'auc': 0.77047796193962204,\n",
       " 'aps': 0.57438406346180459,\n",
       " 'precision': 0.69189614476789929,\n",
       " 'recall': 0.33949298674559258,\n",
       " 'f1': 0.45549033149171264}"
      ]
     },
     "execution_count": 62,
     "metadata": {},
     "output_type": "execute_result"
    }
   ],
   "source": [
    "# Train set metrics\n",
    "compute_metrics(y_train, y_pred_train, prob_train)"
   ]
  },
  {
   "cell_type": "code",
   "execution_count": 63,
   "metadata": {},
   "outputs": [
    {
     "data": {
      "text/plain": [
       "{'acc': 0.81386084830926619,\n",
       " 'auc': 0.76791903370941617,\n",
       " 'aps': 0.56157294653149858,\n",
       " 'precision': 0.67609937558124089,\n",
       " 'recall': 0.33956095282578236,\n",
       " 'f1': 0.45207426490183883}"
      ]
     },
     "execution_count": 63,
     "metadata": {},
     "output_type": "execute_result"
    }
   ],
   "source": [
    "# Val set metrics\n",
    "compute_metrics(y_val, y_pred_val, prob_val)"
   ]
  },
  {
   "cell_type": "markdown",
   "metadata": {},
   "source": [
    "$Comment:$ The metrics are good, precision score is slightly higher than in XGBoost model (but lower than in Ensemble model), other metrics are as good as on XGB or on Ensemble. \n",
    "\n",
    "Tried different learning rate (lower), the result is about the same."
   ]
  },
  {
   "cell_type": "code",
   "execution_count": null,
   "metadata": {},
   "outputs": [],
   "source": []
  },
  {
   "cell_type": "markdown",
   "metadata": {},
   "source": [
    "# Sequences in tensorflow"
   ]
  },
  {
   "cell_type": "markdown",
   "metadata": {},
   "source": [
    "### Read data"
   ]
  },
  {
   "cell_type": "code",
   "execution_count": 64,
   "metadata": {},
   "outputs": [],
   "source": [
    "order_data_lbl = pd.read_feather('order_data_lbl.feather')\n",
    "labeled_data = pd.read_csv('machine_learning_challenge_labeled_data.csv')"
   ]
  },
  {
   "cell_type": "code",
   "execution_count": 65,
   "metadata": {},
   "outputs": [
    {
     "data": {
      "text/plain": [
       "((786600, 36), (245455, 2))"
      ]
     },
     "execution_count": 65,
     "metadata": {},
     "output_type": "execute_result"
    }
   ],
   "source": [
    "order_data_lbl.shape, labeled_data.shape"
   ]
  },
  {
   "cell_type": "code",
   "execution_count": 66,
   "metadata": {},
   "outputs": [
    {
     "data": {
      "text/html": [
       "<div>\n",
       "<style scoped>\n",
       "    .dataframe tbody tr th:only-of-type {\n",
       "        vertical-align: middle;\n",
       "    }\n",
       "\n",
       "    .dataframe tbody tr th {\n",
       "        vertical-align: top;\n",
       "    }\n",
       "\n",
       "    .dataframe thead th {\n",
       "        text-align: right;\n",
       "    }\n",
       "</style>\n",
       "<table border=\"1\" class=\"dataframe\">\n",
       "  <thead>\n",
       "    <tr style=\"text-align: right;\">\n",
       "      <th></th>\n",
       "      <th>customer_id</th>\n",
       "      <th>order_hour</th>\n",
       "      <th>is_failed</th>\n",
       "      <th>voucher_amount</th>\n",
       "      <th>delivery_fee</th>\n",
       "      <th>amount_paid</th>\n",
       "      <th>payment_id_1491</th>\n",
       "      <th>payment_id_1523</th>\n",
       "      <th>payment_id_1619</th>\n",
       "      <th>payment_id_1779</th>\n",
       "      <th>payment_id_1811</th>\n",
       "      <th>platform_id_525</th>\n",
       "      <th>platform_id_22167</th>\n",
       "      <th>platform_id_22263</th>\n",
       "      <th>platform_id_22295</th>\n",
       "      <th>platform_id_29463</th>\n",
       "      <th>platform_id_29495</th>\n",
       "      <th>platform_id_29751</th>\n",
       "      <th>platform_id_29815</th>\n",
       "      <th>platform_id_30135</th>\n",
       "      <th>platform_id_30199</th>\n",
       "      <th>platform_id_30231</th>\n",
       "      <th>platform_id_30359</th>\n",
       "      <th>platform_id_30391</th>\n",
       "      <th>platform_id_30423</th>\n",
       "      <th>transmission_id_212</th>\n",
       "      <th>transmission_id_1988</th>\n",
       "      <th>transmission_id_2020</th>\n",
       "      <th>transmission_id_4196</th>\n",
       "      <th>transmission_id_4228</th>\n",
       "      <th>transmission_id_4260</th>\n",
       "      <th>transmission_id_4324</th>\n",
       "      <th>transmission_id_4356</th>\n",
       "      <th>transmission_id_4996</th>\n",
       "      <th>transmission_id_21124</th>\n",
       "      <th>is_returning_customer</th>\n",
       "    </tr>\n",
       "  </thead>\n",
       "  <tbody>\n",
       "    <tr>\n",
       "      <th>0</th>\n",
       "      <td>000097eabfd9</td>\n",
       "      <td>19</td>\n",
       "      <td>0</td>\n",
       "      <td>0.0</td>\n",
       "      <td>0.000</td>\n",
       "      <td>11.46960</td>\n",
       "      <td>0</td>\n",
       "      <td>0</td>\n",
       "      <td>0</td>\n",
       "      <td>1</td>\n",
       "      <td>0</td>\n",
       "      <td>0</td>\n",
       "      <td>0</td>\n",
       "      <td>0</td>\n",
       "      <td>0</td>\n",
       "      <td>0</td>\n",
       "      <td>0</td>\n",
       "      <td>0</td>\n",
       "      <td>0</td>\n",
       "      <td>0</td>\n",
       "      <td>0</td>\n",
       "      <td>1</td>\n",
       "      <td>0</td>\n",
       "      <td>0</td>\n",
       "      <td>0</td>\n",
       "      <td>0</td>\n",
       "      <td>0</td>\n",
       "      <td>0</td>\n",
       "      <td>0</td>\n",
       "      <td>0</td>\n",
       "      <td>0</td>\n",
       "      <td>0</td>\n",
       "      <td>1</td>\n",
       "      <td>0</td>\n",
       "      <td>0</td>\n",
       "      <td>0</td>\n",
       "    </tr>\n",
       "    <tr>\n",
       "      <th>1</th>\n",
       "      <td>0000e2c6d9be</td>\n",
       "      <td>20</td>\n",
       "      <td>0</td>\n",
       "      <td>0.0</td>\n",
       "      <td>0.000</td>\n",
       "      <td>9.55800</td>\n",
       "      <td>0</td>\n",
       "      <td>0</td>\n",
       "      <td>1</td>\n",
       "      <td>0</td>\n",
       "      <td>0</td>\n",
       "      <td>0</td>\n",
       "      <td>0</td>\n",
       "      <td>0</td>\n",
       "      <td>0</td>\n",
       "      <td>0</td>\n",
       "      <td>0</td>\n",
       "      <td>0</td>\n",
       "      <td>0</td>\n",
       "      <td>0</td>\n",
       "      <td>0</td>\n",
       "      <td>0</td>\n",
       "      <td>1</td>\n",
       "      <td>0</td>\n",
       "      <td>0</td>\n",
       "      <td>0</td>\n",
       "      <td>0</td>\n",
       "      <td>0</td>\n",
       "      <td>0</td>\n",
       "      <td>0</td>\n",
       "      <td>0</td>\n",
       "      <td>0</td>\n",
       "      <td>1</td>\n",
       "      <td>0</td>\n",
       "      <td>0</td>\n",
       "      <td>0</td>\n",
       "    </tr>\n",
       "    <tr>\n",
       "      <th>2</th>\n",
       "      <td>000133bb597f</td>\n",
       "      <td>19</td>\n",
       "      <td>0</td>\n",
       "      <td>0.0</td>\n",
       "      <td>0.493</td>\n",
       "      <td>5.93658</td>\n",
       "      <td>0</td>\n",
       "      <td>0</td>\n",
       "      <td>1</td>\n",
       "      <td>0</td>\n",
       "      <td>0</td>\n",
       "      <td>0</td>\n",
       "      <td>0</td>\n",
       "      <td>0</td>\n",
       "      <td>0</td>\n",
       "      <td>0</td>\n",
       "      <td>0</td>\n",
       "      <td>0</td>\n",
       "      <td>0</td>\n",
       "      <td>0</td>\n",
       "      <td>0</td>\n",
       "      <td>0</td>\n",
       "      <td>1</td>\n",
       "      <td>0</td>\n",
       "      <td>0</td>\n",
       "      <td>0</td>\n",
       "      <td>0</td>\n",
       "      <td>0</td>\n",
       "      <td>0</td>\n",
       "      <td>0</td>\n",
       "      <td>0</td>\n",
       "      <td>1</td>\n",
       "      <td>0</td>\n",
       "      <td>0</td>\n",
       "      <td>0</td>\n",
       "      <td>1</td>\n",
       "    </tr>\n",
       "  </tbody>\n",
       "</table>\n",
       "</div>"
      ],
      "text/plain": [
       "    customer_id  order_hour  is_failed  voucher_amount  delivery_fee  \\\n",
       "0  000097eabfd9          19          0             0.0         0.000   \n",
       "1  0000e2c6d9be          20          0             0.0         0.000   \n",
       "2  000133bb597f          19          0             0.0         0.493   \n",
       "\n",
       "   amount_paid  payment_id_1491  payment_id_1523  payment_id_1619  \\\n",
       "0     11.46960                0                0                0   \n",
       "1      9.55800                0                0                1   \n",
       "2      5.93658                0                0                1   \n",
       "\n",
       "   payment_id_1779  payment_id_1811  platform_id_525  platform_id_22167  \\\n",
       "0                1                0                0                  0   \n",
       "1                0                0                0                  0   \n",
       "2                0                0                0                  0   \n",
       "\n",
       "   platform_id_22263  platform_id_22295  platform_id_29463  platform_id_29495  \\\n",
       "0                  0                  0                  0                  0   \n",
       "1                  0                  0                  0                  0   \n",
       "2                  0                  0                  0                  0   \n",
       "\n",
       "   platform_id_29751  platform_id_29815  platform_id_30135  platform_id_30199  \\\n",
       "0                  0                  0                  0                  0   \n",
       "1                  0                  0                  0                  0   \n",
       "2                  0                  0                  0                  0   \n",
       "\n",
       "   platform_id_30231  platform_id_30359  platform_id_30391  platform_id_30423  \\\n",
       "0                  1                  0                  0                  0   \n",
       "1                  0                  1                  0                  0   \n",
       "2                  0                  1                  0                  0   \n",
       "\n",
       "   transmission_id_212  transmission_id_1988  transmission_id_2020  \\\n",
       "0                    0                     0                     0   \n",
       "1                    0                     0                     0   \n",
       "2                    0                     0                     0   \n",
       "\n",
       "   transmission_id_4196  transmission_id_4228  transmission_id_4260  \\\n",
       "0                     0                     0                     0   \n",
       "1                     0                     0                     0   \n",
       "2                     0                     0                     0   \n",
       "\n",
       "   transmission_id_4324  transmission_id_4356  transmission_id_4996  \\\n",
       "0                     0                     1                     0   \n",
       "1                     0                     1                     0   \n",
       "2                     1                     0                     0   \n",
       "\n",
       "   transmission_id_21124  is_returning_customer  \n",
       "0                      0                      0  \n",
       "1                      0                      0  \n",
       "2                      0                      1  "
      ]
     },
     "execution_count": 66,
     "metadata": {},
     "output_type": "execute_result"
    }
   ],
   "source": [
    "order_data_lbl.head(3)"
   ]
  },
  {
   "cell_type": "markdown",
   "metadata": {},
   "source": [
    "### Stratified split clients to train and validation"
   ]
  },
  {
   "cell_type": "code",
   "execution_count": 67,
   "metadata": {},
   "outputs": [],
   "source": [
    "# Will be used to create summaries below\n",
    "cust_train, cust_val, lbl_train, lbl_val = train_test_split(labeled_data, \n",
    "                                                            labeled_data['is_returning_customer'], \n",
    "                                                            test_size=0.3, \n",
    "                                                            stratify=labeled_data['is_returning_customer'],\n",
    "                                                            shuffle=True, random_state=seed)"
   ]
  },
  {
   "cell_type": "code",
   "execution_count": 68,
   "metadata": {},
   "outputs": [
    {
     "data": {
      "text/plain": [
       "(0.22614045094227614, 0.22613631734046744, 171818, 73637)"
      ]
     },
     "execution_count": 68,
     "metadata": {},
     "output_type": "execute_result"
    }
   ],
   "source": [
    "# Check if split is fare\n",
    "lbl_train.mean(), lbl_val.mean(), len(lbl_train), len(lbl_val)"
   ]
  },
  {
   "cell_type": "markdown",
   "metadata": {},
   "source": [
    "### Modelling"
   ]
  },
  {
   "cell_type": "code",
   "execution_count": 69,
   "metadata": {},
   "outputs": [],
   "source": [
    "def set_seed(config):\n",
    "    \"\"\" \n",
    "    Set random seeds\n",
    "    \"\"\"\n",
    "    \n",
    "    np.random.seed(config.seed)\n",
    "    random.seed(config.seed)\n",
    "    \n",
    "\n",
    "def set_gpu_config(gpu_frac):\n",
    "    \"\"\" \n",
    "    Set GPU fraction usage\n",
    "    \"\"\"\n",
    "    \n",
    "    gpu_options = tf.GPUOptions(per_process_gpu_memory_fraction=gpu_frac, allow_growth=True)\n",
    "    gpu_config = tf.ConfigProto(log_device_placement=False, gpu_options=gpu_options) #True\n",
    "    \n",
    "    return gpu_config"
   ]
  },
  {
   "cell_type": "code",
   "execution_count": 70,
   "metadata": {},
   "outputs": [],
   "source": [
    "DATA_VARIABLES = 'data_variables'\n",
    "\n",
    "\n",
    "def init_data_variables(sess):\n",
    "    for data_var in tf.get_collection(DATA_VARIABLES):\n",
    "        data_var.init(sess)\n",
    "\n",
    "\n",
    "class DataVarWrapper:\n",
    "    \"\"\" \n",
    "    Wrapper class for a big data table.\n",
    "    Data table will be stored in a model but not save in it. \n",
    "    \"\"\"\n",
    "\n",
    "    def __init__(self, data):\n",
    "        self.name = 'data_wrapper'\n",
    "        self.data = data\n",
    "        self.var = tf.Variable(tf.zeros(self.data.shape, dtype=self.data.dtype), \n",
    "                               validate_shape=False, trainable=False, \n",
    "                               dtype=self.data.dtype, collections=[], name='data_var')\n",
    "        tf.add_to_collection(DATA_VARIABLES, self)\n",
    "\n",
    "        \n",
    "    def init(self, sess):\n",
    "        self.var.load(self.data, sess)"
   ]
  },
  {
   "cell_type": "code",
   "execution_count": 71,
   "metadata": {},
   "outputs": [],
   "source": [
    "class BatchIterator:\n",
    "    \"\"\" \n",
    "    Batch iterator matches a sequence of clients' orders to one training sample. \n",
    "    \"\"\" \n",
    "    \n",
    "    def __init__(self, config, order_data):\n",
    "        self.config = config\n",
    "        \n",
    "        with tf.device('/cpu:0'):\n",
    "            self.data_var_wrapper = DataVarWrapper(order_data.values.astype('float32'))\n",
    "            \n",
    "            \n",
    "    def _map_function(self, row):\n",
    "        sample_dict = {\n",
    "            'X': self.data_var_wrapper.var[row[0]:row[0]+row[1], :],\n",
    "            'y': row[2],\n",
    "            'seqlen': row[1] \n",
    "        }\n",
    "        return sample_dict\n",
    "    \n",
    "    \n",
    "    def create_iterator(self, sess, order_summary, is_training=True):\n",
    "        if is_training:\n",
    "            dataset = tf.data.Dataset.from_tensor_slices(order_summary)\n",
    "            dataset = dataset.shuffle(10000)\n",
    "            dataset = dataset.repeat(self.config.num_epochs + 1)\n",
    "        else:\n",
    "            dataset = tf.data.Dataset.from_tensor_slices(order_summary)\n",
    "\n",
    "        dataset = dataset.map(self._map_function, num_parallel_calls=64)\n",
    "        dataset = dataset.padded_batch(self.config.batch_size, \n",
    "                                       padded_shapes={'X': [None, self.config.input_size],\n",
    "                                                      'y': [],\n",
    "                                                      'seqlen': []})            \n",
    "        dataset = dataset.prefetch(4)\n",
    "        init_iter = dataset.make_initializable_iterator()\n",
    "        get_next = init_iter.get_next()\n",
    "        \n",
    "        num_batches = np.ceil(order_summary.shape[0]/self.config.batch_size).astype('int64')\n",
    "\n",
    "        return {'init_iter': init_iter.initializer, 'get_next': get_next, 'num_batches': num_batches}"
   ]
  },
  {
   "cell_type": "code",
   "execution_count": 72,
   "metadata": {},
   "outputs": [],
   "source": [
    "def create_order_summary(order_data_lbl):\n",
    "    \"\"\" \n",
    "    Summarize orders by clients \n",
    "    \"\"\"\n",
    "    \n",
    "    grouped = order_data_lbl.groupby('customer_id', as_index=False)\n",
    "    order_summary_list = []\n",
    "    \n",
    "    for name, group in grouped:\n",
    "        order_summary_list.append([name, group.index[0], group.shape[0], \n",
    "                                   (group['is_returning_customer'].sum() > 0).astype('int8')])\n",
    "            \n",
    "    order_summary = np.array(order_summary_list)\n",
    "    order_summary = pd.DataFrame(order_summary, columns=['customer_id', 'idx_start', 'num_orders', 'label'])\n",
    "    \n",
    "    order_summary['customer_id'] = order_summary['customer_id'].astype('str')\n",
    "    order_summary['idx_start'] = order_summary['idx_start'].astype('int64')\n",
    "    order_summary['num_orders'] = order_summary['num_orders'].astype('int64')\n",
    "    order_summary['label'] = order_summary['label'].astype('int8')\n",
    "    \n",
    "    return order_summary"
   ]
  },
  {
   "cell_type": "code",
   "execution_count": 73,
   "metadata": {},
   "outputs": [],
   "source": [
    "def network(data_dict, config):\n",
    "    \"\"\" \n",
    "    Network model with several LSTM layers. \n",
    "    Run on GPU by default (as I have it). \n",
    "    \"\"\"\n",
    "    \n",
    "    cell = tf.contrib.cudnn_rnn.CudnnLSTM(num_layers=config.num_rnn_layers,\n",
    "                                          num_units=config.hid_size,  \n",
    "                                          kernel_initializer=tf.initializers.random_normal(stddev=1e-3),\n",
    "                                          bias_initializer=tf.initializers.zeros())\n",
    "    cell.build(input_shape=data_dict['input'].shape)\n",
    "    outputs, output_states = cell.call(inputs=data_dict['input'])\n",
    "    \n",
    "    dense = tf.layers.dense(inputs=outputs, units=1, \n",
    "                            activation=tf.nn.sigmoid, \n",
    "                            kernel_initializer=tf.initializers.random_normal(stddev=1e-3),\n",
    "                            bias_initializer=tf.initializers.ones())\n",
    "    return dense"
   ]
  },
  {
   "cell_type": "code",
   "execution_count": 74,
   "metadata": {},
   "outputs": [],
   "source": [
    "class Model:\n",
    "    \"\"\" \n",
    "    Model class with variables, accumulative metrics, optimizer. \n",
    "    \"\"\"\n",
    "    \n",
    "    def __init__(self, config):\n",
    "        self.config = config\n",
    "        self.build_model()\n",
    "        self.init_cur_epoch()\n",
    "                \n",
    "            \n",
    "    # Initialize a tensorflow variable to use it as epoch counter\n",
    "    def init_cur_epoch(self):\n",
    "        with tf.variable_scope('cur_epoch'):\n",
    "            self.cur_epoch_tensor = tf.Variable(0, trainable=False, name='cur_epoch')\n",
    "            self.increment_cur_epoch_tensor = tf.assign(self.cur_epoch_tensor, self.cur_epoch_tensor + 1)\n",
    "            \n",
    "    \n",
    "    # Variables for a model\n",
    "    def build_model(self):\n",
    "        # data placeholders\n",
    "        self.data_dict = {'input': tf.placeholder(tf.float32, shape=[None, None, self.config.input_size]), \n",
    "                          'target': tf.placeholder(tf.float32, shape=[None]), \n",
    "                          'seq_lens': tf.placeholder(tf.int64, shape=[None])}\n",
    "        # training parameters\n",
    "        self.threshold = tf.placeholder_with_default(self.config.threshold, shape=[])\n",
    "        self.learning_rate = tf.placeholder_with_default(self.config.learning_rate, shape=[])\n",
    "        \n",
    "        self.max_len = tf.reduce_max(self.data_dict['seq_lens'])\n",
    "        self.mask = tf.sequence_mask(self.data_dict['seq_lens'], self.max_len)\n",
    "        net_output = network(self.data_dict, self.config)\n",
    "        self.dense = self.extract_axis_1(net_output, self.data_dict['seq_lens'] - 1)\n",
    "        \n",
    "        with tf.name_scope('predicted_probs'):\n",
    "            self.prediction = tf.squeeze(self.dense, axis=1)\n",
    "        with tf.name_scope('rounded_predictions'):\n",
    "            self.prediction_int = tf.round(tf.add(self.prediction, 0.5-self.config.threshold))\n",
    "        with tf.name_scope('rounded_target'):\n",
    "            self.target_int = tf.round(tf.add(self.data_dict['target'], 0.5-self.config.threshold))\n",
    "        with tf.name_scope('is_correct_predictions'):\n",
    "            self.is_correct_pred = self._is_correct_pred(self.data_dict['target'], \n",
    "                                                         self.prediction_int)\n",
    "            \n",
    "        with tf.name_scope('loss'):\n",
    "            self.loss = self._cost(self.data_dict['target'], self.prediction)\n",
    "        with tf.name_scope('optimizer'):\n",
    "            optimizer = tf.train.AdamOptimizer(self.config.learning_rate, 0.9)\n",
    "            self.train_step = optimizer.minimize(self.loss)\n",
    "        with tf.name_scope('accuracy'):\n",
    "            self.accuracy = tf.reduce_sum(tf.cast(self.is_correct_pred, tf.float32))\n",
    "        \n",
    "        self.accum_acc = self._create_accum_metric(tf.metrics.accuracy, 'accum_acc', \n",
    "                                                   predictions=self.prediction_int, \n",
    "                                                   labels=self.target_int)\n",
    "        self.accum_auc = self._create_accum_metric(tf.metrics.auc, 'accum_auc', \n",
    "                                                   predictions=self.prediction,\n",
    "                                                   labels=self.target_int,\n",
    "                                                   curve='ROC')\n",
    "        self.accum_loss = self._create_accum_metric(tf.metrics.mean, 'accum_loss', \n",
    "                                                    values=self.loss)\n",
    "\n",
    "        \n",
    "    def _cost(self, target, outcome):\n",
    "        outcome = tf.maximum(1e-4, tf.minimum(1 - 1e-4, outcome))\n",
    "        cross_entropy = -(tf.cast(target, dtype=tf.float32) * tf.log(outcome) + \n",
    "                          tf.cast(1-target, dtype=tf.float32) * (tf.log1p(-outcome)))\n",
    "        return tf.reduce_mean(cross_entropy)\n",
    "    \n",
    "    \n",
    "    def _is_correct_pred(self, target, predint):\n",
    "        equal = tf.equal(tf.cast(target, tf.float64), tf.cast(predint, tf.float64))\n",
    "        equal = tf.cast(equal, dtype=tf.float32)    \n",
    "        return equal\n",
    "    \n",
    "    \n",
    "    def _create_accum_metric(self, metric, scope, **metric_args):\n",
    "        with tf.name_scope(scope) as scope:\n",
    "            metric_op, update_op = metric(**metric_args)\n",
    "            vars = tf.contrib.framework.get_variables(scope, collection=tf.GraphKeys.LOCAL_VARIABLES)\n",
    "            reset_op = tf.variables_initializer(vars)\n",
    "        return {'metric_op': metric_op, 'update_op': update_op, 'reset_op': reset_op}\n",
    "    \n",
    "    \n",
    "    # Get last output for each client\n",
    "    def extract_axis_1(self, data, ind):\n",
    "        batch_range = tf.range(tf.shape(data)[0])\n",
    "        indices = tf.stack([tf.cast(batch_range, dtype=tf.int64), \n",
    "                            tf.cast(ind, dtype=tf.int64)], \n",
    "                           axis=1)\n",
    "        res = tf.gather_nd(data, indices)\n",
    "        \n",
    "        return res"
   ]
  },
  {
   "cell_type": "code",
   "execution_count": 75,
   "metadata": {},
   "outputs": [],
   "source": [
    "class Trainer():\n",
    "    \"\"\"\n",
    "    Class with the training process logic: train step, validation function..\n",
    "    \"\"\"\n",
    "    \n",
    "    def __init__(self, sess, config, model, iter_dict):\n",
    "        self.sess = sess\n",
    "        self.model = model\n",
    "        self.iter_dict = iter_dict\n",
    "        self.config = config\n",
    "        \n",
    "        self.init = tf.group(tf.global_variables_initializer(), tf.local_variables_initializer())\n",
    "        self.sess.run(self.init) \n",
    "        init_data_variables(self.sess) \n",
    "        \n",
    "        # store epoch metrics\n",
    "        self.train_metrics = {'acc': [], 'auc': [], 'loss': []}\n",
    "        self.val_metrics = {'acc': [], 'auc': [], 'loss': []}\n",
    "        \n",
    "        \n",
    "    def train(self):\n",
    "        # Validate on train and val sets first\n",
    "        print(\"Initial validation nefore training\")\n",
    "        \n",
    "        # train set\n",
    "        train_metrics = self.validate(mode='train', step=0)\n",
    "        self.collect_epoch_metrics(train_metrics, 'train')\n",
    "        \n",
    "        # val set\n",
    "        val_metrics = self.validate(mode='val', step=0)\n",
    "        self.collect_epoch_metrics(val_metrics, 'val')\n",
    "        \n",
    "        self.sess.run(self.model.increment_cur_epoch_tensor)\n",
    "\n",
    "        # initialize train iterator\n",
    "        self.sess.run(iter_dict['train']['init_iter'])\n",
    "      \n",
    "        # train and validate\n",
    "        print('Training started')\n",
    "        loop = tqdm.tnrange(self.config.num_epochs)\n",
    "        for _ in loop:\n",
    "            cur_it = self.model.cur_epoch_tensor.eval(self.sess)\n",
    "            # train\n",
    "            train_metrics = self.train_epoch(cur_it)\n",
    "            self.collect_epoch_metrics(train_metrics, 'train')\n",
    "            # val\n",
    "            val_metrics = self.validate('val', step=cur_it)\n",
    "            self.collect_epoch_metrics(val_metrics, 'val')\n",
    "            \n",
    "            self.sess.run(self.model.increment_cur_epoch_tensor)\n",
    "            \n",
    "        print('Training finished')   \n",
    "        \n",
    "    \n",
    "    def train_epoch(self, cur_it):\n",
    "        # train\n",
    "        self.sess.run([self.model.accum_acc['reset_op'], \n",
    "                       self.model.accum_auc['reset_op'],\n",
    "                       self.model.accum_loss['reset_op']])\n",
    "        loop = tqdm.tnrange(self.iter_dict['train']['num_batches'], leave=False)\n",
    "        for _ in loop:\n",
    "            self.train_step()\n",
    "        accum_acc, accum_auc, accum_loss = self.sess.run([self.model.accum_acc['metric_op'], \n",
    "                                                          self.model.accum_auc['metric_op'],\n",
    "                                                          self.model.accum_loss['metric_op']])\n",
    "        # log output\n",
    "        message = 'TRAIN, epoch {} : accuracy= {:.4f}, auc= {:.4f}, loss= {:.4f}'.format(\n",
    "                    cur_it, accum_acc, accum_auc, accum_loss)\n",
    "        print(message)\n",
    "        \n",
    "        return accum_acc, accum_auc, accum_loss\n",
    "        \n",
    "        \n",
    "    def train_step(self):\n",
    "        batch = self.sess.run(self.iter_dict['train']['get_next'])\n",
    "        feed_dict = {self.model.data_dict['input']: batch['X'], \n",
    "                     self.model.data_dict['target']: batch['y'], \n",
    "                     self.model.data_dict['seq_lens']: batch['seqlen']}\n",
    "        self.sess.run([self.model.train_step, \n",
    "                       self.model.accum_acc['update_op'], \n",
    "                       self.model.accum_auc['update_op'],\n",
    "                       self.model.accum_loss['update_op']],\n",
    "                      feed_dict=feed_dict)\n",
    "    \n",
    "    \n",
    "    def validate(self, mode, step):\n",
    "        self.sess.run([self.model.accum_acc['reset_op'], \n",
    "                       self.model.accum_auc['reset_op'],\n",
    "                       self.model.accum_loss['reset_op']])\n",
    "        self.sess.run(self.iter_dict[mode]['init_iter'])\n",
    "        num_batches = self.iter_dict[mode]['num_batches']\n",
    "\n",
    "        for _ in range(num_batches):\n",
    "            batch = self.sess.run(self.iter_dict[mode]['get_next'])\n",
    "            feed_dict = {self.model.data_dict['input']: batch['X'], \n",
    "                         self.model.data_dict['target']: batch['y'], \n",
    "                         self.model.data_dict['seq_lens']: batch['seqlen']}\n",
    "            self.sess.run([self.model.accum_acc['update_op'], \n",
    "                           self.model.accum_auc['update_op'],\n",
    "                           self.model.accum_loss['update_op']], \n",
    "                          feed_dict=feed_dict)\n",
    "\n",
    "        # log output\n",
    "        accum_acc, accum_auc, accum_loss = self.sess.run([self.model.accum_acc['metric_op'], \n",
    "                                                          self.model.accum_auc['metric_op'],\n",
    "                                                          self.model.accum_loss['metric_op']])\n",
    "        message = '{}, epoch {} : accuracy= {:.4f}, auc= {:.4f}, loss= {:.4f}'.format(\n",
    "                    mode.upper(), step, accum_acc, accum_auc, accum_loss)\n",
    "        print(message)\n",
    "\n",
    "        return accum_acc, accum_auc, accum_loss\n",
    "    \n",
    "    \n",
    "    # Store epoch metrics to plot in the end\n",
    "    def collect_epoch_metrics(self, metrics, mode='train'):\n",
    "        if mode == 'train':\n",
    "            self.train_metrics['acc'].append(metrics[0])\n",
    "            self.train_metrics['auc'].append(metrics[1])\n",
    "            self.train_metrics['loss'].append(metrics[2])\n",
    "        elif mode == 'val':\n",
    "            self.val_metrics['acc'].append(metrics[0])\n",
    "            self.val_metrics['auc'].append(metrics[1])\n",
    "            self.val_metrics['loss'].append(metrics[2])"
   ]
  },
  {
   "cell_type": "markdown",
   "metadata": {},
   "source": [
    "### Train the sequence model"
   ]
  },
  {
   "cell_type": "code",
   "execution_count": 76,
   "metadata": {},
   "outputs": [],
   "source": [
    "# Gather client's orders statistics\n",
    "order_summary = create_order_summary(order_data_lbl)\n",
    "order_summary_train = order_summary[order_summary['customer_id'].isin(cust_train['customer_id'])]\n",
    "order_summary_val = order_summary[order_summary['customer_id'].isin(cust_val['customer_id'])]"
   ]
  },
  {
   "cell_type": "code",
   "execution_count": 81,
   "metadata": {},
   "outputs": [
    {
     "name": "stdout",
     "output_type": "stream",
     "text": [
      "3.2046607321097555\n"
     ]
    },
    {
     "data": {
      "image/png": "[encoded data removed]",
      "text/plain": [
       "<Figure size 432x288 with 1 Axes>"
      ]
     },
     "metadata": {},
     "output_type": "display_data"
    }
   ],
   "source": [
    "# Check average number of orders per client\n",
    "print(order_summary['num_orders'].mean())\n",
    "\n",
    "# Check histogram of number of orders per client\n",
    "plt.hist(order_summary[order_summary['num_orders'] < 30]['num_orders'], bins=30)\n",
    "plt.show()"
   ]
  },
  {
   "cell_type": "code",
   "execution_count": 82,
   "metadata": {
    "scrolled": true
   },
   "outputs": [
    {
     "name": "stdout",
     "output_type": "stream",
     "text": [
      "Initial validation nefore training\n",
      "TRAIN, epoch 0 : accuracy= 0.2261, auc= 0.5000, loss= 1.0871\n",
      "VAL, epoch 0 : accuracy= 0.2261, auc= 0.5000, loss= 1.0870\n",
      "Training started\n"
     ]
    },
    {
     "data": {
      "application/vnd.jupyter.widget-view+json": {
       "model_id": "0325ef43744148c5b3593b7a67e03b3f",
       "version_major": 2,
       "version_minor": 0
      },
      "text/plain": [
       "HBox(children=(IntProgress(value=0, max=50), HTML(value='')))"
      ]
     },
     "metadata": {},
     "output_type": "display_data"
    },
    {
     "data": {
      "application/vnd.jupyter.widget-view+json": {
       "model_id": "",
       "version_major": 2,
       "version_minor": 0
      },
      "text/plain": [
       "HBox(children=(IntProgress(value=0, max=1343), HTML(value='')))"
      ]
     },
     "metadata": {},
     "output_type": "display_data"
    },
    {
     "name": "stdout",
     "output_type": "stream",
     "text": [
      "TRAIN, epoch 1 : accuracy= 0.7846, auc= 0.7231, loss= 0.4781\n",
      "VAL, epoch 1 : accuracy= 0.8009, auc= 0.7491, loss= 0.4557\n"
     ]
    },
    {
     "data": {
      "application/vnd.jupyter.widget-view+json": {
       "model_id": "",
       "version_major": 2,
       "version_minor": 0
      },
      "text/plain": [
       "HBox(children=(IntProgress(value=0, max=1343), HTML(value='')))"
      ]
     },
     "metadata": {},
     "output_type": "display_data"
    },
    {
     "name": "stdout",
     "output_type": "stream",
     "text": [
      "TRAIN, epoch 2 : accuracy= 0.7979, auc= 0.7429, loss= 0.4602\n",
      "VAL, epoch 2 : accuracy= 0.8046, auc= 0.7551, loss= 0.4520\n"
     ]
    },
    {
     "data": {
      "application/vnd.jupyter.widget-view+json": {
       "model_id": "",
       "version_major": 2,
       "version_minor": 0
      },
      "text/plain": [
       "HBox(children=(IntProgress(value=0, max=1343), HTML(value='')))"
      ]
     },
     "metadata": {},
     "output_type": "display_data"
    },
    {
     "name": "stdout",
     "output_type": "stream",
     "text": [
      "TRAIN, epoch 3 : accuracy= 0.8041, auc= 0.7505, loss= 0.4535\n",
      "VAL, epoch 3 : accuracy= 0.8055, auc= 0.7571, loss= 0.4513\n"
     ]
    },
    {
     "data": {
      "application/vnd.jupyter.widget-view+json": {
       "model_id": "",
       "version_major": 2,
       "version_minor": 0
      },
      "text/plain": [
       "HBox(children=(IntProgress(value=0, max=1343), HTML(value='')))"
      ]
     },
     "metadata": {},
     "output_type": "display_data"
    },
    {
     "name": "stdout",
     "output_type": "stream",
     "text": [
      "TRAIN, epoch 4 : accuracy= 0.8058, auc= 0.7553, loss= 0.4498\n",
      "VAL, epoch 4 : accuracy= 0.8061, auc= 0.7586, loss= 0.4499\n"
     ]
    },
    {
     "data": {
      "application/vnd.jupyter.widget-view+json": {
       "model_id": "",
       "version_major": 2,
       "version_minor": 0
      },
      "text/plain": [
       "HBox(children=(IntProgress(value=0, max=1343), HTML(value='')))"
      ]
     },
     "metadata": {},
     "output_type": "display_data"
    },
    {
     "name": "stdout",
     "output_type": "stream",
     "text": [
      "TRAIN, epoch 5 : accuracy= 0.8051, auc= 0.7562, loss= 0.4495\n",
      "VAL, epoch 5 : accuracy= 0.8069, auc= 0.7611, loss= 0.4464\n"
     ]
    },
    {
     "data": {
      "application/vnd.jupyter.widget-view+json": {
       "model_id": "",
       "version_major": 2,
       "version_minor": 0
      },
      "text/plain": [
       "HBox(children=(IntProgress(value=0, max=1343), HTML(value='')))"
      ]
     },
     "metadata": {},
     "output_type": "display_data"
    },
    {
     "name": "stdout",
     "output_type": "stream",
     "text": [
      "TRAIN, epoch 6 : accuracy= 0.8074, auc= 0.7573, loss= 0.4472\n",
      "VAL, epoch 6 : accuracy= 0.8082, auc= 0.7619, loss= 0.4452\n"
     ]
    },
    {
     "data": {
      "application/vnd.jupyter.widget-view+json": {
       "model_id": "",
       "version_major": 2,
       "version_minor": 0
      },
      "text/plain": [
       "HBox(children=(IntProgress(value=0, max=1343), HTML(value='')))"
      ]
     },
     "metadata": {},
     "output_type": "display_data"
    },
    {
     "name": "stdout",
     "output_type": "stream",
     "text": [
      "TRAIN, epoch 7 : accuracy= 0.8067, auc= 0.7573, loss= 0.4474\n",
      "VAL, epoch 7 : accuracy= 0.8076, auc= 0.7615, loss= 0.4458\n"
     ]
    },
    {
     "data": {
      "application/vnd.jupyter.widget-view+json": {
       "model_id": "",
       "version_major": 2,
       "version_minor": 0
      },
      "text/plain": [
       "HBox(children=(IntProgress(value=0, max=1343), HTML(value='')))"
      ]
     },
     "metadata": {},
     "output_type": "display_data"
    },
    {
     "name": "stdout",
     "output_type": "stream",
     "text": [
      "TRAIN, epoch 8 : accuracy= 0.8076, auc= 0.7578, loss= 0.4469\n",
      "VAL, epoch 8 : accuracy= 0.8081, auc= 0.7627, loss= 0.4450\n"
     ]
    },
    {
     "data": {
      "application/vnd.jupyter.widget-view+json": {
       "model_id": "",
       "version_major": 2,
       "version_minor": 0
      },
      "text/plain": [
       "HBox(children=(IntProgress(value=0, max=1343), HTML(value='')))"
      ]
     },
     "metadata": {},
     "output_type": "display_data"
    },
    {
     "name": "stdout",
     "output_type": "stream",
     "text": [
      "TRAIN, epoch 9 : accuracy= 0.8075, auc= 0.7587, loss= 0.4460\n",
      "VAL, epoch 9 : accuracy= 0.8081, auc= 0.7623, loss= 0.4457\n"
     ]
    },
    {
     "data": {
      "application/vnd.jupyter.widget-view+json": {
       "model_id": "",
       "version_major": 2,
       "version_minor": 0
      },
      "text/plain": [
       "HBox(children=(IntProgress(value=0, max=1343), HTML(value='')))"
      ]
     },
     "metadata": {},
     "output_type": "display_data"
    },
    {
     "name": "stdout",
     "output_type": "stream",
     "text": [
      "TRAIN, epoch 10 : accuracy= 0.8081, auc= 0.7592, loss= 0.4455\n",
      "VAL, epoch 10 : accuracy= 0.8078, auc= 0.7627, loss= 0.4456\n"
     ]
    },
    {
     "data": {
      "application/vnd.jupyter.widget-view+json": {
       "model_id": "",
       "version_major": 2,
       "version_minor": 0
      },
      "text/plain": [
       "HBox(children=(IntProgress(value=0, max=1343), HTML(value='')))"
      ]
     },
     "metadata": {},
     "output_type": "display_data"
    },
    {
     "name": "stdout",
     "output_type": "stream",
     "text": [
      "TRAIN, epoch 11 : accuracy= 0.8081, auc= 0.7599, loss= 0.4450\n",
      "VAL, epoch 11 : accuracy= 0.8082, auc= 0.7628, loss= 0.4444\n"
     ]
    },
    {
     "data": {
      "application/vnd.jupyter.widget-view+json": {
       "model_id": "",
       "version_major": 2,
       "version_minor": 0
      },
      "text/plain": [
       "HBox(children=(IntProgress(value=0, max=1343), HTML(value='')))"
      ]
     },
     "metadata": {},
     "output_type": "display_data"
    },
    {
     "name": "stdout",
     "output_type": "stream",
     "text": [
      "TRAIN, epoch 12 : accuracy= 0.8088, auc= 0.7601, loss= 0.4448\n",
      "VAL, epoch 12 : accuracy= 0.8078, auc= 0.7641, loss= 0.4444\n"
     ]
    },
    {
     "data": {
      "application/vnd.jupyter.widget-view+json": {
       "model_id": "",
       "version_major": 2,
       "version_minor": 0
      },
      "text/plain": [
       "HBox(children=(IntProgress(value=0, max=1343), HTML(value='')))"
      ]
     },
     "metadata": {},
     "output_type": "display_data"
    },
    {
     "name": "stdout",
     "output_type": "stream",
     "text": [
      "TRAIN, epoch 13 : accuracy= 0.8087, auc= 0.7608, loss= 0.4447\n",
      "VAL, epoch 13 : accuracy= 0.8095, auc= 0.7639, loss= 0.4445\n"
     ]
    },
    {
     "data": {
      "application/vnd.jupyter.widget-view+json": {
       "model_id": "",
       "version_major": 2,
       "version_minor": 0
      },
      "text/plain": [
       "HBox(children=(IntProgress(value=0, max=1343), HTML(value='')))"
      ]
     },
     "metadata": {},
     "output_type": "display_data"
    },
    {
     "name": "stdout",
     "output_type": "stream",
     "text": [
      "TRAIN, epoch 14 : accuracy= 0.8084, auc= 0.7617, loss= 0.4442\n",
      "VAL, epoch 14 : accuracy= 0.8087, auc= 0.7641, loss= 0.4437\n"
     ]
    },
    {
     "data": {
      "application/vnd.jupyter.widget-view+json": {
       "model_id": "",
       "version_major": 2,
       "version_minor": 0
      },
      "text/plain": [
       "HBox(children=(IntProgress(value=0, max=1343), HTML(value='')))"
      ]
     },
     "metadata": {},
     "output_type": "display_data"
    },
    {
     "name": "stdout",
     "output_type": "stream",
     "text": [
      "TRAIN, epoch 15 : accuracy= 0.8085, auc= 0.7612, loss= 0.4447\n",
      "VAL, epoch 15 : accuracy= 0.8089, auc= 0.7642, loss= 0.4437\n"
     ]
    },
    {
     "data": {
      "application/vnd.jupyter.widget-view+json": {
       "model_id": "",
       "version_major": 2,
       "version_minor": 0
      },
      "text/plain": [
       "HBox(children=(IntProgress(value=0, max=1343), HTML(value='')))"
      ]
     },
     "metadata": {},
     "output_type": "display_data"
    },
    {
     "name": "stdout",
     "output_type": "stream",
     "text": [
      "TRAIN, epoch 16 : accuracy= 0.8088, auc= 0.7618, loss= 0.4439\n",
      "VAL, epoch 16 : accuracy= 0.8093, auc= 0.7648, loss= 0.4449\n"
     ]
    },
    {
     "data": {
      "application/vnd.jupyter.widget-view+json": {
       "model_id": "",
       "version_major": 2,
       "version_minor": 0
      },
      "text/plain": [
       "HBox(children=(IntProgress(value=0, max=1343), HTML(value='')))"
      ]
     },
     "metadata": {},
     "output_type": "display_data"
    },
    {
     "name": "stdout",
     "output_type": "stream",
     "text": [
      "TRAIN, epoch 17 : accuracy= 0.8088, auc= 0.7626, loss= 0.4439\n",
      "VAL, epoch 17 : accuracy= 0.8096, auc= 0.7654, loss= 0.4439\n"
     ]
    },
    {
     "data": {
      "application/vnd.jupyter.widget-view+json": {
       "model_id": "",
       "version_major": 2,
       "version_minor": 0
      },
      "text/plain": [
       "HBox(children=(IntProgress(value=0, max=1343), HTML(value='')))"
      ]
     },
     "metadata": {},
     "output_type": "display_data"
    },
    {
     "name": "stdout",
     "output_type": "stream",
     "text": [
      "TRAIN, epoch 18 : accuracy= 0.8082, auc= 0.7629, loss= 0.4436\n",
      "VAL, epoch 18 : accuracy= 0.8087, auc= 0.7653, loss= 0.4437\n"
     ]
    },
    {
     "data": {
      "application/vnd.jupyter.widget-view+json": {
       "model_id": "",
       "version_major": 2,
       "version_minor": 0
      },
      "text/plain": [
       "HBox(children=(IntProgress(value=0, max=1343), HTML(value='')))"
      ]
     },
     "metadata": {},
     "output_type": "display_data"
    },
    {
     "name": "stdout",
     "output_type": "stream",
     "text": [
      "TRAIN, epoch 19 : accuracy= 0.8085, auc= 0.7627, loss= 0.4439\n",
      "VAL, epoch 19 : accuracy= 0.8088, auc= 0.7650, loss= 0.4433\n"
     ]
    },
    {
     "data": {
      "application/vnd.jupyter.widget-view+json": {
       "model_id": "",
       "version_major": 2,
       "version_minor": 0
      },
      "text/plain": [
       "HBox(children=(IntProgress(value=0, max=1343), HTML(value='')))"
      ]
     },
     "metadata": {},
     "output_type": "display_data"
    },
    {
     "name": "stdout",
     "output_type": "stream",
     "text": [
      "TRAIN, epoch 20 : accuracy= 0.8094, auc= 0.7637, loss= 0.4432\n",
      "VAL, epoch 20 : accuracy= 0.8096, auc= 0.7653, loss= 0.4434\n"
     ]
    },
    {
     "data": {
      "application/vnd.jupyter.widget-view+json": {
       "model_id": "",
       "version_major": 2,
       "version_minor": 0
      },
      "text/plain": [
       "HBox(children=(IntProgress(value=0, max=1343), HTML(value='')))"
      ]
     },
     "metadata": {},
     "output_type": "display_data"
    },
    {
     "name": "stdout",
     "output_type": "stream",
     "text": [
      "TRAIN, epoch 21 : accuracy= 0.8091, auc= 0.7638, loss= 0.4428\n",
      "VAL, epoch 21 : accuracy= 0.8094, auc= 0.7652, loss= 0.4431\n"
     ]
    },
    {
     "data": {
      "application/vnd.jupyter.widget-view+json": {
       "model_id": "",
       "version_major": 2,
       "version_minor": 0
      },
      "text/plain": [
       "HBox(children=(IntProgress(value=0, max=1343), HTML(value='')))"
      ]
     },
     "metadata": {},
     "output_type": "display_data"
    },
    {
     "name": "stdout",
     "output_type": "stream",
     "text": [
      "TRAIN, epoch 22 : accuracy= 0.8089, auc= 0.7637, loss= 0.4431\n",
      "VAL, epoch 22 : accuracy= 0.8095, auc= 0.7649, loss= 0.4434\n"
     ]
    },
    {
     "data": {
      "application/vnd.jupyter.widget-view+json": {
       "model_id": "",
       "version_major": 2,
       "version_minor": 0
      },
      "text/plain": [
       "HBox(children=(IntProgress(value=0, max=1343), HTML(value='')))"
      ]
     },
     "metadata": {},
     "output_type": "display_data"
    },
    {
     "name": "stdout",
     "output_type": "stream",
     "text": [
      "TRAIN, epoch 23 : accuracy= 0.8091, auc= 0.7637, loss= 0.4433\n",
      "VAL, epoch 23 : accuracy= 0.8095, auc= 0.7656, loss= 0.4431\n"
     ]
    },
    {
     "data": {
      "application/vnd.jupyter.widget-view+json": {
       "model_id": "",
       "version_major": 2,
       "version_minor": 0
      },
      "text/plain": [
       "HBox(children=(IntProgress(value=0, max=1343), HTML(value='')))"
      ]
     },
     "metadata": {},
     "output_type": "display_data"
    },
    {
     "name": "stdout",
     "output_type": "stream",
     "text": [
      "TRAIN, epoch 24 : accuracy= 0.8088, auc= 0.7640, loss= 0.4429\n",
      "VAL, epoch 24 : accuracy= 0.8093, auc= 0.7659, loss= 0.4432\n"
     ]
    },
    {
     "data": {
      "application/vnd.jupyter.widget-view+json": {
       "model_id": "",
       "version_major": 2,
       "version_minor": 0
      },
      "text/plain": [
       "HBox(children=(IntProgress(value=0, max=1343), HTML(value='')))"
      ]
     },
     "metadata": {},
     "output_type": "display_data"
    },
    {
     "name": "stdout",
     "output_type": "stream",
     "text": [
      "TRAIN, epoch 25 : accuracy= 0.8090, auc= 0.7643, loss= 0.4427\n",
      "VAL, epoch 25 : accuracy= 0.8090, auc= 0.7650, loss= 0.4438\n"
     ]
    },
    {
     "data": {
      "application/vnd.jupyter.widget-view+json": {
       "model_id": "",
       "version_major": 2,
       "version_minor": 0
      },
      "text/plain": [
       "HBox(children=(IntProgress(value=0, max=1343), HTML(value='')))"
      ]
     },
     "metadata": {},
     "output_type": "display_data"
    },
    {
     "name": "stdout",
     "output_type": "stream",
     "text": [
      "TRAIN, epoch 26 : accuracy= 0.8086, auc= 0.7642, loss= 0.4432\n",
      "VAL, epoch 26 : accuracy= 0.8099, auc= 0.7646, loss= 0.4448\n"
     ]
    },
    {
     "data": {
      "application/vnd.jupyter.widget-view+json": {
       "model_id": "",
       "version_major": 2,
       "version_minor": 0
      },
      "text/plain": [
       "HBox(children=(IntProgress(value=0, max=1343), HTML(value='')))"
      ]
     },
     "metadata": {},
     "output_type": "display_data"
    },
    {
     "name": "stdout",
     "output_type": "stream",
     "text": [
      "TRAIN, epoch 27 : accuracy= 0.8095, auc= 0.7644, loss= 0.4425\n",
      "VAL, epoch 27 : accuracy= 0.8092, auc= 0.7655, loss= 0.4429\n"
     ]
    },
    {
     "data": {
      "application/vnd.jupyter.widget-view+json": {
       "model_id": "",
       "version_major": 2,
       "version_minor": 0
      },
      "text/plain": [
       "HBox(children=(IntProgress(value=0, max=1343), HTML(value='')))"
      ]
     },
     "metadata": {},
     "output_type": "display_data"
    },
    {
     "name": "stdout",
     "output_type": "stream",
     "text": [
      "TRAIN, epoch 28 : accuracy= 0.8101, auc= 0.7655, loss= 0.4420\n",
      "VAL, epoch 28 : accuracy= 0.8096, auc= 0.7656, loss= 0.4432\n"
     ]
    },
    {
     "data": {
      "application/vnd.jupyter.widget-view+json": {
       "model_id": "",
       "version_major": 2,
       "version_minor": 0
      },
      "text/plain": [
       "HBox(children=(IntProgress(value=0, max=1343), HTML(value='')))"
      ]
     },
     "metadata": {},
     "output_type": "display_data"
    },
    {
     "name": "stdout",
     "output_type": "stream",
     "text": [
      "TRAIN, epoch 29 : accuracy= 0.8090, auc= 0.7648, loss= 0.4427\n",
      "VAL, epoch 29 : accuracy= 0.8094, auc= 0.7657, loss= 0.4432\n"
     ]
    },
    {
     "data": {
      "application/vnd.jupyter.widget-view+json": {
       "model_id": "",
       "version_major": 2,
       "version_minor": 0
      },
      "text/plain": [
       "HBox(children=(IntProgress(value=0, max=1343), HTML(value='')))"
      ]
     },
     "metadata": {},
     "output_type": "display_data"
    },
    {
     "name": "stdout",
     "output_type": "stream",
     "text": [
      "TRAIN, epoch 30 : accuracy= 0.8091, auc= 0.7647, loss= 0.4428\n",
      "VAL, epoch 30 : accuracy= 0.8094, auc= 0.7652, loss= 0.4433\n"
     ]
    },
    {
     "data": {
      "application/vnd.jupyter.widget-view+json": {
       "model_id": "",
       "version_major": 2,
       "version_minor": 0
      },
      "text/plain": [
       "HBox(children=(IntProgress(value=0, max=1343), HTML(value='')))"
      ]
     },
     "metadata": {},
     "output_type": "display_data"
    },
    {
     "name": "stdout",
     "output_type": "stream",
     "text": [
      "TRAIN, epoch 31 : accuracy= 0.8096, auc= 0.7650, loss= 0.4421\n",
      "VAL, epoch 31 : accuracy= 0.8078, auc= 0.7648, loss= 0.4449\n"
     ]
    },
    {
     "data": {
      "application/vnd.jupyter.widget-view+json": {
       "model_id": "",
       "version_major": 2,
       "version_minor": 0
      },
      "text/plain": [
       "HBox(children=(IntProgress(value=0, max=1343), HTML(value='')))"
      ]
     },
     "metadata": {},
     "output_type": "display_data"
    },
    {
     "name": "stdout",
     "output_type": "stream",
     "text": [
      "TRAIN, epoch 32 : accuracy= 0.8086, auc= 0.7649, loss= 0.4428\n",
      "VAL, epoch 32 : accuracy= 0.8098, auc= 0.7648, loss= 0.4433\n"
     ]
    },
    {
     "data": {
      "application/vnd.jupyter.widget-view+json": {
       "model_id": "",
       "version_major": 2,
       "version_minor": 0
      },
      "text/plain": [
       "HBox(children=(IntProgress(value=0, max=1343), HTML(value='')))"
      ]
     },
     "metadata": {},
     "output_type": "display_data"
    },
    {
     "name": "stdout",
     "output_type": "stream",
     "text": [
      "TRAIN, epoch 33 : accuracy= 0.8093, auc= 0.7650, loss= 0.4427\n",
      "VAL, epoch 33 : accuracy= 0.8092, auc= 0.7656, loss= 0.4438\n"
     ]
    },
    {
     "data": {
      "application/vnd.jupyter.widget-view+json": {
       "model_id": "",
       "version_major": 2,
       "version_minor": 0
      },
      "text/plain": [
       "HBox(children=(IntProgress(value=0, max=1343), HTML(value='')))"
      ]
     },
     "metadata": {},
     "output_type": "display_data"
    },
    {
     "name": "stdout",
     "output_type": "stream",
     "text": [
      "TRAIN, epoch 34 : accuracy= 0.8097, auc= 0.7653, loss= 0.4419\n",
      "VAL, epoch 34 : accuracy= 0.8099, auc= 0.7643, loss= 0.4435\n"
     ]
    },
    {
     "data": {
      "application/vnd.jupyter.widget-view+json": {
       "model_id": "",
       "version_major": 2,
       "version_minor": 0
      },
      "text/plain": [
       "HBox(children=(IntProgress(value=0, max=1343), HTML(value='')))"
      ]
     },
     "metadata": {},
     "output_type": "display_data"
    },
    {
     "name": "stdout",
     "output_type": "stream",
     "text": [
      "TRAIN, epoch 35 : accuracy= 0.8097, auc= 0.7655, loss= 0.4421\n",
      "VAL, epoch 35 : accuracy= 0.8096, auc= 0.7654, loss= 0.4433\n"
     ]
    },
    {
     "data": {
      "application/vnd.jupyter.widget-view+json": {
       "model_id": "",
       "version_major": 2,
       "version_minor": 0
      },
      "text/plain": [
       "HBox(children=(IntProgress(value=0, max=1343), HTML(value='')))"
      ]
     },
     "metadata": {},
     "output_type": "display_data"
    },
    {
     "name": "stdout",
     "output_type": "stream",
     "text": [
      "TRAIN, epoch 36 : accuracy= 0.8092, auc= 0.7655, loss= 0.4422\n",
      "VAL, epoch 36 : accuracy= 0.8092, auc= 0.7648, loss= 0.4433\n"
     ]
    },
    {
     "data": {
      "application/vnd.jupyter.widget-view+json": {
       "model_id": "",
       "version_major": 2,
       "version_minor": 0
      },
      "text/plain": [
       "HBox(children=(IntProgress(value=0, max=1343), HTML(value='')))"
      ]
     },
     "metadata": {},
     "output_type": "display_data"
    },
    {
     "name": "stdout",
     "output_type": "stream",
     "text": [
      "TRAIN, epoch 37 : accuracy= 0.8097, auc= 0.7663, loss= 0.4419\n",
      "VAL, epoch 37 : accuracy= 0.8094, auc= 0.7650, loss= 0.4430\n"
     ]
    },
    {
     "data": {
      "application/vnd.jupyter.widget-view+json": {
       "model_id": "",
       "version_major": 2,
       "version_minor": 0
      },
      "text/plain": [
       "HBox(children=(IntProgress(value=0, max=1343), HTML(value='')))"
      ]
     },
     "metadata": {},
     "output_type": "display_data"
    },
    {
     "name": "stdout",
     "output_type": "stream",
     "text": [
      "TRAIN, epoch 38 : accuracy= 0.8089, auc= 0.7658, loss= 0.4421\n",
      "VAL, epoch 38 : accuracy= 0.8097, auc= 0.7653, loss= 0.4430\n"
     ]
    },
    {
     "data": {
      "application/vnd.jupyter.widget-view+json": {
       "model_id": "",
       "version_major": 2,
       "version_minor": 0
      },
      "text/plain": [
       "HBox(children=(IntProgress(value=0, max=1343), HTML(value='')))"
      ]
     },
     "metadata": {},
     "output_type": "display_data"
    },
    {
     "name": "stdout",
     "output_type": "stream",
     "text": [
      "TRAIN, epoch 39 : accuracy= 0.8088, auc= 0.7657, loss= 0.4423\n",
      "VAL, epoch 39 : accuracy= 0.8092, auc= 0.7652, loss= 0.4432\n"
     ]
    },
    {
     "data": {
      "application/vnd.jupyter.widget-view+json": {
       "model_id": "",
       "version_major": 2,
       "version_minor": 0
      },
      "text/plain": [
       "HBox(children=(IntProgress(value=0, max=1343), HTML(value='')))"
      ]
     },
     "metadata": {},
     "output_type": "display_data"
    },
    {
     "name": "stdout",
     "output_type": "stream",
     "text": [
      "TRAIN, epoch 40 : accuracy= 0.8099, auc= 0.7659, loss= 0.4418\n",
      "VAL, epoch 40 : accuracy= 0.8093, auc= 0.7652, loss= 0.4436\n"
     ]
    },
    {
     "data": {
      "application/vnd.jupyter.widget-view+json": {
       "model_id": "",
       "version_major": 2,
       "version_minor": 0
      },
      "text/plain": [
       "HBox(children=(IntProgress(value=0, max=1343), HTML(value='')))"
      ]
     },
     "metadata": {},
     "output_type": "display_data"
    },
    {
     "name": "stdout",
     "output_type": "stream",
     "text": [
      "TRAIN, epoch 41 : accuracy= 0.8093, auc= 0.7662, loss= 0.4420\n",
      "VAL, epoch 41 : accuracy= 0.8092, auc= 0.7655, loss= 0.4432\n"
     ]
    },
    {
     "data": {
      "application/vnd.jupyter.widget-view+json": {
       "model_id": "",
       "version_major": 2,
       "version_minor": 0
      },
      "text/plain": [
       "HBox(children=(IntProgress(value=0, max=1343), HTML(value='')))"
      ]
     },
     "metadata": {},
     "output_type": "display_data"
    },
    {
     "name": "stdout",
     "output_type": "stream",
     "text": [
      "TRAIN, epoch 42 : accuracy= 0.8098, auc= 0.7661, loss= 0.4415\n",
      "VAL, epoch 42 : accuracy= 0.8097, auc= 0.7653, loss= 0.4430\n"
     ]
    },
    {
     "data": {
      "application/vnd.jupyter.widget-view+json": {
       "model_id": "",
       "version_major": 2,
       "version_minor": 0
      },
      "text/plain": [
       "HBox(children=(IntProgress(value=0, max=1343), HTML(value='')))"
      ]
     },
     "metadata": {},
     "output_type": "display_data"
    },
    {
     "name": "stdout",
     "output_type": "stream",
     "text": [
      "TRAIN, epoch 43 : accuracy= 0.8098, auc= 0.7670, loss= 0.4413\n",
      "VAL, epoch 43 : accuracy= 0.8096, auc= 0.7644, loss= 0.4437\n"
     ]
    },
    {
     "data": {
      "application/vnd.jupyter.widget-view+json": {
       "model_id": "",
       "version_major": 2,
       "version_minor": 0
      },
      "text/plain": [
       "HBox(children=(IntProgress(value=0, max=1343), HTML(value='')))"
      ]
     },
     "metadata": {},
     "output_type": "display_data"
    },
    {
     "name": "stdout",
     "output_type": "stream",
     "text": [
      "TRAIN, epoch 44 : accuracy= 0.8093, auc= 0.7663, loss= 0.4416\n",
      "VAL, epoch 44 : accuracy= 0.8100, auc= 0.7656, loss= 0.4431\n"
     ]
    },
    {
     "data": {
      "application/vnd.jupyter.widget-view+json": {
       "model_id": "",
       "version_major": 2,
       "version_minor": 0
      },
      "text/plain": [
       "HBox(children=(IntProgress(value=0, max=1343), HTML(value='')))"
      ]
     },
     "metadata": {},
     "output_type": "display_data"
    },
    {
     "name": "stdout",
     "output_type": "stream",
     "text": [
      "TRAIN, epoch 45 : accuracy= 0.8098, auc= 0.7665, loss= 0.4412\n",
      "VAL, epoch 45 : accuracy= 0.8096, auc= 0.7649, loss= 0.4434\n"
     ]
    },
    {
     "data": {
      "application/vnd.jupyter.widget-view+json": {
       "model_id": "",
       "version_major": 2,
       "version_minor": 0
      },
      "text/plain": [
       "HBox(children=(IntProgress(value=0, max=1343), HTML(value='')))"
      ]
     },
     "metadata": {},
     "output_type": "display_data"
    },
    {
     "name": "stdout",
     "output_type": "stream",
     "text": [
      "TRAIN, epoch 46 : accuracy= 0.8096, auc= 0.7662, loss= 0.4416\n",
      "VAL, epoch 46 : accuracy= 0.8096, auc= 0.7654, loss= 0.4433\n"
     ]
    },
    {
     "data": {
      "application/vnd.jupyter.widget-view+json": {
       "model_id": "",
       "version_major": 2,
       "version_minor": 0
      },
      "text/plain": [
       "HBox(children=(IntProgress(value=0, max=1343), HTML(value='')))"
      ]
     },
     "metadata": {},
     "output_type": "display_data"
    },
    {
     "name": "stdout",
     "output_type": "stream",
     "text": [
      "TRAIN, epoch 47 : accuracy= 0.8093, auc= 0.7660, loss= 0.4419\n",
      "VAL, epoch 47 : accuracy= 0.8098, auc= 0.7653, loss= 0.4431\n"
     ]
    },
    {
     "data": {
      "application/vnd.jupyter.widget-view+json": {
       "model_id": "",
       "version_major": 2,
       "version_minor": 0
      },
      "text/plain": [
       "HBox(children=(IntProgress(value=0, max=1343), HTML(value='')))"
      ]
     },
     "metadata": {},
     "output_type": "display_data"
    },
    {
     "name": "stdout",
     "output_type": "stream",
     "text": [
      "TRAIN, epoch 48 : accuracy= 0.8097, auc= 0.7663, loss= 0.4416\n",
      "VAL, epoch 48 : accuracy= 0.8089, auc= 0.7650, loss= 0.4439\n"
     ]
    },
    {
     "data": {
      "application/vnd.jupyter.widget-view+json": {
       "model_id": "",
       "version_major": 2,
       "version_minor": 0
      },
      "text/plain": [
       "HBox(children=(IntProgress(value=0, max=1343), HTML(value='')))"
      ]
     },
     "metadata": {},
     "output_type": "display_data"
    },
    {
     "name": "stdout",
     "output_type": "stream",
     "text": [
      "TRAIN, epoch 49 : accuracy= 0.8097, auc= 0.7677, loss= 0.4410\n",
      "VAL, epoch 49 : accuracy= 0.8097, auc= 0.7653, loss= 0.4432\n"
     ]
    },
    {
     "data": {
      "application/vnd.jupyter.widget-view+json": {
       "model_id": "",
       "version_major": 2,
       "version_minor": 0
      },
      "text/plain": [
       "HBox(children=(IntProgress(value=0, max=1343), HTML(value='')))"
      ]
     },
     "metadata": {},
     "output_type": "display_data"
    },
    {
     "name": "stdout",
     "output_type": "stream",
     "text": [
      "TRAIN, epoch 50 : accuracy= 0.8094, auc= 0.7669, loss= 0.4416\n",
      "VAL, epoch 50 : accuracy= 0.8096, auc= 0.7648, loss= 0.4436\n",
      "\n",
      "Training finished\n"
     ]
    }
   ],
   "source": [
    "# Set dictionary with model parameters\n",
    "config = {'batch_size': 128, 'num_epochs': 50, 'input_size': 34, 'seed': 142,\n",
    "          'gpu_frac': 0.5, 'threshold': 0.5, 'learning_rate': 1e-3, 'num_rnn_layers': 2,\n",
    "          'hid_size': 64}\n",
    "config = Bunch(config)\n",
    "\n",
    "# Create default graph\n",
    "tf.reset_default_graph()\n",
    "\n",
    "# Set configuration\n",
    "gpu_config = set_gpu_config(config.gpu_frac)\n",
    "\n",
    "# Create session\n",
    "sess = tf.Session(config=gpu_config)\n",
    "\n",
    "# Create batch iterators\n",
    "batch_iterator = BatchIterator(config, order_data_lbl.iloc[:, 1:-1])\n",
    "iter_dict = {'train': batch_iterator.create_iterator(sess, order_summary_train.iloc[:, 1:], True),\n",
    "             'val': batch_iterator.create_iterator(sess, order_summary_val.iloc[:, 1:], False)}\n",
    "\n",
    "# Create model\n",
    "model = Model(config)\n",
    "\n",
    "# Create trainer\n",
    "trainer = Trainer(sess, config, model, iter_dict)\n",
    "\n",
    "# Train (num_epochs in config dictionary)\n",
    "trainer.train()"
   ]
  },
  {
   "cell_type": "markdown",
   "metadata": {},
   "source": [
    "### Plot epoch metrics"
   ]
  },
  {
   "cell_type": "code",
   "execution_count": 83,
   "metadata": {},
   "outputs": [],
   "source": [
    "x = np.arange(start=0, stop=config.num_epochs+1)"
   ]
  },
  {
   "cell_type": "code",
   "execution_count": 85,
   "metadata": {},
   "outputs": [
    {
     "data": {
      "image/png": "[encoded data removed]",
      "text/plain": [
       "<Figure size 432x288 with 1 Axes>"
      ]
     },
     "metadata": {},
     "output_type": "display_data"
    },
    {
     "data": {
      "image/png": "[encoded data removed]",
      "text/plain": [
       "<Figure size 432x288 with 1 Axes>"
      ]
     },
     "metadata": {},
     "output_type": "display_data"
    },
    {
     "data": {
      "image/png": "[encoded data removed]",
      "text/plain": [
       "<Figure size 432x288 with 1 Axes>"
      ]
     },
     "metadata": {},
     "output_type": "display_data"
    }
   ],
   "source": [
    "# Accuracy\n",
    "x1, = plt.plot(x[3:], trainer.train_metrics['acc'][3:])\n",
    "x2, = plt.plot(x[3:], trainer.val_metrics['acc'][3:])\n",
    "plt.legend([x1, x2], ['train', 'val'])\n",
    "plt.title('Train/val accuracy per epoch')\n",
    "plt.xlabel('Epoch')\n",
    "plt.ylabel('Accuracy')\n",
    "plt.show()\n",
    "\n",
    "# AUC\n",
    "x1, = plt.plot(x[3:], trainer.train_metrics['auc'][3:])\n",
    "x2, = plt.plot(x[3:], trainer.val_metrics['auc'][3:])\n",
    "plt.legend([x1, x2], ['train', 'val'])\n",
    "plt.title('Train/val AUC per epoch')\n",
    "plt.xlabel('Epoch')\n",
    "plt.ylabel('AUC')\n",
    "plt.show()\n",
    "\n",
    "# Loss\n",
    "x1, = plt.plot(x[3:], trainer.train_metrics['loss'][3:])\n",
    "x2, = plt.plot(x[3:], trainer.val_metrics['loss'][3:])\n",
    "plt.legend([x1, x2], ['train', 'val'])\n",
    "plt.title('Train/val loss per epoch')\n",
    "plt.xlabel('Epoch')\n",
    "plt.ylabel('Loss')\n",
    "plt.show()"
   ]
  },
  {
   "cell_type": "markdown",
   "metadata": {},
   "source": [
    "$Comment:$ The model doesn't show better performance than the other models but still the result is surprisingly not bad. Epoch 28 brings the best metrics on validation set: accuracy= 0.8096, auc= 0.7656, loss= 0.4432."
   ]
  },
  {
   "cell_type": "code",
   "execution_count": null,
   "metadata": {},
   "outputs": [],
   "source": []
  },
  {
   "cell_type": "code",
   "execution_count": null,
   "metadata": {},
   "outputs": [],
   "source": []
  },
  {
   "cell_type": "code",
   "execution_count": null,
   "metadata": {},
   "outputs": [],
   "source": []
  },
  {
   "cell_type": "code",
   "execution_count": null,
   "metadata": {},
   "outputs": [],
   "source": []
  }
 ],
 "metadata": {
  "kernelspec": {
   "display_name": "Python 3",
   "language": "python",
   "name": "python3"
  },
  "language_info": {
   "codemirror_mode": {
    "name": "ipython",
    "version": 3
   },
   "file_extension": ".py",
   "mimetype": "text/x-python",
   "name": "python",
   "nbconvert_exporter": "python",
   "pygments_lexer": "ipython3",
   "version": "3.6.3"
  }
 },
 "nbformat": 4,
 "nbformat_minor": 2
}
